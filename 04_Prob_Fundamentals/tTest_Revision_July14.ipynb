{
 "cells": [
  {
   "cell_type": "code",
   "execution_count": 1,
   "id": "28e7fb01-17b6-455f-bf21-a374603d7be5",
   "metadata": {},
   "outputs": [
    {
     "name": "stdout",
     "output_type": "stream",
     "text": [
      "Test statistic: -1.3801311186847078\n",
      "p-value: 0.9162268612556912\n",
      "Fail to reject the null hypothesis.\n"
     ]
    }
   ],
   "source": [
    "import numpy as np\n",
    "from scipy.stats import norm\n",
    "\n",
    "# Null Hypothesis (H0): The proportion of customers dissatisfied with the new system is less than or equal to 30%.(p ≤ 0.30)\n",
    "# Alternative Hypothesis (H1): The proportion of customers dissatisfied with the new system is greater than 30%.(p > 0.30).\n",
    "\n",
    "n = 250 # Sample size\n",
    "x = 65 # Number of customers dissatisfied with the new system\n",
    "p_hat = x/n # Sample proportion\n",
    "p = 0.30 # Hypothesized proportion\n",
    "\n",
    "# Calculate test statistic value for one sample proportion test\n",
    "Z = (p_hat - p) / np.sqrt((p * (1 - p)) / n)\n",
    "print('Test statistic:',Z)\n",
    "\n",
    "# Calculate the p-value for the test statistic\n",
    "p_value = 1 - norm.cdf(Z)\n",
    "print('p-value:', p_value)\n",
    "\n",
    "# Define the significance level\n",
    "alpha = 0.05\n",
    "\n",
    "# Make a decision based on the p-value and significance level\n",
    "if p_value < alpha:\n",
    "  print('Reject the null hypothesis.')\n",
    "else:\n",
    "  print('Fail to reject the null hypothesis.')"
   ]
  },
  {
   "cell_type": "code",
   "execution_count": 2,
   "id": "94129f8d-9157-4783-99ba-887e96fec477",
   "metadata": {},
   "outputs": [
    {
     "name": "stdout",
     "output_type": "stream",
     "text": [
      "Z-statistic = -0.8125338562826986\n",
      "P-value = 0.4164853677823287\n"
     ]
    }
   ],
   "source": [
    "import statsmodels.api as sm\n",
    "import numpy as np\n",
    "\n",
    "# Define the data\n",
    "conversions = np.array([50, 30])  # Number of conversions for Web Page A and Web Page B # x_1, x_2\n",
    "visits = np.array([1000, 500])  # Number of visits for Web Page A and Web Page B # n_1, n_2\n",
    "\n",
    "# Perform the Z-proportions test\n",
    "z_stat, p_value = sm.stats.proportions_ztest(conversions, visits, alternative='two-sided')\n",
    "\n",
    "# Print the results\n",
    "print(f\"Z-statistic = {z_stat}\")\n",
    "print(f\"P-value = {p_value}\")"
   ]
  },
  {
   "cell_type": "code",
   "execution_count": 3,
   "id": "bef6337f-0696-4210-adb5-bb0ce3be4684",
   "metadata": {},
   "outputs": [
    {
     "name": "stdout",
     "output_type": "stream",
     "text": [
      "Z = -0.8125338562826986\n",
      "P-value = 0.4164853677823288\n"
     ]
    }
   ],
   "source": [
    "import numpy as np\n",
    "import scipy.stats as stats\n",
    "\n",
    "# Step 1: Define the data\n",
    "# Data for the old web page (Web Page A)\n",
    "n_1 = 1000 # visits_1\n",
    "x_1 = 50 # conversions_1\n",
    "\n",
    "# Data for the new web page (Web Page B)\n",
    "n_2 = 500 # visits_2\n",
    "x_2 = 30 # conversions_2\n",
    "\n",
    "# Step 2: Define the hypotheses\n",
    "# Null Hypothesis (H0): Conversion rates are the same.\n",
    "# Alternative Hypothesis (Ha): Conversion rates are different.\n",
    "# This is a two-tailed test.\n",
    "p_1_hat = x_1 / n_1\n",
    "p_2_hat = x_2 / n_2\n",
    "\n",
    "# p_hat: is the combined sample proportion for both web pages.\n",
    "p_hat = (x_1 + x_2) / (n_1 + n_2)\n",
    "\n",
    "# Step 3: Calculate the test statistic (Z)\n",
    "Z = (p_1_hat - p_2_hat) / np.sqrt(p_hat * (1 - p_hat) * ((1 / n_1) + (1 / n_2)))\n",
    "\n",
    "# Step 4: Interpret the test statistic\n",
    "# Z follows a standard normal distribution. We will calculate the two-tailed p-value next.\n",
    "\n",
    "# Step 5: Calculate the p-value\n",
    "p_value = 2 * (1 - stats.norm.cdf(np.abs(Z)))\n",
    "\n",
    "# Print the results\n",
    "print(f\"Z = {Z}\")\n",
    "print(f\"P-value = {p_value}\")"
   ]
  },
  {
   "cell_type": "code",
   "execution_count": 4,
   "id": "6029a26f-4952-4bb9-8645-c54906512786",
   "metadata": {},
   "outputs": [
    {
     "name": "stdout",
     "output_type": "stream",
     "text": [
      "Decision: Fail to reject the null hypothesis\n",
      "Conclusion: There is not enough evidence to conclude that the conversion rates of the new web page (Web Page B) are statistically different from the old web page (Web Page A).\n"
     ]
    }
   ],
   "source": [
    "  # Make a decision and conclusion\n",
    "  if p_value < alpha:\n",
    "      decision = \"Reject the null hypothesis\"\n",
    "  else:\n",
    "      decision = \"Fail to reject the null hypothesis\"\n",
    "\n",
    "  if decision == \"Reject the null hypothesis\":\n",
    "      conclusion = \"There is enough evidence to conclude that the conversion rates of the new web page (Web Page B) are statistically different from the old web page (Web Page A).\"\n",
    "  else:\n",
    "      conclusion = \"There is not enough evidence to conclude that the conversion rates of the new web page (Web Page B) are statistically different from the old web page (Web Page A).\"\n",
    "\n",
    "  # Print the results\n",
    "  print(f\"Decision: {decision}\")\n",
    "  print(f\"Conclusion: {conclusion}\")"
   ]
  },
  {
   "cell_type": "code",
   "execution_count": 5,
   "id": "eae8eb8c-e06a-42d9-a9ad-41cd5d0743ed",
   "metadata": {},
   "outputs": [],
   "source": [
    "import numpy as np\n",
    "import pandas as pd\n",
    "import seaborn as sns\n",
    "import matplotlib.pyplot as plt"
   ]
  },
  {
   "cell_type": "markdown",
   "id": "3de650a0-aca5-4de1-a3f0-9fcb0ca0d66e",
   "metadata": {},
   "source": [
    "A french cake shop claims that the average number of pastries they can produce in a day exceeds 500.\n",
    "The average number of pastries produced per day over a 70 day period was found to be 530.\n",
    "Assume that the population standard deviation for the pastries produced per day is 125.\n",
    "\n",
    "Test the claim using a z-test with the critical z-value = 1.64 at the alpha (significance level) = 0.05, and state your interpretation.\n"
   ]
  },
  {
   "cell_type": "code",
   "execution_count": 6,
   "id": "09148df3-81bc-4d18-bc26-6cf0861809a9",
   "metadata": {},
   "outputs": [
    {
     "data": {
      "text/plain": [
       "2.007984063681781"
      ]
     },
     "execution_count": 6,
     "metadata": {},
     "output_type": "execute_result"
    }
   ],
   "source": [
    "z_stat = (530 - 500) / (125/np.sqrt(70))\n",
    "z_stat"
   ]
  },
  {
   "cell_type": "code",
   "execution_count": 7,
   "id": "87700d63-bc0e-4d9e-b265-4a3bba9a6ebd",
   "metadata": {},
   "outputs": [
    {
     "data": {
      "text/plain": [
       "0.022322492581293485"
      ]
     },
     "execution_count": 7,
     "metadata": {},
     "output_type": "execute_result"
    }
   ],
   "source": [
    "from scipy.stats import norm\n",
    "\n",
    "pvalue = 1 - norm.cdf(z_stat)\n",
    "pvalue"
   ]
  },
  {
   "cell_type": "code",
   "execution_count": 8,
   "id": "8f56379a-9019-47f3-95b2-feed9ddda9e7",
   "metadata": {},
   "outputs": [
    {
     "name": "stdout",
     "output_type": "stream",
     "text": [
      "Reject H0\n"
     ]
    }
   ],
   "source": [
    "alpha = 0.05\n",
    "\n",
    "if pvalue < alpha:\n",
    "  print('Reject H0')\n",
    "else:\n",
    "  print ('Fail to Reject H0')"
   ]
  },
  {
   "cell_type": "code",
   "execution_count": 9,
   "id": "1f5cfba7-6fef-4254-b368-32399c869219",
   "metadata": {},
   "outputs": [
    {
     "data": {
      "text/plain": [
       "1.6448536269514722"
      ]
     },
     "execution_count": 9,
     "metadata": {},
     "output_type": "execute_result"
    }
   ],
   "source": [
    "z = norm.ppf(0.95)\n",
    "z"
   ]
  },
  {
   "cell_type": "code",
   "execution_count": 10,
   "id": "3752400f-c9f8-49ff-a565-bc70f324da30",
   "metadata": {},
   "outputs": [
    {
     "data": {
      "text/plain": [
       "524.574701413748"
      ]
     },
     "execution_count": 10,
     "metadata": {},
     "output_type": "execute_result"
    }
   ],
   "source": [
    "x = 500 + (z*(125/np.sqrt(70)))\n",
    "x"
   ]
  },
  {
   "cell_type": "code",
   "execution_count": 11,
   "id": "3ff01807-7fdc-4643-9a50-1082ae24432a",
   "metadata": {},
   "outputs": [],
   "source": [
    "# The pill is given to a few people and their IQ is tested with following results:\n",
    "iq_scores = [110, 105, 98, 102, 99, 104, 115, 95]"
   ]
  },
  {
   "cell_type": "markdown",
   "id": "447a57c0-76dc-416f-b751-f53eba6f6fd4",
   "metadata": {},
   "source": [
    "Testing the Pill's Effectiveness:\n",
    "\n",
    "Case 1: The new pill may increase the average IQ scores.\n",
    "\n",
    "By enhancing cognitive functions, individuals taking the pill may show improved performance in IQ tests.\n",
    "Case 2: The new pill may have no significant effect on IQ scores.\n",
    "\n",
    "The researchers need to verify whether the pill is effective or not before widespread use."
   ]
  },
  {
   "cell_type": "code",
   "execution_count": 12,
   "id": "44194f99-aee2-49e0-9fbb-817f5197403b",
   "metadata": {},
   "outputs": [
    {
     "data": {
      "text/plain": [
       "103.5"
      ]
     },
     "execution_count": 12,
     "metadata": {},
     "output_type": "execute_result"
    }
   ],
   "source": [
    "np.mean(iq_scores)"
   ]
  },
  {
   "cell_type": "code",
   "execution_count": 13,
   "id": "d04b3a31-bbdc-47bf-bce7-a13fe15104d3",
   "metadata": {},
   "outputs": [],
   "source": [
    "from scipy.stats import ttest_1samp"
   ]
  },
  {
   "cell_type": "code",
   "execution_count": 15,
   "id": "cfd928bf-cbf5-4152-9178-1ae77159ba15",
   "metadata": {},
   "outputs": [
    {
     "data": {
      "text/plain": [
       "(1.5071573172061195, 0.1754994493585011)"
      ]
     },
     "execution_count": 15,
     "metadata": {},
     "output_type": "execute_result"
    }
   ],
   "source": [
    "t_stat, pvalue = ttest_1samp(iq_scores, 100)\n",
    "t_stat, pvalue"
   ]
  },
  {
   "cell_type": "code",
   "execution_count": 16,
   "id": "47752523-2840-4c02-a768-dec6ee29a29d",
   "metadata": {},
   "outputs": [
    {
     "name": "stdout",
     "output_type": "stream",
     "text": [
      "Fail to Reject H0; Pill has NO effect\n"
     ]
    }
   ],
   "source": [
    "alpha = 0.01 # 99% confidence\n",
    "\n",
    "if pvalue < alpha:\n",
    "  print('Reject H0; Pill has effect')\n",
    "else:\n",
    "  print ('Fail to Reject H0; Pill has NO effect')"
   ]
  },
  {
   "cell_type": "markdown",
   "id": "7c61d11d-71ec-4d2c-98cc-4a1cfc2c3934",
   "metadata": {},
   "source": [
    "### **Two Sample TTest**"
   ]
  },
  {
   "cell_type": "code",
   "execution_count": 18,
   "id": "58c59d27-2cca-4ecb-8b76-41a8985484d5",
   "metadata": {},
   "outputs": [
    {
     "data": {
      "text/html": [
       "<div>\n",
       "<style scoped>\n",
       "    .dataframe tbody tr th:only-of-type {\n",
       "        vertical-align: middle;\n",
       "    }\n",
       "\n",
       "    .dataframe tbody tr th {\n",
       "        vertical-align: top;\n",
       "    }\n",
       "\n",
       "    .dataframe thead th {\n",
       "        text-align: right;\n",
       "    }\n",
       "</style>\n",
       "<table border=\"1\" class=\"dataframe\">\n",
       "  <thead>\n",
       "    <tr style=\"text-align: right;\">\n",
       "      <th></th>\n",
       "      <th>School</th>\n",
       "      <th>iq</th>\n",
       "    </tr>\n",
       "  </thead>\n",
       "  <tbody>\n",
       "    <tr>\n",
       "      <th>0</th>\n",
       "      <td>school_1</td>\n",
       "      <td>91</td>\n",
       "    </tr>\n",
       "    <tr>\n",
       "      <th>1</th>\n",
       "      <td>school_1</td>\n",
       "      <td>95</td>\n",
       "    </tr>\n",
       "    <tr>\n",
       "      <th>2</th>\n",
       "      <td>school_1</td>\n",
       "      <td>110</td>\n",
       "    </tr>\n",
       "    <tr>\n",
       "      <th>3</th>\n",
       "      <td>school_1</td>\n",
       "      <td>112</td>\n",
       "    </tr>\n",
       "    <tr>\n",
       "      <th>4</th>\n",
       "      <td>school_1</td>\n",
       "      <td>115</td>\n",
       "    </tr>\n",
       "  </tbody>\n",
       "</table>\n",
       "</div>"
      ],
      "text/plain": [
       "     School   iq\n",
       "0  school_1   91\n",
       "1  school_1   95\n",
       "2  school_1  110\n",
       "3  school_1  112\n",
       "4  school_1  115"
      ]
     },
     "execution_count": 18,
     "metadata": {},
     "output_type": "execute_result"
    }
   ],
   "source": [
    "df_iq = pd.read_csv(\"iq_two_schools.csv\")\n",
    "df_iq.head()"
   ]
  },
  {
   "cell_type": "code",
   "execution_count": 19,
   "id": "d5f5d28e-dd47-4ecb-8b01-88b78660da5b",
   "metadata": {},
   "outputs": [
    {
     "data": {
      "text/plain": [
       "School\n",
       "school_1    101.153846\n",
       "school_2    109.416667\n",
       "Name: iq, dtype: float64"
      ]
     },
     "execution_count": 19,
     "metadata": {},
     "output_type": "execute_result"
    }
   ],
   "source": [
    "df_iq.groupby(\"School\")['iq'].mean()"
   ]
  },
  {
   "cell_type": "code",
   "execution_count": 20,
   "id": "6dab065c-b040-4e7c-80b7-8ccdbc94a8f6",
   "metadata": {},
   "outputs": [],
   "source": [
    "from scipy.stats import ttest_ind"
   ]
  },
  {
   "cell_type": "code",
   "execution_count": 21,
   "id": "3b6768bd-7954-4226-adab-3af0bd5030e9",
   "metadata": {},
   "outputs": [
    {
     "data": {
      "text/plain": [
       "(0      91\n",
       " 1      95\n",
       " 2     110\n",
       " 3     112\n",
       " 4     115\n",
       " 5      94\n",
       " 6      82\n",
       " 7      84\n",
       " 8      85\n",
       " 9      89\n",
       " 10     91\n",
       " 11     91\n",
       " 12     92\n",
       " 13     94\n",
       " 14     99\n",
       " 15     99\n",
       " 16    105\n",
       " 17    109\n",
       " 18    109\n",
       " 19    109\n",
       " 20    110\n",
       " 21    112\n",
       " 22    112\n",
       " 23    113\n",
       " 24    114\n",
       " 25    114\n",
       " Name: iq, dtype: int64,\n",
       " 26    112\n",
       " 27    115\n",
       " 28     95\n",
       " 29     92\n",
       " 30     91\n",
       " 31     95\n",
       " 32     91\n",
       " 33     99\n",
       " 34    111\n",
       " 35    115\n",
       " 36    108\n",
       " 37    109\n",
       " 38    109\n",
       " 39    114\n",
       " 40    115\n",
       " 41    116\n",
       " 42    117\n",
       " 43    117\n",
       " 44    128\n",
       " 45    129\n",
       " 46    130\n",
       " 47    133\n",
       " 48     95\n",
       " 49     90\n",
       " Name: iq, dtype: int64)"
      ]
     },
     "execution_count": 21,
     "metadata": {},
     "output_type": "execute_result"
    }
   ],
   "source": [
    "iq_1 = df_iq[df_iq['School']==\"school_1\"]['iq']\n",
    "iq_2 = df_iq[df_iq['School']==\"school_2\"]['iq']\n",
    "iq_1, iq_2"
   ]
  },
  {
   "cell_type": "code",
   "execution_count": 23,
   "id": "ee71100c-0de9-4cda-acb9-158d52d4805f",
   "metadata": {},
   "outputs": [
    {
     "data": {
      "text/plain": [
       "(-2.4056474861512704, 0.02004552710936217)"
      ]
     },
     "execution_count": 23,
     "metadata": {},
     "output_type": "execute_result"
    }
   ],
   "source": [
    "t_score,pvalue  = ttest_ind(iq_1, iq_2)\n",
    "t_score,pvalue"
   ]
  },
  {
   "cell_type": "code",
   "execution_count": 24,
   "id": "a1756746-2d88-4503-b574-08a9a3b57d5f",
   "metadata": {},
   "outputs": [
    {
     "name": "stdout",
     "output_type": "stream",
     "text": [
      "Rejecting the null hypothesis\n"
     ]
    }
   ],
   "source": [
    "if pvalue < 0.05:\n",
    "    print(\"Rejecting the null hypothesis\")\n",
    "else:\n",
    "    print(\"Failed to Reject Null Hypothesis\")"
   ]
  },
  {
   "cell_type": "code",
   "execution_count": 25,
   "id": "1eb709df-c446-4c47-913a-571ea255d674",
   "metadata": {},
   "outputs": [
    {
     "data": {
      "text/plain": [
       "(-2.4056474861512704, 0.9899772364453189)"
      ]
     },
     "execution_count": 25,
     "metadata": {},
     "output_type": "execute_result"
    }
   ],
   "source": [
    "t_score,pvalue  = ttest_ind(iq_1, iq_2, alternative = \"greater\")\n",
    "t_score,pvalue"
   ]
  },
  {
   "cell_type": "code",
   "execution_count": 26,
   "id": "c08e1ce2-d3c7-47ed-82f3-d0dfe76c49ce",
   "metadata": {},
   "outputs": [
    {
     "name": "stdout",
     "output_type": "stream",
     "text": [
      "Failed to Reject Null Hypothesis\n"
     ]
    }
   ],
   "source": [
    "if pvalue < 0.05:\n",
    "    print(\"Rejecting the null hypothesis\")\n",
    "else:\n",
    "    print(\"Failed to Reject Null Hypothesis\")"
   ]
  },
  {
   "cell_type": "code",
   "execution_count": 28,
   "id": "73fb1cb4-d6a8-4b6b-bb77-0038ee55a0bb",
   "metadata": {},
   "outputs": [
    {
     "data": {
      "text/plain": [
       "(-2.4056474861512704, 0.010022763554681085)"
      ]
     },
     "execution_count": 28,
     "metadata": {},
     "output_type": "execute_result"
    }
   ],
   "source": [
    "t_score,pvalue  = ttest_ind(iq_1, iq_2, alternative = \"less\")\n",
    "t_score,pvalue"
   ]
  },
  {
   "cell_type": "code",
   "execution_count": 29,
   "id": "d533fe01-3f4f-4d1f-8298-9f2725720572",
   "metadata": {},
   "outputs": [
    {
     "name": "stdout",
     "output_type": "stream",
     "text": [
      "Rejecting the null hypothesis\n"
     ]
    }
   ],
   "source": [
    "if pvalue < 0.05:\n",
    "    print(\"Rejecting the null hypothesis\")\n",
    "else:\n",
    "    print(\"Failed to Reject Null Hypothesis\")"
   ]
  },
  {
   "cell_type": "markdown",
   "id": "b5431a3b-9455-4f8b-933d-afd40931895f",
   "metadata": {},
   "source": [
    "### **Sachin**"
   ]
  },
  {
   "cell_type": "code",
   "execution_count": 30,
   "id": "d7320be6-9374-41fa-af74-0bba981dc6ad",
   "metadata": {},
   "outputs": [
    {
     "data": {
      "text/html": [
       "<div>\n",
       "<style scoped>\n",
       "    .dataframe tbody tr th:only-of-type {\n",
       "        vertical-align: middle;\n",
       "    }\n",
       "\n",
       "    .dataframe tbody tr th {\n",
       "        vertical-align: top;\n",
       "    }\n",
       "\n",
       "    .dataframe thead th {\n",
       "        text-align: right;\n",
       "    }\n",
       "</style>\n",
       "<table border=\"1\" class=\"dataframe\">\n",
       "  <thead>\n",
       "    <tr style=\"text-align: right;\">\n",
       "      <th></th>\n",
       "      <th>runs</th>\n",
       "      <th>NotOut</th>\n",
       "      <th>mins</th>\n",
       "      <th>bf</th>\n",
       "      <th>fours</th>\n",
       "      <th>sixes</th>\n",
       "      <th>sr</th>\n",
       "      <th>Inns</th>\n",
       "      <th>Opp</th>\n",
       "      <th>Ground</th>\n",
       "      <th>Date</th>\n",
       "      <th>Winner</th>\n",
       "      <th>Won</th>\n",
       "      <th>century</th>\n",
       "    </tr>\n",
       "  </thead>\n",
       "  <tbody>\n",
       "    <tr>\n",
       "      <th>0</th>\n",
       "      <td>13</td>\n",
       "      <td>0</td>\n",
       "      <td>30</td>\n",
       "      <td>15</td>\n",
       "      <td>3</td>\n",
       "      <td>0</td>\n",
       "      <td>86.66</td>\n",
       "      <td>1</td>\n",
       "      <td>New Zealand</td>\n",
       "      <td>Napier</td>\n",
       "      <td>1995-02-16</td>\n",
       "      <td>New Zealand</td>\n",
       "      <td>False</td>\n",
       "      <td>False</td>\n",
       "    </tr>\n",
       "    <tr>\n",
       "      <th>1</th>\n",
       "      <td>37</td>\n",
       "      <td>0</td>\n",
       "      <td>75</td>\n",
       "      <td>51</td>\n",
       "      <td>3</td>\n",
       "      <td>1</td>\n",
       "      <td>72.54</td>\n",
       "      <td>2</td>\n",
       "      <td>South Africa</td>\n",
       "      <td>Hamilton</td>\n",
       "      <td>1995-02-18</td>\n",
       "      <td>South Africa</td>\n",
       "      <td>False</td>\n",
       "      <td>False</td>\n",
       "    </tr>\n",
       "    <tr>\n",
       "      <th>2</th>\n",
       "      <td>47</td>\n",
       "      <td>0</td>\n",
       "      <td>65</td>\n",
       "      <td>40</td>\n",
       "      <td>7</td>\n",
       "      <td>0</td>\n",
       "      <td>117.50</td>\n",
       "      <td>2</td>\n",
       "      <td>Australia</td>\n",
       "      <td>Dunedin</td>\n",
       "      <td>1995-02-22</td>\n",
       "      <td>India</td>\n",
       "      <td>True</td>\n",
       "      <td>False</td>\n",
       "    </tr>\n",
       "    <tr>\n",
       "      <th>3</th>\n",
       "      <td>48</td>\n",
       "      <td>0</td>\n",
       "      <td>37</td>\n",
       "      <td>30</td>\n",
       "      <td>9</td>\n",
       "      <td>1</td>\n",
       "      <td>160.00</td>\n",
       "      <td>2</td>\n",
       "      <td>Bangladesh</td>\n",
       "      <td>Sharjah</td>\n",
       "      <td>1995-04-05</td>\n",
       "      <td>India</td>\n",
       "      <td>True</td>\n",
       "      <td>False</td>\n",
       "    </tr>\n",
       "    <tr>\n",
       "      <th>4</th>\n",
       "      <td>4</td>\n",
       "      <td>0</td>\n",
       "      <td>13</td>\n",
       "      <td>9</td>\n",
       "      <td>1</td>\n",
       "      <td>0</td>\n",
       "      <td>44.44</td>\n",
       "      <td>2</td>\n",
       "      <td>Pakistan</td>\n",
       "      <td>Sharjah</td>\n",
       "      <td>1995-04-07</td>\n",
       "      <td>Pakistan</td>\n",
       "      <td>False</td>\n",
       "      <td>False</td>\n",
       "    </tr>\n",
       "    <tr>\n",
       "      <th>...</th>\n",
       "      <td>...</td>\n",
       "      <td>...</td>\n",
       "      <td>...</td>\n",
       "      <td>...</td>\n",
       "      <td>...</td>\n",
       "      <td>...</td>\n",
       "      <td>...</td>\n",
       "      <td>...</td>\n",
       "      <td>...</td>\n",
       "      <td>...</td>\n",
       "      <td>...</td>\n",
       "      <td>...</td>\n",
       "      <td>...</td>\n",
       "      <td>...</td>\n",
       "    </tr>\n",
       "    <tr>\n",
       "      <th>355</th>\n",
       "      <td>14</td>\n",
       "      <td>0</td>\n",
       "      <td>34</td>\n",
       "      <td>15</td>\n",
       "      <td>2</td>\n",
       "      <td>0</td>\n",
       "      <td>93.33</td>\n",
       "      <td>2</td>\n",
       "      <td>Australia</td>\n",
       "      <td>Sydney</td>\n",
       "      <td>2012-02-26</td>\n",
       "      <td>Australia</td>\n",
       "      <td>False</td>\n",
       "      <td>False</td>\n",
       "    </tr>\n",
       "    <tr>\n",
       "      <th>356</th>\n",
       "      <td>39</td>\n",
       "      <td>0</td>\n",
       "      <td>45</td>\n",
       "      <td>30</td>\n",
       "      <td>5</td>\n",
       "      <td>0</td>\n",
       "      <td>130.00</td>\n",
       "      <td>2</td>\n",
       "      <td>Sri Lanka</td>\n",
       "      <td>Hobart</td>\n",
       "      <td>2012-02-28</td>\n",
       "      <td>India</td>\n",
       "      <td>True</td>\n",
       "      <td>False</td>\n",
       "    </tr>\n",
       "    <tr>\n",
       "      <th>357</th>\n",
       "      <td>6</td>\n",
       "      <td>0</td>\n",
       "      <td>25</td>\n",
       "      <td>19</td>\n",
       "      <td>1</td>\n",
       "      <td>0</td>\n",
       "      <td>31.57</td>\n",
       "      <td>1</td>\n",
       "      <td>Sri Lanka</td>\n",
       "      <td>Dhaka</td>\n",
       "      <td>2012-03-13</td>\n",
       "      <td>India</td>\n",
       "      <td>True</td>\n",
       "      <td>False</td>\n",
       "    </tr>\n",
       "    <tr>\n",
       "      <th>358</th>\n",
       "      <td>114</td>\n",
       "      <td>0</td>\n",
       "      <td>205</td>\n",
       "      <td>147</td>\n",
       "      <td>12</td>\n",
       "      <td>1</td>\n",
       "      <td>77.55</td>\n",
       "      <td>1</td>\n",
       "      <td>Bangladesh</td>\n",
       "      <td>Dhaka</td>\n",
       "      <td>2012-03-16</td>\n",
       "      <td>Bangladesh</td>\n",
       "      <td>False</td>\n",
       "      <td>True</td>\n",
       "    </tr>\n",
       "    <tr>\n",
       "      <th>359</th>\n",
       "      <td>52</td>\n",
       "      <td>0</td>\n",
       "      <td>93</td>\n",
       "      <td>48</td>\n",
       "      <td>5</td>\n",
       "      <td>1</td>\n",
       "      <td>108.33</td>\n",
       "      <td>2</td>\n",
       "      <td>Pakistan</td>\n",
       "      <td>Dhaka</td>\n",
       "      <td>2012-03-18</td>\n",
       "      <td>India</td>\n",
       "      <td>True</td>\n",
       "      <td>False</td>\n",
       "    </tr>\n",
       "  </tbody>\n",
       "</table>\n",
       "<p>360 rows × 14 columns</p>\n",
       "</div>"
      ],
      "text/plain": [
       "     runs  NotOut mins   bf  fours  sixes      sr  Inns           Opp  \\\n",
       "0      13       0   30   15      3      0   86.66     1   New Zealand   \n",
       "1      37       0   75   51      3      1   72.54     2  South Africa   \n",
       "2      47       0   65   40      7      0  117.50     2     Australia   \n",
       "3      48       0   37   30      9      1  160.00     2    Bangladesh   \n",
       "4       4       0   13    9      1      0   44.44     2      Pakistan   \n",
       "..    ...     ...  ...  ...    ...    ...     ...   ...           ...   \n",
       "355    14       0   34   15      2      0   93.33     2     Australia   \n",
       "356    39       0   45   30      5      0  130.00     2     Sri Lanka   \n",
       "357     6       0   25   19      1      0   31.57     1     Sri Lanka   \n",
       "358   114       0  205  147     12      1   77.55     1    Bangladesh   \n",
       "359    52       0   93   48      5      1  108.33     2      Pakistan   \n",
       "\n",
       "       Ground        Date        Winner    Won  century  \n",
       "0      Napier  1995-02-16   New Zealand  False    False  \n",
       "1    Hamilton  1995-02-18  South Africa  False    False  \n",
       "2     Dunedin  1995-02-22         India   True    False  \n",
       "3     Sharjah  1995-04-05         India   True    False  \n",
       "4     Sharjah  1995-04-07      Pakistan  False    False  \n",
       "..        ...         ...           ...    ...      ...  \n",
       "355    Sydney  2012-02-26     Australia  False    False  \n",
       "356    Hobart  2012-02-28         India   True    False  \n",
       "357     Dhaka  2012-03-13         India   True    False  \n",
       "358     Dhaka  2012-03-16    Bangladesh  False     True  \n",
       "359     Dhaka  2012-03-18         India   True    False  \n",
       "\n",
       "[360 rows x 14 columns]"
      ]
     },
     "execution_count": 30,
     "metadata": {},
     "output_type": "execute_result"
    }
   ],
   "source": [
    "df_sachin =  pd.read_csv(\"Sachin_ODI.csv\")\n",
    "df_sachin"
   ]
  },
  {
   "cell_type": "code",
   "execution_count": 31,
   "id": "d73e55c6-a874-4d25-9e38-2d2012f04411",
   "metadata": {},
   "outputs": [
    {
     "data": {
      "text/plain": [
       "Inns\n",
       "1    46.670588\n",
       "2    40.173684\n",
       "Name: runs, dtype: float64"
      ]
     },
     "execution_count": 31,
     "metadata": {},
     "output_type": "execute_result"
    }
   ],
   "source": [
    "df_sachin.groupby('Inns')['runs'].mean()"
   ]
  },
  {
   "cell_type": "code",
   "execution_count": 33,
   "id": "7dc242ac-41ac-47c0-98c6-c23397fa24f4",
   "metadata": {},
   "outputs": [
    {
     "data": {
      "text/plain": [
       "(0       13\n",
       " 7       30\n",
       " 15     137\n",
       " 16       3\n",
       " 17      31\n",
       "       ... \n",
       " 345    111\n",
       " 346      2\n",
       " 348     85\n",
       " 357      6\n",
       " 358    114\n",
       " Name: runs, Length: 170, dtype: int64,\n",
       " 1       37\n",
       " 2       47\n",
       " 3       48\n",
       " 4        4\n",
       " 5      112\n",
       "       ... \n",
       " 353      3\n",
       " 354     22\n",
       " 355     14\n",
       " 356     39\n",
       " 359     52\n",
       " Name: runs, Length: 190, dtype: int64)"
      ]
     },
     "execution_count": 33,
     "metadata": {},
     "output_type": "execute_result"
    }
   ],
   "source": [
    "df_sachin_1 = df_sachin[df_sachin['Inns']==1]['runs']\n",
    "df_sachin_2 = df_sachin[df_sachin['Inns']==2]['runs']\n",
    "df_sachin_1, df_sachin_2"
   ]
  },
  {
   "cell_type": "code",
   "execution_count": 34,
   "id": "75638eed-4c23-434c-91a8-9961c0578372",
   "metadata": {},
   "outputs": [
    {
     "data": {
      "text/plain": [
       "(1.4612016295532178, 0.14483724194759962)"
      ]
     },
     "execution_count": 34,
     "metadata": {},
     "output_type": "execute_result"
    }
   ],
   "source": [
    "t_test, pvalue = ttest_ind(df_sachin_1, df_sachin_2)\n",
    "t_test,pvalue"
   ]
  },
  {
   "cell_type": "code",
   "execution_count": 35,
   "id": "d5169ab8-14ca-4e1e-8191-00003c2ab1d3",
   "metadata": {},
   "outputs": [
    {
     "name": "stdout",
     "output_type": "stream",
     "text": [
      "Failed to Reject Null Hypothesis\n"
     ]
    }
   ],
   "source": [
    "if pvalue < 0.05:\n",
    "    print(\"Rejecting the null hypothesis\")\n",
    "else:\n",
    "    print(\"Failed to Reject Null Hypothesis\")"
   ]
  },
  {
   "cell_type": "code",
   "execution_count": 36,
   "id": "6c701ebb-d9d5-4689-8aad-61d324d9284f",
   "metadata": {},
   "outputs": [
    {
     "data": {
      "text/plain": [
       "(1.4612016295532178, 0.07241862097379981)"
      ]
     },
     "execution_count": 36,
     "metadata": {},
     "output_type": "execute_result"
    }
   ],
   "source": [
    "t_test, pvalue = ttest_ind(df_sachin_1, df_sachin_2, alternative = \"greater\")\n",
    "t_test,pvalue"
   ]
  },
  {
   "cell_type": "code",
   "execution_count": 37,
   "id": "b76b78e0-2213-410d-816b-a35150710527",
   "metadata": {},
   "outputs": [
    {
     "name": "stdout",
     "output_type": "stream",
     "text": [
      "Failed to Reject Null Hypothesis\n"
     ]
    }
   ],
   "source": [
    "if pvalue < 0.05:\n",
    "    print(\"Rejecting the null hypothesis\")\n",
    "else:\n",
    "    print(\"Failed to Reject Null Hypothesis\")"
   ]
  },
  {
   "cell_type": "code",
   "execution_count": 38,
   "id": "40a58132-c620-42a6-b5b7-5d58394b6c8e",
   "metadata": {},
   "outputs": [
    {
     "data": {
      "text/plain": [
       "(1.4612016295532178, 0.9275813790262002)"
      ]
     },
     "execution_count": 38,
     "metadata": {},
     "output_type": "execute_result"
    }
   ],
   "source": [
    "t_test, pvalue = ttest_ind(df_sachin_1, df_sachin_2, alternative = \"less\")\n",
    "t_test,pvalue"
   ]
  },
  {
   "cell_type": "code",
   "execution_count": 39,
   "id": "8fa343d8-67ea-4384-a018-6d8abe1c350f",
   "metadata": {},
   "outputs": [
    {
     "name": "stdout",
     "output_type": "stream",
     "text": [
      "Failed to Reject Null Hypothesis\n"
     ]
    }
   ],
   "source": [
    "if pvalue < 0.05:\n",
    "    print(\"Rejecting the null hypothesis\")\n",
    "else:\n",
    "    print(\"Failed to Reject Null Hypothesis\")"
   ]
  },
  {
   "cell_type": "markdown",
   "id": "6a3ac2a9-2ed4-4d82-b663-9abef398cf33",
   "metadata": {},
   "source": [
    "#### **India won or lost** "
   ]
  },
  {
   "cell_type": "code",
   "execution_count": 44,
   "id": "3f3ee3a2-eabd-44bd-be1c-3dcc6d0c35c8",
   "metadata": {},
   "outputs": [],
   "source": [
    "df_sachin_won = df_sachin[df_sachin['Won']==True]['runs']\n",
    "df_sachin_lost = df_sachin[df_sachin['Won']==False]['runs']"
   ]
  },
  {
   "cell_type": "code",
   "execution_count": 45,
   "id": "085f5af6-2ede-486d-8569-5197530eb272",
   "metadata": {},
   "outputs": [
    {
     "data": {
      "text/plain": [
       "Won\n",
       "False    35.130682\n",
       "True     51.000000\n",
       "Name: runs, dtype: float64"
      ]
     },
     "execution_count": 45,
     "metadata": {},
     "output_type": "execute_result"
    }
   ],
   "source": [
    "df_sachin.groupby('Won')['runs'].mean()"
   ]
  },
  {
   "cell_type": "code",
   "execution_count": 46,
   "id": "d1c396f3-d141-423f-a968-7cfea9c749d7",
   "metadata": {},
   "outputs": [
    {
     "data": {
      "text/plain": [
       "(3.628068563969343, 0.00032706154973653116)"
      ]
     },
     "execution_count": 46,
     "metadata": {},
     "output_type": "execute_result"
    }
   ],
   "source": [
    "t_test,pvalue = ttest_ind(df_sachin_won, df_sachin_lost)\n",
    "t_test, pvalue"
   ]
  },
  {
   "cell_type": "code",
   "execution_count": 47,
   "id": "7bb90547-bbed-4f28-b619-c16812d2836e",
   "metadata": {},
   "outputs": [
    {
     "name": "stdout",
     "output_type": "stream",
     "text": [
      "Rejecting the null hypothesis\n"
     ]
    }
   ],
   "source": [
    "if pvalue < 0.05:\n",
    "    print(\"Rejecting the null hypothesis\")\n",
    "else:\n",
    "    print(\"Failed to Reject Null Hypothesis\")"
   ]
  },
  {
   "cell_type": "code",
   "execution_count": 48,
   "id": "f74d47c6-d12a-453e-a0db-056fa8db4ead",
   "metadata": {},
   "outputs": [
    {
     "data": {
      "text/plain": [
       "(3.628068563969343, 0.00016353077486826558)"
      ]
     },
     "execution_count": 48,
     "metadata": {},
     "output_type": "execute_result"
    }
   ],
   "source": [
    "t_test,pvalue = ttest_ind(df_sachin_won, df_sachin_lost, alternative = \"greater\")\n",
    "t_test, pvalue"
   ]
  },
  {
   "cell_type": "code",
   "execution_count": 49,
   "id": "c522ed73-f436-49cf-bc32-c9cd2fc2a7ad",
   "metadata": {},
   "outputs": [
    {
     "name": "stdout",
     "output_type": "stream",
     "text": [
      "Rejecting the null hypothesis\n"
     ]
    }
   ],
   "source": [
    "if pvalue < 0.05:\n",
    "    print(\"Rejecting the null hypothesis\")\n",
    "else:\n",
    "    print(\"Failed to Reject Null Hypothesis\")"
   ]
  },
  {
   "cell_type": "code",
   "execution_count": 50,
   "id": "1eb3b573-5f24-47f6-9737-e3db4744b652",
   "metadata": {},
   "outputs": [
    {
     "data": {
      "text/plain": [
       "(3.628068563969343, 0.9998364692251317)"
      ]
     },
     "execution_count": 50,
     "metadata": {},
     "output_type": "execute_result"
    }
   ],
   "source": [
    "t_test,pvalue = ttest_ind(df_sachin_won, df_sachin_lost,alternative = \"less\")\n",
    "t_test, pvalue"
   ]
  },
  {
   "cell_type": "code",
   "execution_count": 51,
   "id": "d4201f0d-7e6e-4b69-b4f6-9aabdd5064b6",
   "metadata": {},
   "outputs": [
    {
     "name": "stdout",
     "output_type": "stream",
     "text": [
      "Failed to Reject Null Hypothesis\n"
     ]
    }
   ],
   "source": [
    "if pvalue < 0.05:\n",
    "    print(\"Rejecting the null hypothesis\")\n",
    "else:\n",
    "    print(\"Failed to Reject Null Hypothesis\")"
   ]
  },
  {
   "cell_type": "markdown",
   "id": "e0409eb5-9af9-4ee7-a36a-a53deace252b",
   "metadata": {},
   "source": [
    "### **Drug Recorvery**"
   ]
  },
  {
   "cell_type": "code",
   "execution_count": 53,
   "id": "9cf170f7-31d1-4789-831d-911bc8606fd0",
   "metadata": {},
   "outputs": [
    {
     "data": {
      "text/plain": [
       "(      drug_1\n",
       " 0   8.824208\n",
       " 1   7.477745\n",
       " 2   7.557121\n",
       " 3   7.981314\n",
       " 4   6.827716\n",
       " ..       ...\n",
       " 95  6.890506\n",
       " 96  7.725759\n",
       " 97  6.848016\n",
       " 98  7.969997\n",
       " 99  7.104209\n",
       " \n",
       " [100 rows x 1 columns],\n",
       "        drug_2\n",
       " 0    9.565974\n",
       " 1    7.492915\n",
       " 2    8.738418\n",
       " 3    7.635235\n",
       " 4    4.125593\n",
       " ..        ...\n",
       " 115  7.861993\n",
       " 116  8.233510\n",
       " 117  5.876257\n",
       " 118  7.789454\n",
       " 119  8.836125\n",
       " \n",
       " [120 rows x 1 columns])"
      ]
     },
     "execution_count": 53,
     "metadata": {},
     "output_type": "execute_result"
    }
   ],
   "source": [
    "df_drug1 = pd.read_csv(\"drug_1_recovery.csv\")\n",
    "df_drug2 = pd.read_csv(\"drug_2_recovery.csv\")\n",
    "df_drug1, df_drug2"
   ]
  },
  {
   "cell_type": "code",
   "execution_count": 54,
   "id": "1fd36455-65e2-4551-94c3-8f44ee20487f",
   "metadata": {},
   "outputs": [
    {
     "data": {
      "text/plain": [
       "(drug_1    7.104917\n",
       " dtype: float64,\n",
       " drug_2    8.073423\n",
       " dtype: float64)"
      ]
     },
     "execution_count": 54,
     "metadata": {},
     "output_type": "execute_result"
    }
   ],
   "source": [
    "df_drug1.mean(), df_drug2.mean()"
   ]
  },
  {
   "cell_type": "code",
   "execution_count": 55,
   "id": "1cbc72f1-16f4-46c1-8867-f6c9f7e11700",
   "metadata": {},
   "outputs": [
    {
     "data": {
      "text/plain": [
       "(array([-5.32112438]), array([1.27713574e-07]))"
      ]
     },
     "execution_count": 55,
     "metadata": {},
     "output_type": "execute_result"
    }
   ],
   "source": [
    "ttest,pvalue = ttest_ind(df_drug1, df_drug2, alternative = \"less\")\n",
    "ttest,pvalue"
   ]
  },
  {
   "cell_type": "code",
   "execution_count": 56,
   "id": "f7541d94-2f5c-4906-8e93-101b03ac645b",
   "metadata": {},
   "outputs": [
    {
     "name": "stdout",
     "output_type": "stream",
     "text": [
      "Rejecting the null hypothesis\n"
     ]
    }
   ],
   "source": [
    "if pvalue < 0.05:\n",
    "    print(\"Rejecting the null hypothesis\")\n",
    "else:\n",
    "    print(\"Failed to Reject Null Hypothesis\")"
   ]
  },
  {
   "cell_type": "code",
   "execution_count": null,
   "id": "b299b6e4-459b-4993-87b8-cf65bc0759ca",
   "metadata": {},
   "outputs": [],
   "source": []
  }
 ],
 "metadata": {
  "kernelspec": {
   "display_name": "Python 3 (ipykernel)",
   "language": "python",
   "name": "python3"
  },
  "language_info": {
   "codemirror_mode": {
    "name": "ipython",
    "version": 3
   },
   "file_extension": ".py",
   "mimetype": "text/x-python",
   "name": "python",
   "nbconvert_exporter": "python",
   "pygments_lexer": "ipython3",
   "version": "3.11.0rc1"
  }
 },
 "nbformat": 4,
 "nbformat_minor": 5
}
