{
 "cells": [
  {
   "cell_type": "markdown",
   "id": "baef50ad-f3de-43bc-9934-28af0a26b939",
   "metadata": {},
   "source": [
    "# Precious Metals: Data & News (2000-Present)"
   ]
  },
  {
   "cell_type": "markdown",
   "id": "997e8af5-9b5f-4946-9a3b-e3d3adc1269b",
   "metadata": {},
   "source": [
    "This dataset offers a rich combination of quantitative financial market data and qualitative news text data on a daily basis, specifically focusing on the precious metals market (gold, silver, platinum and palladium using Gold Futures 'GC=F' as the primary example) from August 2000, up to April 2025. It is designed for researchers, analysts, and data scientists interested in exploring the interplay between financial news and market dynamics."
   ]
  },
  {
   "cell_type": "code",
   "execution_count": null,
   "id": "e7ed0b49-d83f-4661-9519-8b617ca103ea",
   "metadata": {},
   "outputs": [],
   "source": [
    "import pandas as pd\n",
    "import numpy as np\n",
    "import matplotlib.pyplot as plt"
   ]
  },
  {
   "cell_type": "code",
   "execution_count": null,
   "id": "83b0f44f-d1b5-42ba-a402-f1c11a867777",
   "metadata": {},
   "outputs": [],
   "source": [
    "gold_file = \"./data/Precious-Metal/final_gold_data.csv\"\n",
    "silver_file = \"./data/Precious-Metal/final_silver_data.csv\"\n",
    "platinum_file = \"./data/Precious-Metal/final_platinum_data.csv\"\n",
    "palladium_file = \"./data/Precious-Metal/final_palladium_data.csv\"\n",
    "gold_file,silver_file,platinum_file,palladium_file"
   ]
  },
  {
   "cell_type": "code",
   "execution_count": null,
   "id": "2acd0c9d-35f6-4f88-9764-f73ffd184b3e",
   "metadata": {},
   "outputs": [],
   "source": [
    "df_gold = pd.read_csv(gold_file,sep=\";\")\n",
    "df_silver = pd.read_csv(silver_file,sep=\";\")\n",
    "df_platinum = pd.read_csv(platinum_file,sep=\";\")\n",
    "df_palladium = pd.read_csv(palladium_file,sep=\";\")\n"
   ]
  },
  {
   "cell_type": "code",
   "execution_count": null,
   "id": "ddb60445-f0a8-433e-a8ec-9e11bd4e0b9b",
   "metadata": {},
   "outputs": [],
   "source": [
    "df_gold"
   ]
  },
  {
   "cell_type": "code",
   "execution_count": null,
   "id": "f61ea4c9-6c65-45cb-8899-8dd508710e17",
   "metadata": {},
   "outputs": [],
   "source": [
    "\n",
    "df_silver"
   ]
  },
  {
   "cell_type": "code",
   "execution_count": null,
   "id": "c10eb372-458d-4ac7-846a-bc62c65b20a6",
   "metadata": {},
   "outputs": [],
   "source": [
    "df_platinum"
   ]
  },
  {
   "cell_type": "code",
   "execution_count": null,
   "id": "dca56d61-8594-49ef-be77-40d20daa4b74",
   "metadata": {},
   "outputs": [],
   "source": [
    "df_palladium"
   ]
  },
  {
   "cell_type": "code",
   "execution_count": null,
   "id": "8e17b2f8-8ee9-4761-b35a-40a0323abc41",
   "metadata": {},
   "outputs": [],
   "source": []
  }
 ],
 "metadata": {
  "kernelspec": {
   "display_name": "Python 3 (ipykernel)",
   "language": "python",
   "name": "python3"
  },
  "language_info": {
   "codemirror_mode": {
    "name": "ipython",
    "version": 3
   },
   "file_extension": ".py",
   "mimetype": "text/x-python",
   "name": "python",
   "nbconvert_exporter": "python",
   "pygments_lexer": "ipython3",
   "version": "3.11.0rc1"
  }
 },
 "nbformat": 4,
 "nbformat_minor": 5
}
