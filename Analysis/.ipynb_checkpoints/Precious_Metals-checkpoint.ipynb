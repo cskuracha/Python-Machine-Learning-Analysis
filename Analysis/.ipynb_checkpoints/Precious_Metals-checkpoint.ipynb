{
 "cells": [
  {
   "cell_type": "markdown",
   "id": "baef50ad-f3de-43bc-9934-28af0a26b939",
   "metadata": {},
   "source": [
    "# Precious Metals: Data & News (2000-Present)"
   ]
  },
  {
   "cell_type": "markdown",
   "id": "997e8af5-9b5f-4946-9a3b-e3d3adc1269b",
   "metadata": {},
   "source": [
    "This dataset offers a rich combination of quantitative financial market data and qualitative news text data on a daily basis, specifically focusing on the precious metals market (gold, silver, platinum and palladium using Gold Futures 'GC=F' as the primary example) from August 2000, up to April 2025. It is designed for researchers, analysts, and data scientists interested in exploring the interplay between financial news and market dynamics."
   ]
  },
  {
   "cell_type": "code",
   "execution_count": 1,
   "id": "e7ed0b49-d83f-4661-9519-8b617ca103ea",
   "metadata": {},
   "outputs": [],
   "source": [
    "import pandas as pd\n",
    "import numpy as np\n",
    "import matplotlib.pyplot as plt"
   ]
  },
  {
   "cell_type": "code",
   "execution_count": 2,
   "id": "83b0f44f-d1b5-42ba-a402-f1c11a867777",
   "metadata": {},
   "outputs": [
    {
     "data": {
      "text/plain": [
       "('./data/Precious-Metal/final_gold_data.csv',\n",
       " './data/Precious-Metal/final_silver_data.csv',\n",
       " './data/Precious-Metal/final_platinum_data.csv',\n",
       " './data/Precious-Metal/final_palladium_data.csv')"
      ]
     },
     "execution_count": 2,
     "metadata": {},
     "output_type": "execute_result"
    }
   ],
   "source": [
    "gold_file = \"./data/Precious-Metal/final_gold_data.csv\"\n",
    "silver_file = \"./data/Precious-Metal/final_silver_data.csv\"\n",
    "platinum_file = \"./data/Precious-Metal/final_platinum_data.csv\"\n",
    "palladium_file = \"./data/Precious-Metal/final_palladium_data.csv\"\n",
    "gold_file,silver_file,platinum_file,palladium_file"
   ]
  },
  {
   "cell_type": "code",
   "execution_count": 3,
   "id": "2acd0c9d-35f6-4f88-9764-f73ffd184b3e",
   "metadata": {},
   "outputs": [],
   "source": [
    "df_gold = pd.read_csv(gold_file,sep=\";\")\n",
    "df_silver = pd.read_csv(silver_file,sep=\";\")\n",
    "df_platinum = pd.read_csv(platinum_file,sep=\";\")\n",
    "df_palladium = pd.read_csv(palladium_file,sep=\";\")\n"
   ]
  },
  {
   "cell_type": "code",
   "execution_count": 4,
   "id": "ddb60445-f0a8-433e-a8ec-9e11bd4e0b9b",
   "metadata": {},
   "outputs": [
    {
     "data": {
      "text/html": [
       "<div>\n",
       "<style scoped>\n",
       "    .dataframe tbody tr th:only-of-type {\n",
       "        vertical-align: middle;\n",
       "    }\n",
       "\n",
       "    .dataframe tbody tr th {\n",
       "        vertical-align: top;\n",
       "    }\n",
       "\n",
       "    .dataframe thead th {\n",
       "        text-align: right;\n",
       "    }\n",
       "</style>\n",
       "<table border=\"1\" class=\"dataframe\">\n",
       "  <thead>\n",
       "    <tr style=\"text-align: right;\">\n",
       "      <th></th>\n",
       "      <th>timestamp</th>\n",
       "      <th>open</th>\n",
       "      <th>high</th>\n",
       "      <th>low</th>\n",
       "      <th>close</th>\n",
       "      <th>volume</th>\n",
       "      <th>currency</th>\n",
       "      <th>unit</th>\n",
       "      <th>headlines</th>\n",
       "    </tr>\n",
       "  </thead>\n",
       "  <tbody>\n",
       "    <tr>\n",
       "      <th>0</th>\n",
       "      <td>2000-08-30</td>\n",
       "      <td>273.9</td>\n",
       "      <td>273.9</td>\n",
       "      <td>273.9</td>\n",
       "      <td>273.9</td>\n",
       "      <td>0</td>\n",
       "      <td>usd</td>\n",
       "      <td>ounce</td>\n",
       "      <td>Recalls Fuel Disclosure Debate / Deutsche Tele...</td>\n",
       "    </tr>\n",
       "    <tr>\n",
       "      <th>1</th>\n",
       "      <td>2000-08-31</td>\n",
       "      <td>274.8</td>\n",
       "      <td>278.3</td>\n",
       "      <td>274.8</td>\n",
       "      <td>278.3</td>\n",
       "      <td>0</td>\n",
       "      <td>usd</td>\n",
       "      <td>ounce</td>\n",
       "      <td>Credit Suisse's Wheat Faces Deal / Regulators ...</td>\n",
       "    </tr>\n",
       "    <tr>\n",
       "      <th>2</th>\n",
       "      <td>2000-09-01</td>\n",
       "      <td>277.0</td>\n",
       "      <td>277.0</td>\n",
       "      <td>277.0</td>\n",
       "      <td>277.0</td>\n",
       "      <td>0</td>\n",
       "      <td>usd</td>\n",
       "      <td>ounce</td>\n",
       "      <td>Nordstrom's Chief Resigns / Judge Dismisses Ca...</td>\n",
       "    </tr>\n",
       "    <tr>\n",
       "      <th>3</th>\n",
       "      <td>2000-09-05</td>\n",
       "      <td>275.8</td>\n",
       "      <td>275.8</td>\n",
       "      <td>275.8</td>\n",
       "      <td>275.8</td>\n",
       "      <td>2</td>\n",
       "      <td>usd</td>\n",
       "      <td>ounce</td>\n",
       "      <td>Market Pace Slows After 10-Year Run / Clickman...</td>\n",
       "    </tr>\n",
       "    <tr>\n",
       "      <th>4</th>\n",
       "      <td>2000-09-06</td>\n",
       "      <td>274.2</td>\n",
       "      <td>274.2</td>\n",
       "      <td>274.2</td>\n",
       "      <td>274.2</td>\n",
       "      <td>0</td>\n",
       "      <td>usd</td>\n",
       "      <td>ounce</td>\n",
       "      <td>France Telecom Profit Increases / Locale-Based...</td>\n",
       "    </tr>\n",
       "    <tr>\n",
       "      <th>...</th>\n",
       "      <td>...</td>\n",
       "      <td>...</td>\n",
       "      <td>...</td>\n",
       "      <td>...</td>\n",
       "      <td>...</td>\n",
       "      <td>...</td>\n",
       "      <td>...</td>\n",
       "      <td>...</td>\n",
       "      <td>...</td>\n",
       "    </tr>\n",
       "    <tr>\n",
       "      <th>6172</th>\n",
       "      <td>2025-04-08</td>\n",
       "      <td>2994.0</td>\n",
       "      <td>3014.5</td>\n",
       "      <td>2968.4</td>\n",
       "      <td>2968.4</td>\n",
       "      <td>3213</td>\n",
       "      <td>usd</td>\n",
       "      <td>ounce</td>\n",
       "      <td>South Korea Announces Emergency Support for Au...</td>\n",
       "    </tr>\n",
       "    <tr>\n",
       "      <th>6173</th>\n",
       "      <td>2025-04-09</td>\n",
       "      <td>2965.8</td>\n",
       "      <td>3090.4</td>\n",
       "      <td>2965.8</td>\n",
       "      <td>3056.5</td>\n",
       "      <td>2175</td>\n",
       "      <td>usd</td>\n",
       "      <td>ounce</td>\n",
       "      <td>Inside the Chinese City That Said Cash Rewards...</td>\n",
       "    </tr>\n",
       "    <tr>\n",
       "      <th>6174</th>\n",
       "      <td>2025-04-10</td>\n",
       "      <td>3073.9</td>\n",
       "      <td>3167.0</td>\n",
       "      <td>3072.1</td>\n",
       "      <td>3155.2</td>\n",
       "      <td>3456</td>\n",
       "      <td>usd</td>\n",
       "      <td>ounce</td>\n",
       "      <td>Six Dead in Helicopter Crash in Hudson River N...</td>\n",
       "    </tr>\n",
       "    <tr>\n",
       "      <th>6175</th>\n",
       "      <td>2025-04-11</td>\n",
       "      <td>3182.1</td>\n",
       "      <td>3235.0</td>\n",
       "      <td>3182.1</td>\n",
       "      <td>3222.2</td>\n",
       "      <td>862</td>\n",
       "      <td>usd</td>\n",
       "      <td>ounce</td>\n",
       "      <td>Spanish Siemens Couple Killed Alongside Childr...</td>\n",
       "    </tr>\n",
       "    <tr>\n",
       "      <th>6176</th>\n",
       "      <td>2025-04-14</td>\n",
       "      <td>3215.5</td>\n",
       "      <td>3228.8</td>\n",
       "      <td>3194.5</td>\n",
       "      <td>3204.8</td>\n",
       "      <td>263</td>\n",
       "      <td>usd</td>\n",
       "      <td>ounce</td>\n",
       "      <td>Star Posts Large Loss in Delayed First-Half Re...</td>\n",
       "    </tr>\n",
       "  </tbody>\n",
       "</table>\n",
       "<p>6177 rows × 9 columns</p>\n",
       "</div>"
      ],
      "text/plain": [
       "       timestamp    open    high     low   close  volume currency   unit  \\\n",
       "0     2000-08-30   273.9   273.9   273.9   273.9       0      usd  ounce   \n",
       "1     2000-08-31   274.8   278.3   274.8   278.3       0      usd  ounce   \n",
       "2     2000-09-01   277.0   277.0   277.0   277.0       0      usd  ounce   \n",
       "3     2000-09-05   275.8   275.8   275.8   275.8       2      usd  ounce   \n",
       "4     2000-09-06   274.2   274.2   274.2   274.2       0      usd  ounce   \n",
       "...          ...     ...     ...     ...     ...     ...      ...    ...   \n",
       "6172  2025-04-08  2994.0  3014.5  2968.4  2968.4    3213      usd  ounce   \n",
       "6173  2025-04-09  2965.8  3090.4  2965.8  3056.5    2175      usd  ounce   \n",
       "6174  2025-04-10  3073.9  3167.0  3072.1  3155.2    3456      usd  ounce   \n",
       "6175  2025-04-11  3182.1  3235.0  3182.1  3222.2     862      usd  ounce   \n",
       "6176  2025-04-14  3215.5  3228.8  3194.5  3204.8     263      usd  ounce   \n",
       "\n",
       "                                              headlines  \n",
       "0     Recalls Fuel Disclosure Debate / Deutsche Tele...  \n",
       "1     Credit Suisse's Wheat Faces Deal / Regulators ...  \n",
       "2     Nordstrom's Chief Resigns / Judge Dismisses Ca...  \n",
       "3     Market Pace Slows After 10-Year Run / Clickman...  \n",
       "4     France Telecom Profit Increases / Locale-Based...  \n",
       "...                                                 ...  \n",
       "6172  South Korea Announces Emergency Support for Au...  \n",
       "6173  Inside the Chinese City That Said Cash Rewards...  \n",
       "6174  Six Dead in Helicopter Crash in Hudson River N...  \n",
       "6175  Spanish Siemens Couple Killed Alongside Childr...  \n",
       "6176  Star Posts Large Loss in Delayed First-Half Re...  \n",
       "\n",
       "[6177 rows x 9 columns]"
      ]
     },
     "execution_count": 4,
     "metadata": {},
     "output_type": "execute_result"
    }
   ],
   "source": [
    "df_gold"
   ]
  },
  {
   "cell_type": "code",
   "execution_count": null,
   "id": "f61ea4c9-6c65-45cb-8899-8dd508710e17",
   "metadata": {},
   "outputs": [],
   "source": [
    "\n",
    "df_silver"
   ]
  },
  {
   "cell_type": "code",
   "execution_count": null,
   "id": "c10eb372-458d-4ac7-846a-bc62c65b20a6",
   "metadata": {},
   "outputs": [],
   "source": [
    "df_platinum"
   ]
  },
  {
   "cell_type": "code",
   "execution_count": null,
   "id": "dca56d61-8594-49ef-be77-40d20daa4b74",
   "metadata": {},
   "outputs": [],
   "source": [
    "df_palladium"
   ]
  },
  {
   "cell_type": "markdown",
   "id": "97d4fc6a-d102-499f-826e-8a48f5f18d2c",
   "metadata": {},
   "source": [
    "### **Data Overview**"
   ]
  },
  {
   "cell_type": "code",
   "execution_count": null,
   "id": "254f2b46-cb64-48d1-b60d-77424a0739dc",
   "metadata": {},
   "outputs": [],
   "source": [
    "def data_overview(df, name):\n",
    "    print(f\"{name} Overview \\n\")\n",
    "    print(f\"Shape: {df.shape}\\n\\n\")\n",
    "\n",
    "    print(f\"Info: \\n{df.info}\\n\\n\")\n",
    "    print(f\"Statistics: \\n{df.describe()}\")"
   ]
  },
  {
   "cell_type": "code",
   "execution_count": null,
   "id": "64cbb37e-9653-4acc-ad63-73bdbf0b5fe6",
   "metadata": {},
   "outputs": [],
   "source": [
    "data_overview(df_gold, \"Gold\")"
   ]
  },
  {
   "cell_type": "code",
   "execution_count": null,
   "id": "cdfba56a-a380-45c4-a15d-fa820883ec25",
   "metadata": {},
   "outputs": [],
   "source": [
    "data_overview(df_silver, \"Silver\")"
   ]
  },
  {
   "cell_type": "code",
   "execution_count": null,
   "id": "33904a41-e8bd-4bae-9b99-2c037a8ce70e",
   "metadata": {},
   "outputs": [],
   "source": [
    "data_overview(df_platinum, \"Platinum\")"
   ]
  },
  {
   "cell_type": "code",
   "execution_count": null,
   "id": "01b64a7c-44cc-4b14-ba94-255c195ec82d",
   "metadata": {},
   "outputs": [],
   "source": [
    "data_overview(df_palladium, \"Palladium\")"
   ]
  },
  {
   "cell_type": "code",
   "execution_count": null,
   "id": "8bbd3cc6-10bd-4cb5-8fd3-33b58743e72e",
   "metadata": {},
   "outputs": [],
   "source": [
    "df_gold['timestamp'].dtype"
   ]
  },
  {
   "cell_type": "code",
   "execution_count": null,
   "id": "d1b1d0c3-50ad-411b-99a1-3e03a7bc8e1c",
   "metadata": {},
   "outputs": [],
   "source": [
    "df_gold['timestamp'].min(), df_gold['timestamp'].max()"
   ]
  },
  {
   "cell_type": "code",
   "execution_count": null,
   "id": "0cfc9da5-a303-4107-b269-a24548bfb040",
   "metadata": {},
   "outputs": [],
   "source": [
    "df_silver['timestamp'].dtype, df_silver['timestamp'].min(), df_silver['timestamp'].max()"
   ]
  },
  {
   "cell_type": "code",
   "execution_count": null,
   "id": "c59629f2-4d75-46ad-a216-12a4ac358c57",
   "metadata": {},
   "outputs": [],
   "source": []
  }
 ],
 "metadata": {
  "kernelspec": {
   "display_name": "Python 3 (ipykernel)",
   "language": "python",
   "name": "python3"
  },
  "language_info": {
   "codemirror_mode": {
    "name": "ipython",
    "version": 3
   },
   "file_extension": ".py",
   "mimetype": "text/x-python",
   "name": "python",
   "nbconvert_exporter": "python",
   "pygments_lexer": "ipython3",
   "version": "3.11.0rc1"
  }
 },
 "nbformat": 4,
 "nbformat_minor": 5
}
