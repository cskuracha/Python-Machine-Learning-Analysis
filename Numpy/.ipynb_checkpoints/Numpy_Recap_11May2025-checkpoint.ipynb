{
 "cells": [
  {
   "cell_type": "markdown",
   "id": "e5cf7b8f-da44-446f-ad1a-db319c432a80",
   "metadata": {},
   "source": [
    "## **Numpy Recap on May 11**"
   ]
  },
  {
   "cell_type": "code",
   "execution_count": 1,
   "id": "2e252f2b-fe25-4d24-a8dd-6366a437dcfc",
   "metadata": {},
   "outputs": [],
   "source": [
    "import numpy as np"
   ]
  },
  {
   "cell_type": "code",
   "execution_count": 2,
   "id": "56c6819c-ff05-44f6-a83e-10e1611c3e8d",
   "metadata": {},
   "outputs": [
    {
     "data": {
      "text/plain": [
       "[1, 2, 3, 4, 5, 6, 7, 8, 9]"
      ]
     },
     "execution_count": 2,
     "metadata": {},
     "output_type": "execute_result"
    }
   ],
   "source": [
    "l = list(range(1,10))\n",
    "l"
   ]
  },
  {
   "cell_type": "code",
   "execution_count": 3,
   "id": "519c47cb-0dc3-4a2a-b6c6-525690b2c57d",
   "metadata": {},
   "outputs": [
    {
     "name": "stdout",
     "output_type": "stream",
     "text": [
      "693 ms ± 12.2 ms per loop (mean ± std. dev. of 7 runs, 1 loop each)\n"
     ]
    }
   ],
   "source": [
    "l = range(10000000)\n",
    "%timeit [i**2 for i in l]"
   ]
  },
  {
   "cell_type": "code",
   "execution_count": 4,
   "id": "980416b7-9f3a-4c78-97c8-53509d8b9d8f",
   "metadata": {},
   "outputs": [
    {
     "name": "stdout",
     "output_type": "stream",
     "text": [
      "22.2 ms ± 2.02 ms per loop (mean ± std. dev. of 7 runs, 10 loops each)\n"
     ]
    }
   ],
   "source": [
    "arr = np.array(l)\n",
    "%timeit arr**2"
   ]
  },
  {
   "cell_type": "code",
   "execution_count": 5,
   "id": "043b6fce-3afe-4e00-85b2-f6fcbe16137f",
   "metadata": {},
   "outputs": [
    {
     "data": {
      "text/plain": [
       "array([1, 2, 3, 4, 5, 6])"
      ]
     },
     "execution_count": 5,
     "metadata": {},
     "output_type": "execute_result"
    }
   ],
   "source": [
    "np.array([1,2,3,4,5,6])"
   ]
  },
  {
   "cell_type": "code",
   "execution_count": 6,
   "id": "61202165-daa1-4d37-95ac-2029addc8e1a",
   "metadata": {},
   "outputs": [
    {
     "data": {
      "text/plain": [
       "array([[ 0,  1,  2,  3],\n",
       "       [ 4,  5,  6,  7],\n",
       "       [ 8,  9, 10, 11],\n",
       "       [12, 13, 14, 15]])"
      ]
     },
     "execution_count": 6,
     "metadata": {},
     "output_type": "execute_result"
    }
   ],
   "source": [
    "a = list(range(0,16))\n",
    "arr1 = np.array(a)\n",
    "arr1.reshape(4,4)"
   ]
  },
  {
   "cell_type": "code",
   "execution_count": 7,
   "id": "5a57241e-e8ba-486b-b412-974eeb45a531",
   "metadata": {},
   "outputs": [
    {
     "data": {
      "text/plain": [
       "array([ 0,  1,  2,  3,  4,  5,  6,  7,  8,  9, 10, 11, 12, 13, 14, 15])"
      ]
     },
     "execution_count": 7,
     "metadata": {},
     "output_type": "execute_result"
    }
   ],
   "source": [
    "arr1"
   ]
  },
  {
   "cell_type": "markdown",
   "id": "8e8b40d7-3529-40dc-9f68-01d69e8ae432",
   "metadata": {},
   "source": [
    "### **2D Array**"
   ]
  },
  {
   "cell_type": "code",
   "execution_count": 8,
   "id": "f999eed6-193b-43f2-b2d7-ba3f38da12b5",
   "metadata": {},
   "outputs": [
    {
     "data": {
      "text/plain": [
       "array([[ 0,  1,  2,  3],\n",
       "       [ 4,  5,  6,  7],\n",
       "       [ 8,  9, 10, 11],\n",
       "       [12, 13, 14, 15]])"
      ]
     },
     "execution_count": 8,
     "metadata": {},
     "output_type": "execute_result"
    }
   ],
   "source": [
    "arr2 = arr1.reshape(4,4)\n",
    "arr2"
   ]
  },
  {
   "cell_type": "code",
   "execution_count": 9,
   "id": "e122929d-03ad-4919-a19a-920ad4d28889",
   "metadata": {},
   "outputs": [
    {
     "data": {
      "text/plain": [
       "((4, 4), 2)"
      ]
     },
     "execution_count": 9,
     "metadata": {},
     "output_type": "execute_result"
    }
   ],
   "source": [
    "arr2.shape, arr2.ndim"
   ]
  },
  {
   "cell_type": "markdown",
   "id": "91c74402-8d2f-42c2-9ff3-0a2f86c06473",
   "metadata": {},
   "source": [
    "### **3D Array**"
   ]
  },
  {
   "cell_type": "code",
   "execution_count": 10,
   "id": "cdca5300-c510-4ede-af7c-0190ba5ac247",
   "metadata": {},
   "outputs": [
    {
     "data": {
      "text/plain": [
       "array([[[ 0,  1,  2],\n",
       "        [ 3,  4,  5],\n",
       "        [ 6,  7,  8]],\n",
       "\n",
       "       [[ 9, 10, 11],\n",
       "        [12, 13, 14],\n",
       "        [15, 16, 17]],\n",
       "\n",
       "       [[18, 19, 20],\n",
       "        [21, 22, 23],\n",
       "        [24, 25, 26]]])"
      ]
     },
     "execution_count": 10,
     "metadata": {},
     "output_type": "execute_result"
    }
   ],
   "source": [
    "arr = np.arange(0,27)\n",
    "arr3 = arr.reshape(3,3,3)\n",
    "arr3"
   ]
  },
  {
   "cell_type": "code",
   "execution_count": 11,
   "id": "cd002499-5984-41da-b76b-9c742f4e5d7c",
   "metadata": {},
   "outputs": [
    {
     "data": {
      "text/plain": [
       "((3, 3, 3), 3)"
      ]
     },
     "execution_count": 11,
     "metadata": {},
     "output_type": "execute_result"
    }
   ],
   "source": [
    "arr3.shape, arr3.ndim"
   ]
  },
  {
   "cell_type": "code",
   "execution_count": 12,
   "id": "f282f03e-4d74-4207-9431-9120dcefb337",
   "metadata": {},
   "outputs": [
    {
     "data": {
      "text/plain": [
       "array([[[ 0,  1,  2],\n",
       "        [ 3,  4,  5],\n",
       "        [ 6,  7,  8]],\n",
       "\n",
       "       [[ 9, 10, 11],\n",
       "        [12, 13, 14],\n",
       "        [15, 16, 17]],\n",
       "\n",
       "       [[18, 19, 20],\n",
       "        [21, 22, 23],\n",
       "        [24, 25, 26]]])"
      ]
     },
     "execution_count": 12,
     "metadata": {},
     "output_type": "execute_result"
    }
   ],
   "source": [
    "arr3"
   ]
  },
  {
   "cell_type": "code",
   "execution_count": 13,
   "id": "e6012a79-aa5c-4f68-b46c-9b27c01e0c75",
   "metadata": {},
   "outputs": [
    {
     "data": {
      "text/plain": [
       "array([1. , 1.5, 2. , 2.5, 3. , 3.5, 4. , 4.5, 5. , 5.5, 6. , 6.5, 7. ,\n",
       "       7.5, 8. , 8.5, 9. , 9.5])"
      ]
     },
     "execution_count": 13,
     "metadata": {},
     "output_type": "execute_result"
    }
   ],
   "source": [
    "arr4 = np.arange(1,10,0.5)\n",
    "arr4"
   ]
  },
  {
   "cell_type": "code",
   "execution_count": 14,
   "id": "80f43c62-13b6-43af-9c75-9df33b927c2e",
   "metadata": {},
   "outputs": [
    {
     "data": {
      "text/plain": [
       "((18,), 1)"
      ]
     },
     "execution_count": 14,
     "metadata": {},
     "output_type": "execute_result"
    }
   ],
   "source": [
    "arr4.shape, arr4.ndim"
   ]
  },
  {
   "cell_type": "markdown",
   "id": "c39521d5-12ec-4e4f-aecb-954232a419e1",
   "metadata": {},
   "source": [
    "### **Array Type Conversion**"
   ]
  },
  {
   "cell_type": "code",
   "execution_count": 15,
   "id": "05c81e7c-68ca-4540-9986-e875b66e8a74",
   "metadata": {},
   "outputs": [
    {
     "data": {
      "text/plain": [
       "array(['1', 'Chaitu', '3.5', 'True'], dtype='<U32')"
      ]
     },
     "execution_count": 15,
     "metadata": {},
     "output_type": "execute_result"
    }
   ],
   "source": [
    "arr5 = np.array([1,\"Chaitu\",3.5,True])\n",
    "arr5"
   ]
  },
  {
   "cell_type": "code",
   "execution_count": 16,
   "id": "405708f5-b962-48c3-897c-1245e827ccba",
   "metadata": {},
   "outputs": [
    {
     "data": {
      "text/plain": [
       "array([1. , 4.5, 1. ])"
      ]
     },
     "execution_count": 16,
     "metadata": {},
     "output_type": "execute_result"
    }
   ],
   "source": [
    "arr6 = np.array([1,4.5,True])\n",
    "arr6"
   ]
  },
  {
   "cell_type": "code",
   "execution_count": 17,
   "id": "cd53e5ce-08ac-4d11-83f9-32f55603594e",
   "metadata": {},
   "outputs": [
    {
     "data": {
      "text/plain": [
       "array([1, 1])"
      ]
     },
     "execution_count": 17,
     "metadata": {},
     "output_type": "execute_result"
    }
   ],
   "source": [
    "arr7 = np.array([1,True])\n",
    "arr7"
   ]
  },
  {
   "cell_type": "markdown",
   "id": "096a8fae-c3f2-494a-b368-b8b47d6ccd92",
   "metadata": {},
   "source": [
    "### **DType & Astype**"
   ]
  },
  {
   "cell_type": "code",
   "execution_count": 18,
   "id": "0791a948-62f1-43d9-8512-8f5cee38b513",
   "metadata": {},
   "outputs": [
    {
     "data": {
      "text/plain": [
       "dtype('int64')"
      ]
     },
     "execution_count": 18,
     "metadata": {},
     "output_type": "execute_result"
    }
   ],
   "source": [
    "a = np.array([1,2,3,4])\n",
    "a.dtype"
   ]
  },
  {
   "cell_type": "code",
   "execution_count": 19,
   "id": "c26d59a2-0afc-468d-b194-e1572d4d0003",
   "metadata": {},
   "outputs": [
    {
     "data": {
      "text/plain": [
       "array([1., 2., 3., 4.])"
      ]
     },
     "execution_count": 19,
     "metadata": {},
     "output_type": "execute_result"
    }
   ],
   "source": [
    "b = np.array([1,2,3,4], dtype = \"float64\")\n",
    "b"
   ]
  },
  {
   "cell_type": "code",
   "execution_count": 20,
   "id": "80d6d017-371f-4969-96e5-e75668e57581",
   "metadata": {},
   "outputs": [
    {
     "data": {
      "text/plain": [
       "array(['1.0', '2.0', '3.0', '4.0'], dtype='<U32')"
      ]
     },
     "execution_count": 20,
     "metadata": {},
     "output_type": "execute_result"
    }
   ],
   "source": [
    "b.astype(\"str\")"
   ]
  },
  {
   "cell_type": "markdown",
   "id": "573e8f27-6cd0-42be-b270-519c266775c4",
   "metadata": {},
   "source": [
    "### **Indexing**"
   ]
  },
  {
   "cell_type": "code",
   "execution_count": 21,
   "id": "993af8fa-35af-4e36-885e-509970484096",
   "metadata": {},
   "outputs": [
    {
     "data": {
      "text/plain": [
       "array([ 0,  1,  2,  3,  4,  5,  6,  7,  8,  9, 10, 11, 12, 13, 14, 15, 16,\n",
       "       17, 18])"
      ]
     },
     "execution_count": 21,
     "metadata": {},
     "output_type": "execute_result"
    }
   ],
   "source": [
    "a = np.arange(0,19)\n",
    "a"
   ]
  },
  {
   "cell_type": "code",
   "execution_count": 22,
   "id": "a887064b-8bd0-4b7a-929b-a5d89b158888",
   "metadata": {},
   "outputs": [
    {
     "data": {
      "text/plain": [
       "(0, 9, array([2, 4]), array([18,  1, 17,  2]))"
      ]
     },
     "execution_count": 22,
     "metadata": {},
     "output_type": "execute_result"
    }
   ],
   "source": [
    "a[0],a[9], a[[2,4]],a[[-1,1,-2,2]]"
   ]
  },
  {
   "cell_type": "markdown",
   "id": "c231b40c-aa6b-4558-b02f-ae4865f60d51",
   "metadata": {},
   "source": [
    "### **Slicing**"
   ]
  },
  {
   "cell_type": "code",
   "execution_count": 23,
   "id": "c0cc974d-24d0-4aa8-8382-3962890b8030",
   "metadata": {},
   "outputs": [
    {
     "data": {
      "text/plain": [
       "array([2, 3, 4])"
      ]
     },
     "execution_count": 23,
     "metadata": {},
     "output_type": "execute_result"
    }
   ],
   "source": [
    "a[2:5]"
   ]
  },
  {
   "cell_type": "code",
   "execution_count": 24,
   "id": "bd24ab5a-8b59-4a9d-9cc3-5c2fda30e9e9",
   "metadata": {},
   "outputs": [
    {
     "data": {
      "text/plain": [
       "array([4, 5, 6, 7, 8])"
      ]
     },
     "execution_count": 24,
     "metadata": {},
     "output_type": "execute_result"
    }
   ],
   "source": [
    "a[4:9]"
   ]
  },
  {
   "cell_type": "code",
   "execution_count": 25,
   "id": "d48a5e59-3117-4a08-a35b-1c0e9676326d",
   "metadata": {},
   "outputs": [
    {
     "data": {
      "text/plain": [
       "array([14, 15, 16, 17])"
      ]
     },
     "execution_count": 25,
     "metadata": {},
     "output_type": "execute_result"
    }
   ],
   "source": [
    "a[-5:-1]"
   ]
  },
  {
   "cell_type": "code",
   "execution_count": 26,
   "id": "1439f38f-0c63-47d9-9388-38dd85025c4e",
   "metadata": {},
   "outputs": [
    {
     "data": {
      "text/plain": [
       "array([ True,  True,  True,  True,  True,  True, False, False, False,\n",
       "       False, False, False, False, False, False, False, False, False,\n",
       "       False])"
      ]
     },
     "execution_count": 26,
     "metadata": {},
     "output_type": "execute_result"
    }
   ],
   "source": [
    "a < 6"
   ]
  },
  {
   "cell_type": "code",
   "execution_count": 27,
   "id": "68930c9e-7245-4d5f-ba0c-5ead17b25882",
   "metadata": {},
   "outputs": [
    {
     "data": {
      "text/plain": [
       "array([0, 1, 2, 3, 4, 5])"
      ]
     },
     "execution_count": 27,
     "metadata": {},
     "output_type": "execute_result"
    }
   ],
   "source": [
    "a[a<6]"
   ]
  },
  {
   "cell_type": "code",
   "execution_count": 28,
   "id": "e657bb9f-c656-490f-ac65-7f10ba8c580b",
   "metadata": {},
   "outputs": [],
   "source": [
    "a = np.random.randint(1,100,10)\n",
    "b = np.random.randint(1,100,10)"
   ]
  },
  {
   "cell_type": "code",
   "execution_count": 29,
   "id": "ac4dcb5b-6e45-4ae7-bf37-6f5943cbf8ea",
   "metadata": {},
   "outputs": [
    {
     "data": {
      "text/plain": [
       "array([False, False, False, False, False, False, False, False, False,\n",
       "       False])"
      ]
     },
     "execution_count": 29,
     "metadata": {},
     "output_type": "execute_result"
    }
   ],
   "source": [
    "# Checking equality\n",
    "a == b"
   ]
  },
  {
   "cell_type": "code",
   "execution_count": 30,
   "id": "b4854a5b-8b3c-4413-b115-2cf8122f5418",
   "metadata": {},
   "outputs": [
    {
     "data": {
      "text/plain": [
       "(array([22, 29, 90, 27, 26]), array([61, 91, 72, 65, 12]))"
      ]
     },
     "execution_count": 30,
     "metadata": {},
     "output_type": "execute_result"
    }
   ],
   "source": [
    "# Getting even and odd index\n",
    "a[::2], a[1::2]"
   ]
  },
  {
   "cell_type": "code",
   "execution_count": 31,
   "id": "82878d33-74ae-48a8-977b-6604873e3139",
   "metadata": {},
   "outputs": [
    {
     "data": {
      "text/plain": [
       "array([22, 29, 90])"
      ]
     },
     "execution_count": 31,
     "metadata": {},
     "output_type": "execute_result"
    }
   ],
   "source": [
    "a[[0,2,4]]"
   ]
  },
  {
   "cell_type": "markdown",
   "id": "bab7d9fd-7976-4118-bf86-276ce18adf0c",
   "metadata": {},
   "source": [
    "### **Reading file**"
   ]
  },
  {
   "cell_type": "code",
   "execution_count": 32,
   "id": "502b7d2d-8e19-431e-816e-dab64d94b736",
   "metadata": {},
   "outputs": [
    {
     "data": {
      "text/plain": [
       "array([ 7., 10.,  5., ...,  5.,  9., 10.])"
      ]
     },
     "execution_count": 32,
     "metadata": {},
     "output_type": "execute_result"
    }
   ],
   "source": [
    "score = np.loadtxt(\"survey.txt\")\n",
    "score"
   ]
  },
  {
   "cell_type": "code",
   "execution_count": 33,
   "id": "b85111ef-3985-443f-803f-1eb2beb129d0",
   "metadata": {},
   "outputs": [
    {
     "name": "stdout",
     "output_type": "stream",
     "text": [
      "% of promoters 52.185089974293064\n",
      "% of dectractors 28.449014567266495\n"
     ]
    }
   ],
   "source": [
    "# % of promoters\n",
    "promoters = score[score > 8]\n",
    "print(\"% of promoters\",len(promoters)/len(score) * 100)\n",
    "# % of dectractors\n",
    "dectractors = score[score <= 6]\n",
    "print(\"% of dectractors\",len(dectractors)/len(score) * 100)"
   ]
  },
  {
   "cell_type": "code",
   "execution_count": 34,
   "id": "95f20e74-06c8-43e0-bea0-984d37dc227c",
   "metadata": {},
   "outputs": [
    {
     "data": {
      "text/plain": [
       "23.73607540702657"
      ]
     },
     "execution_count": 34,
     "metadata": {},
     "output_type": "execute_result"
    }
   ],
   "source": [
    "NPS = (len(promoters)/len(score) * 100) - (len(dectractors)/len(score) * 100)\n",
    "NPS"
   ]
  },
  {
   "cell_type": "markdown",
   "id": "f32e0f3e-3cec-4c1e-9b5a-f488a3cdc9e8",
   "metadata": {},
   "source": [
    "### **Reshape**"
   ]
  },
  {
   "cell_type": "code",
   "execution_count": 35,
   "id": "860b1f0a-85d7-43ef-b10c-d840edc576f6",
   "metadata": {},
   "outputs": [
    {
     "data": {
      "text/plain": [
       "(18,)"
      ]
     },
     "execution_count": 35,
     "metadata": {},
     "output_type": "execute_result"
    }
   ],
   "source": [
    "arr = np.arange(1, 19)\n",
    "arr.shape"
   ]
  },
  {
   "cell_type": "code",
   "execution_count": 36,
   "id": "d9905729-d414-479c-ab19-d1b266ec731c",
   "metadata": {},
   "outputs": [
    {
     "data": {
      "text/plain": [
       "array([[ 1,  2,  3,  4,  5,  6],\n",
       "       [ 7,  8,  9, 10, 11, 12],\n",
       "       [13, 14, 15, 16, 17, 18]])"
      ]
     },
     "execution_count": 36,
     "metadata": {},
     "output_type": "execute_result"
    }
   ],
   "source": [
    "arr1 = arr.reshape(3,6)\n",
    "arr1"
   ]
  },
  {
   "cell_type": "code",
   "execution_count": 37,
   "id": "c40b5c44-cf94-4857-be04-48e2f8f6d860",
   "metadata": {},
   "outputs": [
    {
     "data": {
      "text/plain": [
       "array([[ 1,  2,  3,  4,  5,  6],\n",
       "       [ 7,  8,  9, 10, 11, 12],\n",
       "       [13, 14, 15, 16, 17, 18]])"
      ]
     },
     "execution_count": 37,
     "metadata": {},
     "output_type": "execute_result"
    }
   ],
   "source": [
    "arr2 = arr.reshape(3, -1)\n",
    "arr2"
   ]
  },
  {
   "cell_type": "code",
   "execution_count": 38,
   "id": "eb71e8a7-2d2a-42fa-9cf8-42e2d73c704d",
   "metadata": {},
   "outputs": [
    {
     "data": {
      "text/plain": [
       "array([[ 1,  2],\n",
       "       [ 3,  4],\n",
       "       [ 5,  6],\n",
       "       [ 7,  8],\n",
       "       [ 9, 10],\n",
       "       [11, 12],\n",
       "       [13, 14],\n",
       "       [15, 16],\n",
       "       [17, 18]])"
      ]
     },
     "execution_count": 38,
     "metadata": {},
     "output_type": "execute_result"
    }
   ],
   "source": [
    "arr3 = arr.reshape(-1,2)\n",
    "arr3"
   ]
  },
  {
   "cell_type": "code",
   "execution_count": 39,
   "id": "cc02b645-ecbd-4cdb-937b-71475cc6bf6e",
   "metadata": {},
   "outputs": [
    {
     "data": {
      "text/plain": [
       "array([[[ 1,  2,  3,  4,  5,  6],\n",
       "        [ 7,  8,  9, 10, 11, 12],\n",
       "        [13, 14, 15, 16, 17, 18]]])"
      ]
     },
     "execution_count": 39,
     "metadata": {},
     "output_type": "execute_result"
    }
   ],
   "source": [
    "arr4 = arr.reshape(1,3,6)\n",
    "arr4"
   ]
  },
  {
   "cell_type": "markdown",
   "id": "c859d84d-9c54-4ad6-8586-824fcb9bdfaa",
   "metadata": {},
   "source": [
    "### **Transpose**"
   ]
  },
  {
   "cell_type": "code",
   "execution_count": 40,
   "id": "1da26529-7cba-4ab3-aae4-ed640d280767",
   "metadata": {},
   "outputs": [
    {
     "data": {
      "text/plain": [
       "array([[ 1,  2,  3,  4],\n",
       "       [ 5,  6,  7,  8],\n",
       "       [ 9, 10, 11, 12],\n",
       "       [13, 14, 15, 16]])"
      ]
     },
     "execution_count": 40,
     "metadata": {},
     "output_type": "execute_result"
    }
   ],
   "source": [
    "a = np.arange(1,17)\n",
    "a = a.reshape(4,4)\n",
    "a"
   ]
  },
  {
   "cell_type": "code",
   "execution_count": 41,
   "id": "b22e3c6d-07c4-48f1-b6af-4a4b6cf11f2f",
   "metadata": {},
   "outputs": [
    {
     "data": {
      "text/plain": [
       "array([[ 1,  5,  9, 13],\n",
       "       [ 2,  6, 10, 14],\n",
       "       [ 3,  7, 11, 15],\n",
       "       [ 4,  8, 12, 16]])"
      ]
     },
     "execution_count": 41,
     "metadata": {},
     "output_type": "execute_result"
    }
   ],
   "source": [
    "a.T"
   ]
  },
  {
   "cell_type": "code",
   "execution_count": 42,
   "id": "f2ac2a78-fd1d-4f1a-977b-6ebfdbcdb583",
   "metadata": {},
   "outputs": [
    {
     "data": {
      "text/plain": [
       "array([[ 1,  5,  9, 13],\n",
       "       [ 2,  6, 10, 14],\n",
       "       [ 3,  7, 11, 15],\n",
       "       [ 4,  8, 12, 16]])"
      ]
     },
     "execution_count": 42,
     "metadata": {},
     "output_type": "execute_result"
    }
   ],
   "source": [
    "np.transpose(a)"
   ]
  },
  {
   "cell_type": "markdown",
   "id": "01b04bea-6651-4fa7-9a72-44e983befd84",
   "metadata": {},
   "source": [
    "### **Indexing in 2D Array**"
   ]
  },
  {
   "cell_type": "code",
   "execution_count": 43,
   "id": "2e08d212-18d2-4c06-a869-792011c269a4",
   "metadata": {},
   "outputs": [
    {
     "data": {
      "text/plain": [
       "array([[ 1,  2,  3,  4],\n",
       "       [ 5,  6,  7,  8],\n",
       "       [ 9, 10, 11, 12],\n",
       "       [13, 14, 15, 16]])"
      ]
     },
     "execution_count": 43,
     "metadata": {},
     "output_type": "execute_result"
    }
   ],
   "source": [
    "a "
   ]
  },
  {
   "cell_type": "code",
   "execution_count": 44,
   "id": "e04b565b-2c5f-40a4-8890-1c545706c46b",
   "metadata": {},
   "outputs": [
    {
     "data": {
      "text/plain": [
       "array([ 9, 10, 11, 12])"
      ]
     },
     "execution_count": 44,
     "metadata": {},
     "output_type": "execute_result"
    }
   ],
   "source": [
    "a[2] # Entire row"
   ]
  },
  {
   "cell_type": "code",
   "execution_count": 45,
   "id": "04f836ee-b7e1-4ca2-964c-45b1a79ef620",
   "metadata": {},
   "outputs": [
    {
     "data": {
      "text/plain": [
       "array([ 3,  7, 11, 15])"
      ]
     },
     "execution_count": 45,
     "metadata": {},
     "output_type": "execute_result"
    }
   ],
   "source": [
    "a[:,2] # Entire column"
   ]
  },
  {
   "cell_type": "code",
   "execution_count": 46,
   "id": "1d008454-4dd4-47f3-a094-4752ce9b2542",
   "metadata": {},
   "outputs": [
    {
     "data": {
      "text/plain": [
       "12"
      ]
     },
     "execution_count": 46,
     "metadata": {},
     "output_type": "execute_result"
    }
   ],
   "source": [
    "a [2,3] # specific element"
   ]
  },
  {
   "cell_type": "code",
   "execution_count": 47,
   "id": "b6dbc1dc-cb5f-4825-89c3-f1c9db3970bf",
   "metadata": {},
   "outputs": [
    {
     "data": {
      "text/plain": [
       "12"
      ]
     },
     "execution_count": 47,
     "metadata": {},
     "output_type": "execute_result"
    }
   ],
   "source": [
    "a[2][3] # Get 3rd row and then 4 element"
   ]
  },
  {
   "cell_type": "code",
   "execution_count": 48,
   "id": "043428d6-a0c6-4b8c-9fee-463e9f0ab4e9",
   "metadata": {},
   "outputs": [
    {
     "data": {
      "text/plain": [
       "array([[ 5,  6,  7,  8],\n",
       "       [ 9, 10, 11, 12]])"
      ]
     },
     "execution_count": 48,
     "metadata": {},
     "output_type": "execute_result"
    }
   ],
   "source": [
    "a[[1,2]] # get 2nd and 3rd rows"
   ]
  },
  {
   "cell_type": "code",
   "execution_count": 49,
   "id": "5a2767db-2fc1-49c8-87f5-220eaa23f054",
   "metadata": {},
   "outputs": [
    {
     "data": {
      "text/plain": [
       "array([ 7, 12])"
      ]
     },
     "execution_count": 49,
     "metadata": {},
     "output_type": "execute_result"
    }
   ],
   "source": [
    "a[[1,2],[2,3]] # get 2nd and 3rd rows and 3rd and 4th columns"
   ]
  },
  {
   "cell_type": "code",
   "execution_count": 50,
   "id": "bd075fe7-408e-4fae-8196-c3c695f5c33c",
   "metadata": {},
   "outputs": [
    {
     "data": {
      "text/plain": [
       "array([[ 6,  7],\n",
       "       [10, 11]])"
      ]
     },
     "execution_count": 50,
     "metadata": {},
     "output_type": "execute_result"
    }
   ],
   "source": [
    "a[1:3,1:3]"
   ]
  },
  {
   "cell_type": "code",
   "execution_count": 51,
   "id": "a9f5cde2-4d6d-4de6-8c4e-f1baff809e9d",
   "metadata": {},
   "outputs": [
    {
     "data": {
      "text/plain": [
       "array([[ 9, 10, 11, 12]])"
      ]
     },
     "execution_count": 51,
     "metadata": {},
     "output_type": "execute_result"
    }
   ],
   "source": [
    "a[1:3][1:3]"
   ]
  },
  {
   "cell_type": "markdown",
   "id": "4aef9ce4-3dc4-4e20-8b68-66110cdeee39",
   "metadata": {},
   "source": [
    "#### Why difference?\n",
    "\n",
    "First one takes row and columns\n",
    "\n",
    "Second one takes rows and creates a temp array and on that again takes rows"
   ]
  },
  {
   "cell_type": "markdown",
   "id": "d7845857-3c7d-4cdd-b7fc-4bcb1d94d7f4",
   "metadata": {},
   "source": [
    "### **Masking**"
   ]
  },
  {
   "cell_type": "code",
   "execution_count": 52,
   "id": "9714edde-9542-4cfc-ad22-3987cd106092",
   "metadata": {},
   "outputs": [],
   "source": [
    "r = np.random.randint(1,100, 15)\n",
    "mask = r > 15"
   ]
  },
  {
   "cell_type": "code",
   "execution_count": 53,
   "id": "29241128-2e0c-4a42-aa41-297bd5189654",
   "metadata": {},
   "outputs": [
    {
     "data": {
      "text/plain": [
       "array([ True,  True,  True,  True,  True,  True,  True,  True,  True,\n",
       "        True, False,  True,  True,  True,  True])"
      ]
     },
     "execution_count": 53,
     "metadata": {},
     "output_type": "execute_result"
    }
   ],
   "source": [
    "mask"
   ]
  },
  {
   "cell_type": "code",
   "execution_count": 54,
   "id": "fcc8ebb0-364a-4b59-87bf-448342c7e0c3",
   "metadata": {},
   "outputs": [
    {
     "data": {
      "text/plain": [
       "array([52, 61, 59, 74, 53, 34, 74, 28, 20, 37, 39, 76, 71, 43])"
      ]
     },
     "execution_count": 54,
     "metadata": {},
     "output_type": "execute_result"
    }
   ],
   "source": [
    "r[mask]"
   ]
  },
  {
   "cell_type": "code",
   "execution_count": 55,
   "id": "3884d68d-91fc-4034-8ac0-987e38895af3",
   "metadata": {},
   "outputs": [
    {
     "data": {
      "text/plain": [
       "array([[26, 33,  3, 27],\n",
       "       [20, 47, 42, 33],\n",
       "       [ 4, 36, 47,  1],\n",
       "       [34,  6, 14, 38]])"
      ]
     },
     "execution_count": 55,
     "metadata": {},
     "output_type": "execute_result"
    }
   ],
   "source": [
    "r2 = np.random.randint(1,50,16).reshape(4,4)\n",
    "r2"
   ]
  },
  {
   "cell_type": "code",
   "execution_count": 56,
   "id": "2e6c0f8c-5717-4b53-bece-81ce1df3da55",
   "metadata": {},
   "outputs": [
    {
     "data": {
      "text/plain": [
       "array([[False, False,  True, False],\n",
       "       [False, False, False, False],\n",
       "       [ True, False, False,  True],\n",
       "       [False,  True, False, False]])"
      ]
     },
     "execution_count": 56,
     "metadata": {},
     "output_type": "execute_result"
    }
   ],
   "source": [
    "mask = r2<7\n",
    "mask"
   ]
  },
  {
   "cell_type": "code",
   "execution_count": 57,
   "id": "7901aece-5362-4dd1-a898-d1cec9479e23",
   "metadata": {},
   "outputs": [
    {
     "data": {
      "text/plain": [
       "array([3, 4, 1, 6])"
      ]
     },
     "execution_count": 57,
     "metadata": {},
     "output_type": "execute_result"
    }
   ],
   "source": [
    "r2[mask]"
   ]
  },
  {
   "cell_type": "code",
   "execution_count": 58,
   "id": "102a7dce-7c55-4d9d-ab51-6fb9b0417eaa",
   "metadata": {},
   "outputs": [
    {
     "data": {
      "text/plain": [
       "array([[  26,   33, 9999,   27],\n",
       "       [  20,   47,   42,   33],\n",
       "       [9999,   36,   47, 9999],\n",
       "       [  34, 9999,   14,   38]])"
      ]
     },
     "execution_count": 58,
     "metadata": {},
     "output_type": "execute_result"
    }
   ],
   "source": [
    "r2[mask] = 9999 # assigning at once\n",
    "r2"
   ]
  },
  {
   "cell_type": "markdown",
   "id": "996fbe0d-0226-402a-9547-4921309a12fd",
   "metadata": {},
   "source": [
    "### **Aggregate functions**"
   ]
  },
  {
   "cell_type": "code",
   "execution_count": 59,
   "id": "13bfffd7-3978-430f-81f5-b5ca82919117",
   "metadata": {},
   "outputs": [
    {
     "data": {
      "text/plain": [
       "array([ 0,  1,  2,  3,  4,  5,  6,  7,  8,  9, 10, 11, 12, 13, 14, 15])"
      ]
     },
     "execution_count": 59,
     "metadata": {},
     "output_type": "execute_result"
    }
   ],
   "source": [
    "a = np.arange(16)\n",
    "a"
   ]
  },
  {
   "cell_type": "code",
   "execution_count": 60,
   "id": "fee74815-b2d0-425f-b32c-ca4ca4a276d0",
   "metadata": {},
   "outputs": [
    {
     "name": "stdout",
     "output_type": "stream",
     "text": [
      "Sum 120\n",
      "Average:  7.5\n",
      "Min:  0\n",
      "Max:  15\n"
     ]
    }
   ],
   "source": [
    "print(\"Sum\", np.sum(a))\n",
    "print(\"Average: \", np.mean(a))\n",
    "print(\"Min: \", np.min(a))\n",
    "print(\"Max: \", np.max(a))"
   ]
  },
  {
   "cell_type": "code",
   "execution_count": 61,
   "id": "740ec38a-2f8c-4ad3-936b-76d2e0f93ac0",
   "metadata": {},
   "outputs": [
    {
     "data": {
      "text/plain": [
       "array([[182,  16,  12, 177],\n",
       "       [ 71,  10,  89,  54],\n",
       "       [118, 106, 149,   6],\n",
       "       [184,  12,  49,  88]])"
      ]
     },
     "execution_count": 61,
     "metadata": {},
     "output_type": "execute_result"
    }
   ],
   "source": [
    "b = np.random.randint(1,200, (4,4))\n",
    "b"
   ]
  },
  {
   "cell_type": "code",
   "execution_count": 62,
   "id": "5489fa50-cf3c-4739-9d64-32651ebb218f",
   "metadata": {},
   "outputs": [
    {
     "name": "stdout",
     "output_type": "stream",
     "text": [
      "Sum:  1323\n",
      "Mean:  82.6875\n",
      "Min:  6\n",
      "Max:  184\n"
     ]
    }
   ],
   "source": [
    "print(\"Sum: \", np.sum(b))\n",
    "print(\"Mean: \", np.mean(b))\n",
    "print(\"Min: \",np.min(b))\n",
    "print(\"Max: \", np.max(b))"
   ]
  },
  {
   "cell_type": "code",
   "execution_count": 63,
   "id": "38f8611b-cbae-4aa1-9c9a-df9c26e77341",
   "metadata": {},
   "outputs": [
    {
     "name": "stdout",
     "output_type": "stream",
     "text": [
      "Sum:  [555 144 299 325]\n",
      "Mean:  [138.75  36.    74.75  81.25]\n",
      "Min:  [71 10 12  6]\n",
      "Max:  [184 106 149 177]\n"
     ]
    }
   ],
   "source": [
    "# Row wise\n",
    "print(\"Sum: \", np.sum(b, axis = 0))\n",
    "print(\"Mean: \", np.mean(b, axis = 0))\n",
    "print(\"Min: \",np.min(b, axis = 0))\n",
    "print(\"Max: \", np.max(b, axis = 0))"
   ]
  },
  {
   "cell_type": "code",
   "execution_count": 64,
   "id": "c3edc148-321e-44cf-9bf6-be1bd704c2d0",
   "metadata": {},
   "outputs": [
    {
     "name": "stdout",
     "output_type": "stream",
     "text": [
      "Sum:  [387 224 379 333]\n",
      "Mean:  [96.75 56.   94.75 83.25]\n",
      "Min:  [12 10  6 12]\n",
      "Max:  [182  89 149 184]\n"
     ]
    }
   ],
   "source": [
    "# Column wise\n",
    "print(\"Sum: \", np.sum(b, axis = 1))\n",
    "print(\"Mean: \", np.mean(b, axis = 1))\n",
    "print(\"Min: \",np.min(b, axis = 1))\n",
    "print(\"Max: \", np.max(b, axis = 1))"
   ]
  },
  {
   "cell_type": "markdown",
   "id": "5390d5f5-d706-43ca-9cce-ea5af0e73546",
   "metadata": {},
   "source": [
    "### **Logical Functions**"
   ]
  },
  {
   "cell_type": "code",
   "execution_count": 65,
   "id": "dbd8820a-fd58-4183-90eb-3cf1b87d9c43",
   "metadata": {},
   "outputs": [
    {
     "data": {
      "text/plain": [
       "(True, False)"
      ]
     },
     "execution_count": 65,
     "metadata": {},
     "output_type": "execute_result"
    }
   ],
   "source": [
    "mask1 = [True, False, True, True]\n",
    "np.any(mask1), np.all(mask1)"
   ]
  },
  {
   "cell_type": "code",
   "execution_count": 66,
   "id": "c736c7ac-22a8-4077-9733-a099b12cbf10",
   "metadata": {},
   "outputs": [
    {
     "data": {
      "text/plain": [
       "True"
      ]
     },
     "execution_count": 66,
     "metadata": {},
     "output_type": "execute_result"
    }
   ],
   "source": [
    "prices = np.array([50,45,25,20,35,70])\n",
    "budget = 40\n",
    "# any prices less than 40 ?\n",
    "np.any(prices < budget)"
   ]
  },
  {
   "cell_type": "code",
   "execution_count": 67,
   "id": "a4f3d89c-e5d6-41a9-9659-c812a2174338",
   "metadata": {},
   "outputs": [
    {
     "data": {
      "text/plain": [
       "False"
      ]
     },
     "execution_count": 67,
     "metadata": {},
     "output_type": "execute_result"
    }
   ],
   "source": [
    "# All prices less than 40\n",
    "np.all(prices < budget)"
   ]
  },
  {
   "cell_type": "code",
   "execution_count": 68,
   "id": "cc29ace7-39b4-4ad9-8e2a-1082c74f3f7d",
   "metadata": {},
   "outputs": [
    {
     "data": {
      "text/plain": [
       "array([ 16,   9,   5,  18,  -2,  19,   6,  -2, -10, -10])"
      ]
     },
     "execution_count": 68,
     "metadata": {},
     "output_type": "execute_result"
    }
   ],
   "source": [
    "arr = np.random.randint(-20, 20, 10)\n",
    "arr"
   ]
  },
  {
   "cell_type": "code",
   "execution_count": 69,
   "id": "b9b5497a-be86-45fe-810d-9457288d7de1",
   "metadata": {},
   "outputs": [
    {
     "data": {
      "text/plain": [
       "array(['16', '9', '5', '18', 'invalid', '19', '6', 'invalid', 'invalid',\n",
       "       'invalid'], dtype='<U21')"
      ]
     },
     "execution_count": 69,
     "metadata": {},
     "output_type": "execute_result"
    }
   ],
   "source": [
    "np.where(arr < 0, \"invalid\",arr)"
   ]
  },
  {
   "cell_type": "code",
   "execution_count": 70,
   "id": "f535fb5a-6b43-478d-a65e-4eede1fdaa95",
   "metadata": {},
   "outputs": [
    {
     "data": {
      "text/plain": [
       "array([ 14.4,   8.1,   5. ,  16.2,  -2. ,  17.1,   5.4,  -2. , -10. ,\n",
       "       -10. ])"
      ]
     },
     "execution_count": 70,
     "metadata": {},
     "output_type": "execute_result"
    }
   ],
   "source": [
    "np.where(arr > 5, arr *0.9,arr)"
   ]
  },
  {
   "cell_type": "markdown",
   "id": "01876b53-6710-40b5-b183-2684b408d10f",
   "metadata": {},
   "source": [
    "### **Fitbit**"
   ]
  },
  {
   "cell_type": "code",
   "execution_count": 71,
   "id": "1b0bfedb-d5c3-4c3d-a89d-5c270138c0e4",
   "metadata": {},
   "outputs": [
    {
     "data": {
      "text/plain": [
       "array([['06-10-2017', '5464', 'Neutral', '181', '5', 'Inactive'],\n",
       "       ['07-10-2017', '6041', 'Sad', '197', '8', 'Inactive'],\n",
       "       ['08-10-2017', '25', 'Sad', '0', '5', 'Inactive'],\n",
       "       ['09-10-2017', '5461', 'Sad', '174', '4', 'Inactive'],\n",
       "       ['10-10-2017', '6915', 'Neutral', '223', '5', 'Active'],\n",
       "       ['11-10-2017', '4545', 'Sad', '149', '6', 'Inactive'],\n",
       "       ['12-10-2017', '4340', 'Sad', '140', '6', 'Inactive'],\n",
       "       ['13-10-2017', '1230', 'Sad', '38', '7', 'Inactive'],\n",
       "       ['14-10-2017', '61', 'Sad', '1', '5', 'Inactive'],\n",
       "       ['15-10-2017', '1258', 'Sad', '40', '6', 'Inactive'],\n",
       "       ['16-10-2017', '3148', 'Sad', '101', '8', 'Inactive'],\n",
       "       ['17-10-2017', '4687', 'Sad', '152', '5', 'Inactive'],\n",
       "       ['18-10-2017', '4732', 'Happy', '150', '6', 'Active'],\n",
       "       ['19-10-2017', '3519', 'Sad', '113', '7', 'Inactive'],\n",
       "       ['20-10-2017', '1580', 'Sad', '49', '5', 'Inactive'],\n",
       "       ['21-10-2017', '2822', 'Sad', '86', '6', 'Inactive'],\n",
       "       ['22-10-2017', '181', 'Sad', '6', '8', 'Inactive'],\n",
       "       ['23-10-2017', '3158', 'Neutral', '99', '5', 'Inactive'],\n",
       "       ['24-10-2017', '4383', 'Neutral', '143', '4', 'Inactive'],\n",
       "       ['25-10-2017', '3881', 'Neutral', '125', '5', 'Inactive'],\n",
       "       ['26-10-2017', '4037', 'Neutral', '129', '6', 'Inactive'],\n",
       "       ['27-10-2017', '202', 'Neutral', '6', '8', 'Inactive'],\n",
       "       ['28-10-2017', '292', 'Neutral', '9', '5', 'Inactive'],\n",
       "       ['29-10-2017', '330', 'Happy', '10', '6', 'Inactive'],\n",
       "       ['30-10-2017', '2209', 'Neutral', '72', '5', 'Inactive'],\n",
       "       ['31-10-2017', '4550', 'Happy', '150', '8', 'Active'],\n",
       "       ['01-11-2017', '4435', 'Happy', '141', '5', 'Inactive'],\n",
       "       ['02-11-2017', '4779', 'Happy', '156', '4', 'Inactive'],\n",
       "       ['03-11-2017', '1831', 'Happy', '57', '5', 'Inactive'],\n",
       "       ['04-11-2017', '2255', 'Happy', '72', '4', 'Inactive'],\n",
       "       ['05-11-2017', '539', 'Happy', '17', '5', 'Active'],\n",
       "       ['06-11-2017', '5464', 'Happy', '181', '4', 'Inactive'],\n",
       "       ['07-11-2017', '6041', 'Neutral', '197', '3', 'Inactive'],\n",
       "       ['08-11-2017', '4068', 'Happy', '131', '2', 'Inactive'],\n",
       "       ['09-11-2017', '4683', 'Happy', '154', '9', 'Inactive'],\n",
       "       ['10-11-2017', '4033', 'Happy', '137', '5', 'Inactive'],\n",
       "       ['11-11-2017', '6314', 'Happy', '193', '6', 'Active'],\n",
       "       ['12-11-2017', '614', 'Happy', '19', '4', 'Active'],\n",
       "       ['13-11-2017', '3149', 'Happy', '101', '5', 'Active'],\n",
       "       ['14-11-2017', '4005', 'Happy', '139', '8', 'Active'],\n",
       "       ['15-11-2017', '4880', 'Happy', '164', '4', 'Active'],\n",
       "       ['16-11-2017', '4136', 'Happy', '137', '5', 'Active'],\n",
       "       ['17-11-2017', '705', 'Happy', '22', '6', 'Active'],\n",
       "       ['18-11-2017', '570', 'Neutral', '17', '5', 'Active'],\n",
       "       ['19-11-2017', '269', 'Happy', '9', '6', 'Active'],\n",
       "       ['20-11-2017', '4275', 'Happy', '145', '5', 'Inactive'],\n",
       "       ['21-11-2017', '5999', 'Happy', '192', '6', 'Inactive'],\n",
       "       ['22-11-2017', '4421', 'Happy', '146', '5', 'Inactive'],\n",
       "       ['23-11-2017', '6930', 'Happy', '234', '6', 'Inactive'],\n",
       "       ['24-11-2017', '5195', 'Happy', '167', '5', 'Inactive'],\n",
       "       ['25-11-2017', '546', 'Happy', '16', '6', 'Inactive'],\n",
       "       ['26-11-2017', '493', 'Happy', '17', '7', 'Active'],\n",
       "       ['27-11-2017', '995', 'Happy', '32', '6', 'Active'],\n",
       "       ['28-11-2017', '1163', 'Neutral', '35', '7', 'Active'],\n",
       "       ['29-11-2017', '6676', 'Sad', '220', '6', 'Active'],\n",
       "       ['30-11-2017', '3608', 'Happy', '116', '5', 'Active'],\n",
       "       ['01-12-2017', '774', 'Happy', '23', '6', 'Active'],\n",
       "       ['02-12-2017', '1421', 'Happy', '44', '7', 'Active'],\n",
       "       ['03-12-2017', '4064', 'Happy', '131', '8', 'Active'],\n",
       "       ['04-12-2017', '2725', 'Happy', '86', '8', 'Active'],\n",
       "       ['05-12-2017', '5934', 'Happy', '194', '7', 'Active'],\n",
       "       ['06-12-2017', '1867', 'Happy', '60', '8', 'Active'],\n",
       "       ['07-12-2017', '3721', 'Sad', '121', '5', 'Active'],\n",
       "       ['08-12-2017', '2374', 'Neutral', '76', '4', 'Inactive'],\n",
       "       ['09-12-2017', '2909', 'Neutral', '93', '3', 'Active'],\n",
       "       ['10-12-2017', '1648', 'Sad', '53', '3', 'Active'],\n",
       "       ['11-12-2017', '799', 'Sad', '25', '4', 'Inactive'],\n",
       "       ['12-12-2017', '7102', 'Neutral', '227', '5', 'Active'],\n",
       "       ['13-12-2017', '3941', 'Neutral', '125', '5', 'Active'],\n",
       "       ['14-12-2017', '7422', 'Happy', '243', '5', 'Active'],\n",
       "       ['15-12-2017', '437', 'Neutral', '14', '3', 'Active'],\n",
       "       ['16-12-2017', '1231', 'Neutral', '39', '4', 'Active'],\n",
       "       ['17-12-2017', '1696', 'Sad', '55', '4', 'Inactive'],\n",
       "       ['18-12-2017', '4921', 'Neutral', '158', '5', 'Active'],\n",
       "       ['19-12-2017', '221', 'Sad', '7', '5', 'Active'],\n",
       "       ['20-12-2017', '6500', 'Neutral', '213', '5', 'Active'],\n",
       "       ['21-12-2017', '3575', 'Neutral', '116', '5', 'Active'],\n",
       "       ['22-12-2017', '4061', 'Sad', '129', '5', 'Inactive'],\n",
       "       ['23-12-2017', '651', 'Sad', '21', '5', 'Inactive'],\n",
       "       ['24-12-2017', '753', 'Sad', '28', '4', 'Inactive'],\n",
       "       ['25-12-2017', '518', 'Sad', '16', '3', 'Inactive'],\n",
       "       ['26-12-2017', '5537', 'Happy', '180', '4', 'Active'],\n",
       "       ['27-12-2017', '4108', 'Neutral', '138', '5', 'Active'],\n",
       "       ['28-12-2017', '5376', 'Happy', '176', '5', 'Active'],\n",
       "       ['29-12-2017', '3066', 'Neutral', '99', '4', 'Active'],\n",
       "       ['30-12-2017', '177', 'Sad', '5', '5', 'Inactive'],\n",
       "       ['31-12-2017', '36', 'Sad', '1', '3', 'Inactive'],\n",
       "       ['01-01-2018', '299', 'Sad', '10', '3', 'Inactive'],\n",
       "       ['02-01-2018', '1447', 'Neutral', '47', '3', 'Inactive'],\n",
       "       ['03-01-2018', '2599', 'Neutral', '84', '2', 'Inactive'],\n",
       "       ['04-01-2018', '702', 'Sad', '23', '3', 'Inactive'],\n",
       "       ['05-01-2018', '133', 'Sad', '4', '2', 'Inactive'],\n",
       "       ['06-01-2018', '153', 'Happy', '0', '8', 'Inactive'],\n",
       "       ['07-01-2018', '500', 'Neutral', '0', '5', 'Active'],\n",
       "       ['08-01-2018', '2127', 'Neutral', '0', '5', 'Inactive'],\n",
       "       ['09-01-2018', '2203', 'Happy', '0', '5', 'Active']], dtype='<U10')"
      ]
     },
     "execution_count": 71,
     "metadata": {},
     "output_type": "execute_result"
    }
   ],
   "source": [
    "fit = np.loadtxt(\"fit.txt\", dtype = 'str')\n",
    "fit"
   ]
  },
  {
   "cell_type": "code",
   "execution_count": 72,
   "id": "c905d8a4-4b5b-4265-8f9f-5bfcdca5834a",
   "metadata": {},
   "outputs": [
    {
     "data": {
      "text/plain": [
       "numpy.ndarray"
      ]
     },
     "execution_count": 72,
     "metadata": {},
     "output_type": "execute_result"
    }
   ],
   "source": [
    "type(fit)"
   ]
  },
  {
   "cell_type": "code",
   "execution_count": 73,
   "id": "838a67b5-3529-454b-901e-59dae0671ee2",
   "metadata": {},
   "outputs": [
    {
     "data": {
      "text/plain": [
       "((96, 6), 576, 2)"
      ]
     },
     "execution_count": 73,
     "metadata": {},
     "output_type": "execute_result"
    }
   ],
   "source": [
    "fit.shape, fit.size, fit.ndim"
   ]
  },
  {
   "cell_type": "code",
   "execution_count": 74,
   "id": "8a31b3a7-0d65-4425-a7d5-c6942703581e",
   "metadata": {},
   "outputs": [
    {
     "data": {
      "text/plain": [
       "array(['06-10-2017', '5464', 'Neutral', '181', '5', 'Inactive'],\n",
       "      dtype='<U10')"
      ]
     },
     "execution_count": 74,
     "metadata": {},
     "output_type": "execute_result"
    }
   ],
   "source": [
    "fit[0]"
   ]
  },
  {
   "cell_type": "code",
   "execution_count": 75,
   "id": "f78a9c86-2b82-45b4-ae9b-15724bbff4a6",
   "metadata": {},
   "outputs": [
    {
     "data": {
      "text/plain": [
       "array([['06-10-2017', '07-10-2017', '08-10-2017', '09-10-2017',\n",
       "        '10-10-2017', '11-10-2017', '12-10-2017', '13-10-2017',\n",
       "        '14-10-2017', '15-10-2017', '16-10-2017', '17-10-2017',\n",
       "        '18-10-2017', '19-10-2017', '20-10-2017', '21-10-2017',\n",
       "        '22-10-2017', '23-10-2017', '24-10-2017', '25-10-2017',\n",
       "        '26-10-2017', '27-10-2017', '28-10-2017', '29-10-2017',\n",
       "        '30-10-2017', '31-10-2017', '01-11-2017', '02-11-2017',\n",
       "        '03-11-2017', '04-11-2017', '05-11-2017', '06-11-2017',\n",
       "        '07-11-2017', '08-11-2017', '09-11-2017', '10-11-2017',\n",
       "        '11-11-2017', '12-11-2017', '13-11-2017', '14-11-2017',\n",
       "        '15-11-2017', '16-11-2017', '17-11-2017', '18-11-2017',\n",
       "        '19-11-2017', '20-11-2017', '21-11-2017', '22-11-2017',\n",
       "        '23-11-2017', '24-11-2017', '25-11-2017', '26-11-2017',\n",
       "        '27-11-2017', '28-11-2017', '29-11-2017', '30-11-2017',\n",
       "        '01-12-2017', '02-12-2017', '03-12-2017', '04-12-2017',\n",
       "        '05-12-2017', '06-12-2017', '07-12-2017', '08-12-2017',\n",
       "        '09-12-2017', '10-12-2017', '11-12-2017', '12-12-2017',\n",
       "        '13-12-2017', '14-12-2017', '15-12-2017', '16-12-2017',\n",
       "        '17-12-2017', '18-12-2017', '19-12-2017', '20-12-2017',\n",
       "        '21-12-2017', '22-12-2017', '23-12-2017', '24-12-2017',\n",
       "        '25-12-2017', '26-12-2017', '27-12-2017', '28-12-2017',\n",
       "        '29-12-2017', '30-12-2017', '31-12-2017', '01-01-2018',\n",
       "        '02-01-2018', '03-01-2018', '04-01-2018', '05-01-2018',\n",
       "        '06-01-2018', '07-01-2018', '08-01-2018', '09-01-2018'],\n",
       "       ['5464', '6041', '25', '5461', '6915', '4545', '4340', '1230',\n",
       "        '61', '1258', '3148', '4687', '4732', '3519', '1580', '2822',\n",
       "        '181', '3158', '4383', '3881', '4037', '202', '292', '330',\n",
       "        '2209', '4550', '4435', '4779', '1831', '2255', '539', '5464',\n",
       "        '6041', '4068', '4683', '4033', '6314', '614', '3149', '4005',\n",
       "        '4880', '4136', '705', '570', '269', '4275', '5999', '4421',\n",
       "        '6930', '5195', '546', '493', '995', '1163', '6676', '3608',\n",
       "        '774', '1421', '4064', '2725', '5934', '1867', '3721', '2374',\n",
       "        '2909', '1648', '799', '7102', '3941', '7422', '437', '1231',\n",
       "        '1696', '4921', '221', '6500', '3575', '4061', '651', '753',\n",
       "        '518', '5537', '4108', '5376', '3066', '177', '36', '299',\n",
       "        '1447', '2599', '702', '133', '153', '500', '2127', '2203'],\n",
       "       ['Neutral', 'Sad', 'Sad', 'Sad', 'Neutral', 'Sad', 'Sad', 'Sad',\n",
       "        'Sad', 'Sad', 'Sad', 'Sad', 'Happy', 'Sad', 'Sad', 'Sad', 'Sad',\n",
       "        'Neutral', 'Neutral', 'Neutral', 'Neutral', 'Neutral', 'Neutral',\n",
       "        'Happy', 'Neutral', 'Happy', 'Happy', 'Happy', 'Happy', 'Happy',\n",
       "        'Happy', 'Happy', 'Neutral', 'Happy', 'Happy', 'Happy', 'Happy',\n",
       "        'Happy', 'Happy', 'Happy', 'Happy', 'Happy', 'Happy', 'Neutral',\n",
       "        'Happy', 'Happy', 'Happy', 'Happy', 'Happy', 'Happy', 'Happy',\n",
       "        'Happy', 'Happy', 'Neutral', 'Sad', 'Happy', 'Happy', 'Happy',\n",
       "        'Happy', 'Happy', 'Happy', 'Happy', 'Sad', 'Neutral', 'Neutral',\n",
       "        'Sad', 'Sad', 'Neutral', 'Neutral', 'Happy', 'Neutral',\n",
       "        'Neutral', 'Sad', 'Neutral', 'Sad', 'Neutral', 'Neutral', 'Sad',\n",
       "        'Sad', 'Sad', 'Sad', 'Happy', 'Neutral', 'Happy', 'Neutral',\n",
       "        'Sad', 'Sad', 'Sad', 'Neutral', 'Neutral', 'Sad', 'Sad', 'Happy',\n",
       "        'Neutral', 'Neutral', 'Happy'],\n",
       "       ['181', '197', '0', '174', '223', '149', '140', '38', '1', '40',\n",
       "        '101', '152', '150', '113', '49', '86', '6', '99', '143', '125',\n",
       "        '129', '6', '9', '10', '72', '150', '141', '156', '57', '72',\n",
       "        '17', '181', '197', '131', '154', '137', '193', '19', '101',\n",
       "        '139', '164', '137', '22', '17', '9', '145', '192', '146', '234',\n",
       "        '167', '16', '17', '32', '35', '220', '116', '23', '44', '131',\n",
       "        '86', '194', '60', '121', '76', '93', '53', '25', '227', '125',\n",
       "        '243', '14', '39', '55', '158', '7', '213', '116', '129', '21',\n",
       "        '28', '16', '180', '138', '176', '99', '5', '1', '10', '47',\n",
       "        '84', '23', '4', '0', '0', '0', '0'],\n",
       "       ['5', '8', '5', '4', '5', '6', '6', '7', '5', '6', '8', '5', '6',\n",
       "        '7', '5', '6', '8', '5', '4', '5', '6', '8', '5', '6', '5', '8',\n",
       "        '5', '4', '5', '4', '5', '4', '3', '2', '9', '5', '6', '4', '5',\n",
       "        '8', '4', '5', '6', '5', '6', '5', '6', '5', '6', '5', '6', '7',\n",
       "        '6', '7', '6', '5', '6', '7', '8', '8', '7', '8', '5', '4', '3',\n",
       "        '3', '4', '5', '5', '5', '3', '4', '4', '5', '5', '5', '5', '5',\n",
       "        '5', '4', '3', '4', '5', '5', '4', '5', '3', '3', '3', '2', '3',\n",
       "        '2', '8', '5', '5', '5'],\n",
       "       ['Inactive', 'Inactive', 'Inactive', 'Inactive', 'Active',\n",
       "        'Inactive', 'Inactive', 'Inactive', 'Inactive', 'Inactive',\n",
       "        'Inactive', 'Inactive', 'Active', 'Inactive', 'Inactive',\n",
       "        'Inactive', 'Inactive', 'Inactive', 'Inactive', 'Inactive',\n",
       "        'Inactive', 'Inactive', 'Inactive', 'Inactive', 'Inactive',\n",
       "        'Active', 'Inactive', 'Inactive', 'Inactive', 'Inactive',\n",
       "        'Active', 'Inactive', 'Inactive', 'Inactive', 'Inactive',\n",
       "        'Inactive', 'Active', 'Active', 'Active', 'Active', 'Active',\n",
       "        'Active', 'Active', 'Active', 'Active', 'Inactive', 'Inactive',\n",
       "        'Inactive', 'Inactive', 'Inactive', 'Inactive', 'Active',\n",
       "        'Active', 'Active', 'Active', 'Active', 'Active', 'Active',\n",
       "        'Active', 'Active', 'Active', 'Active', 'Active', 'Inactive',\n",
       "        'Active', 'Active', 'Inactive', 'Active', 'Active', 'Active',\n",
       "        'Active', 'Active', 'Inactive', 'Active', 'Active', 'Active',\n",
       "        'Active', 'Inactive', 'Inactive', 'Inactive', 'Inactive',\n",
       "        'Active', 'Active', 'Active', 'Active', 'Inactive', 'Inactive',\n",
       "        'Inactive', 'Inactive', 'Inactive', 'Inactive', 'Inactive',\n",
       "        'Inactive', 'Active', 'Inactive', 'Active']], dtype='<U10')"
      ]
     },
     "execution_count": 75,
     "metadata": {},
     "output_type": "execute_result"
    }
   ],
   "source": [
    "fit.T"
   ]
  },
  {
   "cell_type": "code",
   "execution_count": 76,
   "id": "b67b9894-2c9e-4151-8b82-57833af3fb26",
   "metadata": {},
   "outputs": [
    {
     "data": {
      "text/plain": [
       "(6, 96)"
      ]
     },
     "execution_count": 76,
     "metadata": {},
     "output_type": "execute_result"
    }
   ],
   "source": [
    "fit.T.shape"
   ]
  },
  {
   "cell_type": "code",
   "execution_count": 77,
   "id": "c99dcb48-3ec5-4cd3-9b9b-dff0537d4774",
   "metadata": {},
   "outputs": [
    {
     "data": {
      "text/plain": [
       "(array([1]), array([2]), array([3]), array([4]))"
      ]
     },
     "execution_count": 77,
     "metadata": {},
     "output_type": "execute_result"
    }
   ],
   "source": [
    "a,b,c,d = np.array([[1],[2],[3],[4]])\n",
    "a,b,c,d"
   ]
  },
  {
   "cell_type": "code",
   "execution_count": 78,
   "id": "4bdd38f5-7577-4ac6-8a5b-723135336237",
   "metadata": {},
   "outputs": [],
   "source": [
    "date, step_count,mood, calories_burned, hours_sleep, activity_status = fit.T"
   ]
  },
  {
   "cell_type": "code",
   "execution_count": 79,
   "id": "852eb2db-6ce7-4b8e-948b-c5b2195f831f",
   "metadata": {},
   "outputs": [
    {
     "data": {
      "text/plain": [
       "(dtype('<U10'),\n",
       " dtype('<U10'),\n",
       " dtype('<U10'),\n",
       " dtype('<U10'),\n",
       " dtype('<U10'),\n",
       " dtype('<U10'))"
      ]
     },
     "execution_count": 79,
     "metadata": {},
     "output_type": "execute_result"
    }
   ],
   "source": [
    "date.dtype, step_count.dtype,mood.dtype, calories_burned.dtype, hours_sleep.dtype, activity_status.dtype"
   ]
  },
  {
   "cell_type": "code",
   "execution_count": 80,
   "id": "c95e2e41-0931-4554-ad9a-a91173f02f4f",
   "metadata": {},
   "outputs": [],
   "source": [
    "step_count = step_count.astype(\"int64\")\n",
    "hours_sleep = hours_sleep.astype(\"int64\")\n",
    "calories_burned = calories_burned.astype(\"int64\")"
   ]
  },
  {
   "cell_type": "code",
   "execution_count": 81,
   "id": "b14f36ef-1e53-47fc-88ea-163a4229f073",
   "metadata": {},
   "outputs": [
    {
     "data": {
      "text/plain": [
       "(dtype('<U10'),\n",
       " dtype('int64'),\n",
       " dtype('<U10'),\n",
       " dtype('int64'),\n",
       " dtype('int64'),\n",
       " dtype('<U10'))"
      ]
     },
     "execution_count": 81,
     "metadata": {},
     "output_type": "execute_result"
    }
   ],
   "source": [
    "date.dtype, step_count.dtype,mood.dtype, calories_burned.dtype, hours_sleep.dtype, activity_status.dtype"
   ]
  },
  {
   "cell_type": "code",
   "execution_count": 82,
   "id": "b84fb824-fa06-4576-959e-d0fd5ca7024f",
   "metadata": {},
   "outputs": [
    {
     "data": {
      "text/plain": [
       "array(['Happy', 'Neutral', 'Sad'], dtype='<U10')"
      ]
     },
     "execution_count": 82,
     "metadata": {},
     "output_type": "execute_result"
    }
   ],
   "source": [
    "np.unique(mood)"
   ]
  },
  {
   "cell_type": "code",
   "execution_count": 83,
   "id": "60d32411-3dfb-4a45-b2fd-29464b6e6442",
   "metadata": {},
   "outputs": [
    {
     "data": {
      "text/plain": [
       "array([['18-10-2017', '4732', 'Happy', '150', '6', 'Active'],\n",
       "       ['29-10-2017', '330', 'Happy', '10', '6', 'Inactive'],\n",
       "       ['31-10-2017', '4550', 'Happy', '150', '8', 'Active'],\n",
       "       ['01-11-2017', '4435', 'Happy', '141', '5', 'Inactive'],\n",
       "       ['02-11-2017', '4779', 'Happy', '156', '4', 'Inactive'],\n",
       "       ['03-11-2017', '1831', 'Happy', '57', '5', 'Inactive'],\n",
       "       ['04-11-2017', '2255', 'Happy', '72', '4', 'Inactive'],\n",
       "       ['05-11-2017', '539', 'Happy', '17', '5', 'Active'],\n",
       "       ['06-11-2017', '5464', 'Happy', '181', '4', 'Inactive'],\n",
       "       ['08-11-2017', '4068', 'Happy', '131', '2', 'Inactive'],\n",
       "       ['09-11-2017', '4683', 'Happy', '154', '9', 'Inactive'],\n",
       "       ['10-11-2017', '4033', 'Happy', '137', '5', 'Inactive'],\n",
       "       ['11-11-2017', '6314', 'Happy', '193', '6', 'Active'],\n",
       "       ['12-11-2017', '614', 'Happy', '19', '4', 'Active'],\n",
       "       ['13-11-2017', '3149', 'Happy', '101', '5', 'Active'],\n",
       "       ['14-11-2017', '4005', 'Happy', '139', '8', 'Active'],\n",
       "       ['15-11-2017', '4880', 'Happy', '164', '4', 'Active'],\n",
       "       ['16-11-2017', '4136', 'Happy', '137', '5', 'Active'],\n",
       "       ['17-11-2017', '705', 'Happy', '22', '6', 'Active'],\n",
       "       ['19-11-2017', '269', 'Happy', '9', '6', 'Active'],\n",
       "       ['20-11-2017', '4275', 'Happy', '145', '5', 'Inactive'],\n",
       "       ['21-11-2017', '5999', 'Happy', '192', '6', 'Inactive'],\n",
       "       ['22-11-2017', '4421', 'Happy', '146', '5', 'Inactive'],\n",
       "       ['23-11-2017', '6930', 'Happy', '234', '6', 'Inactive'],\n",
       "       ['24-11-2017', '5195', 'Happy', '167', '5', 'Inactive'],\n",
       "       ['25-11-2017', '546', 'Happy', '16', '6', 'Inactive'],\n",
       "       ['26-11-2017', '493', 'Happy', '17', '7', 'Active'],\n",
       "       ['27-11-2017', '995', 'Happy', '32', '6', 'Active'],\n",
       "       ['30-11-2017', '3608', 'Happy', '116', '5', 'Active'],\n",
       "       ['01-12-2017', '774', 'Happy', '23', '6', 'Active'],\n",
       "       ['02-12-2017', '1421', 'Happy', '44', '7', 'Active'],\n",
       "       ['03-12-2017', '4064', 'Happy', '131', '8', 'Active'],\n",
       "       ['04-12-2017', '2725', 'Happy', '86', '8', 'Active'],\n",
       "       ['05-12-2017', '5934', 'Happy', '194', '7', 'Active'],\n",
       "       ['06-12-2017', '1867', 'Happy', '60', '8', 'Active'],\n",
       "       ['14-12-2017', '7422', 'Happy', '243', '5', 'Active'],\n",
       "       ['26-12-2017', '5537', 'Happy', '180', '4', 'Active'],\n",
       "       ['28-12-2017', '5376', 'Happy', '176', '5', 'Active'],\n",
       "       ['06-01-2018', '153', 'Happy', '0', '8', 'Inactive'],\n",
       "       ['09-01-2018', '2203', 'Happy', '0', '5', 'Active']], dtype='<U10')"
      ]
     },
     "execution_count": 83,
     "metadata": {},
     "output_type": "execute_result"
    }
   ],
   "source": [
    "fit[mood == \"Happy\"]"
   ]
  },
  {
   "cell_type": "code",
   "execution_count": 84,
   "id": "7a8b4504-05e6-4754-bd32-12922da4efff",
   "metadata": {},
   "outputs": [
    {
     "data": {
      "text/plain": [
       "array([4732,  330, 4550, 4435, 4779, 1831, 2255,  539, 5464, 4068, 4683,\n",
       "       4033, 6314,  614, 3149, 4005, 4880, 4136,  705,  269, 4275, 5999,\n",
       "       4421, 6930, 5195,  546,  493,  995, 3608,  774, 1421, 4064, 2725,\n",
       "       5934, 1867, 7422, 5537, 5376,  153, 2203])"
      ]
     },
     "execution_count": 84,
     "metadata": {},
     "output_type": "execute_result"
    }
   ],
   "source": [
    "step_count[mood == \"Happy\"]"
   ]
  },
  {
   "cell_type": "code",
   "execution_count": 85,
   "id": "2ed8583a-0861-45fb-b114-2379417b2feb",
   "metadata": {},
   "outputs": [
    {
     "data": {
      "text/plain": [
       "3392.725"
      ]
     },
     "execution_count": 85,
     "metadata": {},
     "output_type": "execute_result"
    }
   ],
   "source": [
    "# Mean of Mood happy\n",
    "np.mean(step_count[mood == \"Happy\"])"
   ]
  },
  {
   "cell_type": "code",
   "execution_count": 86,
   "id": "3944f65f-0371-4376-ae5b-cddfb3fb271a",
   "metadata": {},
   "outputs": [
    {
     "data": {
      "text/plain": [
       "2103.0689655172414"
      ]
     },
     "execution_count": 86,
     "metadata": {},
     "output_type": "execute_result"
    }
   ],
   "source": [
    "np.mean(step_count[mood == \"Sad\"])"
   ]
  },
  {
   "cell_type": "markdown",
   "id": "606fa0e6-7423-4cdf-99b5-d8d07bcc83f2",
   "metadata": {},
   "source": [
    "### **Sorting Array**"
   ]
  },
  {
   "cell_type": "code",
   "execution_count": 87,
   "id": "352bdb32-a071-4219-9bdf-21892cf63f37",
   "metadata": {},
   "outputs": [
    {
     "data": {
      "text/plain": [
       "array([71, 68, 97,  9, 90, 89, 33, 91, 14, 64])"
      ]
     },
     "execution_count": 87,
     "metadata": {},
     "output_type": "execute_result"
    }
   ],
   "source": [
    "a = np.random.randint(1,100,10)\n",
    "a"
   ]
  },
  {
   "cell_type": "code",
   "execution_count": 88,
   "id": "e2428c3c-78e6-4023-aa7a-ddd3f707ecfc",
   "metadata": {},
   "outputs": [
    {
     "data": {
      "text/plain": [
       "(array([ 9, 14, 33, 64, 68, 71, 89, 90, 91, 97]),\n",
       " array([71, 68, 97,  9, 90, 89, 33, 91, 14, 64]))"
      ]
     },
     "execution_count": 88,
     "metadata": {},
     "output_type": "execute_result"
    }
   ],
   "source": [
    "# Temp\n",
    "np.sort(a),a"
   ]
  },
  {
   "cell_type": "code",
   "execution_count": 89,
   "id": "7bd63cd5-1ba5-4558-8435-3d6a21c9b5f5",
   "metadata": {},
   "outputs": [],
   "source": [
    "a.sort()"
   ]
  },
  {
   "cell_type": "code",
   "execution_count": 90,
   "id": "8350f362-6dca-4cba-96e1-04a6159a8344",
   "metadata": {},
   "outputs": [
    {
     "data": {
      "text/plain": [
       "array([ 9, 14, 33, 64, 68, 71, 89, 90, 91, 97])"
      ]
     },
     "execution_count": 90,
     "metadata": {},
     "output_type": "execute_result"
    }
   ],
   "source": [
    "a"
   ]
  },
  {
   "cell_type": "markdown",
   "id": "adb64a44-f30e-4041-ac7c-a5bc92dd3ee2",
   "metadata": {},
   "source": [
    "#### **2D Array**\n",
    "\n",
    "**Why This Makes Sense**\n",
    "\n",
    "    Axis Definition: In NumPy, axis=0 always refers to the first dimension (rows in 2D), and axis=1 refers to the second dimension (columns in 2D). Sorting along an axis sorts the elements in that dimension while grouping by the other dimension.\n",
    "    Consistency: This convention is consistent with other NumPy operations (e.g., sum, mean):\n",
    "        axis=0: Operates along rows, producing results for each column.\n",
    "        axis=1: Operates along columns, producing results for each row.\n",
    "    Higher Dimensions: The logic extends to higher-dimensional arrays. For a 3D array, axis=0 sorts along the first dimension (depth), axis=1 along the second (rows), and axis=2 along the third (columns)."
   ]
  },
  {
   "cell_type": "markdown",
   "id": "f1eb4425-00d9-45f1-b770-49499d0bc82b",
   "metadata": {},
   "source": [
    "**For a 2D array:**\n",
    "\n",
    "    axis=0 (column-wise): Sorts each column independently, moving values along rows.\n",
    "    axis=1 (row-wise): Sorts each row independently, moving values along columns."
   ]
  },
  {
   "cell_type": "code",
   "execution_count": 91,
   "id": "4082aee0-cb7d-410a-9348-95c83413f23b",
   "metadata": {},
   "outputs": [
    {
     "data": {
      "text/plain": [
       "array([[76, 97, 46, 93],\n",
       "       [67, 10, 68, 40],\n",
       "       [34, 89, 74, 74],\n",
       "       [16, 49, 44, 76]])"
      ]
     },
     "execution_count": 91,
     "metadata": {},
     "output_type": "execute_result"
    }
   ],
   "source": [
    "a = np.random.randint(1,100,16)\n",
    "b = a.reshape(4,4)\n",
    "b"
   ]
  },
  {
   "cell_type": "code",
   "execution_count": 92,
   "id": "8097020c-648e-4683-9dc8-ae1a1895ce22",
   "metadata": {},
   "outputs": [
    {
     "data": {
      "text/plain": [
       "array([[46, 76, 93, 97],\n",
       "       [10, 40, 67, 68],\n",
       "       [34, 74, 74, 89],\n",
       "       [16, 44, 49, 76]])"
      ]
     },
     "execution_count": 92,
     "metadata": {},
     "output_type": "execute_result"
    }
   ],
   "source": [
    "np.sort(b)"
   ]
  },
  {
   "cell_type": "code",
   "execution_count": 93,
   "id": "c06b3e5e-0023-44c9-ad40-d7f49c8c3aaa",
   "metadata": {},
   "outputs": [
    {
     "data": {
      "text/plain": [
       "array([[16, 10, 44, 40],\n",
       "       [34, 49, 46, 74],\n",
       "       [67, 89, 68, 76],\n",
       "       [76, 97, 74, 93]])"
      ]
     },
     "execution_count": 93,
     "metadata": {},
     "output_type": "execute_result"
    }
   ],
   "source": [
    "np.sort(b, axis = 0)"
   ]
  },
  {
   "cell_type": "code",
   "execution_count": 94,
   "id": "03339c14-bf59-4991-bc97-53937da592c5",
   "metadata": {},
   "outputs": [
    {
     "data": {
      "text/plain": [
       "array([[46, 76, 93, 97],\n",
       "       [10, 40, 67, 68],\n",
       "       [34, 74, 74, 89],\n",
       "       [16, 44, 49, 76]])"
      ]
     },
     "execution_count": 94,
     "metadata": {},
     "output_type": "execute_result"
    }
   ],
   "source": [
    "np.sort(b, axis = 1)"
   ]
  },
  {
   "cell_type": "markdown",
   "id": "c458df3e-50c7-4a27-bde1-bb3a02638591",
   "metadata": {},
   "source": [
    "#### **3D Arrays**"
   ]
  },
  {
   "cell_type": "code",
   "execution_count": 95,
   "id": "e6aa8750-292f-4066-9281-93ba2e7b13e8",
   "metadata": {},
   "outputs": [
    {
     "data": {
      "text/plain": [
       "array([[[ 24, 962, 983, 355, 933],\n",
       "        [ 17, 874, 674,  45, 371],\n",
       "        [977,  13, 666, 262, 534],\n",
       "        [714,  81, 858, 164, 925],\n",
       "        [494, 315,  73, 614, 356]],\n",
       "\n",
       "       [[586, 411, 784, 503, 835],\n",
       "        [901,  37, 319,  94, 516],\n",
       "        [501, 156, 706, 772, 633],\n",
       "        [769, 820, 144, 871, 340],\n",
       "        [536, 254,  39, 486, 554]],\n",
       "\n",
       "       [[638, 647, 663, 864, 321],\n",
       "        [150, 691, 752, 312, 796],\n",
       "        [611, 708, 453,  27, 778],\n",
       "        [776, 539, 459, 490, 341],\n",
       "        [ 80, 900, 880, 233, 195]]])"
      ]
     },
     "execution_count": 95,
     "metadata": {},
     "output_type": "execute_result"
    }
   ],
   "source": [
    "a = np.random.randint(1, 1000,(3,5,5))\n",
    "a"
   ]
  },
  {
   "cell_type": "code",
   "execution_count": 96,
   "id": "79f0e299-ef18-4581-b159-ed006a61ef46",
   "metadata": {},
   "outputs": [
    {
     "data": {
      "text/plain": [
       "array([[[ 24, 411, 663, 355, 321],\n",
       "        [ 17,  37, 319,  45, 371],\n",
       "        [501,  13, 453,  27, 534],\n",
       "        [714,  81, 144, 164, 340],\n",
       "        [ 80, 254,  39, 233, 195]],\n",
       "\n",
       "       [[586, 647, 784, 503, 835],\n",
       "        [150, 691, 674,  94, 516],\n",
       "        [611, 156, 666, 262, 633],\n",
       "        [769, 539, 459, 490, 341],\n",
       "        [494, 315,  73, 486, 356]],\n",
       "\n",
       "       [[638, 962, 983, 864, 933],\n",
       "        [901, 874, 752, 312, 796],\n",
       "        [977, 708, 706, 772, 778],\n",
       "        [776, 820, 858, 871, 925],\n",
       "        [536, 900, 880, 614, 554]]])"
      ]
     },
     "execution_count": 96,
     "metadata": {},
     "output_type": "execute_result"
    }
   ],
   "source": [
    "np.sort(a, axis = 0)"
   ]
  },
  {
   "cell_type": "code",
   "execution_count": 97,
   "id": "de40be58-cda4-480a-bb8c-40480ca710c1",
   "metadata": {},
   "outputs": [
    {
     "data": {
      "text/plain": [
       "array([[[ 17,  13,  73,  45, 356],\n",
       "        [ 24,  81, 666, 164, 371],\n",
       "        [494, 315, 674, 262, 534],\n",
       "        [714, 874, 858, 355, 925],\n",
       "        [977, 962, 983, 614, 933]],\n",
       "\n",
       "       [[501,  37,  39,  94, 340],\n",
       "        [536, 156, 144, 486, 516],\n",
       "        [586, 254, 319, 503, 554],\n",
       "        [769, 411, 706, 772, 633],\n",
       "        [901, 820, 784, 871, 835]],\n",
       "\n",
       "       [[ 80, 539, 453,  27, 195],\n",
       "        [150, 647, 459, 233, 321],\n",
       "        [611, 691, 663, 312, 341],\n",
       "        [638, 708, 752, 490, 778],\n",
       "        [776, 900, 880, 864, 796]]])"
      ]
     },
     "execution_count": 97,
     "metadata": {},
     "output_type": "execute_result"
    }
   ],
   "source": [
    "np.sort(a, axis = 1)"
   ]
  },
  {
   "cell_type": "code",
   "execution_count": 98,
   "id": "354ff468-d5ea-42d7-b67d-d0feedc0a2f4",
   "metadata": {},
   "outputs": [
    {
     "data": {
      "text/plain": [
       "array([[[ 24, 355, 933, 962, 983],\n",
       "        [ 17,  45, 371, 674, 874],\n",
       "        [ 13, 262, 534, 666, 977],\n",
       "        [ 81, 164, 714, 858, 925],\n",
       "        [ 73, 315, 356, 494, 614]],\n",
       "\n",
       "       [[411, 503, 586, 784, 835],\n",
       "        [ 37,  94, 319, 516, 901],\n",
       "        [156, 501, 633, 706, 772],\n",
       "        [144, 340, 769, 820, 871],\n",
       "        [ 39, 254, 486, 536, 554]],\n",
       "\n",
       "       [[321, 638, 647, 663, 864],\n",
       "        [150, 312, 691, 752, 796],\n",
       "        [ 27, 453, 611, 708, 778],\n",
       "        [341, 459, 490, 539, 776],\n",
       "        [ 80, 195, 233, 880, 900]]])"
      ]
     },
     "execution_count": 98,
     "metadata": {},
     "output_type": "execute_result"
    }
   ],
   "source": [
    "np.sort(a, axis = 2)"
   ]
  },
  {
   "cell_type": "markdown",
   "id": "69a5d55d-5474-48bc-b623-5a721518a2c7",
   "metadata": {},
   "source": [
    "### **Matrix Multiplication**"
   ]
  },
  {
   "cell_type": "code",
   "execution_count": 99,
   "id": "32339b57-dfd7-4d5a-818e-9abff64e0807",
   "metadata": {},
   "outputs": [
    {
     "data": {
      "text/plain": [
       "(array([11, 40, 28, 45,  3, 32, 44,  5,  1, 21]),\n",
       " array([34, 23,  4, 10, 39, 12, 18,  5, 12, 45]))"
      ]
     },
     "execution_count": 99,
     "metadata": {},
     "output_type": "execute_result"
    }
   ],
   "source": [
    "a = np.random.randint(1,50, 10)\n",
    "b = np.random.randint(1,50, 10)\n",
    "a, b"
   ]
  },
  {
   "cell_type": "code",
   "execution_count": 100,
   "id": "dcbbdb2d-c602-4e2b-88d9-de5847c16523",
   "metadata": {},
   "outputs": [
    {
     "data": {
      "text/plain": [
       "(array([ 55, 200, 140, 225,  15, 160, 220,  25,   5, 105]),\n",
       " array([204, 138,  24,  60, 234,  72, 108,  30,  72, 270]))"
      ]
     },
     "execution_count": 100,
     "metadata": {},
     "output_type": "execute_result"
    }
   ],
   "source": [
    "a*5,b *6"
   ]
  },
  {
   "cell_type": "code",
   "execution_count": 101,
   "id": "bc37ba66-30c9-43bb-aa96-93063114ee07",
   "metadata": {},
   "outputs": [
    {
     "data": {
      "text/plain": [
       "array([374, 920, 112, 450, 117, 384, 792,  25,  12, 945])"
      ]
     },
     "execution_count": 101,
     "metadata": {},
     "output_type": "execute_result"
    }
   ],
   "source": [
    "a*b"
   ]
  },
  {
   "cell_type": "code",
   "execution_count": 102,
   "id": "bbc71409-4270-4f53-b61c-b500e9fb0267",
   "metadata": {},
   "outputs": [
    {
     "name": "stdout",
     "output_type": "stream",
     "text": [
      "Cannot broadcast\n"
     ]
    }
   ],
   "source": [
    "c = np.arange(1,12)\n",
    "try:\n",
    "    a*c\n",
    "except ValueError:\n",
    "    print(\"Cannot broadcast\")"
   ]
  },
  {
   "cell_type": "code",
   "execution_count": 103,
   "id": "8ef68119-3dc1-48e3-81b9-416214b0bf1b",
   "metadata": {},
   "outputs": [
    {
     "data": {
      "text/plain": [
       "array([[2102],\n",
       "       [2309]])"
      ]
     },
     "execution_count": 103,
     "metadata": {},
     "output_type": "execute_result"
    }
   ],
   "source": [
    "a = np.random.randint(1, 20, (2,3))\n",
    "b = np.random.randint(1,200,(3,1))\n",
    "a @b"
   ]
  },
  {
   "cell_type": "code",
   "execution_count": 104,
   "id": "f0815f24-3b76-4df8-b447-8b71c540cdb2",
   "metadata": {},
   "outputs": [
    {
     "data": {
      "text/plain": [
       "array([[2102],\n",
       "       [2309]])"
      ]
     },
     "execution_count": 104,
     "metadata": {},
     "output_type": "execute_result"
    }
   ],
   "source": [
    "np.matmul(a, b)"
   ]
  },
  {
   "cell_type": "code",
   "execution_count": 105,
   "id": "7e51b945-ec0f-45ae-91ca-d943748abc3d",
   "metadata": {},
   "outputs": [
    {
     "data": {
      "text/plain": [
       "array([[2102],\n",
       "       [2309]])"
      ]
     },
     "execution_count": 105,
     "metadata": {},
     "output_type": "execute_result"
    }
   ],
   "source": [
    "np.dot(a,b)"
   ]
  },
  {
   "cell_type": "markdown",
   "id": "d27d77bc-2f3f-4bc0-b07d-6b3835b35b44",
   "metadata": {},
   "source": [
    "#### **Differnce**\n",
    "differnce between matmul, @ and dot"
   ]
  },
  {
   "cell_type": "code",
   "execution_count": 106,
   "id": "a263a39a-3f5c-4a4f-a0d0-d2a6c5e26582",
   "metadata": {},
   "outputs": [
    {
     "data": {
      "text/plain": [
       "array([[10, 60, 75],\n",
       "       [45, 55, 85]])"
      ]
     },
     "execution_count": 106,
     "metadata": {},
     "output_type": "execute_result"
    }
   ],
   "source": [
    "np.dot(a,5)"
   ]
  },
  {
   "cell_type": "code",
   "execution_count": 107,
   "id": "62b5db74-b8d9-4916-b409-a0b342c8bca1",
   "metadata": {},
   "outputs": [
    {
     "name": "stdout",
     "output_type": "stream",
     "text": [
      "matmul: Input operand 1 does not have enough dimensions (has 0, gufunc core with signature (n?,k),(k,m?)->(n?,m?) requires 1)\n"
     ]
    }
   ],
   "source": [
    "try:\n",
    "    np.matmul(a,5)\n",
    "except ValueError:\n",
    "    print(\"matmul: Input operand 1 does not have enough dimensions (has 0, gufunc core with signature (n?,k),(k,m?)->(n?,m?) requires 1)\")"
   ]
  },
  {
   "cell_type": "code",
   "execution_count": 108,
   "id": "3ef9a3c9-6146-403a-843a-0d6964927713",
   "metadata": {},
   "outputs": [
    {
     "name": "stdout",
     "output_type": "stream",
     "text": [
      "matmul: Input operand 1 does not have enough dimensions (has 0, gufunc core with signature (n?,k),(k,m?)->(n?,m?) requires 1)\n"
     ]
    }
   ],
   "source": [
    "try:\n",
    "    a @ 5\n",
    "except ValueError:\n",
    "    print(\"matmul: Input operand 1 does not have enough dimensions (has 0, gufunc core with signature (n?,k),(k,m?)->(n?,m?) requires 1)\")"
   ]
  },
  {
   "cell_type": "markdown",
   "id": "5f2313b5-2601-49d7-8025-a1f37662bab5",
   "metadata": {},
   "source": [
    "### **Vectorization**"
   ]
  },
  {
   "cell_type": "code",
   "execution_count": 109,
   "id": "e214bb1f-4a5f-4173-a531-7d2280d1f629",
   "metadata": {},
   "outputs": [
    {
     "data": {
      "text/plain": [
       "array([ 2,  3,  4,  5,  6,  7,  8,  9, 10, 11])"
      ]
     },
     "execution_count": 109,
     "metadata": {},
     "output_type": "execute_result"
    }
   ],
   "source": [
    "a = np.arange(10)\n",
    "a + 2"
   ]
  },
  {
   "cell_type": "code",
   "execution_count": 110,
   "id": "6f396d35-99f6-4ec3-8158-59b29ae4ded5",
   "metadata": {},
   "outputs": [
    {
     "data": {
      "text/plain": [
       "array([ 0,  2,  4,  6,  8, 10, 12, 14, 16, 18])"
      ]
     },
     "execution_count": 110,
     "metadata": {},
     "output_type": "execute_result"
    }
   ],
   "source": [
    "a * 2"
   ]
  },
  {
   "cell_type": "code",
   "execution_count": 111,
   "id": "7a160a40-a0a5-443d-8ca7-d24eb4066e04",
   "metadata": {},
   "outputs": [],
   "source": [
    "def even_odd(num):\n",
    "    if num % 2 == 0:\n",
    "        return \"even\"\n",
    "    return \"odd\""
   ]
  },
  {
   "cell_type": "code",
   "execution_count": 112,
   "id": "c5e66525-f57c-4690-b384-37d4acf12b83",
   "metadata": {},
   "outputs": [
    {
     "name": "stdout",
     "output_type": "stream",
     "text": [
      "ValueError: The truth value of an array with more than one element is ambiguous. Use a.any() or a.all()\n"
     ]
    }
   ],
   "source": [
    "try:\n",
    "    even_odd(a)\n",
    "except ValueError:\n",
    "    print(\"ValueError: The truth value of an array with more than one element is ambiguous. Use a.any() or a.all()\")"
   ]
  },
  {
   "cell_type": "code",
   "execution_count": 113,
   "id": "dc60542d-b5bd-4aa7-a101-438bfc0bbeab",
   "metadata": {},
   "outputs": [
    {
     "data": {
      "text/plain": [
       "array(['even', 'odd', 'even', 'odd', 'even', 'odd', 'even', 'odd', 'even',\n",
       "       'odd'], dtype='<U4')"
      ]
     },
     "execution_count": 113,
     "metadata": {},
     "output_type": "execute_result"
    }
   ],
   "source": [
    "vec_even_odd = np.vectorize(even_odd)\n",
    "vec_even_odd(a)"
   ]
  },
  {
   "cell_type": "markdown",
   "id": "104d95f3-5660-4878-bed1-3b1a95299dbc",
   "metadata": {},
   "source": [
    "### **Broadcasting**"
   ]
  },
  {
   "cell_type": "markdown",
   "id": "ee25e9d0-b1a1-420d-8f09-2966fbbc97d5",
   "metadata": {},
   "source": [
    "**Shape Compatibility**:\n",
    "\n",
    "    Arrays must have compatible shapes for broadcasting. Two shapes are compatible if:\n",
    "        They are equal, or\n",
    "        One of them is 1 in a given dimension, allowing that dimension to be \"stretched\" to match the other array's size.\n",
    "\n",
    "**Steps for Broadcasting**:\n",
    "\n",
    "    Align Dimensions: If arrays have different numbers of dimensions, prepend dimensions of size 1 to the shape of the array with fewer dimensions until both have the same number of dimensions.\n",
    "    Compare Shapes: Starting from the rightmost dimension (trailing dimensions), compare the sizes:\n",
    "        Dimensions are compatible if they are equal or one of them is 1.\n",
    "        If a dimension size is 1, it is stretched to match the other array’s size in that dimension.\n",
    "    Incompatible Shapes: If dimensions are neither equal nor 1, broadcasting fails, raising a ValueError."
   ]
  },
  {
   "cell_type": "code",
   "execution_count": 114,
   "id": "13f7365e-4a12-4e18-acf8-eb07dc1b41ca",
   "metadata": {},
   "outputs": [
    {
     "data": {
      "text/plain": [
       "array([[ 0,  1,  2,  3],\n",
       "       [ 4,  5,  6,  7],\n",
       "       [ 8,  9, 10, 11],\n",
       "       [12, 13, 14, 15]])"
      ]
     },
     "execution_count": 114,
     "metadata": {},
     "output_type": "execute_result"
    }
   ],
   "source": [
    "a = np.arange(16).reshape(4,4)\n",
    "a"
   ]
  },
  {
   "cell_type": "code",
   "execution_count": 115,
   "id": "1f64b609-3c7f-4014-97d8-1b7723c6496f",
   "metadata": {},
   "outputs": [
    {
     "data": {
      "text/plain": [
       "array([[ 2,  3,  4,  5],\n",
       "       [ 6,  7,  8,  9],\n",
       "       [10, 11, 12, 13],\n",
       "       [14, 15, 16, 17]])"
      ]
     },
     "execution_count": 115,
     "metadata": {},
     "output_type": "execute_result"
    }
   ],
   "source": [
    "a + 2"
   ]
  },
  {
   "cell_type": "code",
   "execution_count": 116,
   "id": "93ea1f0a-3a5f-48a9-a16a-00cde53536b8",
   "metadata": {},
   "outputs": [
    {
     "data": {
      "text/plain": [
       "array([0, 1, 2, 3])"
      ]
     },
     "execution_count": 116,
     "metadata": {},
     "output_type": "execute_result"
    }
   ],
   "source": [
    "b = np.arange(4)\n",
    "b"
   ]
  },
  {
   "cell_type": "code",
   "execution_count": 117,
   "id": "0a854cbb-755c-40b1-b6ff-7677bb08f264",
   "metadata": {},
   "outputs": [
    {
     "data": {
      "text/plain": [
       "array([[ 0,  2,  4,  6],\n",
       "       [ 4,  6,  8, 10],\n",
       "       [ 8, 10, 12, 14],\n",
       "       [12, 14, 16, 18]])"
      ]
     },
     "execution_count": 117,
     "metadata": {},
     "output_type": "execute_result"
    }
   ],
   "source": [
    "a + b"
   ]
  },
  {
   "cell_type": "code",
   "execution_count": 118,
   "id": "6c70c06f-dba7-4e65-84c5-7a549823c80b",
   "metadata": {},
   "outputs": [
    {
     "data": {
      "text/plain": [
       "array([[0, 1, 2, 3],\n",
       "       [4, 5, 6, 7]])"
      ]
     },
     "execution_count": 118,
     "metadata": {},
     "output_type": "execute_result"
    }
   ],
   "source": [
    "c = np.arange(8).reshape(2,4)\n",
    "c"
   ]
  },
  {
   "cell_type": "code",
   "execution_count": 119,
   "id": "7a131a5d-6db0-4249-8dd5-ca1241cab58d",
   "metadata": {},
   "outputs": [
    {
     "name": "stdout",
     "output_type": "stream",
     "text": [
      "ValueError: operands could not be broadcast together with shapes (4,4) (2,4) \n"
     ]
    }
   ],
   "source": [
    "try:\n",
    "    a+c\n",
    "except ValueError:\n",
    "    print(\"ValueError: operands could not be broadcast together with shapes (4,4) (2,4) \")"
   ]
  },
  {
   "cell_type": "code",
   "execution_count": 120,
   "id": "2782d6e5-a61f-4c1d-983a-97eeca69b2fe",
   "metadata": {},
   "outputs": [
    {
     "data": {
      "text/plain": [
       "array([[ 9],\n",
       "       [13],\n",
       "       [17],\n",
       "       [10]])"
      ]
     },
     "execution_count": 120,
     "metadata": {},
     "output_type": "execute_result"
    }
   ],
   "source": [
    "d = np.random.randint(1,20,(4,1))\n",
    "d"
   ]
  },
  {
   "cell_type": "code",
   "execution_count": 121,
   "id": "3559bfbc-cf11-407a-a448-61363b71cc13",
   "metadata": {},
   "outputs": [
    {
     "data": {
      "text/plain": [
       "array([[ 9, 10, 11, 12],\n",
       "       [17, 18, 19, 20],\n",
       "       [25, 26, 27, 28],\n",
       "       [22, 23, 24, 25]])"
      ]
     },
     "execution_count": 121,
     "metadata": {},
     "output_type": "execute_result"
    }
   ],
   "source": [
    "a + d"
   ]
  },
  {
   "cell_type": "markdown",
   "id": "7dc84d20-5ba9-49c9-ab7c-7cef1360dd53",
   "metadata": {},
   "source": [
    "### **Shallow copy and Deep copy**"
   ]
  },
  {
   "cell_type": "markdown",
   "id": "b2c4a9a6-5768-4603-929a-eeef974cd051",
   "metadata": {},
   "source": [
    "#### **Shallow copy**"
   ]
  },
  {
   "cell_type": "code",
   "execution_count": 122,
   "id": "b6750a9b-a4ac-4e93-a209-4a4fc074438e",
   "metadata": {},
   "outputs": [
    {
     "data": {
      "text/plain": [
       "(array([0, 1, 2, 3]),\n",
       " array([[0, 1],\n",
       "        [2, 3]]))"
      ]
     },
     "execution_count": 122,
     "metadata": {},
     "output_type": "execute_result"
    }
   ],
   "source": [
    "a = np.arange(4)\n",
    "b = a.reshape(2,2)\n",
    "a,b"
   ]
  },
  {
   "cell_type": "code",
   "execution_count": 123,
   "id": "74319b79-f284-40cb-b1e9-995803811014",
   "metadata": {},
   "outputs": [
    {
     "data": {
      "text/plain": [
       "array([[  0,   1],\n",
       "       [  2, 300]])"
      ]
     },
     "execution_count": 123,
     "metadata": {},
     "output_type": "execute_result"
    }
   ],
   "source": [
    "b[1,1] = 300\n",
    "b"
   ]
  },
  {
   "cell_type": "code",
   "execution_count": 124,
   "id": "5eb4671a-065c-44f0-9bb8-236204d60d48",
   "metadata": {},
   "outputs": [
    {
     "data": {
      "text/plain": [
       "array([  0,   1,   2, 300])"
      ]
     },
     "execution_count": 124,
     "metadata": {},
     "output_type": "execute_result"
    }
   ],
   "source": [
    "a"
   ]
  },
  {
   "cell_type": "markdown",
   "id": "62501cef-929d-46d0-83a5-4428c2eb5fab",
   "metadata": {},
   "source": [
    "Both a and b are updated"
   ]
  },
  {
   "cell_type": "code",
   "execution_count": 125,
   "id": "188e3d5f-6a00-49e1-ad21-60d8af84647e",
   "metadata": {},
   "outputs": [
    {
     "data": {
      "text/plain": [
       "array([0, 2])"
      ]
     },
     "execution_count": 125,
     "metadata": {},
     "output_type": "execute_result"
    }
   ],
   "source": [
    "c = a[::2]\n",
    "c"
   ]
  },
  {
   "cell_type": "code",
   "execution_count": 126,
   "id": "c6f08292-fe63-413f-bf59-cb04f99b6ae8",
   "metadata": {},
   "outputs": [
    {
     "data": {
      "text/plain": [
       "array([  0, 200])"
      ]
     },
     "execution_count": 126,
     "metadata": {},
     "output_type": "execute_result"
    }
   ],
   "source": [
    "c[1] = 200\n",
    "c"
   ]
  },
  {
   "cell_type": "code",
   "execution_count": 127,
   "id": "0615df0e-c9f6-40d3-bcb5-4728ad0f7ca6",
   "metadata": {},
   "outputs": [
    {
     "data": {
      "text/plain": [
       "array([  0,   1, 200, 300])"
      ]
     },
     "execution_count": 127,
     "metadata": {},
     "output_type": "execute_result"
    }
   ],
   "source": [
    "a"
   ]
  },
  {
   "cell_type": "markdown",
   "id": "0c297228-8ad4-4be2-9bf7-509c576b74fc",
   "metadata": {},
   "source": [
    "Both a and c are updated"
   ]
  },
  {
   "cell_type": "code",
   "execution_count": 128,
   "id": "14e3e37d-27d2-4b6d-9c37-34e8de3e1614",
   "metadata": {},
   "outputs": [
    {
     "data": {
      "text/plain": [
       "array([  0,   1, 200, 300])"
      ]
     },
     "execution_count": 128,
     "metadata": {},
     "output_type": "execute_result"
    }
   ],
   "source": [
    "d = a.view()\n",
    "d"
   ]
  },
  {
   "cell_type": "code",
   "execution_count": 129,
   "id": "bf843a03-0ebe-49ad-9fa1-55e0d397cdbb",
   "metadata": {},
   "outputs": [
    {
     "data": {
      "text/plain": [
       "array([  0, 100, 200, 300])"
      ]
     },
     "execution_count": 129,
     "metadata": {},
     "output_type": "execute_result"
    }
   ],
   "source": [
    "d[1] = 100\n",
    "d"
   ]
  },
  {
   "cell_type": "code",
   "execution_count": 130,
   "id": "160f7f32-6b62-461d-b793-1519dffc65ee",
   "metadata": {},
   "outputs": [
    {
     "data": {
      "text/plain": [
       "array([  0, 100, 200, 300])"
      ]
     },
     "execution_count": 130,
     "metadata": {},
     "output_type": "execute_result"
    }
   ],
   "source": [
    "a"
   ]
  },
  {
   "cell_type": "markdown",
   "id": "c23057b0-bf78-4681-a342-dd135b066a6d",
   "metadata": {},
   "source": [
    "Both a and d are updated"
   ]
  },
  {
   "cell_type": "markdown",
   "id": "802fa864-171c-4536-a5f5-ce98bc780b6d",
   "metadata": {},
   "source": [
    "#### **Deep Copy**\n",
    "\n",
    "Deep copy is created when there is change in elements\n",
    "\n",
    "Arithmetic operations, Masking, copy"
   ]
  },
  {
   "cell_type": "code",
   "execution_count": 131,
   "id": "0c0df15c-7c19-461d-9fcc-9a772486eaa2",
   "metadata": {},
   "outputs": [
    {
     "data": {
      "text/plain": [
       "array([ 0,  1,  2,  3,  4,  5,  6,  7,  8,  9, 10, 11, 12, 13, 14, 15])"
      ]
     },
     "execution_count": 131,
     "metadata": {},
     "output_type": "execute_result"
    }
   ],
   "source": [
    "a = np.arange(16)\n",
    "a"
   ]
  },
  {
   "cell_type": "code",
   "execution_count": 132,
   "id": "3b1f280b-90b7-40e5-9098-164af257a899",
   "metadata": {},
   "outputs": [
    {
     "data": {
      "text/plain": [
       "array([ 1,  2,  3,  4,  5,  6,  7,  8,  9, 10, 11, 12, 13, 14, 15, 16])"
      ]
     },
     "execution_count": 132,
     "metadata": {},
     "output_type": "execute_result"
    }
   ],
   "source": [
    "b = a+ 1\n",
    "b"
   ]
  },
  {
   "cell_type": "code",
   "execution_count": 133,
   "id": "f2b3da72-4189-4015-844b-f66d9410b517",
   "metadata": {},
   "outputs": [
    {
     "data": {
      "text/plain": [
       "array([  1,   2,   3,   4,   5,   6,   7,   8,   9,  10,  11,  12,  13,\n",
       "        14,  15, 160])"
      ]
     },
     "execution_count": 133,
     "metadata": {},
     "output_type": "execute_result"
    }
   ],
   "source": [
    "b[15] = 160\n",
    "b"
   ]
  },
  {
   "cell_type": "code",
   "execution_count": 134,
   "id": "27265b46-6fe5-4b4d-bf13-70829ccc5b5d",
   "metadata": {},
   "outputs": [
    {
     "data": {
      "text/plain": [
       "array([ 0,  1,  2,  3,  4,  5,  6,  7,  8,  9, 10, 11, 12, 13, 14, 15])"
      ]
     },
     "execution_count": 134,
     "metadata": {},
     "output_type": "execute_result"
    }
   ],
   "source": [
    "a"
   ]
  },
  {
   "cell_type": "markdown",
   "id": "ac2cec27-6b94-442a-9cf2-af4e2abecb98",
   "metadata": {},
   "source": [
    "Both a and b are different"
   ]
  },
  {
   "cell_type": "code",
   "execution_count": 135,
   "id": "ea17903e-40bd-40c7-b564-5ab003d8b96e",
   "metadata": {},
   "outputs": [
    {
     "data": {
      "text/plain": [
       "array([  0,   2,   4,   6,   8,  10,  12,  14,  16,  18,  20,  22,  24,\n",
       "        26,  28, 300])"
      ]
     },
     "execution_count": 135,
     "metadata": {},
     "output_type": "execute_result"
    }
   ],
   "source": [
    "c = a * 2\n",
    "c[15] = 300\n",
    "c"
   ]
  },
  {
   "cell_type": "code",
   "execution_count": 136,
   "id": "b6d6524a-ab31-4764-8e9b-bd49994f370c",
   "metadata": {},
   "outputs": [
    {
     "data": {
      "text/plain": [
       "array([ 0,  1,  2,  3,  4,  5,  6,  7,  8,  9, 10, 11, 12, 13, 14, 15])"
      ]
     },
     "execution_count": 136,
     "metadata": {},
     "output_type": "execute_result"
    }
   ],
   "source": [
    "a"
   ]
  },
  {
   "cell_type": "markdown",
   "id": "e8557dea-8b65-468f-ad7b-5eca713f46be",
   "metadata": {},
   "source": [
    "Both are different"
   ]
  },
  {
   "cell_type": "code",
   "execution_count": 137,
   "id": "3ff34f3c-1715-4db4-ac4d-6f8bbf3de0fd",
   "metadata": {},
   "outputs": [
    {
     "data": {
      "text/plain": [
       "array([ 0,  2,  4,  6,  8, 10, 12, 14])"
      ]
     },
     "execution_count": 137,
     "metadata": {},
     "output_type": "execute_result"
    }
   ],
   "source": [
    "d = a[a %2 == 0]\n",
    "d"
   ]
  },
  {
   "cell_type": "code",
   "execution_count": 138,
   "id": "afe8d998-ded1-4ae4-bb7a-2826b575e360",
   "metadata": {},
   "outputs": [
    {
     "data": {
      "text/plain": [
       "array([  0,   2,   4,   6,   8,  10,  12, 140])"
      ]
     },
     "execution_count": 138,
     "metadata": {},
     "output_type": "execute_result"
    }
   ],
   "source": [
    "d[7] = 140\n",
    "d"
   ]
  },
  {
   "cell_type": "code",
   "execution_count": 139,
   "id": "0f7a270f-8114-4113-a098-58b37f679327",
   "metadata": {},
   "outputs": [
    {
     "data": {
      "text/plain": [
       "array([ 0,  1,  2,  3,  4,  5,  6,  7,  8,  9, 10, 11, 12, 13, 14, 15])"
      ]
     },
     "execution_count": 139,
     "metadata": {},
     "output_type": "execute_result"
    }
   ],
   "source": [
    "a"
   ]
  },
  {
   "cell_type": "markdown",
   "id": "038c5cc0-5563-4fa4-8d2e-16a6c6ca2aba",
   "metadata": {},
   "source": [
    "Both a and d are different"
   ]
  },
  {
   "cell_type": "code",
   "execution_count": 140,
   "id": "ad792837-09cb-44cd-a600-09ddc1f226bf",
   "metadata": {},
   "outputs": [
    {
     "data": {
      "text/plain": [
       "(array([ 0,  1,  2,  3,  4,  5,  6,  7,  8,  9, 10, 11, 12, 13, 14, 15]),\n",
       " array([  0,   1,   2,   3,   4,   5,   6,   7,   8,   9,  10,  11,  12,\n",
       "         13,  14, 150]))"
      ]
     },
     "execution_count": 140,
     "metadata": {},
     "output_type": "execute_result"
    }
   ],
   "source": [
    "e = a.copy()\n",
    "e[15]= 150\n",
    "a, e"
   ]
  },
  {
   "cell_type": "markdown",
   "id": "e5f1dbf4-22c4-4f60-8acd-633e367bb645",
   "metadata": {},
   "source": [
    "Both a and e are different"
   ]
  },
  {
   "cell_type": "markdown",
   "id": "c6650f98-2afd-44b1-8d79-cc9869e4d544",
   "metadata": {},
   "source": [
    "#### **Shares Memory**"
   ]
  },
  {
   "cell_type": "code",
   "execution_count": 141,
   "id": "b71bf176-0860-4861-9197-f51c4c0cd7ee",
   "metadata": {},
   "outputs": [
    {
     "data": {
      "text/plain": [
       "False"
      ]
     },
     "execution_count": 141,
     "metadata": {},
     "output_type": "execute_result"
    }
   ],
   "source": [
    "np.shares_memory(a,b)"
   ]
  },
  {
   "cell_type": "code",
   "execution_count": 142,
   "id": "9e0b8522-150f-4da6-9f35-7c924fbe36e1",
   "metadata": {},
   "outputs": [
    {
     "data": {
      "text/plain": [
       "True"
      ]
     },
     "execution_count": 142,
     "metadata": {},
     "output_type": "execute_result"
    }
   ],
   "source": [
    "arr1 = np.arange(4)\n",
    "arr2 = arr1[::2]\n",
    "np.shares_memory(arr1,arr2)"
   ]
  },
  {
   "cell_type": "markdown",
   "id": "7b901036-b52e-4ca4-96f6-0ed9d643d00a",
   "metadata": {},
   "source": [
    "#### **Object Array**"
   ]
  },
  {
   "cell_type": "code",
   "execution_count": 143,
   "id": "1b060a3e-9320-42ab-b160-361df1102c8f",
   "metadata": {},
   "outputs": [
    {
     "data": {
      "text/plain": [
       "dtype('<U32')"
      ]
     },
     "execution_count": 143,
     "metadata": {},
     "output_type": "execute_result"
    }
   ],
   "source": [
    "arr1 = np.array([1,\"Chaitanya\",9.8])\n",
    "arr1.dtype"
   ]
  },
  {
   "cell_type": "code",
   "execution_count": 144,
   "id": "b4d627e9-2b21-40cb-811e-e58c2306f3d3",
   "metadata": {},
   "outputs": [
    {
     "data": {
      "text/plain": [
       "(array(['1', 'Chaitanya', '9.8'], dtype='<U32'),\n",
       " array(['1', 'Sagar', '9.8'], dtype='<U32'))"
      ]
     },
     "execution_count": 144,
     "metadata": {},
     "output_type": "execute_result"
    }
   ],
   "source": [
    "arr2 = arr1.copy()\n",
    "arr2[1] = \"Sagar\"\n",
    "arr1, arr2"
   ]
  },
  {
   "cell_type": "code",
   "execution_count": 145,
   "id": "77a64efb-b87c-4924-8224-f0a8caf8447f",
   "metadata": {},
   "outputs": [
    {
     "data": {
      "text/plain": [
       "(array(['1', 'Chaitanya', '9.8'], dtype='<U32'),\n",
       " array(['1', 'Sagar', '9.8'], dtype='<U32'))"
      ]
     },
     "execution_count": 145,
     "metadata": {},
     "output_type": "execute_result"
    }
   ],
   "source": [
    "from copy import deepcopy\n",
    "arr3 = deepcopy(arr1)\n",
    "arr3[1] = \"Sagar\"\n",
    "arr1, arr3"
   ]
  },
  {
   "cell_type": "code",
   "execution_count": 146,
   "id": "908a9aa5-0de0-459b-b7ea-1eb9e7a57216",
   "metadata": {},
   "outputs": [
    {
     "data": {
      "text/plain": [
       "(False, False)"
      ]
     },
     "execution_count": 146,
     "metadata": {},
     "output_type": "execute_result"
    }
   ],
   "source": [
    "np.shares_memory(arr1,arr2), np.shares_memory(arr1,arr3)"
   ]
  },
  {
   "cell_type": "markdown",
   "id": "240fff20-edbe-456d-b1af-70fd98e9b7b0",
   "metadata": {},
   "source": [
    "### **Splitting**"
   ]
  },
  {
   "cell_type": "code",
   "execution_count": 147,
   "id": "55a03b66-4496-418c-92e3-fa2ecda60d08",
   "metadata": {},
   "outputs": [],
   "source": [
    "a = np.arange(16)\n",
    "b = np.split(a, 4)"
   ]
  },
  {
   "cell_type": "code",
   "execution_count": 148,
   "id": "24301856-1d0c-4abd-ab86-6d11f44adb92",
   "metadata": {},
   "outputs": [
    {
     "data": {
      "text/plain": [
       "[array([0, 1, 2, 3]),\n",
       " array([4, 5, 6, 7]),\n",
       " array([ 8,  9, 10, 11]),\n",
       " array([12, 13, 14, 15])]"
      ]
     },
     "execution_count": 148,
     "metadata": {},
     "output_type": "execute_result"
    }
   ],
   "source": [
    "b"
   ]
  },
  {
   "cell_type": "code",
   "execution_count": 149,
   "id": "11e1a0f2-dbe5-4c35-8b2a-3e74b94ceea8",
   "metadata": {},
   "outputs": [
    {
     "name": "stdout",
     "output_type": "stream",
     "text": [
      "AttributeError: 'list' object has no attribute 'dtype'\n"
     ]
    }
   ],
   "source": [
    "try:\n",
    "    b.dtype\n",
    "except AttributeError:\n",
    "    print(\"AttributeError: 'list' object has no attribute 'dtype'\")"
   ]
  },
  {
   "cell_type": "markdown",
   "id": "6859aa67-73b6-4780-b554-4a728bcd9307",
   "metadata": {},
   "source": [
    "When an array is split, a list with array of equal size is returned"
   ]
  },
  {
   "cell_type": "code",
   "execution_count": 150,
   "id": "60d01e44-73bc-4491-a173-bda3b41e696e",
   "metadata": {},
   "outputs": [
    {
     "name": "stdout",
     "output_type": "stream",
     "text": [
      "array split does not result in an equal division\n"
     ]
    }
   ],
   "source": [
    "try:\n",
    "    c = np.split(a, 3)\n",
    "except ValueError:\n",
    "    print(\"array split does not result in an equal division\")"
   ]
  },
  {
   "cell_type": "markdown",
   "id": "ac32ccab-838b-437b-9de8-c5abd779869f",
   "metadata": {},
   "source": [
    "When we try to split an array with unequal size, throws an Value error "
   ]
  },
  {
   "cell_type": "markdown",
   "id": "0e2d29d1-a077-4dff-846b-90b9c4e98884",
   "metadata": {},
   "source": [
    "#### **Horizontal Splitting**"
   ]
  },
  {
   "cell_type": "code",
   "execution_count": 151,
   "id": "84d9a7e2-25d0-435f-b954-7e41c9fc4eb0",
   "metadata": {},
   "outputs": [
    {
     "data": {
      "text/plain": [
       "array([[ 0,  1,  2,  3],\n",
       "       [ 4,  5,  6,  7],\n",
       "       [ 8,  9, 10, 11],\n",
       "       [12, 13, 14, 15]])"
      ]
     },
     "execution_count": 151,
     "metadata": {},
     "output_type": "execute_result"
    }
   ],
   "source": [
    "a = np.arange(16).reshape(4,4)\n",
    "a"
   ]
  },
  {
   "cell_type": "code",
   "execution_count": 152,
   "id": "571b694f-5fa1-4c00-b091-9a0383a563d5",
   "metadata": {},
   "outputs": [
    {
     "data": {
      "text/plain": [
       "[array([[ 0,  1],\n",
       "        [ 4,  5],\n",
       "        [ 8,  9],\n",
       "        [12, 13]]),\n",
       " array([[ 2,  3],\n",
       "        [ 6,  7],\n",
       "        [10, 11],\n",
       "        [14, 15]])]"
      ]
     },
     "execution_count": 152,
     "metadata": {},
     "output_type": "execute_result"
    }
   ],
   "source": [
    "np.hsplit(a, 2)"
   ]
  },
  {
   "cell_type": "code",
   "execution_count": 153,
   "id": "d83eba2c-07aa-4c0b-883a-7ba6f652dd12",
   "metadata": {},
   "outputs": [
    {
     "data": {
      "text/plain": [
       "[array([[ 0,  1],\n",
       "        [ 4,  5],\n",
       "        [ 8,  9],\n",
       "        [12, 13]]),\n",
       " array([[ 2],\n",
       "        [ 6],\n",
       "        [10],\n",
       "        [14]]),\n",
       " array([[ 3],\n",
       "        [ 7],\n",
       "        [11],\n",
       "        [15]])]"
      ]
     },
     "execution_count": 153,
     "metadata": {},
     "output_type": "execute_result"
    }
   ],
   "source": [
    "np.hsplit(a, [2,3])"
   ]
  },
  {
   "cell_type": "markdown",
   "id": "fd4fb20d-451c-48fb-9d3e-832318b7f4a6",
   "metadata": {},
   "source": [
    "#### **Vertical Split**"
   ]
  },
  {
   "cell_type": "code",
   "execution_count": 154,
   "id": "8d5a30bf-57ed-44e3-b951-032f6876bc2a",
   "metadata": {},
   "outputs": [
    {
     "data": {
      "text/plain": [
       "array([[ 0,  1,  2,  3],\n",
       "       [ 4,  5,  6,  7],\n",
       "       [ 8,  9, 10, 11],\n",
       "       [12, 13, 14, 15]])"
      ]
     },
     "execution_count": 154,
     "metadata": {},
     "output_type": "execute_result"
    }
   ],
   "source": [
    "a"
   ]
  },
  {
   "cell_type": "code",
   "execution_count": 155,
   "id": "9a113548-46b9-4e54-958b-c0cdd6f342b2",
   "metadata": {},
   "outputs": [
    {
     "data": {
      "text/plain": [
       "[array([[0, 1, 2, 3],\n",
       "        [4, 5, 6, 7]]),\n",
       " array([[ 8,  9, 10, 11],\n",
       "        [12, 13, 14, 15]])]"
      ]
     },
     "execution_count": 155,
     "metadata": {},
     "output_type": "execute_result"
    }
   ],
   "source": [
    "np.vsplit(a, 2)"
   ]
  },
  {
   "cell_type": "code",
   "execution_count": 156,
   "id": "66bb5531-7a83-4c1f-8907-c46be3c8f93f",
   "metadata": {},
   "outputs": [
    {
     "data": {
      "text/plain": [
       "[array([[0, 1, 2, 3],\n",
       "        [4, 5, 6, 7]]),\n",
       " array([[ 8,  9, 10, 11]]),\n",
       " array([[12, 13, 14, 15]])]"
      ]
     },
     "execution_count": 156,
     "metadata": {},
     "output_type": "execute_result"
    }
   ],
   "source": [
    "np.vsplit(a, [2,3])"
   ]
  },
  {
   "cell_type": "markdown",
   "id": "72419ed8-d252-40ba-a9f7-3913a785fe7a",
   "metadata": {},
   "source": [
    "### **Stacking**"
   ]
  },
  {
   "cell_type": "code",
   "execution_count": 157,
   "id": "38fc44e4-2836-42a7-baaa-6b16b7ff576d",
   "metadata": {},
   "outputs": [
    {
     "data": {
      "text/plain": [
       "(array([0, 1, 2, 3]),\n",
       " array([4, 5, 6, 7]),\n",
       " array([ 8,  9, 10, 11]),\n",
       " array([12, 13, 14, 15]))"
      ]
     },
     "execution_count": 157,
     "metadata": {},
     "output_type": "execute_result"
    }
   ],
   "source": [
    "a = np.arange(0,4)\n",
    "b = np.arange(4,8)\n",
    "c = np.arange(8,12)\n",
    "d = np.arange(12,16)\n",
    "a,b,c,d"
   ]
  },
  {
   "cell_type": "code",
   "execution_count": 158,
   "id": "d0a52ac8-4e6b-46ab-98b6-c064513833c4",
   "metadata": {},
   "outputs": [
    {
     "data": {
      "text/plain": [
       "array([[ 0,  1,  2,  3],\n",
       "       [ 4,  5,  6,  7],\n",
       "       [ 8,  9, 10, 11],\n",
       "       [12, 13, 14, 15]])"
      ]
     },
     "execution_count": 158,
     "metadata": {},
     "output_type": "execute_result"
    }
   ],
   "source": [
    "np.vstack([a,b,c,d])"
   ]
  },
  {
   "cell_type": "code",
   "execution_count": 159,
   "id": "c0b7a26e-a088-43ae-9d29-9af5eba31378",
   "metadata": {},
   "outputs": [
    {
     "data": {
      "text/plain": [
       "array([[ 0,  4,  8, 12],\n",
       "       [ 1,  5,  9, 13],\n",
       "       [ 2,  6, 10, 14],\n",
       "       [ 3,  7, 11, 15]])"
      ]
     },
     "execution_count": 159,
     "metadata": {},
     "output_type": "execute_result"
    }
   ],
   "source": [
    "a = np.arange(4).reshape(4,1)\n",
    "b = np.arange(4,8).reshape(4,1)\n",
    "c = np.arange(8,12).reshape(4,1)\n",
    "d = np.arange(12,16).reshape(4,1)\n",
    "np.hstack([a,b,c,d])"
   ]
  },
  {
   "cell_type": "markdown",
   "id": "7d5d05e9-988d-41b4-bad6-2881dc181e2e",
   "metadata": {},
   "source": [
    "### **Concatenate**"
   ]
  },
  {
   "cell_type": "code",
   "execution_count": 160,
   "id": "f1d490f8-b06f-48c2-8682-a21882172467",
   "metadata": {},
   "outputs": [
    {
     "data": {
      "text/plain": [
       "(array([0, 1, 2, 3]),\n",
       " array([[ 4,  5,  6,  7],\n",
       "        [ 8,  9, 10, 11],\n",
       "        [12, 13, 14, 15]]))"
      ]
     },
     "execution_count": 160,
     "metadata": {},
     "output_type": "execute_result"
    }
   ],
   "source": [
    "a = np.arange(4)\n",
    "b = np.arange(4, 16).reshape(3,4)\n",
    "a,b"
   ]
  },
  {
   "cell_type": "code",
   "execution_count": 161,
   "id": "5b0f3a82-57a9-4f23-a4bb-b2049f8962a5",
   "metadata": {},
   "outputs": [
    {
     "name": "stdout",
     "output_type": "stream",
     "text": [
      "Throws below error as dim of a is 1\n",
      "ValueError: all the input arrays must have same number of dimensions, but the array at index 0 has 1 dimension(s) and the array at index 1 has 2 dimension(s)\n"
     ]
    }
   ],
   "source": [
    "try:\n",
    "    np.concatenate([a,b])\n",
    "except ValueError:\n",
    "    print(\"Throws below error as dim of a is 1\")\n",
    "    print(\"ValueError: all the input arrays must have same number of dimensions, but the array at index 0 has 1 dimension(s) and the array at index 1 has 2 dimension(s)\")"
   ]
  },
  {
   "cell_type": "code",
   "execution_count": 162,
   "id": "2e66e4ca-3ece-4667-ae2e-0effb30f4d4e",
   "metadata": {},
   "outputs": [
    {
     "data": {
      "text/plain": [
       "array([[0, 1, 2, 3]])"
      ]
     },
     "execution_count": 162,
     "metadata": {},
     "output_type": "execute_result"
    }
   ],
   "source": [
    "a = a.reshape(1,4)\n",
    "a"
   ]
  },
  {
   "cell_type": "code",
   "execution_count": 163,
   "id": "ec38f645-cd4a-4ba7-900f-ce6ec7ec3734",
   "metadata": {},
   "outputs": [
    {
     "data": {
      "text/plain": [
       "array([[ 0,  1,  2,  3],\n",
       "       [ 4,  5,  6,  7],\n",
       "       [ 8,  9, 10, 11],\n",
       "       [12, 13, 14, 15]])"
      ]
     },
     "execution_count": 163,
     "metadata": {},
     "output_type": "execute_result"
    }
   ],
   "source": [
    "np.concatenate([a,b]) # Wont throw exception and joins at vertical "
   ]
  },
  {
   "cell_type": "code",
   "execution_count": 164,
   "id": "1fe2aaba-8269-4be7-a7c2-f26448776100",
   "metadata": {},
   "outputs": [
    {
     "data": {
      "text/plain": [
       "array([[ 0,  1,  2,  3],\n",
       "       [ 4,  5,  6,  7],\n",
       "       [ 8,  9, 10, 11],\n",
       "       [12, 13, 14, 15]])"
      ]
     },
     "execution_count": 164,
     "metadata": {},
     "output_type": "execute_result"
    }
   ],
   "source": [
    "np.concatenate([a,b],axis = 0) # Same as above"
   ]
  },
  {
   "cell_type": "markdown",
   "id": "650114f2-fe77-4be1-9b7e-fbf833ab6f06",
   "metadata": {},
   "source": [
    "Axis = 0 joins on vertical level"
   ]
  },
  {
   "cell_type": "code",
   "execution_count": 165,
   "id": "4fb59f02-40a1-4422-b3f8-5a8efbaa4fea",
   "metadata": {},
   "outputs": [
    {
     "data": {
      "text/plain": [
       "(array([[0],\n",
       "        [1],\n",
       "        [2],\n",
       "        [3]]),\n",
       " array([[ 4,  5,  6],\n",
       "        [ 7,  8,  9],\n",
       "        [10, 11, 12],\n",
       "        [13, 14, 15]]))"
      ]
     },
     "execution_count": 165,
     "metadata": {},
     "output_type": "execute_result"
    }
   ],
   "source": [
    "a = np.arange(4).reshape(4,1)\n",
    "b = np.arange(4, 16).reshape(4,3)\n",
    "a, b, "
   ]
  },
  {
   "cell_type": "code",
   "execution_count": 166,
   "id": "74486f14-1f8d-4c3c-9107-e5a6e51e5b47",
   "metadata": {},
   "outputs": [
    {
     "data": {
      "text/plain": [
       "array([[ 0,  4,  5,  6],\n",
       "       [ 1,  7,  8,  9],\n",
       "       [ 2, 10, 11, 12],\n",
       "       [ 3, 13, 14, 15]])"
      ]
     },
     "execution_count": 166,
     "metadata": {},
     "output_type": "execute_result"
    }
   ],
   "source": [
    "np.concatenate([a,b], axis = 1) # Joins horizontally"
   ]
  },
  {
   "cell_type": "code",
   "execution_count": 167,
   "id": "7df7958b-aaf0-4c3f-8ce0-4b765002ec4e",
   "metadata": {},
   "outputs": [
    {
     "data": {
      "text/plain": [
       "array([ 0,  1,  2,  3,  4,  5,  6,  7,  8,  9, 10, 11, 12, 13, 14, 15])"
      ]
     },
     "execution_count": 167,
     "metadata": {},
     "output_type": "execute_result"
    }
   ],
   "source": [
    "np.concatenate([a,b], axis = None)"
   ]
  },
  {
   "cell_type": "markdown",
   "id": "2c1e161f-2dde-46ef-ab5b-5c301630de12",
   "metadata": {},
   "source": [
    "Flattening of array"
   ]
  },
  {
   "cell_type": "code",
   "execution_count": null,
   "id": "d744c0d2-d0a9-4424-b217-e15793a6a8ff",
   "metadata": {},
   "outputs": [],
   "source": []
  }
 ],
 "metadata": {
  "kernelspec": {
   "display_name": "Python 3 (ipykernel)",
   "language": "python",
   "name": "python3"
  },
  "language_info": {
   "codemirror_mode": {
    "name": "ipython",
    "version": 3
   },
   "file_extension": ".py",
   "mimetype": "text/x-python",
   "name": "python",
   "nbconvert_exporter": "python",
   "pygments_lexer": "ipython3",
   "version": "3.11.0rc1"
  }
 },
 "nbformat": 4,
 "nbformat_minor": 5
}
