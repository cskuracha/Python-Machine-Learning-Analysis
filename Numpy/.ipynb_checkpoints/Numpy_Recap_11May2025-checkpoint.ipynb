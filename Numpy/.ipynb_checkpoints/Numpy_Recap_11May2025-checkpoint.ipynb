{
 "cells": [
  {
   "cell_type": "markdown",
   "id": "e5cf7b8f-da44-446f-ad1a-db319c432a80",
   "metadata": {},
   "source": [
    "## **Numpy Recap on May 11**"
   ]
  },
  {
   "cell_type": "code",
   "execution_count": 1,
   "id": "2e252f2b-fe25-4d24-a8dd-6366a437dcfc",
   "metadata": {},
   "outputs": [],
   "source": [
    "import numpy as np"
   ]
  },
  {
   "cell_type": "code",
   "execution_count": 2,
   "id": "56c6819c-ff05-44f6-a83e-10e1611c3e8d",
   "metadata": {},
   "outputs": [
    {
     "data": {
      "text/plain": [
       "[1, 2, 3, 4, 5, 6, 7, 8, 9]"
      ]
     },
     "execution_count": 2,
     "metadata": {},
     "output_type": "execute_result"
    }
   ],
   "source": [
    "l = list(range(1,10))\n",
    "l"
   ]
  },
  {
   "cell_type": "code",
   "execution_count": 3,
   "id": "519c47cb-0dc3-4a2a-b6c6-525690b2c57d",
   "metadata": {},
   "outputs": [
    {
     "name": "stdout",
     "output_type": "stream",
     "text": [
      "731 ms ± 99.2 ms per loop (mean ± std. dev. of 7 runs, 1 loop each)\n"
     ]
    }
   ],
   "source": [
    "l = range(10000000)\n",
    "%timeit [i**2 for i in l]"
   ]
  },
  {
   "cell_type": "code",
   "execution_count": 4,
   "id": "980416b7-9f3a-4c78-97c8-53509d8b9d8f",
   "metadata": {},
   "outputs": [
    {
     "name": "stdout",
     "output_type": "stream",
     "text": [
      "19.9 ms ± 611 μs per loop (mean ± std. dev. of 7 runs, 100 loops each)\n"
     ]
    }
   ],
   "source": [
    "arr = np.array(l)\n",
    "%timeit arr**2"
   ]
  },
  {
   "cell_type": "code",
   "execution_count": 5,
   "id": "043b6fce-3afe-4e00-85b2-f6fcbe16137f",
   "metadata": {},
   "outputs": [
    {
     "data": {
      "text/plain": [
       "array([1, 2, 3, 4, 5, 6])"
      ]
     },
     "execution_count": 5,
     "metadata": {},
     "output_type": "execute_result"
    }
   ],
   "source": [
    "np.array([1,2,3,4,5,6])"
   ]
  },
  {
   "cell_type": "code",
   "execution_count": 6,
   "id": "61202165-daa1-4d37-95ac-2029addc8e1a",
   "metadata": {},
   "outputs": [
    {
     "data": {
      "text/plain": [
       "array([[ 0,  1,  2,  3],\n",
       "       [ 4,  5,  6,  7],\n",
       "       [ 8,  9, 10, 11],\n",
       "       [12, 13, 14, 15]])"
      ]
     },
     "execution_count": 6,
     "metadata": {},
     "output_type": "execute_result"
    }
   ],
   "source": [
    "a = list(range(0,16))\n",
    "arr1 = np.array(a)\n",
    "arr1.reshape(4,4)"
   ]
  },
  {
   "cell_type": "code",
   "execution_count": 7,
   "id": "5a57241e-e8ba-486b-b412-974eeb45a531",
   "metadata": {},
   "outputs": [
    {
     "data": {
      "text/plain": [
       "array([ 0,  1,  2,  3,  4,  5,  6,  7,  8,  9, 10, 11, 12, 13, 14, 15])"
      ]
     },
     "execution_count": 7,
     "metadata": {},
     "output_type": "execute_result"
    }
   ],
   "source": [
    "arr1"
   ]
  },
  {
   "cell_type": "markdown",
   "id": "8e8b40d7-3529-40dc-9f68-01d69e8ae432",
   "metadata": {},
   "source": [
    "### **2D Array**"
   ]
  },
  {
   "cell_type": "code",
   "execution_count": 8,
   "id": "f999eed6-193b-43f2-b2d7-ba3f38da12b5",
   "metadata": {},
   "outputs": [
    {
     "data": {
      "text/plain": [
       "array([[ 0,  1,  2,  3],\n",
       "       [ 4,  5,  6,  7],\n",
       "       [ 8,  9, 10, 11],\n",
       "       [12, 13, 14, 15]])"
      ]
     },
     "execution_count": 8,
     "metadata": {},
     "output_type": "execute_result"
    }
   ],
   "source": [
    "arr2 = arr1.reshape(4,4)\n",
    "arr2"
   ]
  },
  {
   "cell_type": "code",
   "execution_count": 9,
   "id": "e122929d-03ad-4919-a19a-920ad4d28889",
   "metadata": {},
   "outputs": [
    {
     "data": {
      "text/plain": [
       "((4, 4), 2)"
      ]
     },
     "execution_count": 9,
     "metadata": {},
     "output_type": "execute_result"
    }
   ],
   "source": [
    "arr2.shape, arr2.ndim"
   ]
  },
  {
   "cell_type": "markdown",
   "id": "91c74402-8d2f-42c2-9ff3-0a2f86c06473",
   "metadata": {},
   "source": [
    "### **3D Array**"
   ]
  },
  {
   "cell_type": "code",
   "execution_count": 10,
   "id": "cdca5300-c510-4ede-af7c-0190ba5ac247",
   "metadata": {},
   "outputs": [
    {
     "data": {
      "text/plain": [
       "array([[[ 0,  1,  2],\n",
       "        [ 3,  4,  5],\n",
       "        [ 6,  7,  8]],\n",
       "\n",
       "       [[ 9, 10, 11],\n",
       "        [12, 13, 14],\n",
       "        [15, 16, 17]],\n",
       "\n",
       "       [[18, 19, 20],\n",
       "        [21, 22, 23],\n",
       "        [24, 25, 26]]])"
      ]
     },
     "execution_count": 10,
     "metadata": {},
     "output_type": "execute_result"
    }
   ],
   "source": [
    "arr = np.arange(0,27)\n",
    "arr3 = arr.reshape(3,3,3)\n",
    "arr3"
   ]
  },
  {
   "cell_type": "code",
   "execution_count": 11,
   "id": "cd002499-5984-41da-b76b-9c742f4e5d7c",
   "metadata": {},
   "outputs": [
    {
     "data": {
      "text/plain": [
       "((3, 3, 3), 3)"
      ]
     },
     "execution_count": 11,
     "metadata": {},
     "output_type": "execute_result"
    }
   ],
   "source": [
    "arr3.shape, arr3.ndim"
   ]
  },
  {
   "cell_type": "code",
   "execution_count": 12,
   "id": "f282f03e-4d74-4207-9431-9120dcefb337",
   "metadata": {},
   "outputs": [
    {
     "data": {
      "text/plain": [
       "array([[[ 0,  1,  2],\n",
       "        [ 3,  4,  5],\n",
       "        [ 6,  7,  8]],\n",
       "\n",
       "       [[ 9, 10, 11],\n",
       "        [12, 13, 14],\n",
       "        [15, 16, 17]],\n",
       "\n",
       "       [[18, 19, 20],\n",
       "        [21, 22, 23],\n",
       "        [24, 25, 26]]])"
      ]
     },
     "execution_count": 12,
     "metadata": {},
     "output_type": "execute_result"
    }
   ],
   "source": [
    "arr3"
   ]
  },
  {
   "cell_type": "code",
   "execution_count": 13,
   "id": "e6012a79-aa5c-4f68-b46c-9b27c01e0c75",
   "metadata": {},
   "outputs": [
    {
     "data": {
      "text/plain": [
       "array([1. , 1.5, 2. , 2.5, 3. , 3.5, 4. , 4.5, 5. , 5.5, 6. , 6.5, 7. ,\n",
       "       7.5, 8. , 8.5, 9. , 9.5])"
      ]
     },
     "execution_count": 13,
     "metadata": {},
     "output_type": "execute_result"
    }
   ],
   "source": [
    "arr4 = np.arange(1,10,0.5)\n",
    "arr4"
   ]
  },
  {
   "cell_type": "code",
   "execution_count": 14,
   "id": "80f43c62-13b6-43af-9c75-9df33b927c2e",
   "metadata": {},
   "outputs": [
    {
     "data": {
      "text/plain": [
       "((18,), 1)"
      ]
     },
     "execution_count": 14,
     "metadata": {},
     "output_type": "execute_result"
    }
   ],
   "source": [
    "arr4.shape, arr4.ndim"
   ]
  },
  {
   "cell_type": "markdown",
   "id": "c39521d5-12ec-4e4f-aecb-954232a419e1",
   "metadata": {},
   "source": [
    "### **Array Type Conversion**"
   ]
  },
  {
   "cell_type": "code",
   "execution_count": 15,
   "id": "05c81e7c-68ca-4540-9986-e875b66e8a74",
   "metadata": {},
   "outputs": [
    {
     "data": {
      "text/plain": [
       "array(['1', 'Chaitu', '3.5', 'True'], dtype='<U32')"
      ]
     },
     "execution_count": 15,
     "metadata": {},
     "output_type": "execute_result"
    }
   ],
   "source": [
    "arr5 = np.array([1,\"Chaitu\",3.5,True])\n",
    "arr5"
   ]
  },
  {
   "cell_type": "code",
   "execution_count": 16,
   "id": "405708f5-b962-48c3-897c-1245e827ccba",
   "metadata": {},
   "outputs": [
    {
     "data": {
      "text/plain": [
       "array([1. , 4.5, 1. ])"
      ]
     },
     "execution_count": 16,
     "metadata": {},
     "output_type": "execute_result"
    }
   ],
   "source": [
    "arr6 = np.array([1,4.5,True])\n",
    "arr6"
   ]
  },
  {
   "cell_type": "code",
   "execution_count": 17,
   "id": "cd53e5ce-08ac-4d11-83f9-32f55603594e",
   "metadata": {},
   "outputs": [
    {
     "data": {
      "text/plain": [
       "array([1, 1])"
      ]
     },
     "execution_count": 17,
     "metadata": {},
     "output_type": "execute_result"
    }
   ],
   "source": [
    "arr7 = np.array([1,True])\n",
    "arr7"
   ]
  },
  {
   "cell_type": "markdown",
   "id": "096a8fae-c3f2-494a-b368-b8b47d6ccd92",
   "metadata": {},
   "source": [
    "### **DType & Astype**"
   ]
  },
  {
   "cell_type": "code",
   "execution_count": 18,
   "id": "0791a948-62f1-43d9-8512-8f5cee38b513",
   "metadata": {},
   "outputs": [
    {
     "data": {
      "text/plain": [
       "dtype('int64')"
      ]
     },
     "execution_count": 18,
     "metadata": {},
     "output_type": "execute_result"
    }
   ],
   "source": [
    "a = np.array([1,2,3,4])\n",
    "a.dtype"
   ]
  },
  {
   "cell_type": "code",
   "execution_count": 19,
   "id": "c26d59a2-0afc-468d-b194-e1572d4d0003",
   "metadata": {},
   "outputs": [
    {
     "data": {
      "text/plain": [
       "array([1., 2., 3., 4.])"
      ]
     },
     "execution_count": 19,
     "metadata": {},
     "output_type": "execute_result"
    }
   ],
   "source": [
    "b = np.array([1,2,3,4], dtype = \"float64\")\n",
    "b"
   ]
  },
  {
   "cell_type": "code",
   "execution_count": 20,
   "id": "80d6d017-371f-4969-96e5-e75668e57581",
   "metadata": {},
   "outputs": [
    {
     "data": {
      "text/plain": [
       "array(['1.0', '2.0', '3.0', '4.0'], dtype='<U32')"
      ]
     },
     "execution_count": 20,
     "metadata": {},
     "output_type": "execute_result"
    }
   ],
   "source": [
    "b.astype(\"str\")"
   ]
  },
  {
   "cell_type": "markdown",
   "id": "573e8f27-6cd0-42be-b270-519c266775c4",
   "metadata": {},
   "source": [
    "### **Indexing**"
   ]
  },
  {
   "cell_type": "code",
   "execution_count": 21,
   "id": "993af8fa-35af-4e36-885e-509970484096",
   "metadata": {},
   "outputs": [
    {
     "data": {
      "text/plain": [
       "array([ 0,  1,  2,  3,  4,  5,  6,  7,  8,  9, 10, 11, 12, 13, 14, 15, 16,\n",
       "       17, 18])"
      ]
     },
     "execution_count": 21,
     "metadata": {},
     "output_type": "execute_result"
    }
   ],
   "source": [
    "a = np.arange(0,19)\n",
    "a"
   ]
  },
  {
   "cell_type": "code",
   "execution_count": 22,
   "id": "a887064b-8bd0-4b7a-929b-a5d89b158888",
   "metadata": {},
   "outputs": [
    {
     "data": {
      "text/plain": [
       "(0, 9, array([2, 4]), array([18,  1, 17,  2]))"
      ]
     },
     "execution_count": 22,
     "metadata": {},
     "output_type": "execute_result"
    }
   ],
   "source": [
    "a[0],a[9], a[[2,4]],a[[-1,1,-2,2]]"
   ]
  },
  {
   "cell_type": "markdown",
   "id": "c231b40c-aa6b-4558-b02f-ae4865f60d51",
   "metadata": {},
   "source": [
    "### **Slicing**"
   ]
  },
  {
   "cell_type": "code",
   "execution_count": 23,
   "id": "c0cc974d-24d0-4aa8-8382-3962890b8030",
   "metadata": {},
   "outputs": [
    {
     "data": {
      "text/plain": [
       "array([2, 3, 4])"
      ]
     },
     "execution_count": 23,
     "metadata": {},
     "output_type": "execute_result"
    }
   ],
   "source": [
    "a[2:5]"
   ]
  },
  {
   "cell_type": "code",
   "execution_count": 24,
   "id": "bd24ab5a-8b59-4a9d-9cc3-5c2fda30e9e9",
   "metadata": {},
   "outputs": [
    {
     "data": {
      "text/plain": [
       "array([4, 5, 6, 7, 8])"
      ]
     },
     "execution_count": 24,
     "metadata": {},
     "output_type": "execute_result"
    }
   ],
   "source": [
    "a[4:9]"
   ]
  },
  {
   "cell_type": "code",
   "execution_count": 25,
   "id": "d48a5e59-3117-4a08-a35b-1c0e9676326d",
   "metadata": {},
   "outputs": [
    {
     "data": {
      "text/plain": [
       "array([14, 15, 16, 17])"
      ]
     },
     "execution_count": 25,
     "metadata": {},
     "output_type": "execute_result"
    }
   ],
   "source": [
    "a[-5:-1]"
   ]
  },
  {
   "cell_type": "code",
   "execution_count": 26,
   "id": "1439f38f-0c63-47d9-9388-38dd85025c4e",
   "metadata": {},
   "outputs": [
    {
     "data": {
      "text/plain": [
       "array([ True,  True,  True,  True,  True,  True, False, False, False,\n",
       "       False, False, False, False, False, False, False, False, False,\n",
       "       False])"
      ]
     },
     "execution_count": 26,
     "metadata": {},
     "output_type": "execute_result"
    }
   ],
   "source": [
    "a < 6"
   ]
  },
  {
   "cell_type": "code",
   "execution_count": 27,
   "id": "68930c9e-7245-4d5f-ba0c-5ead17b25882",
   "metadata": {},
   "outputs": [
    {
     "data": {
      "text/plain": [
       "array([0, 1, 2, 3, 4, 5])"
      ]
     },
     "execution_count": 27,
     "metadata": {},
     "output_type": "execute_result"
    }
   ],
   "source": [
    "a[a<6]"
   ]
  },
  {
   "cell_type": "code",
   "execution_count": 28,
   "id": "e657bb9f-c656-490f-ac65-7f10ba8c580b",
   "metadata": {},
   "outputs": [],
   "source": [
    "a = np.random.randint(1,100,10)\n",
    "b = np.random.randint(1,100,10)"
   ]
  },
  {
   "cell_type": "code",
   "execution_count": 29,
   "id": "ac4dcb5b-6e45-4ae7-bf37-6f5943cbf8ea",
   "metadata": {},
   "outputs": [
    {
     "data": {
      "text/plain": [
       "array([False, False, False, False, False, False, False, False, False,\n",
       "       False])"
      ]
     },
     "execution_count": 29,
     "metadata": {},
     "output_type": "execute_result"
    }
   ],
   "source": [
    "# Checking equality\n",
    "a == b"
   ]
  },
  {
   "cell_type": "code",
   "execution_count": 30,
   "id": "b4854a5b-8b3c-4413-b115-2cf8122f5418",
   "metadata": {},
   "outputs": [
    {
     "data": {
      "text/plain": [
       "(array([89, 83, 93,  3, 22]), array([13, 59, 98, 56, 61]))"
      ]
     },
     "execution_count": 30,
     "metadata": {},
     "output_type": "execute_result"
    }
   ],
   "source": [
    "# Getting even and odd index\n",
    "a[::2], a[1::2]"
   ]
  },
  {
   "cell_type": "code",
   "execution_count": 31,
   "id": "82878d33-74ae-48a8-977b-6604873e3139",
   "metadata": {},
   "outputs": [
    {
     "data": {
      "text/plain": [
       "array([89, 83, 93])"
      ]
     },
     "execution_count": 31,
     "metadata": {},
     "output_type": "execute_result"
    }
   ],
   "source": [
    "a[[0,2,4]]"
   ]
  },
  {
   "cell_type": "markdown",
   "id": "bab7d9fd-7976-4118-bf86-276ce18adf0c",
   "metadata": {},
   "source": [
    "### **Reading file**"
   ]
  },
  {
   "cell_type": "code",
   "execution_count": 32,
   "id": "502b7d2d-8e19-431e-816e-dab64d94b736",
   "metadata": {},
   "outputs": [
    {
     "data": {
      "text/plain": [
       "array([ 7., 10.,  5., ...,  5.,  9., 10.])"
      ]
     },
     "execution_count": 32,
     "metadata": {},
     "output_type": "execute_result"
    }
   ],
   "source": [
    "score = np.loadtxt(\"survey.txt\")\n",
    "score"
   ]
  },
  {
   "cell_type": "code",
   "execution_count": 33,
   "id": "b85111ef-3985-443f-803f-1eb2beb129d0",
   "metadata": {},
   "outputs": [
    {
     "name": "stdout",
     "output_type": "stream",
     "text": [
      "% of promoters 52.185089974293064\n",
      "% of dectractors 28.449014567266495\n"
     ]
    }
   ],
   "source": [
    "# % of promoters\n",
    "promoters = score[score > 8]\n",
    "print(\"% of promoters\",len(promoters)/len(score) * 100)\n",
    "# % of dectractors\n",
    "dectractors = score[score <= 6]\n",
    "print(\"% of dectractors\",len(dectractors)/len(score) * 100)"
   ]
  },
  {
   "cell_type": "code",
   "execution_count": 34,
   "id": "95f20e74-06c8-43e0-bea0-984d37dc227c",
   "metadata": {},
   "outputs": [
    {
     "data": {
      "text/plain": [
       "23.73607540702657"
      ]
     },
     "execution_count": 34,
     "metadata": {},
     "output_type": "execute_result"
    }
   ],
   "source": [
    "NPS = (len(promoters)/len(score) * 100) - (len(dectractors)/len(score) * 100)\n",
    "NPS"
   ]
  },
  {
   "cell_type": "markdown",
   "id": "f32e0f3e-3cec-4c1e-9b5a-f488a3cdc9e8",
   "metadata": {},
   "source": [
    "### **Reshape**"
   ]
  },
  {
   "cell_type": "code",
   "execution_count": 35,
   "id": "860b1f0a-85d7-43ef-b10c-d840edc576f6",
   "metadata": {},
   "outputs": [
    {
     "data": {
      "text/plain": [
       "(18,)"
      ]
     },
     "execution_count": 35,
     "metadata": {},
     "output_type": "execute_result"
    }
   ],
   "source": [
    "arr = np.arange(1, 19)\n",
    "arr.shape"
   ]
  },
  {
   "cell_type": "code",
   "execution_count": 36,
   "id": "d9905729-d414-479c-ab19-d1b266ec731c",
   "metadata": {},
   "outputs": [
    {
     "data": {
      "text/plain": [
       "array([[ 1,  2,  3,  4,  5,  6],\n",
       "       [ 7,  8,  9, 10, 11, 12],\n",
       "       [13, 14, 15, 16, 17, 18]])"
      ]
     },
     "execution_count": 36,
     "metadata": {},
     "output_type": "execute_result"
    }
   ],
   "source": [
    "arr1 = arr.reshape(3,6)\n",
    "arr1"
   ]
  },
  {
   "cell_type": "code",
   "execution_count": 37,
   "id": "c40b5c44-cf94-4857-be04-48e2f8f6d860",
   "metadata": {},
   "outputs": [
    {
     "data": {
      "text/plain": [
       "array([[ 1,  2,  3,  4,  5,  6],\n",
       "       [ 7,  8,  9, 10, 11, 12],\n",
       "       [13, 14, 15, 16, 17, 18]])"
      ]
     },
     "execution_count": 37,
     "metadata": {},
     "output_type": "execute_result"
    }
   ],
   "source": [
    "arr2 = arr.reshape(3, -1)\n",
    "arr2"
   ]
  },
  {
   "cell_type": "code",
   "execution_count": 38,
   "id": "eb71e8a7-2d2a-42fa-9cf8-42e2d73c704d",
   "metadata": {},
   "outputs": [
    {
     "data": {
      "text/plain": [
       "array([[ 1,  2],\n",
       "       [ 3,  4],\n",
       "       [ 5,  6],\n",
       "       [ 7,  8],\n",
       "       [ 9, 10],\n",
       "       [11, 12],\n",
       "       [13, 14],\n",
       "       [15, 16],\n",
       "       [17, 18]])"
      ]
     },
     "execution_count": 38,
     "metadata": {},
     "output_type": "execute_result"
    }
   ],
   "source": [
    "arr3 = arr.reshape(-1,2)\n",
    "arr3"
   ]
  },
  {
   "cell_type": "code",
   "execution_count": 39,
   "id": "cc02b645-ecbd-4cdb-937b-71475cc6bf6e",
   "metadata": {},
   "outputs": [
    {
     "data": {
      "text/plain": [
       "array([[[ 1,  2,  3,  4,  5,  6],\n",
       "        [ 7,  8,  9, 10, 11, 12],\n",
       "        [13, 14, 15, 16, 17, 18]]])"
      ]
     },
     "execution_count": 39,
     "metadata": {},
     "output_type": "execute_result"
    }
   ],
   "source": [
    "arr4 = arr.reshape(1,3,6)\n",
    "arr4"
   ]
  },
  {
   "cell_type": "markdown",
   "id": "c859d84d-9c54-4ad6-8586-824fcb9bdfaa",
   "metadata": {},
   "source": [
    "### **Transpose**"
   ]
  },
  {
   "cell_type": "code",
   "execution_count": 40,
   "id": "1da26529-7cba-4ab3-aae4-ed640d280767",
   "metadata": {},
   "outputs": [
    {
     "data": {
      "text/plain": [
       "array([[ 1,  2,  3,  4],\n",
       "       [ 5,  6,  7,  8],\n",
       "       [ 9, 10, 11, 12],\n",
       "       [13, 14, 15, 16]])"
      ]
     },
     "execution_count": 40,
     "metadata": {},
     "output_type": "execute_result"
    }
   ],
   "source": [
    "a = np.arange(1,17)\n",
    "a = a.reshape(4,4)\n",
    "a"
   ]
  },
  {
   "cell_type": "code",
   "execution_count": 41,
   "id": "b22e3c6d-07c4-48f1-b6af-4a4b6cf11f2f",
   "metadata": {},
   "outputs": [
    {
     "data": {
      "text/plain": [
       "array([[ 1,  5,  9, 13],\n",
       "       [ 2,  6, 10, 14],\n",
       "       [ 3,  7, 11, 15],\n",
       "       [ 4,  8, 12, 16]])"
      ]
     },
     "execution_count": 41,
     "metadata": {},
     "output_type": "execute_result"
    }
   ],
   "source": [
    "a.T"
   ]
  },
  {
   "cell_type": "code",
   "execution_count": 42,
   "id": "f2ac2a78-fd1d-4f1a-977b-6ebfdbcdb583",
   "metadata": {},
   "outputs": [
    {
     "data": {
      "text/plain": [
       "array([[ 1,  5,  9, 13],\n",
       "       [ 2,  6, 10, 14],\n",
       "       [ 3,  7, 11, 15],\n",
       "       [ 4,  8, 12, 16]])"
      ]
     },
     "execution_count": 42,
     "metadata": {},
     "output_type": "execute_result"
    }
   ],
   "source": [
    "np.transpose(a)"
   ]
  },
  {
   "cell_type": "markdown",
   "id": "01b04bea-6651-4fa7-9a72-44e983befd84",
   "metadata": {},
   "source": [
    "### **Indexing in 2D Array**"
   ]
  },
  {
   "cell_type": "code",
   "execution_count": 43,
   "id": "2e08d212-18d2-4c06-a869-792011c269a4",
   "metadata": {},
   "outputs": [
    {
     "data": {
      "text/plain": [
       "array([[ 1,  2,  3,  4],\n",
       "       [ 5,  6,  7,  8],\n",
       "       [ 9, 10, 11, 12],\n",
       "       [13, 14, 15, 16]])"
      ]
     },
     "execution_count": 43,
     "metadata": {},
     "output_type": "execute_result"
    }
   ],
   "source": [
    "a "
   ]
  },
  {
   "cell_type": "code",
   "execution_count": 44,
   "id": "e04b565b-2c5f-40a4-8890-1c545706c46b",
   "metadata": {},
   "outputs": [
    {
     "data": {
      "text/plain": [
       "array([ 9, 10, 11, 12])"
      ]
     },
     "execution_count": 44,
     "metadata": {},
     "output_type": "execute_result"
    }
   ],
   "source": [
    "a[2] # Entire row"
   ]
  },
  {
   "cell_type": "code",
   "execution_count": 45,
   "id": "04f836ee-b7e1-4ca2-964c-45b1a79ef620",
   "metadata": {},
   "outputs": [
    {
     "data": {
      "text/plain": [
       "array([ 3,  7, 11, 15])"
      ]
     },
     "execution_count": 45,
     "metadata": {},
     "output_type": "execute_result"
    }
   ],
   "source": [
    "a[:,2] # Entire column"
   ]
  },
  {
   "cell_type": "code",
   "execution_count": 46,
   "id": "1d008454-4dd4-47f3-a094-4752ce9b2542",
   "metadata": {},
   "outputs": [
    {
     "data": {
      "text/plain": [
       "12"
      ]
     },
     "execution_count": 46,
     "metadata": {},
     "output_type": "execute_result"
    }
   ],
   "source": [
    "a [2,3] # specific element"
   ]
  },
  {
   "cell_type": "code",
   "execution_count": 47,
   "id": "b6dbc1dc-cb5f-4825-89c3-f1c9db3970bf",
   "metadata": {},
   "outputs": [
    {
     "data": {
      "text/plain": [
       "12"
      ]
     },
     "execution_count": 47,
     "metadata": {},
     "output_type": "execute_result"
    }
   ],
   "source": [
    "a[2][3] # Get 3rd row and then 4 element"
   ]
  },
  {
   "cell_type": "code",
   "execution_count": 48,
   "id": "043428d6-a0c6-4b8c-9fee-463e9f0ab4e9",
   "metadata": {},
   "outputs": [
    {
     "data": {
      "text/plain": [
       "array([[ 5,  6,  7,  8],\n",
       "       [ 9, 10, 11, 12]])"
      ]
     },
     "execution_count": 48,
     "metadata": {},
     "output_type": "execute_result"
    }
   ],
   "source": [
    "a[[1,2]] # get 2nd and 3rd rows"
   ]
  },
  {
   "cell_type": "code",
   "execution_count": 49,
   "id": "5a2767db-2fc1-49c8-87f5-220eaa23f054",
   "metadata": {},
   "outputs": [
    {
     "data": {
      "text/plain": [
       "array([ 7, 12])"
      ]
     },
     "execution_count": 49,
     "metadata": {},
     "output_type": "execute_result"
    }
   ],
   "source": [
    "a[[1,2],[2,3]] # get 2nd and 3rd rows and 3rd and 4th columns"
   ]
  },
  {
   "cell_type": "code",
   "execution_count": 50,
   "id": "bd075fe7-408e-4fae-8196-c3c695f5c33c",
   "metadata": {},
   "outputs": [
    {
     "data": {
      "text/plain": [
       "array([[ 6,  7],\n",
       "       [10, 11]])"
      ]
     },
     "execution_count": 50,
     "metadata": {},
     "output_type": "execute_result"
    }
   ],
   "source": [
    "a[1:3,1:3]"
   ]
  },
  {
   "cell_type": "code",
   "execution_count": 51,
   "id": "a9f5cde2-4d6d-4de6-8c4e-f1baff809e9d",
   "metadata": {},
   "outputs": [
    {
     "data": {
      "text/plain": [
       "array([[ 9, 10, 11, 12]])"
      ]
     },
     "execution_count": 51,
     "metadata": {},
     "output_type": "execute_result"
    }
   ],
   "source": [
    "a[1:3][1:3]"
   ]
  },
  {
   "cell_type": "markdown",
   "id": "4aef9ce4-3dc4-4e20-8b68-66110cdeee39",
   "metadata": {},
   "source": [
    "#### Why difference?\n",
    "\n",
    "First one takes row and columns\n",
    "\n",
    "Second one takes rows and creates a temp array and on that again takes rows"
   ]
  },
  {
   "cell_type": "markdown",
   "id": "d7845857-3c7d-4cdd-b7fc-4bcb1d94d7f4",
   "metadata": {},
   "source": [
    "### **Masking**"
   ]
  },
  {
   "cell_type": "code",
   "execution_count": 52,
   "id": "9714edde-9542-4cfc-ad22-3987cd106092",
   "metadata": {},
   "outputs": [],
   "source": [
    "r = np.random.randint(1,100, 15)\n",
    "mask = r > 15"
   ]
  },
  {
   "cell_type": "code",
   "execution_count": 53,
   "id": "29241128-2e0c-4a42-aa41-297bd5189654",
   "metadata": {},
   "outputs": [
    {
     "data": {
      "text/plain": [
       "array([ True,  True,  True, False,  True,  True,  True,  True, False,\n",
       "        True, False,  True,  True,  True,  True])"
      ]
     },
     "execution_count": 53,
     "metadata": {},
     "output_type": "execute_result"
    }
   ],
   "source": [
    "mask"
   ]
  },
  {
   "cell_type": "code",
   "execution_count": 54,
   "id": "fcc8ebb0-364a-4b59-87bf-448342c7e0c3",
   "metadata": {},
   "outputs": [
    {
     "data": {
      "text/plain": [
       "array([87, 21, 43, 25, 96, 91, 89, 49, 56, 83, 21, 98])"
      ]
     },
     "execution_count": 54,
     "metadata": {},
     "output_type": "execute_result"
    }
   ],
   "source": [
    "r[mask]"
   ]
  },
  {
   "cell_type": "code",
   "execution_count": 55,
   "id": "3884d68d-91fc-4034-8ac0-987e38895af3",
   "metadata": {},
   "outputs": [
    {
     "data": {
      "text/plain": [
       "array([[14, 22,  8, 33],\n",
       "       [45, 47, 24, 13],\n",
       "       [36, 31, 19, 32],\n",
       "       [48, 43,  2, 38]])"
      ]
     },
     "execution_count": 55,
     "metadata": {},
     "output_type": "execute_result"
    }
   ],
   "source": [
    "r2 = np.random.randint(1,50,16).reshape(4,4)\n",
    "r2"
   ]
  },
  {
   "cell_type": "code",
   "execution_count": 56,
   "id": "2e6c0f8c-5717-4b53-bece-81ce1df3da55",
   "metadata": {},
   "outputs": [
    {
     "data": {
      "text/plain": [
       "array([[False, False, False, False],\n",
       "       [False, False, False, False],\n",
       "       [False, False, False, False],\n",
       "       [False, False,  True, False]])"
      ]
     },
     "execution_count": 56,
     "metadata": {},
     "output_type": "execute_result"
    }
   ],
   "source": [
    "mask = r2<7\n",
    "mask"
   ]
  },
  {
   "cell_type": "code",
   "execution_count": 57,
   "id": "7901aece-5362-4dd1-a898-d1cec9479e23",
   "metadata": {},
   "outputs": [
    {
     "data": {
      "text/plain": [
       "array([2])"
      ]
     },
     "execution_count": 57,
     "metadata": {},
     "output_type": "execute_result"
    }
   ],
   "source": [
    "r2[mask]"
   ]
  },
  {
   "cell_type": "code",
   "execution_count": 58,
   "id": "102a7dce-7c55-4d9d-ab51-6fb9b0417eaa",
   "metadata": {},
   "outputs": [
    {
     "data": {
      "text/plain": [
       "array([[  14,   22,    8,   33],\n",
       "       [  45,   47,   24,   13],\n",
       "       [  36,   31,   19,   32],\n",
       "       [  48,   43, 9999,   38]])"
      ]
     },
     "execution_count": 58,
     "metadata": {},
     "output_type": "execute_result"
    }
   ],
   "source": [
    "r2[mask] = 9999 # assigning at once\n",
    "r2"
   ]
  },
  {
   "cell_type": "markdown",
   "id": "996fbe0d-0226-402a-9547-4921309a12fd",
   "metadata": {},
   "source": [
    "### **Aggregate functions**"
   ]
  },
  {
   "cell_type": "code",
   "execution_count": 59,
   "id": "13bfffd7-3978-430f-81f5-b5ca82919117",
   "metadata": {},
   "outputs": [
    {
     "data": {
      "text/plain": [
       "array([ 0,  1,  2,  3,  4,  5,  6,  7,  8,  9, 10, 11, 12, 13, 14, 15])"
      ]
     },
     "execution_count": 59,
     "metadata": {},
     "output_type": "execute_result"
    }
   ],
   "source": [
    "a = np.arange(16)\n",
    "a"
   ]
  },
  {
   "cell_type": "code",
   "execution_count": 60,
   "id": "fee74815-b2d0-425f-b32c-ca4ca4a276d0",
   "metadata": {},
   "outputs": [
    {
     "name": "stdout",
     "output_type": "stream",
     "text": [
      "Sum 120\n",
      "Average:  7.5\n",
      "Min:  0\n",
      "Max:  15\n"
     ]
    }
   ],
   "source": [
    "print(\"Sum\", np.sum(a))\n",
    "print(\"Average: \", np.mean(a))\n",
    "print(\"Min: \", np.min(a))\n",
    "print(\"Max: \", np.max(a))"
   ]
  },
  {
   "cell_type": "code",
   "execution_count": 61,
   "id": "740ec38a-2f8c-4ad3-936b-76d2e0f93ac0",
   "metadata": {},
   "outputs": [
    {
     "data": {
      "text/plain": [
       "array([[127, 104,  29, 140],\n",
       "       [ 85, 199, 193, 186],\n",
       "       [108,  62,  60,  42],\n",
       "       [ 40,  24,  84,  48]])"
      ]
     },
     "execution_count": 61,
     "metadata": {},
     "output_type": "execute_result"
    }
   ],
   "source": [
    "b = np.random.randint(1,200, (4,4))\n",
    "b"
   ]
  },
  {
   "cell_type": "code",
   "execution_count": 62,
   "id": "5489fa50-cf3c-4739-9d64-32651ebb218f",
   "metadata": {},
   "outputs": [
    {
     "name": "stdout",
     "output_type": "stream",
     "text": [
      "Sum:  1531\n",
      "Mean:  95.6875\n",
      "Min:  24\n",
      "Max:  199\n"
     ]
    }
   ],
   "source": [
    "print(\"Sum: \", np.sum(b))\n",
    "print(\"Mean: \", np.mean(b))\n",
    "print(\"Min: \",np.min(b))\n",
    "print(\"Max: \", np.max(b))"
   ]
  },
  {
   "cell_type": "code",
   "execution_count": 63,
   "id": "38f8611b-cbae-4aa1-9c9a-df9c26e77341",
   "metadata": {},
   "outputs": [
    {
     "name": "stdout",
     "output_type": "stream",
     "text": [
      "Sum:  [360 389 366 416]\n",
      "Mean:  [ 90.    97.25  91.5  104.  ]\n",
      "Min:  [40 24 29 42]\n",
      "Max:  [127 199 193 186]\n"
     ]
    }
   ],
   "source": [
    "# Row wise\n",
    "print(\"Sum: \", np.sum(b, axis = 0))\n",
    "print(\"Mean: \", np.mean(b, axis = 0))\n",
    "print(\"Min: \",np.min(b, axis = 0))\n",
    "print(\"Max: \", np.max(b, axis = 0))"
   ]
  },
  {
   "cell_type": "code",
   "execution_count": 64,
   "id": "c3edc148-321e-44cf-9bf6-be1bd704c2d0",
   "metadata": {},
   "outputs": [
    {
     "name": "stdout",
     "output_type": "stream",
     "text": [
      "Sum:  [400 663 272 196]\n",
      "Mean:  [100.   165.75  68.    49.  ]\n",
      "Min:  [29 85 42 24]\n",
      "Max:  [140 199 108  84]\n"
     ]
    }
   ],
   "source": [
    "# Column wise\n",
    "print(\"Sum: \", np.sum(b, axis = 1))\n",
    "print(\"Mean: \", np.mean(b, axis = 1))\n",
    "print(\"Min: \",np.min(b, axis = 1))\n",
    "print(\"Max: \", np.max(b, axis = 1))"
   ]
  },
  {
   "cell_type": "markdown",
   "id": "5390d5f5-d706-43ca-9cce-ea5af0e73546",
   "metadata": {},
   "source": [
    "### **Logical Functions**"
   ]
  },
  {
   "cell_type": "code",
   "execution_count": 65,
   "id": "dbd8820a-fd58-4183-90eb-3cf1b87d9c43",
   "metadata": {},
   "outputs": [
    {
     "data": {
      "text/plain": [
       "(True, False)"
      ]
     },
     "execution_count": 65,
     "metadata": {},
     "output_type": "execute_result"
    }
   ],
   "source": [
    "mask1 = [True, False, True, True]\n",
    "np.any(mask1), np.all(mask1)"
   ]
  },
  {
   "cell_type": "code",
   "execution_count": 66,
   "id": "c736c7ac-22a8-4077-9733-a099b12cbf10",
   "metadata": {},
   "outputs": [
    {
     "data": {
      "text/plain": [
       "True"
      ]
     },
     "execution_count": 66,
     "metadata": {},
     "output_type": "execute_result"
    }
   ],
   "source": [
    "prices = np.array([50,45,25,20,35,70])\n",
    "budget = 40\n",
    "# any prices less than 40 ?\n",
    "np.any(prices < budget)"
   ]
  },
  {
   "cell_type": "code",
   "execution_count": 67,
   "id": "a4f3d89c-e5d6-41a9-9659-c812a2174338",
   "metadata": {},
   "outputs": [
    {
     "data": {
      "text/plain": [
       "False"
      ]
     },
     "execution_count": 67,
     "metadata": {},
     "output_type": "execute_result"
    }
   ],
   "source": [
    "# All prices less than 40\n",
    "np.all(prices < budget)"
   ]
  },
  {
   "cell_type": "code",
   "execution_count": 68,
   "id": "cc29ace7-39b4-4ad9-8e2a-1082c74f3f7d",
   "metadata": {},
   "outputs": [
    {
     "data": {
      "text/plain": [
       "array([  4,  -9,  -3, -18,   9,  -3,  -9,  11,   4,  16])"
      ]
     },
     "execution_count": 68,
     "metadata": {},
     "output_type": "execute_result"
    }
   ],
   "source": [
    "arr = np.random.randint(-20, 20, 10)\n",
    "arr"
   ]
  },
  {
   "cell_type": "code",
   "execution_count": 70,
   "id": "b9b5497a-be86-45fe-810d-9457288d7de1",
   "metadata": {},
   "outputs": [
    {
     "data": {
      "text/plain": [
       "array(['4', 'invalid', 'invalid', 'invalid', '9', 'invalid', 'invalid',\n",
       "       '11', '4', '16'], dtype='<U21')"
      ]
     },
     "execution_count": 70,
     "metadata": {},
     "output_type": "execute_result"
    }
   ],
   "source": [
    "np.where(arr < 0, \"invalid\",arr)"
   ]
  },
  {
   "cell_type": "code",
   "execution_count": 72,
   "id": "f535fb5a-6b43-478d-a65e-4eede1fdaa95",
   "metadata": {},
   "outputs": [
    {
     "data": {
      "text/plain": [
       "array([  4. ,  -9. ,  -3. , -18. ,   8.1,  -3. ,  -9. ,   9.9,   4. ,\n",
       "        14.4])"
      ]
     },
     "execution_count": 72,
     "metadata": {},
     "output_type": "execute_result"
    }
   ],
   "source": [
    "np.where(arr > 5, arr *0.9,arr)"
   ]
  },
  {
   "cell_type": "code",
   "execution_count": null,
   "id": "aadb4983-6a7f-403d-a676-f9ddb1aacfc8",
   "metadata": {},
   "outputs": [],
   "source": []
  }
 ],
 "metadata": {
  "kernelspec": {
   "display_name": "Python 3 (ipykernel)",
   "language": "python",
   "name": "python3"
  },
  "language_info": {
   "codemirror_mode": {
    "name": "ipython",
    "version": 3
   },
   "file_extension": ".py",
   "mimetype": "text/x-python",
   "name": "python",
   "nbconvert_exporter": "python",
   "pygments_lexer": "ipython3",
   "version": "3.11.0rc1"
  }
 },
 "nbformat": 4,
 "nbformat_minor": 5
}
