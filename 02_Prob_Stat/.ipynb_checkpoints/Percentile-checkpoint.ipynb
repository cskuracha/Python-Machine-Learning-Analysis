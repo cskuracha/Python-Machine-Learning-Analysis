{
 "cells": [
  {
   "cell_type": "code",
   "execution_count": 1,
   "id": "a04a7c06-00c9-486d-bebb-88c53110ae44",
   "metadata": {},
   "outputs": [],
   "source": [
    "import numpy as np\n",
    "import pandas as pd\n",
    "import seaborn as sns\n",
    "import matplotlib.pyplot as plt"
   ]
  },
  {
   "cell_type": "code",
   "execution_count": 2,
   "id": "ebe68503-4f93-453f-a1da-2bbd1f589564",
   "metadata": {},
   "outputs": [],
   "source": [
    "df_hw = pd.read_csv(\"weight-height.csv\")"
   ]
  },
  {
   "cell_type": "code",
   "execution_count": 3,
   "id": "e0ddc69b-718e-49ed-8235-fd9cee96b9cf",
   "metadata": {},
   "outputs": [
    {
     "data": {
      "text/html": [
       "<div>\n",
       "<style scoped>\n",
       "    .dataframe tbody tr th:only-of-type {\n",
       "        vertical-align: middle;\n",
       "    }\n",
       "\n",
       "    .dataframe tbody tr th {\n",
       "        vertical-align: top;\n",
       "    }\n",
       "\n",
       "    .dataframe thead th {\n",
       "        text-align: right;\n",
       "    }\n",
       "</style>\n",
       "<table border=\"1\" class=\"dataframe\">\n",
       "  <thead>\n",
       "    <tr style=\"text-align: right;\">\n",
       "      <th></th>\n",
       "      <th>Gender</th>\n",
       "      <th>Height</th>\n",
       "      <th>Weight</th>\n",
       "    </tr>\n",
       "  </thead>\n",
       "  <tbody>\n",
       "    <tr>\n",
       "      <th>0</th>\n",
       "      <td>Male</td>\n",
       "      <td>73.847017</td>\n",
       "      <td>241.893563</td>\n",
       "    </tr>\n",
       "    <tr>\n",
       "      <th>1</th>\n",
       "      <td>Male</td>\n",
       "      <td>68.781904</td>\n",
       "      <td>162.310473</td>\n",
       "    </tr>\n",
       "    <tr>\n",
       "      <th>2</th>\n",
       "      <td>Male</td>\n",
       "      <td>74.110105</td>\n",
       "      <td>212.740856</td>\n",
       "    </tr>\n",
       "    <tr>\n",
       "      <th>3</th>\n",
       "      <td>Male</td>\n",
       "      <td>71.730978</td>\n",
       "      <td>220.042470</td>\n",
       "    </tr>\n",
       "    <tr>\n",
       "      <th>4</th>\n",
       "      <td>Male</td>\n",
       "      <td>69.881796</td>\n",
       "      <td>206.349801</td>\n",
       "    </tr>\n",
       "  </tbody>\n",
       "</table>\n",
       "</div>"
      ],
      "text/plain": [
       "  Gender     Height      Weight\n",
       "0   Male  73.847017  241.893563\n",
       "1   Male  68.781904  162.310473\n",
       "2   Male  74.110105  212.740856\n",
       "3   Male  71.730978  220.042470\n",
       "4   Male  69.881796  206.349801"
      ]
     },
     "execution_count": 3,
     "metadata": {},
     "output_type": "execute_result"
    }
   ],
   "source": [
    "df_hw.head()"
   ]
  },
  {
   "cell_type": "code",
   "execution_count": 4,
   "id": "1426d7cf-f7a3-48b1-b40f-4a7e77e0a198",
   "metadata": {},
   "outputs": [
    {
     "data": {
      "text/html": [
       "<div>\n",
       "<style scoped>\n",
       "    .dataframe tbody tr th:only-of-type {\n",
       "        vertical-align: middle;\n",
       "    }\n",
       "\n",
       "    .dataframe tbody tr th {\n",
       "        vertical-align: top;\n",
       "    }\n",
       "\n",
       "    .dataframe thead th {\n",
       "        text-align: right;\n",
       "    }\n",
       "</style>\n",
       "<table border=\"1\" class=\"dataframe\">\n",
       "  <thead>\n",
       "    <tr style=\"text-align: right;\">\n",
       "      <th></th>\n",
       "      <th>Height</th>\n",
       "      <th>Weight</th>\n",
       "    </tr>\n",
       "  </thead>\n",
       "  <tbody>\n",
       "    <tr>\n",
       "      <th>count</th>\n",
       "      <td>10000.000000</td>\n",
       "      <td>10000.000000</td>\n",
       "    </tr>\n",
       "    <tr>\n",
       "      <th>mean</th>\n",
       "      <td>66.367560</td>\n",
       "      <td>161.440357</td>\n",
       "    </tr>\n",
       "    <tr>\n",
       "      <th>std</th>\n",
       "      <td>3.847528</td>\n",
       "      <td>32.108439</td>\n",
       "    </tr>\n",
       "    <tr>\n",
       "      <th>min</th>\n",
       "      <td>54.263133</td>\n",
       "      <td>64.700127</td>\n",
       "    </tr>\n",
       "    <tr>\n",
       "      <th>25%</th>\n",
       "      <td>63.505620</td>\n",
       "      <td>135.818051</td>\n",
       "    </tr>\n",
       "    <tr>\n",
       "      <th>50%</th>\n",
       "      <td>66.318070</td>\n",
       "      <td>161.212928</td>\n",
       "    </tr>\n",
       "    <tr>\n",
       "      <th>75%</th>\n",
       "      <td>69.174262</td>\n",
       "      <td>187.169525</td>\n",
       "    </tr>\n",
       "    <tr>\n",
       "      <th>max</th>\n",
       "      <td>78.998742</td>\n",
       "      <td>269.989699</td>\n",
       "    </tr>\n",
       "  </tbody>\n",
       "</table>\n",
       "</div>"
      ],
      "text/plain": [
       "             Height        Weight\n",
       "count  10000.000000  10000.000000\n",
       "mean      66.367560    161.440357\n",
       "std        3.847528     32.108439\n",
       "min       54.263133     64.700127\n",
       "25%       63.505620    135.818051\n",
       "50%       66.318070    161.212928\n",
       "75%       69.174262    187.169525\n",
       "max       78.998742    269.989699"
      ]
     },
     "execution_count": 4,
     "metadata": {},
     "output_type": "execute_result"
    }
   ],
   "source": [
    "df_hw.describe()"
   ]
  },
  {
   "cell_type": "code",
   "execution_count": 5,
   "id": "0776c539-54ed-48dd-9d55-4fab8ec0b2c3",
   "metadata": {},
   "outputs": [
    {
     "data": {
      "text/html": [
       "<div>\n",
       "<style scoped>\n",
       "    .dataframe tbody tr th:only-of-type {\n",
       "        vertical-align: middle;\n",
       "    }\n",
       "\n",
       "    .dataframe tbody tr th {\n",
       "        vertical-align: top;\n",
       "    }\n",
       "\n",
       "    .dataframe thead th {\n",
       "        text-align: right;\n",
       "    }\n",
       "</style>\n",
       "<table border=\"1\" class=\"dataframe\">\n",
       "  <thead>\n",
       "    <tr style=\"text-align: right;\">\n",
       "      <th></th>\n",
       "      <th>Gender</th>\n",
       "      <th>Height</th>\n",
       "      <th>Weight</th>\n",
       "    </tr>\n",
       "  </thead>\n",
       "  <tbody>\n",
       "    <tr>\n",
       "      <th>9</th>\n",
       "      <td>Male</td>\n",
       "      <td>63.456494</td>\n",
       "      <td>156.399676</td>\n",
       "    </tr>\n",
       "    <tr>\n",
       "      <th>123</th>\n",
       "      <td>Male</td>\n",
       "      <td>62.706990</td>\n",
       "      <td>149.969618</td>\n",
       "    </tr>\n",
       "    <tr>\n",
       "      <th>157</th>\n",
       "      <td>Male</td>\n",
       "      <td>61.937323</td>\n",
       "      <td>147.263687</td>\n",
       "    </tr>\n",
       "    <tr>\n",
       "      <th>205</th>\n",
       "      <td>Male</td>\n",
       "      <td>63.414587</td>\n",
       "      <td>160.140616</td>\n",
       "    </tr>\n",
       "    <tr>\n",
       "      <th>228</th>\n",
       "      <td>Male</td>\n",
       "      <td>63.440247</td>\n",
       "      <td>135.655876</td>\n",
       "    </tr>\n",
       "    <tr>\n",
       "      <th>...</th>\n",
       "      <td>...</td>\n",
       "      <td>...</td>\n",
       "      <td>...</td>\n",
       "    </tr>\n",
       "    <tr>\n",
       "      <th>9991</th>\n",
       "      <td>Female</td>\n",
       "      <td>62.636675</td>\n",
       "      <td>102.853563</td>\n",
       "    </tr>\n",
       "    <tr>\n",
       "      <th>9992</th>\n",
       "      <td>Female</td>\n",
       "      <td>62.077832</td>\n",
       "      <td>138.691680</td>\n",
       "    </tr>\n",
       "    <tr>\n",
       "      <th>9993</th>\n",
       "      <td>Female</td>\n",
       "      <td>60.030434</td>\n",
       "      <td>97.687432</td>\n",
       "    </tr>\n",
       "    <tr>\n",
       "      <th>9994</th>\n",
       "      <td>Female</td>\n",
       "      <td>59.098250</td>\n",
       "      <td>110.529686</td>\n",
       "    </tr>\n",
       "    <tr>\n",
       "      <th>9999</th>\n",
       "      <td>Female</td>\n",
       "      <td>61.944246</td>\n",
       "      <td>113.649103</td>\n",
       "    </tr>\n",
       "  </tbody>\n",
       "</table>\n",
       "<p>2500 rows × 3 columns</p>\n",
       "</div>"
      ],
      "text/plain": [
       "      Gender     Height      Weight\n",
       "9       Male  63.456494  156.399676\n",
       "123     Male  62.706990  149.969618\n",
       "157     Male  61.937323  147.263687\n",
       "205     Male  63.414587  160.140616\n",
       "228     Male  63.440247  135.655876\n",
       "...      ...        ...         ...\n",
       "9991  Female  62.636675  102.853563\n",
       "9992  Female  62.077832  138.691680\n",
       "9993  Female  60.030434   97.687432\n",
       "9994  Female  59.098250  110.529686\n",
       "9999  Female  61.944246  113.649103\n",
       "\n",
       "[2500 rows x 3 columns]"
      ]
     },
     "execution_count": 5,
     "metadata": {},
     "output_type": "execute_result"
    }
   ],
   "source": [
    "df_hw[df_hw['Height']<=63.505620]"
   ]
  },
  {
   "cell_type": "code",
   "execution_count": 6,
   "id": "dd0d3f8c-15b4-4b74-9c3e-52bb3aa2bdaa",
   "metadata": {},
   "outputs": [
    {
     "data": {
      "text/plain": [
       "2500"
      ]
     },
     "execution_count": 6,
     "metadata": {},
     "output_type": "execute_result"
    }
   ],
   "source": [
    "len(df_hw[df_hw['Height'] <= 63.505620])"
   ]
  },
  {
   "cell_type": "code",
   "execution_count": 7,
   "id": "8ec231d0-15ec-4256-8134-5bc5269c8343",
   "metadata": {},
   "outputs": [
    {
     "data": {
      "text/plain": [
       "0.25"
      ]
     },
     "execution_count": 7,
     "metadata": {},
     "output_type": "execute_result"
    }
   ],
   "source": [
    "len(df_hw[df_hw['Height'] <= 63.505620])/len(df_hw)"
   ]
  },
  {
   "cell_type": "code",
   "execution_count": 8,
   "id": "d0473360-826c-4147-a241-87e2d98e3eab",
   "metadata": {},
   "outputs": [
    {
     "data": {
      "text/plain": [
       "0.75"
      ]
     },
     "execution_count": 8,
     "metadata": {},
     "output_type": "execute_result"
    }
   ],
   "source": [
    "len(df_hw[df_hw[\"Height\"] <= 69.174262])/len(df_hw)"
   ]
  },
  {
   "cell_type": "code",
   "execution_count": 9,
   "id": "7fd7b699-42cb-4d20-85d0-707122fabbc6",
   "metadata": {},
   "outputs": [],
   "source": [
    "df_height = df_hw[\"Height\"]"
   ]
  },
  {
   "cell_type": "code",
   "execution_count": 10,
   "id": "2f333bf3-05df-465a-8d05-6a83fea35c4f",
   "metadata": {},
   "outputs": [
    {
     "data": {
      "text/plain": [
       "0    73.847017\n",
       "1    68.781904\n",
       "2    74.110105\n",
       "3    71.730978\n",
       "4    69.881796\n",
       "Name: Height, dtype: float64"
      ]
     },
     "execution_count": 10,
     "metadata": {},
     "output_type": "execute_result"
    }
   ],
   "source": [
    "df_height.head()"
   ]
  },
  {
   "cell_type": "code",
   "execution_count": 11,
   "id": "745d14aa-ef3b-4da4-8194-7ef1f8832e04",
   "metadata": {},
   "outputs": [
    {
     "data": {
      "text/plain": [
       "54.2631333250971"
      ]
     },
     "execution_count": 11,
     "metadata": {},
     "output_type": "execute_result"
    }
   ],
   "source": [
    "df_height.min()"
   ]
  },
  {
   "cell_type": "code",
   "execution_count": 12,
   "id": "f8c9f4d8-67f6-4d8d-aaca-c804ef25bdc6",
   "metadata": {},
   "outputs": [
    {
     "data": {
      "text/plain": [
       "array([10. , 12.5, 15. , 17.5, 20. ])"
      ]
     },
     "execution_count": 12,
     "metadata": {},
     "output_type": "execute_result"
    }
   ],
   "source": [
    "np.linspace(10,20,5)"
   ]
  },
  {
   "cell_type": "code",
   "execution_count": 13,
   "id": "22c73f75-d7f6-42da-8961-8aed27ab7dcd",
   "metadata": {},
   "outputs": [
    {
     "data": {
      "text/plain": [
       "array([10.        , 10.20408163, 10.40816327, 10.6122449 , 10.81632653,\n",
       "       11.02040816, 11.2244898 , 11.42857143, 11.63265306, 11.83673469,\n",
       "       12.04081633, 12.24489796, 12.44897959, 12.65306122, 12.85714286,\n",
       "       13.06122449, 13.26530612, 13.46938776, 13.67346939, 13.87755102,\n",
       "       14.08163265, 14.28571429, 14.48979592, 14.69387755, 14.89795918,\n",
       "       15.10204082, 15.30612245, 15.51020408, 15.71428571, 15.91836735,\n",
       "       16.12244898, 16.32653061, 16.53061224, 16.73469388, 16.93877551,\n",
       "       17.14285714, 17.34693878, 17.55102041, 17.75510204, 17.95918367,\n",
       "       18.16326531, 18.36734694, 18.57142857, 18.7755102 , 18.97959184,\n",
       "       19.18367347, 19.3877551 , 19.59183673, 19.79591837, 20.        ])"
      ]
     },
     "execution_count": 13,
     "metadata": {},
     "output_type": "execute_result"
    }
   ],
   "source": [
    "np.linspace(10,20,50)"
   ]
  },
  {
   "cell_type": "code",
   "execution_count": 14,
   "id": "d7442e60-7743-4e59-800e-0e07271531b9",
   "metadata": {},
   "outputs": [
    {
     "data": {
      "text/plain": [
       "(54.2631333250971, 78.9987423463896)"
      ]
     },
     "execution_count": 14,
     "metadata": {},
     "output_type": "execute_result"
    }
   ],
   "source": [
    "df_height.min(), df_height.max()"
   ]
  },
  {
   "cell_type": "code",
   "execution_count": 15,
   "id": "3a6e2fc9-1b1a-4804-8ea2-57f3366ab9c8",
   "metadata": {},
   "outputs": [],
   "source": [
    "x_values = np.linspace(50, 80, 100)"
   ]
  },
  {
   "cell_type": "code",
   "execution_count": 16,
   "id": "b9aa3983-0b0e-4d62-a7e0-4b9bf34ff55d",
   "metadata": {},
   "outputs": [
    {
     "data": {
      "text/plain": [
       "array([50.        , 50.3030303 , 50.60606061, 50.90909091, 51.21212121,\n",
       "       51.51515152, 51.81818182, 52.12121212, 52.42424242, 52.72727273,\n",
       "       53.03030303, 53.33333333, 53.63636364, 53.93939394, 54.24242424,\n",
       "       54.54545455, 54.84848485, 55.15151515, 55.45454545, 55.75757576,\n",
       "       56.06060606, 56.36363636, 56.66666667, 56.96969697, 57.27272727,\n",
       "       57.57575758, 57.87878788, 58.18181818, 58.48484848, 58.78787879,\n",
       "       59.09090909, 59.39393939, 59.6969697 , 60.        , 60.3030303 ,\n",
       "       60.60606061, 60.90909091, 61.21212121, 61.51515152, 61.81818182,\n",
       "       62.12121212, 62.42424242, 62.72727273, 63.03030303, 63.33333333,\n",
       "       63.63636364, 63.93939394, 64.24242424, 64.54545455, 64.84848485,\n",
       "       65.15151515, 65.45454545, 65.75757576, 66.06060606, 66.36363636,\n",
       "       66.66666667, 66.96969697, 67.27272727, 67.57575758, 67.87878788,\n",
       "       68.18181818, 68.48484848, 68.78787879, 69.09090909, 69.39393939,\n",
       "       69.6969697 , 70.        , 70.3030303 , 70.60606061, 70.90909091,\n",
       "       71.21212121, 71.51515152, 71.81818182, 72.12121212, 72.42424242,\n",
       "       72.72727273, 73.03030303, 73.33333333, 73.63636364, 73.93939394,\n",
       "       74.24242424, 74.54545455, 74.84848485, 75.15151515, 75.45454545,\n",
       "       75.75757576, 76.06060606, 76.36363636, 76.66666667, 76.96969697,\n",
       "       77.27272727, 77.57575758, 77.87878788, 78.18181818, 78.48484848,\n",
       "       78.78787879, 79.09090909, 79.39393939, 79.6969697 , 80.        ])"
      ]
     },
     "execution_count": 16,
     "metadata": {},
     "output_type": "execute_result"
    }
   ],
   "source": [
    "x_values"
   ]
  },
  {
   "cell_type": "code",
   "execution_count": 17,
   "id": "947129fc-59a4-45bc-865f-c924e0dcad3e",
   "metadata": {},
   "outputs": [],
   "source": [
    "num_peopl_less_x = 10000"
   ]
  },
  {
   "cell_type": "code",
   "execution_count": 18,
   "id": "2c87bbdd-08fd-4079-b9e2-39e4c89272d3",
   "metadata": {},
   "outputs": [],
   "source": [
    "y_values=[] # pertile\n",
    "total = len(df_height)"
   ]
  },
  {
   "cell_type": "code",
   "execution_count": 19,
   "id": "012e65d7-d2db-4bb6-bcc7-ac22204fbd32",
   "metadata": {},
   "outputs": [],
   "source": [
    "for x in x_values:\n",
    "  shorter_than_x = df_height[df_height<=x]\n",
    "  num_peopl_less_x = len(shorter_than_x)\n",
    "  percentile = num_peopl_less_x/total\n",
    "  y_values.append(percentile)"
   ]
  },
  {
   "cell_type": "code",
   "execution_count": 20,
   "id": "db4eff6a-ca2e-4359-bad6-01796d0fe36a",
   "metadata": {},
   "outputs": [
    {
     "data": {
      "text/plain": [
       "[0.0,\n",
       " 0.0,\n",
       " 0.0,\n",
       " 0.0,\n",
       " 0.0,\n",
       " 0.0,\n",
       " 0.0,\n",
       " 0.0,\n",
       " 0.0,\n",
       " 0.0,\n",
       " 0.0,\n",
       " 0.0,\n",
       " 0.0,\n",
       " 0.0,\n",
       " 0.0,\n",
       " 0.0001,\n",
       " 0.0002,\n",
       " 0.0004,\n",
       " 0.0005,\n",
       " 0.0008,\n",
       " 0.001,\n",
       " 0.0017,\n",
       " 0.0022,\n",
       " 0.0034,\n",
       " 0.005,\n",
       " 0.0063,\n",
       " 0.0083,\n",
       " 0.0105,\n",
       " 0.0135,\n",
       " 0.018,\n",
       " 0.0224,\n",
       " 0.0272,\n",
       " 0.0331,\n",
       " 0.0413,\n",
       " 0.0519,\n",
       " 0.0626,\n",
       " 0.0768,\n",
       " 0.0911,\n",
       " 0.1063,\n",
       " 0.1247,\n",
       " 0.1454,\n",
       " 0.1669,\n",
       " 0.189,\n",
       " 0.2124,\n",
       " 0.2355,\n",
       " 0.2596,\n",
       " 0.2877,\n",
       " 0.3133,\n",
       " 0.3393,\n",
       " 0.3686,\n",
       " 0.3965,\n",
       " 0.424,\n",
       " 0.4492,\n",
       " 0.4745,\n",
       " 0.5046,\n",
       " 0.5304,\n",
       " 0.5563,\n",
       " 0.5849,\n",
       " 0.6124,\n",
       " 0.6381,\n",
       " 0.6669,\n",
       " 0.6933,\n",
       " 0.7172,\n",
       " 0.743,\n",
       " 0.7684,\n",
       " 0.7914,\n",
       " 0.8122,\n",
       " 0.8303,\n",
       " 0.8511,\n",
       " 0.8689,\n",
       " 0.8859,\n",
       " 0.9015,\n",
       " 0.9185,\n",
       " 0.9318,\n",
       " 0.944,\n",
       " 0.953,\n",
       " 0.9607,\n",
       " 0.9671,\n",
       " 0.9738,\n",
       " 0.9793,\n",
       " 0.9841,\n",
       " 0.9877,\n",
       " 0.9906,\n",
       " 0.9924,\n",
       " 0.9939,\n",
       " 0.9953,\n",
       " 0.9965,\n",
       " 0.9969,\n",
       " 0.998,\n",
       " 0.9988,\n",
       " 0.9992,\n",
       " 0.9995,\n",
       " 0.9995,\n",
       " 0.9996,\n",
       " 0.9997,\n",
       " 0.9999,\n",
       " 1.0,\n",
       " 1.0,\n",
       " 1.0,\n",
       " 1.0]"
      ]
     },
     "execution_count": 20,
     "metadata": {},
     "output_type": "execute_result"
    }
   ],
   "source": [
    "y_values"
   ]
  },
  {
   "cell_type": "code",
   "execution_count": null,
   "id": "c77cec21-5e3a-480e-b641-cb4969a9490e",
   "metadata": {},
   "outputs": [],
   "source": []
  }
 ],
 "metadata": {
  "kernelspec": {
   "display_name": "Python 3 (ipykernel)",
   "language": "python",
   "name": "python3"
  },
  "language_info": {
   "codemirror_mode": {
    "name": "ipython",
    "version": 3
   },
   "file_extension": ".py",
   "mimetype": "text/x-python",
   "name": "python",
   "nbconvert_exporter": "python",
   "pygments_lexer": "ipython3",
   "version": "3.11.0rc1"
  }
 },
 "nbformat": 4,
 "nbformat_minor": 5
}
