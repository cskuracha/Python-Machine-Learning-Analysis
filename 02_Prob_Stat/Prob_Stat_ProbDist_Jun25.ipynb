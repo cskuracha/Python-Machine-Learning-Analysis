{
 "cells": [
  {
   "cell_type": "code",
   "execution_count": 12,
   "id": "ecd5dd21-84c3-4fae-afe5-9b3b439a0a78",
   "metadata": {},
   "outputs": [],
   "source": [
    "import math as m\n",
    "import numpy as np\n",
    "import pandas as pd\n",
    "import matplotlib.pyplot as plt\n",
    "import seaborn as sns"
   ]
  },
  {
   "cell_type": "code",
   "execution_count": 13,
   "id": "26da27c7-ce4c-4942-8544-cba311fc1d65",
   "metadata": {},
   "outputs": [
    {
     "data": {
      "text/plain": [
       "array(['Red', 'Red', 'Red', 'Red'], dtype='<U4')"
      ]
     },
     "execution_count": 13,
     "metadata": {},
     "output_type": "execute_result"
    }
   ],
   "source": [
    "rolls = np.random.choice(['Red','Red','Red','Blue','Blue'], size = 4)\n",
    "rolls"
   ]
  },
  {
   "cell_type": "code",
   "execution_count": 14,
   "id": "029d39e4-d11d-46c0-967d-16effeb28a2d",
   "metadata": {},
   "outputs": [
    {
     "data": {
      "text/plain": [
       "4"
      ]
     },
     "execution_count": 14,
     "metadata": {},
     "output_type": "execute_result"
    }
   ],
   "source": [
    "np.count_nonzero(rolls == \"Red\")"
   ]
  },
  {
   "cell_type": "code",
   "execution_count": 15,
   "id": "471cf5ea-233f-4a01-bd6f-16804022251f",
   "metadata": {},
   "outputs": [],
   "source": [
    "red_values = []\n",
    "for person in range(1000):\n",
    "    rolls = np.random.choice(['Red','Red','Red','Blue','Blue'], size = 4)\n",
    "    num_red = np.count_nonzero(rolls == 'Red')\n",
    "    red_values.append(num_red)"
   ]
  },
  {
   "cell_type": "code",
   "execution_count": 16,
   "id": "7c6b543b-31ec-48cd-b4be-73592033b6ff",
   "metadata": {},
   "outputs": [],
   "source": [
    "#red_values"
   ]
  },
  {
   "cell_type": "code",
   "execution_count": 17,
   "id": "7b49ae5c-39b7-408f-a4bc-a2b655e90111",
   "metadata": {},
   "outputs": [
    {
     "name": "stderr",
     "output_type": "stream",
     "text": [
      "/tmp/ipykernel_425/4274264322.py:1: FutureWarning: pandas.value_counts is deprecated and will be removed in a future version. Use pd.Series(obj).value_counts() instead.\n",
      "  pd.value_counts(red_values, normalize = True)\n",
      "/tmp/ipykernel_425/4274264322.py:1: FutureWarning: value_counts with argument that is not not a Series, Index, ExtensionArray, or np.ndarray is deprecated and will raise in a future version.\n",
      "  pd.value_counts(red_values, normalize = True)\n"
     ]
    },
    {
     "data": {
      "text/plain": [
       "2    0.356\n",
       "3    0.331\n",
       "1    0.159\n",
       "4    0.132\n",
       "0    0.022\n",
       "Name: proportion, dtype: float64"
      ]
     },
     "execution_count": 17,
     "metadata": {},
     "output_type": "execute_result"
    }
   ],
   "source": [
    "pd.value_counts(red_values, normalize = True)"
   ]
  },
  {
   "cell_type": "markdown",
   "id": "ba3fe869-e334-4e7c-81f3-a3dd025e2d3b",
   "metadata": {},
   "source": [
    "### **Therotical**"
   ]
  },
  {
   "cell_type": "code",
   "execution_count": 1,
   "id": "9147abc1-a24a-4c4a-9f30-551e646e353b",
   "metadata": {},
   "outputs": [],
   "source": [
    "import math"
   ]
  },
  {
   "cell_type": "code",
   "execution_count": 2,
   "id": "44a62bf6-c529-4299-9875-477a333019c6",
   "metadata": {},
   "outputs": [
    {
     "data": {
      "text/plain": [
       "6"
      ]
     },
     "execution_count": 2,
     "metadata": {},
     "output_type": "execute_result"
    }
   ],
   "source": [
    "math.comb(4,2)"
   ]
  },
  {
   "cell_type": "code",
   "execution_count": 3,
   "id": "7051d388-0f90-489f-b1d6-3a7eaa963d33",
   "metadata": {},
   "outputs": [
    {
     "data": {
      "text/plain": [
       "1"
      ]
     },
     "execution_count": 3,
     "metadata": {},
     "output_type": "execute_result"
    }
   ],
   "source": [
    "math.comb(4,4)"
   ]
  },
  {
   "cell_type": "code",
   "execution_count": 4,
   "id": "6d48dc2d-76be-4570-a60d-d73ca132eb4e",
   "metadata": {},
   "outputs": [
    {
     "data": {
      "text/plain": [
       "(4, 4)"
      ]
     },
     "execution_count": 4,
     "metadata": {},
     "output_type": "execute_result"
    }
   ],
   "source": [
    "math.comb(4,1),math.comb(4,3)"
   ]
  },
  {
   "cell_type": "code",
   "execution_count": 11,
   "id": "51f709ce-e81b-4fdc-a8aa-574653eda223",
   "metadata": {},
   "outputs": [
    {
     "data": {
      "text/plain": [
       "0.3456000000000001"
      ]
     },
     "execution_count": 11,
     "metadata": {},
     "output_type": "execute_result"
    }
   ],
   "source": [
    "# P(X==2)\n",
    "math.comb(4,2) * (2/5)**2 * (3/5)**2"
   ]
  },
  {
   "cell_type": "code",
   "execution_count": 12,
   "id": "aa38a122-ebe5-42db-8d54-9b5202aa4c64",
   "metadata": {},
   "outputs": [],
   "source": [
    "from scipy.stats import binom"
   ]
  },
  {
   "cell_type": "code",
   "execution_count": 13,
   "id": "c34b7ad2-a3c9-44db-9c51-d49df8b3ea57",
   "metadata": {},
   "outputs": [
    {
     "data": {
      "text/plain": [
       "0.3456"
      ]
     },
     "execution_count": 13,
     "metadata": {},
     "output_type": "execute_result"
    }
   ],
   "source": [
    "prob_2_red = binom.pmf(n = 4, p = 3/5,k=2)\n",
    "prob_2_red"
   ]
  },
  {
   "cell_type": "code",
   "execution_count": 14,
   "id": "ff87b225-a074-4110-bc26-f4e8d022a6ca",
   "metadata": {},
   "outputs": [
    {
     "data": {
      "text/plain": [
       "0.3456000000000001"
      ]
     },
     "execution_count": 14,
     "metadata": {},
     "output_type": "execute_result"
    }
   ],
   "source": [
    "prob_3_red = binom.pmf(n = 4, p = 3/5,k=3)\n",
    "prob_3_red"
   ]
  },
  {
   "cell_type": "code",
   "execution_count": 9,
   "id": "785f1d3d-93cc-406f-8a59-97097c8751bd",
   "metadata": {},
   "outputs": [
    {
     "data": {
      "text/plain": [
       "0.15359999999999996"
      ]
     },
     "execution_count": 9,
     "metadata": {},
     "output_type": "execute_result"
    }
   ],
   "source": [
    "prob_1_red = binom.pmf(n = 4, p = 3/5,k=1)\n",
    "prob_1_red"
   ]
  },
  {
   "cell_type": "code",
   "execution_count": 10,
   "id": "24bf5c66-614d-4f81-9012-161ed590a226",
   "metadata": {},
   "outputs": [
    {
     "data": {
      "text/plain": [
       "0.04394531250000004"
      ]
     },
     "execution_count": 10,
     "metadata": {},
     "output_type": "execute_result"
    }
   ],
   "source": [
    "binom.pmf(n=10,p=0.5,k=2)"
   ]
  },
  {
   "cell_type": "markdown",
   "id": "461a97cc-d54c-4e52-bdeb-4a4f6ac31525",
   "metadata": {},
   "source": [
    "#### Suppose that we float 10 quizzes, with 4 options each. Only 1 option is correct, and we are guessing the answers What is the probability of getting exactly 2 answers right"
   ]
  },
  {
   "cell_type": "code",
   "execution_count": 16,
   "id": "dd2aaa40-02f4-487d-97f0-40f9598fbac5",
   "metadata": {},
   "outputs": [
    {
     "data": {
      "text/plain": [
       "0.28156757354736334"
      ]
     },
     "execution_count": 16,
     "metadata": {},
     "output_type": "execute_result"
    }
   ],
   "source": [
    "n = 10\n",
    "k = 2\n",
    "p = 1/4\n",
    "prob_2_right_answers = binom.pmf(n = 10, p = 1/4, k = 2)\n",
    "prob_2_right_answers"
   ]
  },
  {
   "cell_type": "code",
   "execution_count": 17,
   "id": "013442cb-7dd0-471f-9d41-31b13ea3d44a",
   "metadata": {},
   "outputs": [
    {
     "data": {
      "text/plain": [
       "9.5367431640625e-07"
      ]
     },
     "execution_count": 17,
     "metadata": {},
     "output_type": "execute_result"
    }
   ],
   "source": [
    "# Prob that all answers are correct\n",
    "binom.pmf(n = 10, p = 1/4, k = 10)"
   ]
  },
  {
   "cell_type": "code",
   "execution_count": 18,
   "id": "9b9642d9-3315-4281-a94d-e663ece5a815",
   "metadata": {},
   "outputs": [
    {
     "data": {
      "text/plain": [
       "0.7758750915527342"
      ]
     },
     "execution_count": 18,
     "metadata": {},
     "output_type": "execute_result"
    }
   ],
   "source": [
    "# What is the probability of getting 3 or lesser right answers?\n",
    "binom.pmf(n = 10, p = 1/4, k = 3) + binom.pmf(n = 10, p = 1/4, k = 2) + binom.pmf(n = 10, p = 1/4, k = 1) + binom.pmf(n = 10, p = 1/4, k = 0)"
   ]
  },
  {
   "cell_type": "code",
   "execution_count": null,
   "id": "0f4a316d-69e3-450a-bf46-b84175527879",
   "metadata": {},
   "outputs": [],
   "source": []
  }
 ],
 "metadata": {
  "kernelspec": {
   "display_name": "Python 3 (ipykernel)",
   "language": "python",
   "name": "python3"
  },
  "language_info": {
   "codemirror_mode": {
    "name": "ipython",
    "version": 3
   },
   "file_extension": ".py",
   "mimetype": "text/x-python",
   "name": "python",
   "nbconvert_exporter": "python",
   "pygments_lexer": "ipython3",
   "version": "3.11.0rc1"
  }
 },
 "nbformat": 4,
 "nbformat_minor": 5
}
