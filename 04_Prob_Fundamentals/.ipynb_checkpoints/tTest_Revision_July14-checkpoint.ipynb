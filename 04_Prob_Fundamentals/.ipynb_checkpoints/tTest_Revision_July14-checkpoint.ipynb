{
 "cells": [
  {
   "cell_type": "code",
   "execution_count": 1,
   "id": "28e7fb01-17b6-455f-bf21-a374603d7be5",
   "metadata": {},
   "outputs": [
    {
     "name": "stdout",
     "output_type": "stream",
     "text": [
      "Test statistic: -1.3801311186847078\n",
      "p-value: 0.9162268612556912\n",
      "Fail to reject the null hypothesis.\n"
     ]
    }
   ],
   "source": [
    "import numpy as np\n",
    "from scipy.stats import norm\n",
    "\n",
    "# Null Hypothesis (H0): The proportion of customers dissatisfied with the new system is less than or equal to 30%.(p ≤ 0.30)\n",
    "# Alternative Hypothesis (H1): The proportion of customers dissatisfied with the new system is greater than 30%.(p > 0.30).\n",
    "\n",
    "n = 250 # Sample size\n",
    "x = 65 # Number of customers dissatisfied with the new system\n",
    "p_hat = x/n # Sample proportion\n",
    "p = 0.30 # Hypothesized proportion\n",
    "\n",
    "# Calculate test statistic value for one sample proportion test\n",
    "Z = (p_hat - p) / np.sqrt((p * (1 - p)) / n)\n",
    "print('Test statistic:',Z)\n",
    "\n",
    "# Calculate the p-value for the test statistic\n",
    "p_value = 1 - norm.cdf(Z)\n",
    "print('p-value:', p_value)\n",
    "\n",
    "# Define the significance level\n",
    "alpha = 0.05\n",
    "\n",
    "# Make a decision based on the p-value and significance level\n",
    "if p_value < alpha:\n",
    "  print('Reject the null hypothesis.')\n",
    "else:\n",
    "  print('Fail to reject the null hypothesis.')"
   ]
  },
  {
   "cell_type": "code",
   "execution_count": 2,
   "id": "94129f8d-9157-4783-99ba-887e96fec477",
   "metadata": {},
   "outputs": [
    {
     "name": "stdout",
     "output_type": "stream",
     "text": [
      "Z-statistic = -0.8125338562826986\n",
      "P-value = 0.4164853677823287\n"
     ]
    }
   ],
   "source": [
    "import statsmodels.api as sm\n",
    "import numpy as np\n",
    "\n",
    "# Define the data\n",
    "conversions = np.array([50, 30])  # Number of conversions for Web Page A and Web Page B # x_1, x_2\n",
    "visits = np.array([1000, 500])  # Number of visits for Web Page A and Web Page B # n_1, n_2\n",
    "\n",
    "# Perform the Z-proportions test\n",
    "z_stat, p_value = sm.stats.proportions_ztest(conversions, visits, alternative='two-sided')\n",
    "\n",
    "# Print the results\n",
    "print(f\"Z-statistic = {z_stat}\")\n",
    "print(f\"P-value = {p_value}\")"
   ]
  },
  {
   "cell_type": "code",
   "execution_count": 3,
   "id": "bef6337f-0696-4210-adb5-bb0ce3be4684",
   "metadata": {},
   "outputs": [
    {
     "name": "stdout",
     "output_type": "stream",
     "text": [
      "Z = -0.8125338562826986\n",
      "P-value = 0.4164853677823288\n"
     ]
    }
   ],
   "source": [
    "import numpy as np\n",
    "import scipy.stats as stats\n",
    "\n",
    "# Step 1: Define the data\n",
    "# Data for the old web page (Web Page A)\n",
    "n_1 = 1000 # visits_1\n",
    "x_1 = 50 # conversions_1\n",
    "\n",
    "# Data for the new web page (Web Page B)\n",
    "n_2 = 500 # visits_2\n",
    "x_2 = 30 # conversions_2\n",
    "\n",
    "# Step 2: Define the hypotheses\n",
    "# Null Hypothesis (H0): Conversion rates are the same.\n",
    "# Alternative Hypothesis (Ha): Conversion rates are different.\n",
    "# This is a two-tailed test.\n",
    "p_1_hat = x_1 / n_1\n",
    "p_2_hat = x_2 / n_2\n",
    "\n",
    "# p_hat: is the combined sample proportion for both web pages.\n",
    "p_hat = (x_1 + x_2) / (n_1 + n_2)\n",
    "\n",
    "# Step 3: Calculate the test statistic (Z)\n",
    "Z = (p_1_hat - p_2_hat) / np.sqrt(p_hat * (1 - p_hat) * ((1 / n_1) + (1 / n_2)))\n",
    "\n",
    "# Step 4: Interpret the test statistic\n",
    "# Z follows a standard normal distribution. We will calculate the two-tailed p-value next.\n",
    "\n",
    "# Step 5: Calculate the p-value\n",
    "p_value = 2 * (1 - stats.norm.cdf(np.abs(Z)))\n",
    "\n",
    "# Print the results\n",
    "print(f\"Z = {Z}\")\n",
    "print(f\"P-value = {p_value}\")"
   ]
  },
  {
   "cell_type": "code",
   "execution_count": 4,
   "id": "6029a26f-4952-4bb9-8645-c54906512786",
   "metadata": {},
   "outputs": [
    {
     "name": "stdout",
     "output_type": "stream",
     "text": [
      "Decision: Fail to reject the null hypothesis\n",
      "Conclusion: There is not enough evidence to conclude that the conversion rates of the new web page (Web Page B) are statistically different from the old web page (Web Page A).\n"
     ]
    }
   ],
   "source": [
    "  # Make a decision and conclusion\n",
    "  if p_value < alpha:\n",
    "      decision = \"Reject the null hypothesis\"\n",
    "  else:\n",
    "      decision = \"Fail to reject the null hypothesis\"\n",
    "\n",
    "  if decision == \"Reject the null hypothesis\":\n",
    "      conclusion = \"There is enough evidence to conclude that the conversion rates of the new web page (Web Page B) are statistically different from the old web page (Web Page A).\"\n",
    "  else:\n",
    "      conclusion = \"There is not enough evidence to conclude that the conversion rates of the new web page (Web Page B) are statistically different from the old web page (Web Page A).\"\n",
    "\n",
    "  # Print the results\n",
    "  print(f\"Decision: {decision}\")\n",
    "  print(f\"Conclusion: {conclusion}\")"
   ]
  },
  {
   "cell_type": "code",
   "execution_count": 5,
   "id": "eae8eb8c-e06a-42d9-a9ad-41cd5d0743ed",
   "metadata": {},
   "outputs": [],
   "source": [
    "import numpy as np\n",
    "import pandas as pd\n",
    "import seaborn as sns\n",
    "import matplotlib.pyplot as plt"
   ]
  },
  {
   "cell_type": "markdown",
   "id": "3de650a0-aca5-4de1-a3f0-9fcb0ca0d66e",
   "metadata": {},
   "source": [
    "A french cake shop claims that the average number of pastries they can produce in a day exceeds 500.\n",
    "The average number of pastries produced per day over a 70 day period was found to be 530.\n",
    "Assume that the population standard deviation for the pastries produced per day is 125.\n",
    "\n",
    "Test the claim using a z-test with the critical z-value = 1.64 at the alpha (significance level) = 0.05, and state your interpretation.\n"
   ]
  },
  {
   "cell_type": "code",
   "execution_count": 6,
   "id": "09148df3-81bc-4d18-bc26-6cf0861809a9",
   "metadata": {},
   "outputs": [
    {
     "data": {
      "text/plain": [
       "2.007984063681781"
      ]
     },
     "execution_count": 6,
     "metadata": {},
     "output_type": "execute_result"
    }
   ],
   "source": [
    "z_stat = (530 - 500) / (125/np.sqrt(70))\n",
    "z_stat"
   ]
  },
  {
   "cell_type": "code",
   "execution_count": 7,
   "id": "87700d63-bc0e-4d9e-b265-4a3bba9a6ebd",
   "metadata": {},
   "outputs": [
    {
     "data": {
      "text/plain": [
       "0.022322492581293485"
      ]
     },
     "execution_count": 7,
     "metadata": {},
     "output_type": "execute_result"
    }
   ],
   "source": [
    "from scipy.stats import norm\n",
    "\n",
    "pvalue = 1 - norm.cdf(z_stat)\n",
    "pvalue"
   ]
  },
  {
   "cell_type": "code",
   "execution_count": 8,
   "id": "8f56379a-9019-47f3-95b2-feed9ddda9e7",
   "metadata": {},
   "outputs": [
    {
     "name": "stdout",
     "output_type": "stream",
     "text": [
      "Reject H0\n"
     ]
    }
   ],
   "source": [
    "alpha = 0.05\n",
    "\n",
    "if pvalue < alpha:\n",
    "  print('Reject H0')\n",
    "else:\n",
    "  print ('Fail to Reject H0')"
   ]
  },
  {
   "cell_type": "code",
   "execution_count": 9,
   "id": "1f5cfba7-6fef-4254-b368-32399c869219",
   "metadata": {},
   "outputs": [
    {
     "data": {
      "text/plain": [
       "1.6448536269514722"
      ]
     },
     "execution_count": 9,
     "metadata": {},
     "output_type": "execute_result"
    }
   ],
   "source": [
    "z = norm.ppf(0.95)\n",
    "z"
   ]
  },
  {
   "cell_type": "code",
   "execution_count": 10,
   "id": "3752400f-c9f8-49ff-a565-bc70f324da30",
   "metadata": {},
   "outputs": [
    {
     "data": {
      "text/plain": [
       "524.574701413748"
      ]
     },
     "execution_count": 10,
     "metadata": {},
     "output_type": "execute_result"
    }
   ],
   "source": [
    "x = 500 + (z*(125/np.sqrt(70)))\n",
    "x"
   ]
  },
  {
   "cell_type": "code",
   "execution_count": 11,
   "id": "3ff01807-7fdc-4643-9a50-1082ae24432a",
   "metadata": {},
   "outputs": [],
   "source": [
    "# The pill is given to a few people and their IQ is tested with following results:\n",
    "iq_scores = [110, 105, 98, 102, 99, 104, 115, 95]"
   ]
  },
  {
   "cell_type": "markdown",
   "id": "447a57c0-76dc-416f-b751-f53eba6f6fd4",
   "metadata": {},
   "source": [
    "Testing the Pill's Effectiveness:\n",
    "\n",
    "Case 1: The new pill may increase the average IQ scores.\n",
    "\n",
    "By enhancing cognitive functions, individuals taking the pill may show improved performance in IQ tests.\n",
    "Case 2: The new pill may have no significant effect on IQ scores.\n",
    "\n",
    "The researchers need to verify whether the pill is effective or not before widespread use."
   ]
  },
  {
   "cell_type": "code",
   "execution_count": 12,
   "id": "44194f99-aee2-49e0-9fbb-817f5197403b",
   "metadata": {},
   "outputs": [
    {
     "data": {
      "text/plain": [
       "103.5"
      ]
     },
     "execution_count": 12,
     "metadata": {},
     "output_type": "execute_result"
    }
   ],
   "source": [
    "np.mean(iq_scores)"
   ]
  },
  {
   "cell_type": "code",
   "execution_count": 13,
   "id": "d04b3a31-bbdc-47bf-bce7-a13fe15104d3",
   "metadata": {},
   "outputs": [],
   "source": [
    "from scipy.stats import ttest_1samp"
   ]
  },
  {
   "cell_type": "code",
   "execution_count": 15,
   "id": "cfd928bf-cbf5-4152-9178-1ae77159ba15",
   "metadata": {},
   "outputs": [
    {
     "data": {
      "text/plain": [
       "(1.5071573172061195, 0.1754994493585011)"
      ]
     },
     "execution_count": 15,
     "metadata": {},
     "output_type": "execute_result"
    }
   ],
   "source": [
    "t_stat, pvalue = ttest_1samp(iq_scores, 100)\n",
    "t_stat, pvalue"
   ]
  },
  {
   "cell_type": "code",
   "execution_count": 16,
   "id": "47752523-2840-4c02-a768-dec6ee29a29d",
   "metadata": {},
   "outputs": [
    {
     "name": "stdout",
     "output_type": "stream",
     "text": [
      "Fail to Reject H0; Pill has NO effect\n"
     ]
    }
   ],
   "source": [
    "alpha = 0.01 # 99% confidence\n",
    "\n",
    "if pvalue < alpha:\n",
    "  print('Reject H0; Pill has effect')\n",
    "else:\n",
    "  print ('Fail to Reject H0; Pill has NO effect')"
   ]
  },
  {
   "cell_type": "code",
   "execution_count": null,
   "id": "dbf2b729-1311-4ab2-8d09-137e862bcd39",
   "metadata": {},
   "outputs": [],
   "source": []
  }
 ],
 "metadata": {
  "kernelspec": {
   "display_name": "Python 3 (ipykernel)",
   "language": "python",
   "name": "python3"
  },
  "language_info": {
   "codemirror_mode": {
    "name": "ipython",
    "version": 3
   },
   "file_extension": ".py",
   "mimetype": "text/x-python",
   "name": "python",
   "nbconvert_exporter": "python",
   "pygments_lexer": "ipython3",
   "version": "3.11.0rc1"
  }
 },
 "nbformat": 4,
 "nbformat_minor": 5
}
