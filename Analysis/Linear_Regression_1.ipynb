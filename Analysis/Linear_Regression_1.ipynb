{
 "cells": [
  {
   "cell_type": "markdown",
   "id": "ec1cf32b-1fe0-42c9-a5ed-d090eec89da3",
   "metadata": {},
   "source": [
    "# Cars24 is one of the leading used-car buying and selling platform in India."
   ]
  },
  {
   "cell_type": "markdown",
   "id": "3f2bc5e8-c523-4ec8-a0a8-76f6360a6fdf",
   "metadata": {},
   "source": [
    "### **1.1 Imports**\n"
   ]
  },
  {
   "cell_type": "code",
   "execution_count": 1,
   "id": "9dfaa74c-4dd4-4d4f-b2dd-a93c15b55a94",
   "metadata": {},
   "outputs": [],
   "source": [
    "import pandas as pd\n",
    "import numpy as np\n",
    "import matplotlib.pyplot as plt\n",
    "import seaborn as sns\n",
    "import os"
   ]
  },
  {
   "cell_type": "markdown",
   "id": "22f73727-839d-4037-9ab4-cd82e755928c",
   "metadata": {},
   "source": [
    "### **1.2 Load Dataset**"
   ]
  },
  {
   "cell_type": "code",
   "execution_count": 2,
   "id": "51a412b6",
   "metadata": {},
   "outputs": [],
   "source": [
    "input_file = \"./Workspace/PythonWorkspace/Python-Machine-Learning-Analysis/Analysis/data/cars24-car-price-cleaned.csv\"\n",
    "#input_file = \"\"./data/cars24-car-price-cleaned.csv\""
   ]
  },
  {
   "cell_type": "code",
   "execution_count": 3,
   "id": "cd1c675e",
   "metadata": {},
   "outputs": [
    {
     "data": {
      "text/html": [
       "<div>\n",
       "<style scoped>\n",
       "    .dataframe tbody tr th:only-of-type {\n",
       "        vertical-align: middle;\n",
       "    }\n",
       "\n",
       "    .dataframe tbody tr th {\n",
       "        vertical-align: top;\n",
       "    }\n",
       "\n",
       "    .dataframe thead th {\n",
       "        text-align: right;\n",
       "    }\n",
       "</style>\n",
       "<table border=\"1\" class=\"dataframe\">\n",
       "  <thead>\n",
       "    <tr style=\"text-align: right;\">\n",
       "      <th></th>\n",
       "      <th>selling_price</th>\n",
       "      <th>year</th>\n",
       "      <th>km_driven</th>\n",
       "      <th>mileage</th>\n",
       "      <th>engine</th>\n",
       "      <th>max_power</th>\n",
       "      <th>age</th>\n",
       "      <th>make</th>\n",
       "      <th>model</th>\n",
       "      <th>Individual</th>\n",
       "      <th>Trustmark Dealer</th>\n",
       "      <th>Diesel</th>\n",
       "      <th>Electric</th>\n",
       "      <th>LPG</th>\n",
       "      <th>Petrol</th>\n",
       "      <th>Manual</th>\n",
       "      <th>5</th>\n",
       "      <th>&gt;5</th>\n",
       "    </tr>\n",
       "  </thead>\n",
       "  <tbody>\n",
       "    <tr>\n",
       "      <th>0</th>\n",
       "      <td>1.20</td>\n",
       "      <td>2012.0</td>\n",
       "      <td>120000</td>\n",
       "      <td>19.70</td>\n",
       "      <td>796.0</td>\n",
       "      <td>46.30</td>\n",
       "      <td>11.0</td>\n",
       "      <td>MARUTI</td>\n",
       "      <td>ALTO STD</td>\n",
       "      <td>1</td>\n",
       "      <td>0</td>\n",
       "      <td>0</td>\n",
       "      <td>0</td>\n",
       "      <td>0</td>\n",
       "      <td>1</td>\n",
       "      <td>1</td>\n",
       "      <td>1</td>\n",
       "      <td>0</td>\n",
       "    </tr>\n",
       "    <tr>\n",
       "      <th>1</th>\n",
       "      <td>5.50</td>\n",
       "      <td>2016.0</td>\n",
       "      <td>20000</td>\n",
       "      <td>18.90</td>\n",
       "      <td>1197.0</td>\n",
       "      <td>82.00</td>\n",
       "      <td>7.0</td>\n",
       "      <td>HYUNDAI</td>\n",
       "      <td>GRAND I10 ASTA</td>\n",
       "      <td>1</td>\n",
       "      <td>0</td>\n",
       "      <td>0</td>\n",
       "      <td>0</td>\n",
       "      <td>0</td>\n",
       "      <td>1</td>\n",
       "      <td>1</td>\n",
       "      <td>1</td>\n",
       "      <td>0</td>\n",
       "    </tr>\n",
       "    <tr>\n",
       "      <th>2</th>\n",
       "      <td>2.15</td>\n",
       "      <td>2010.0</td>\n",
       "      <td>60000</td>\n",
       "      <td>17.00</td>\n",
       "      <td>1197.0</td>\n",
       "      <td>80.00</td>\n",
       "      <td>13.0</td>\n",
       "      <td>HYUNDAI</td>\n",
       "      <td>I20 ASTA</td>\n",
       "      <td>1</td>\n",
       "      <td>0</td>\n",
       "      <td>0</td>\n",
       "      <td>0</td>\n",
       "      <td>0</td>\n",
       "      <td>1</td>\n",
       "      <td>1</td>\n",
       "      <td>1</td>\n",
       "      <td>0</td>\n",
       "    </tr>\n",
       "    <tr>\n",
       "      <th>3</th>\n",
       "      <td>2.26</td>\n",
       "      <td>2012.0</td>\n",
       "      <td>37000</td>\n",
       "      <td>20.92</td>\n",
       "      <td>998.0</td>\n",
       "      <td>67.10</td>\n",
       "      <td>11.0</td>\n",
       "      <td>MARUTI</td>\n",
       "      <td>ALTO K10 2010-2014 VXI</td>\n",
       "      <td>1</td>\n",
       "      <td>0</td>\n",
       "      <td>0</td>\n",
       "      <td>0</td>\n",
       "      <td>0</td>\n",
       "      <td>1</td>\n",
       "      <td>1</td>\n",
       "      <td>1</td>\n",
       "      <td>0</td>\n",
       "    </tr>\n",
       "    <tr>\n",
       "      <th>4</th>\n",
       "      <td>5.70</td>\n",
       "      <td>2015.0</td>\n",
       "      <td>30000</td>\n",
       "      <td>22.77</td>\n",
       "      <td>1498.0</td>\n",
       "      <td>98.59</td>\n",
       "      <td>8.0</td>\n",
       "      <td>FORD</td>\n",
       "      <td>ECOSPORT 2015-2021 1.5 TDCI TITANIUM BSIV</td>\n",
       "      <td>0</td>\n",
       "      <td>0</td>\n",
       "      <td>1</td>\n",
       "      <td>0</td>\n",
       "      <td>0</td>\n",
       "      <td>0</td>\n",
       "      <td>1</td>\n",
       "      <td>1</td>\n",
       "      <td>0</td>\n",
       "    </tr>\n",
       "    <tr>\n",
       "      <th>...</th>\n",
       "      <td>...</td>\n",
       "      <td>...</td>\n",
       "      <td>...</td>\n",
       "      <td>...</td>\n",
       "      <td>...</td>\n",
       "      <td>...</td>\n",
       "      <td>...</td>\n",
       "      <td>...</td>\n",
       "      <td>...</td>\n",
       "      <td>...</td>\n",
       "      <td>...</td>\n",
       "      <td>...</td>\n",
       "      <td>...</td>\n",
       "      <td>...</td>\n",
       "      <td>...</td>\n",
       "      <td>...</td>\n",
       "      <td>...</td>\n",
       "      <td>...</td>\n",
       "    </tr>\n",
       "    <tr>\n",
       "      <th>19815</th>\n",
       "      <td>6.50</td>\n",
       "      <td>2017.0</td>\n",
       "      <td>69480</td>\n",
       "      <td>23.59</td>\n",
       "      <td>1364.0</td>\n",
       "      <td>67.05</td>\n",
       "      <td>6.0</td>\n",
       "      <td>TOYOTA</td>\n",
       "      <td>PLATINUM ETIOS 1.4 GXD</td>\n",
       "      <td>0</td>\n",
       "      <td>0</td>\n",
       "      <td>1</td>\n",
       "      <td>0</td>\n",
       "      <td>0</td>\n",
       "      <td>0</td>\n",
       "      <td>1</td>\n",
       "      <td>1</td>\n",
       "      <td>0</td>\n",
       "    </tr>\n",
       "    <tr>\n",
       "      <th>19816</th>\n",
       "      <td>9.25</td>\n",
       "      <td>2019.0</td>\n",
       "      <td>18000</td>\n",
       "      <td>17.50</td>\n",
       "      <td>1373.0</td>\n",
       "      <td>91.10</td>\n",
       "      <td>4.0</td>\n",
       "      <td>MARUTI</td>\n",
       "      <td>ERTIGA BSIV VXI</td>\n",
       "      <td>0</td>\n",
       "      <td>0</td>\n",
       "      <td>0</td>\n",
       "      <td>0</td>\n",
       "      <td>0</td>\n",
       "      <td>1</td>\n",
       "      <td>1</td>\n",
       "      <td>0</td>\n",
       "      <td>1</td>\n",
       "    </tr>\n",
       "    <tr>\n",
       "      <th>19817</th>\n",
       "      <td>4.25</td>\n",
       "      <td>2015.0</td>\n",
       "      <td>67000</td>\n",
       "      <td>21.14</td>\n",
       "      <td>1498.0</td>\n",
       "      <td>103.52</td>\n",
       "      <td>8.0</td>\n",
       "      <td>SKODA</td>\n",
       "      <td>RAPID 1.5 TDI ELEGANCE</td>\n",
       "      <td>0</td>\n",
       "      <td>0</td>\n",
       "      <td>1</td>\n",
       "      <td>0</td>\n",
       "      <td>0</td>\n",
       "      <td>0</td>\n",
       "      <td>1</td>\n",
       "      <td>1</td>\n",
       "      <td>0</td>\n",
       "    </tr>\n",
       "    <tr>\n",
       "      <th>19818</th>\n",
       "      <td>12.25</td>\n",
       "      <td>2016.0</td>\n",
       "      <td>3800000</td>\n",
       "      <td>16.00</td>\n",
       "      <td>2179.0</td>\n",
       "      <td>140.00</td>\n",
       "      <td>7.0</td>\n",
       "      <td>MAHINDRA</td>\n",
       "      <td>XUV500 W6 2WD</td>\n",
       "      <td>0</td>\n",
       "      <td>0</td>\n",
       "      <td>1</td>\n",
       "      <td>0</td>\n",
       "      <td>0</td>\n",
       "      <td>0</td>\n",
       "      <td>1</td>\n",
       "      <td>0</td>\n",
       "      <td>1</td>\n",
       "    </tr>\n",
       "    <tr>\n",
       "      <th>19819</th>\n",
       "      <td>12.00</td>\n",
       "      <td>2019.0</td>\n",
       "      <td>13000</td>\n",
       "      <td>18.00</td>\n",
       "      <td>1497.0</td>\n",
       "      <td>117.60</td>\n",
       "      <td>4.0</td>\n",
       "      <td>HONDA</td>\n",
       "      <td>CITY I-VTEC CVT VX</td>\n",
       "      <td>0</td>\n",
       "      <td>0</td>\n",
       "      <td>0</td>\n",
       "      <td>0</td>\n",
       "      <td>0</td>\n",
       "      <td>1</td>\n",
       "      <td>0</td>\n",
       "      <td>1</td>\n",
       "      <td>0</td>\n",
       "    </tr>\n",
       "  </tbody>\n",
       "</table>\n",
       "<p>19820 rows × 18 columns</p>\n",
       "</div>"
      ],
      "text/plain": [
       "       selling_price    year  km_driven  mileage  engine  max_power   age  \\\n",
       "0               1.20  2012.0     120000    19.70   796.0      46.30  11.0   \n",
       "1               5.50  2016.0      20000    18.90  1197.0      82.00   7.0   \n",
       "2               2.15  2010.0      60000    17.00  1197.0      80.00  13.0   \n",
       "3               2.26  2012.0      37000    20.92   998.0      67.10  11.0   \n",
       "4               5.70  2015.0      30000    22.77  1498.0      98.59   8.0   \n",
       "...              ...     ...        ...      ...     ...        ...   ...   \n",
       "19815           6.50  2017.0      69480    23.59  1364.0      67.05   6.0   \n",
       "19816           9.25  2019.0      18000    17.50  1373.0      91.10   4.0   \n",
       "19817           4.25  2015.0      67000    21.14  1498.0     103.52   8.0   \n",
       "19818          12.25  2016.0    3800000    16.00  2179.0     140.00   7.0   \n",
       "19819          12.00  2019.0      13000    18.00  1497.0     117.60   4.0   \n",
       "\n",
       "           make                                      model  Individual  \\\n",
       "0        MARUTI                                   ALTO STD           1   \n",
       "1       HYUNDAI                             GRAND I10 ASTA           1   \n",
       "2       HYUNDAI                                   I20 ASTA           1   \n",
       "3        MARUTI                     ALTO K10 2010-2014 VXI           1   \n",
       "4          FORD  ECOSPORT 2015-2021 1.5 TDCI TITANIUM BSIV           0   \n",
       "...         ...                                        ...         ...   \n",
       "19815    TOYOTA                     PLATINUM ETIOS 1.4 GXD           0   \n",
       "19816    MARUTI                            ERTIGA BSIV VXI           0   \n",
       "19817     SKODA                     RAPID 1.5 TDI ELEGANCE           0   \n",
       "19818  MAHINDRA                              XUV500 W6 2WD           0   \n",
       "19819     HONDA                         CITY I-VTEC CVT VX           0   \n",
       "\n",
       "       Trustmark Dealer  Diesel  Electric  LPG  Petrol  Manual  5  >5  \n",
       "0                     0       0         0    0       1       1  1   0  \n",
       "1                     0       0         0    0       1       1  1   0  \n",
       "2                     0       0         0    0       1       1  1   0  \n",
       "3                     0       0         0    0       1       1  1   0  \n",
       "4                     0       1         0    0       0       1  1   0  \n",
       "...                 ...     ...       ...  ...     ...     ... ..  ..  \n",
       "19815                 0       1         0    0       0       1  1   0  \n",
       "19816                 0       0         0    0       1       1  0   1  \n",
       "19817                 0       1         0    0       0       1  1   0  \n",
       "19818                 0       1         0    0       0       1  0   1  \n",
       "19819                 0       0         0    0       1       0  1   0  \n",
       "\n",
       "[19820 rows x 18 columns]"
      ]
     },
     "execution_count": 3,
     "metadata": {},
     "output_type": "execute_result"
    }
   ],
   "source": [
    "df = pd.read_csv(input_file)\n",
    "df"
   ]
  },
  {
   "cell_type": "code",
   "execution_count": 4,
   "id": "3b7d4b76-5a48-4ed4-b116-53bb28c019bc",
   "metadata": {},
   "outputs": [
    {
     "name": "stdout",
     "output_type": "stream",
     "text": [
      "<class 'pandas.core.frame.DataFrame'>\n",
      "RangeIndex: 19820 entries, 0 to 19819\n",
      "Data columns (total 18 columns):\n",
      " #   Column            Non-Null Count  Dtype  \n",
      "---  ------            --------------  -----  \n",
      " 0   selling_price     19820 non-null  float64\n",
      " 1   year              19820 non-null  float64\n",
      " 2   km_driven         19820 non-null  int64  \n",
      " 3   mileage           19820 non-null  float64\n",
      " 4   engine            19820 non-null  float64\n",
      " 5   max_power         19820 non-null  float64\n",
      " 6   age               19820 non-null  float64\n",
      " 7   make              19820 non-null  object \n",
      " 8   model             19820 non-null  object \n",
      " 9   Individual        19820 non-null  int64  \n",
      " 10  Trustmark Dealer  19820 non-null  int64  \n",
      " 11  Diesel            19820 non-null  int64  \n",
      " 12  Electric          19820 non-null  int64  \n",
      " 13  LPG               19820 non-null  int64  \n",
      " 14  Petrol            19820 non-null  int64  \n",
      " 15  Manual            19820 non-null  int64  \n",
      " 16  5                 19820 non-null  int64  \n",
      " 17  >5                19820 non-null  int64  \n",
      "dtypes: float64(6), int64(10), object(2)\n",
      "memory usage: 2.7+ MB\n"
     ]
    }
   ],
   "source": [
    "df.info()"
   ]
  },
  {
   "cell_type": "markdown",
   "id": "45f236be",
   "metadata": {},
   "source": [
    "Make and Model are not numerical features and we need to convert them to numerical values. How ?\n",
    "\n",
    "OneHot encoding / Label Encoding / Target Encoding"
   ]
  },
  {
   "cell_type": "code",
   "execution_count": 5,
   "id": "6398ae8e-f17f-46f0-9b6c-dd35667e6e81",
   "metadata": {},
   "outputs": [
    {
     "data": {
      "text/plain": [
       "41"
      ]
     },
     "execution_count": 5,
     "metadata": {},
     "output_type": "execute_result"
    }
   ],
   "source": [
    "df['make'].nunique()"
   ]
  },
  {
   "cell_type": "code",
   "execution_count": 6,
   "id": "5c104599-05f2-48e3-94a0-12f9c2a9ca7c",
   "metadata": {},
   "outputs": [
    {
     "data": {
      "text/plain": [
       "3233"
      ]
     },
     "execution_count": 6,
     "metadata": {},
     "output_type": "execute_result"
    }
   ],
   "source": [
    "df['model'].nunique()"
   ]
  },
  {
   "cell_type": "markdown",
   "id": "f4d8a483",
   "metadata": {},
   "source": [
    "OneHot Encoding increases the dimensionality - Make - 41 and Model - 3233"
   ]
  },
  {
   "cell_type": "code",
   "execution_count": 7,
   "id": "afb2831f-2f6f-4768-8b0d-ae582ab709ea",
   "metadata": {},
   "outputs": [],
   "source": [
    "df['make_te'] = df.groupby(\"make\")[\"selling_price\"].transform(\"mean\")\n",
    "df['model_te'] = df.groupby(\"model\")[\"selling_price\"].transform(\"mean\")"
   ]
  },
  {
   "cell_type": "code",
   "execution_count": 8,
   "id": "5d33c496",
   "metadata": {},
   "outputs": [
    {
     "name": "stdout",
     "output_type": "stream",
     "text": [
      "<class 'pandas.core.frame.DataFrame'>\n",
      "RangeIndex: 19820 entries, 0 to 19819\n",
      "Data columns (total 20 columns):\n",
      " #   Column            Non-Null Count  Dtype  \n",
      "---  ------            --------------  -----  \n",
      " 0   selling_price     19820 non-null  float64\n",
      " 1   year              19820 non-null  float64\n",
      " 2   km_driven         19820 non-null  int64  \n",
      " 3   mileage           19820 non-null  float64\n",
      " 4   engine            19820 non-null  float64\n",
      " 5   max_power         19820 non-null  float64\n",
      " 6   age               19820 non-null  float64\n",
      " 7   make              19820 non-null  object \n",
      " 8   model             19820 non-null  object \n",
      " 9   Individual        19820 non-null  int64  \n",
      " 10  Trustmark Dealer  19820 non-null  int64  \n",
      " 11  Diesel            19820 non-null  int64  \n",
      " 12  Electric          19820 non-null  int64  \n",
      " 13  LPG               19820 non-null  int64  \n",
      " 14  Petrol            19820 non-null  int64  \n",
      " 15  Manual            19820 non-null  int64  \n",
      " 16  5                 19820 non-null  int64  \n",
      " 17  >5                19820 non-null  int64  \n",
      " 18  make_te           19820 non-null  float64\n",
      " 19  model_te          19820 non-null  float64\n",
      "dtypes: float64(8), int64(10), object(2)\n",
      "memory usage: 3.0+ MB\n"
     ]
    }
   ],
   "source": [
    "df.info()"
   ]
  },
  {
   "cell_type": "markdown",
   "id": "9d2272eb",
   "metadata": {},
   "source": [
    "**Normalizing the data**"
   ]
  },
  {
   "cell_type": "code",
   "execution_count": 9,
   "id": "5fa20f67",
   "metadata": {},
   "outputs": [
    {
     "data": {
      "text/plain": [
       "Index(['make', 'model'], dtype='object')"
      ]
     },
     "execution_count": 9,
     "metadata": {},
     "output_type": "execute_result"
    }
   ],
   "source": [
    "df.select_dtypes(\"object\").columns"
   ]
  },
  {
   "cell_type": "code",
   "execution_count": 10,
   "id": "6d4b5f96",
   "metadata": {},
   "outputs": [
    {
     "data": {
      "text/html": [
       "<div>\n",
       "<style scoped>\n",
       "    .dataframe tbody tr th:only-of-type {\n",
       "        vertical-align: middle;\n",
       "    }\n",
       "\n",
       "    .dataframe tbody tr th {\n",
       "        vertical-align: top;\n",
       "    }\n",
       "\n",
       "    .dataframe thead th {\n",
       "        text-align: right;\n",
       "    }\n",
       "</style>\n",
       "<table border=\"1\" class=\"dataframe\">\n",
       "  <thead>\n",
       "    <tr style=\"text-align: right;\">\n",
       "      <th></th>\n",
       "      <th>selling_price</th>\n",
       "      <th>year</th>\n",
       "      <th>km_driven</th>\n",
       "      <th>mileage</th>\n",
       "      <th>engine</th>\n",
       "      <th>max_power</th>\n",
       "      <th>age</th>\n",
       "      <th>Individual</th>\n",
       "      <th>Trustmark Dealer</th>\n",
       "      <th>Diesel</th>\n",
       "      <th>Electric</th>\n",
       "      <th>LPG</th>\n",
       "      <th>Petrol</th>\n",
       "      <th>Manual</th>\n",
       "      <th>5</th>\n",
       "      <th>&gt;5</th>\n",
       "      <th>make_te</th>\n",
       "      <th>model_te</th>\n",
       "    </tr>\n",
       "  </thead>\n",
       "  <tbody>\n",
       "    <tr>\n",
       "      <th>0</th>\n",
       "      <td>0.043684</td>\n",
       "      <td>0.689655</td>\n",
       "      <td>0.031553</td>\n",
       "      <td>0.135345</td>\n",
       "      <td>0.117891</td>\n",
       "      <td>0.066506</td>\n",
       "      <td>0.310345</td>\n",
       "      <td>1.0</td>\n",
       "      <td>0.0</td>\n",
       "      <td>0.0</td>\n",
       "      <td>0.0</td>\n",
       "      <td>0.0</td>\n",
       "      <td>1.0</td>\n",
       "      <td>1.0</td>\n",
       "      <td>1.0</td>\n",
       "      <td>0.0</td>\n",
       "      <td>0.194048</td>\n",
       "      <td>0.041550</td>\n",
       "    </tr>\n",
       "    <tr>\n",
       "      <th>1</th>\n",
       "      <td>0.252397</td>\n",
       "      <td>0.827586</td>\n",
       "      <td>0.005237</td>\n",
       "      <td>0.128448</td>\n",
       "      <td>0.177281</td>\n",
       "      <td>0.123994</td>\n",
       "      <td>0.172414</td>\n",
       "      <td>1.0</td>\n",
       "      <td>0.0</td>\n",
       "      <td>0.0</td>\n",
       "      <td>0.0</td>\n",
       "      <td>0.0</td>\n",
       "      <td>1.0</td>\n",
       "      <td>1.0</td>\n",
       "      <td>1.0</td>\n",
       "      <td>0.0</td>\n",
       "      <td>0.232517</td>\n",
       "      <td>0.218382</td>\n",
       "    </tr>\n",
       "    <tr>\n",
       "      <th>2</th>\n",
       "      <td>0.089795</td>\n",
       "      <td>0.620690</td>\n",
       "      <td>0.015764</td>\n",
       "      <td>0.112069</td>\n",
       "      <td>0.177281</td>\n",
       "      <td>0.120773</td>\n",
       "      <td>0.379310</td>\n",
       "      <td>1.0</td>\n",
       "      <td>0.0</td>\n",
       "      <td>0.0</td>\n",
       "      <td>0.0</td>\n",
       "      <td>0.0</td>\n",
       "      <td>1.0</td>\n",
       "      <td>1.0</td>\n",
       "      <td>1.0</td>\n",
       "      <td>0.0</td>\n",
       "      <td>0.232517</td>\n",
       "      <td>0.149143</td>\n",
       "    </tr>\n",
       "    <tr>\n",
       "      <th>3</th>\n",
       "      <td>0.095134</td>\n",
       "      <td>0.689655</td>\n",
       "      <td>0.009711</td>\n",
       "      <td>0.145862</td>\n",
       "      <td>0.147808</td>\n",
       "      <td>0.100000</td>\n",
       "      <td>0.310345</td>\n",
       "      <td>1.0</td>\n",
       "      <td>0.0</td>\n",
       "      <td>0.0</td>\n",
       "      <td>0.0</td>\n",
       "      <td>0.0</td>\n",
       "      <td>1.0</td>\n",
       "      <td>1.0</td>\n",
       "      <td>1.0</td>\n",
       "      <td>0.0</td>\n",
       "      <td>0.194048</td>\n",
       "      <td>0.093193</td>\n",
       "    </tr>\n",
       "    <tr>\n",
       "      <th>4</th>\n",
       "      <td>0.262104</td>\n",
       "      <td>0.793103</td>\n",
       "      <td>0.007869</td>\n",
       "      <td>0.161810</td>\n",
       "      <td>0.221860</td>\n",
       "      <td>0.150709</td>\n",
       "      <td>0.206897</td>\n",
       "      <td>0.0</td>\n",
       "      <td>0.0</td>\n",
       "      <td>1.0</td>\n",
       "      <td>0.0</td>\n",
       "      <td>0.0</td>\n",
       "      <td>0.0</td>\n",
       "      <td>1.0</td>\n",
       "      <td>1.0</td>\n",
       "      <td>0.0</td>\n",
       "      <td>0.252367</td>\n",
       "      <td>0.313574</td>\n",
       "    </tr>\n",
       "    <tr>\n",
       "      <th>...</th>\n",
       "      <td>...</td>\n",
       "      <td>...</td>\n",
       "      <td>...</td>\n",
       "      <td>...</td>\n",
       "      <td>...</td>\n",
       "      <td>...</td>\n",
       "      <td>...</td>\n",
       "      <td>...</td>\n",
       "      <td>...</td>\n",
       "      <td>...</td>\n",
       "      <td>...</td>\n",
       "      <td>...</td>\n",
       "      <td>...</td>\n",
       "      <td>...</td>\n",
       "      <td>...</td>\n",
       "      <td>...</td>\n",
       "      <td>...</td>\n",
       "      <td>...</td>\n",
       "    </tr>\n",
       "    <tr>\n",
       "      <th>19815</th>\n",
       "      <td>0.300934</td>\n",
       "      <td>0.862069</td>\n",
       "      <td>0.018258</td>\n",
       "      <td>0.168879</td>\n",
       "      <td>0.202014</td>\n",
       "      <td>0.099919</td>\n",
       "      <td>0.137931</td>\n",
       "      <td>0.0</td>\n",
       "      <td>0.0</td>\n",
       "      <td>1.0</td>\n",
       "      <td>0.0</td>\n",
       "      <td>0.0</td>\n",
       "      <td>0.0</td>\n",
       "      <td>1.0</td>\n",
       "      <td>1.0</td>\n",
       "      <td>0.0</td>\n",
       "      <td>0.484670</td>\n",
       "      <td>0.328028</td>\n",
       "    </tr>\n",
       "    <tr>\n",
       "      <th>19816</th>\n",
       "      <td>0.434413</td>\n",
       "      <td>0.931034</td>\n",
       "      <td>0.004711</td>\n",
       "      <td>0.116379</td>\n",
       "      <td>0.203347</td>\n",
       "      <td>0.138647</td>\n",
       "      <td>0.068966</td>\n",
       "      <td>0.0</td>\n",
       "      <td>0.0</td>\n",
       "      <td>0.0</td>\n",
       "      <td>0.0</td>\n",
       "      <td>0.0</td>\n",
       "      <td>1.0</td>\n",
       "      <td>1.0</td>\n",
       "      <td>0.0</td>\n",
       "      <td>1.0</td>\n",
       "      <td>0.194048</td>\n",
       "      <td>0.330632</td>\n",
       "    </tr>\n",
       "    <tr>\n",
       "      <th>19817</th>\n",
       "      <td>0.191724</td>\n",
       "      <td>0.793103</td>\n",
       "      <td>0.017606</td>\n",
       "      <td>0.147759</td>\n",
       "      <td>0.221860</td>\n",
       "      <td>0.158647</td>\n",
       "      <td>0.206897</td>\n",
       "      <td>0.0</td>\n",
       "      <td>0.0</td>\n",
       "      <td>1.0</td>\n",
       "      <td>0.0</td>\n",
       "      <td>0.0</td>\n",
       "      <td>0.0</td>\n",
       "      <td>1.0</td>\n",
       "      <td>1.0</td>\n",
       "      <td>0.0</td>\n",
       "      <td>0.318156</td>\n",
       "      <td>0.200656</td>\n",
       "    </tr>\n",
       "    <tr>\n",
       "      <th>19818</th>\n",
       "      <td>0.580027</td>\n",
       "      <td>0.827586</td>\n",
       "      <td>1.000000</td>\n",
       "      <td>0.103448</td>\n",
       "      <td>0.322719</td>\n",
       "      <td>0.217391</td>\n",
       "      <td>0.172414</td>\n",
       "      <td>0.0</td>\n",
       "      <td>0.0</td>\n",
       "      <td>1.0</td>\n",
       "      <td>0.0</td>\n",
       "      <td>0.0</td>\n",
       "      <td>0.0</td>\n",
       "      <td>1.0</td>\n",
       "      <td>0.0</td>\n",
       "      <td>1.0</td>\n",
       "      <td>0.324782</td>\n",
       "      <td>0.377671</td>\n",
       "    </tr>\n",
       "    <tr>\n",
       "      <th>19819</th>\n",
       "      <td>0.567892</td>\n",
       "      <td>0.931034</td>\n",
       "      <td>0.003395</td>\n",
       "      <td>0.120690</td>\n",
       "      <td>0.221712</td>\n",
       "      <td>0.181320</td>\n",
       "      <td>0.068966</td>\n",
       "      <td>0.0</td>\n",
       "      <td>0.0</td>\n",
       "      <td>0.0</td>\n",
       "      <td>0.0</td>\n",
       "      <td>0.0</td>\n",
       "      <td>1.0</td>\n",
       "      <td>0.0</td>\n",
       "      <td>1.0</td>\n",
       "      <td>0.0</td>\n",
       "      <td>0.258412</td>\n",
       "      <td>0.519465</td>\n",
       "    </tr>\n",
       "  </tbody>\n",
       "</table>\n",
       "<p>19820 rows × 18 columns</p>\n",
       "</div>"
      ],
      "text/plain": [
       "       selling_price      year  km_driven   mileage    engine  max_power  \\\n",
       "0           0.043684  0.689655   0.031553  0.135345  0.117891   0.066506   \n",
       "1           0.252397  0.827586   0.005237  0.128448  0.177281   0.123994   \n",
       "2           0.089795  0.620690   0.015764  0.112069  0.177281   0.120773   \n",
       "3           0.095134  0.689655   0.009711  0.145862  0.147808   0.100000   \n",
       "4           0.262104  0.793103   0.007869  0.161810  0.221860   0.150709   \n",
       "...              ...       ...        ...       ...       ...        ...   \n",
       "19815       0.300934  0.862069   0.018258  0.168879  0.202014   0.099919   \n",
       "19816       0.434413  0.931034   0.004711  0.116379  0.203347   0.138647   \n",
       "19817       0.191724  0.793103   0.017606  0.147759  0.221860   0.158647   \n",
       "19818       0.580027  0.827586   1.000000  0.103448  0.322719   0.217391   \n",
       "19819       0.567892  0.931034   0.003395  0.120690  0.221712   0.181320   \n",
       "\n",
       "            age  Individual  Trustmark Dealer  Diesel  Electric  LPG  Petrol  \\\n",
       "0      0.310345         1.0               0.0     0.0       0.0  0.0     1.0   \n",
       "1      0.172414         1.0               0.0     0.0       0.0  0.0     1.0   \n",
       "2      0.379310         1.0               0.0     0.0       0.0  0.0     1.0   \n",
       "3      0.310345         1.0               0.0     0.0       0.0  0.0     1.0   \n",
       "4      0.206897         0.0               0.0     1.0       0.0  0.0     0.0   \n",
       "...         ...         ...               ...     ...       ...  ...     ...   \n",
       "19815  0.137931         0.0               0.0     1.0       0.0  0.0     0.0   \n",
       "19816  0.068966         0.0               0.0     0.0       0.0  0.0     1.0   \n",
       "19817  0.206897         0.0               0.0     1.0       0.0  0.0     0.0   \n",
       "19818  0.172414         0.0               0.0     1.0       0.0  0.0     0.0   \n",
       "19819  0.068966         0.0               0.0     0.0       0.0  0.0     1.0   \n",
       "\n",
       "       Manual    5   >5   make_te  model_te  \n",
       "0         1.0  1.0  0.0  0.194048  0.041550  \n",
       "1         1.0  1.0  0.0  0.232517  0.218382  \n",
       "2         1.0  1.0  0.0  0.232517  0.149143  \n",
       "3         1.0  1.0  0.0  0.194048  0.093193  \n",
       "4         1.0  1.0  0.0  0.252367  0.313574  \n",
       "...       ...  ...  ...       ...       ...  \n",
       "19815     1.0  1.0  0.0  0.484670  0.328028  \n",
       "19816     1.0  0.0  1.0  0.194048  0.330632  \n",
       "19817     1.0  1.0  0.0  0.318156  0.200656  \n",
       "19818     1.0  0.0  1.0  0.324782  0.377671  \n",
       "19819     0.0  1.0  0.0  0.258412  0.519465  \n",
       "\n",
       "[19820 rows x 18 columns]"
      ]
     },
     "execution_count": 10,
     "metadata": {},
     "output_type": "execute_result"
    }
   ],
   "source": [
    "from sklearn.preprocessing import MinMaxScaler\n",
    "scaler = MinMaxScaler()\n",
    "df_scaled = pd.DataFrame(scaler.fit_transform(df.drop(columns = df.select_dtypes(\"object\").columns)), columns = df.columns.drop(df.select_dtypes(\"object\").columns))\n",
    "df_scaled"
   ]
  },
  {
   "cell_type": "markdown",
   "id": "31f32611",
   "metadata": {},
   "source": [
    "**Train Test Split**"
   ]
  },
  {
   "cell_type": "code",
   "execution_count": 13,
   "id": "9c2ab038",
   "metadata": {},
   "outputs": [
    {
     "data": {
      "text/plain": [
       "((19820,), (19820, 17))"
      ]
     },
     "execution_count": 13,
     "metadata": {},
     "output_type": "execute_result"
    }
   ],
   "source": [
    "from sklearn.model_selection import train_test_split\n",
    "y = df_scaled[\"selling_price\"]\n",
    "X = df_scaled.drop(columns= \"selling_price\")\n",
    "y.shape, X.shape"
   ]
  },
  {
   "cell_type": "code",
   "execution_count": 14,
   "id": "60528d82",
   "metadata": {},
   "outputs": [
    {
     "data": {
      "text/plain": [
       "((5946, 17), (13874, 17), (5946,), (13874,))"
      ]
     },
     "execution_count": 14,
     "metadata": {},
     "output_type": "execute_result"
    }
   ],
   "source": [
    "X_train, X_test, y_train, y_test = train_test_split(X, y, test_size=0.3, random_state = 1)\n",
    "X_test.shape, X_train.shape, y_test.shape, y_train.shape"
   ]
  },
  {
   "cell_type": "markdown",
   "id": "94bce6f1",
   "metadata": {},
   "source": [
    "**Training the Model**"
   ]
  },
  {
   "cell_type": "markdown",
   "id": "2ea93946",
   "metadata": {},
   "source": [
    "**Single variable**"
   ]
  },
  {
   "cell_type": "code",
   "execution_count": 15,
   "id": "00d86d75",
   "metadata": {},
   "outputs": [],
   "source": [
    "X1 = X[['model_te']]\n",
    "X1_train = X_train[['model_te']]\n",
    "X1_test = X_test[['model_te']]"
   ]
  },
  {
   "cell_type": "code",
   "execution_count": 16,
   "id": "33c4941d",
   "metadata": {},
   "outputs": [
    {
     "name": "stdout",
     "output_type": "stream",
     "text": [
      "[0.9967642]\n",
      "0.0015237505846132926\n"
     ]
    }
   ],
   "source": [
    "from sklearn.linear_model import LinearRegression\n",
    "model = LinearRegression()\n",
    "model.fit(X1_train, y_train)\n",
    "print(model.coef_)\n",
    "print(model.intercept_)"
   ]
  },
  {
   "cell_type": "code",
   "execution_count": 17,
   "id": "250e8ced",
   "metadata": {},
   "outputs": [
    {
     "data": {
      "text/plain": [
       "array([0.04293954, 0.21919884, 0.15018463, ..., 0.20153052, 0.37797252,\n",
       "       0.51930761])"
      ]
     },
     "execution_count": 17,
     "metadata": {},
     "output_type": "execute_result"
    }
   ],
   "source": [
    "model.predict(X1)"
   ]
  },
  {
   "cell_type": "code",
   "execution_count": 18,
   "id": "1ab91e19",
   "metadata": {},
   "outputs": [
    {
     "data": {
      "image/png": "[encoded data removed]",
      "text/plain": [
       "<Figure size 640x480 with 1 Axes>"
      ]
     },
     "metadata": {},
     "output_type": "display_data"
    }
   ],
   "source": [
    "y_hat = model.predict(X1)\n",
    "fig = plt.figure()\n",
    "plt.scatter(X1,y,label = 'data')\n",
    "plt.scatter(X1,y_hat,color = 'orange', label = 'predict')\n",
    "plt.legend()\n",
    "plt.show()"
   ]
  },
  {
   "cell_type": "markdown",
   "id": "183d1c52",
   "metadata": {},
   "source": [
    "**For All variables**"
   ]
  },
  {
   "cell_type": "code",
   "execution_count": 19,
   "id": "36499278",
   "metadata": {},
   "outputs": [
    {
     "name": "stdout",
     "output_type": "stream",
     "text": [
      "[ 7.24505255e+11 -2.49755859e-01 -2.32287097e-01  7.44248837e-02\n",
      "  4.69365665e-02  7.24505255e+11 -7.23177948e-03 -7.15141607e-03\n",
      "  6.94566417e-03  1.33001908e-01  1.50175613e-02 -6.86955568e-03\n",
      " -3.79558700e-03 -1.62488438e-02 -2.35550955e-02  6.63439251e-02\n",
      "  8.58623808e-01]\n",
      "-724505254970.7954\n"
     ]
    }
   ],
   "source": [
    "model = LinearRegression()\n",
    "model.fit(X_train, y_train)\n",
    "print(model.coef_)\n",
    "print(model.intercept_)"
   ]
  },
  {
   "cell_type": "markdown",
   "id": "e36b3345",
   "metadata": {},
   "source": [
    "**Model Evaluation**\n",
    "R**2"
   ]
  },
  {
   "cell_type": "code",
   "execution_count": 20,
   "id": "5dcbb074",
   "metadata": {},
   "outputs": [
    {
     "data": {
      "text/plain": [
       "0.9459014629757724"
      ]
     },
     "execution_count": 20,
     "metadata": {},
     "output_type": "execute_result"
    }
   ],
   "source": [
    "model.score(X_train, y_train)"
   ]
  },
  {
   "cell_type": "code",
   "execution_count": 21,
   "id": "644f5804",
   "metadata": {},
   "outputs": [
    {
     "data": {
      "text/plain": [
       "0.9459856947928624"
      ]
     },
     "execution_count": 21,
     "metadata": {},
     "output_type": "execute_result"
    }
   ],
   "source": [
    "model.score(X_test, y_test)"
   ]
  },
  {
   "cell_type": "markdown",
   "id": "4b2e3b18",
   "metadata": {},
   "source": [
    "**Feature Importance**"
   ]
  },
  {
   "cell_type": "code",
   "execution_count": 22,
   "id": "a52533d9",
   "metadata": {},
   "outputs": [
    {
     "data": {
      "image/png": "[encoded data removed]",
      "text/plain": [
       "<Figure size 640x480 with 1 Axes>"
      ]
     },
     "metadata": {},
     "output_type": "display_data"
    }
   ],
   "source": [
    "imp = pd.DataFrame(list(zip(X_test.columns, np.abs(model.coef_))), columns = ['features', 'coeff'])\n",
    "sns.barplot(x= 'features', y = 'coeff', data = imp)\n",
    "plt.xticks(rotation = 90)\n",
    "plt.show()"
   ]
  },
  {
   "cell_type": "markdown",
   "id": "5e138889",
   "metadata": {},
   "source": [
    "## **Linear Regression from Scratch**"
   ]
  },
  {
   "cell_type": "code",
   "execution_count": 23,
   "id": "d418e8bc",
   "metadata": {},
   "outputs": [],
   "source": [
    "import numpy as np"
   ]
  },
  {
   "cell_type": "code",
   "execution_count": 24,
   "id": "abc21f9b",
   "metadata": {},
   "outputs": [],
   "source": [
    "class LinearRegression():\n",
    "    def __init__(self, learning_rate = 0.01, iterations = 5):\n",
    "        self.learning_rate = learning_rate\n",
    "        self.iterations = iterations"
   ]
  },
  {
   "cell_type": "code",
   "execution_count": 25,
   "id": "441c08cc",
   "metadata": {},
   "outputs": [],
   "source": [
    "def predict(self, X):\n",
    "    return np.dot(X, self.w) + self.b\n",
    "\n",
    "LinearRegression.predict = predict"
   ]
  },
  {
   "cell_type": "code",
   "execution_count": 26,
   "id": "297d2edc",
   "metadata": {},
   "outputs": [],
   "source": [
    "def r2_score(self, X, y):\n",
    "    y_ = predict(self,X)\n",
    "    ss_res = np.sum((y-y_)**2)\n",
    "    ss_total = np.sum((y - y.mean())**2)\n",
    "    score = (1 - ss_res/ss_total)\n",
    "    return score\n",
    "\n",
    "LinearRegression.score= r2_score"
   ]
  },
  {
   "cell_type": "code",
   "execution_count": 27,
   "id": "0cd36414",
   "metadata": {},
   "outputs": [],
   "source": [
    "def update_weights(self):\n",
    "    y_pred = self.predict(self.X)\n",
    "    dw = - (2 * (self.X.T).dot(self.y - y_pred))/self.m\n",
    "    db = -2 * np.sum(self.y - y_pred)/self.m\n",
    "    self.w = self.w - self.learning_rate*dw\n",
    "    self.b = self.b - self.learning_rate*db\n",
    "    return self\n",
    "\n",
    "LinearRegression.update_weights = update_weights"
   ]
  },
  {
   "cell_type": "code",
   "execution_count": 28,
   "id": "64e3070f",
   "metadata": {},
   "outputs": [],
   "source": [
    "def fit(self, X, y):\n",
    "    self.m, self.d = X.shape\n",
    "    self.w = np.zeros(self.d)\n",
    "    self.b = 0\n",
    "    self.X = X\n",
    "    self.y = y\n",
    "    self.error_list = []\n",
    "    for i in range(self.iterations):\n",
    "        self.update_weights()\n",
    "        y_pred = X.dot(self.w) + self.b\n",
    "        error = np.square(np.subtract(y, y_pred)).mean()\n",
    "        self.error_list.append(error)\n",
    "    return self\n",
    "\n",
    "LinearRegression.fit = fit\n"
   ]
  },
  {
   "cell_type": "markdown",
   "id": "5fca7e58",
   "metadata": {},
   "source": [
    "**Plotting the Error list**"
   ]
  },
  {
   "cell_type": "code",
   "execution_count": null,
   "id": "82d2a6b4",
   "metadata": {},
   "outputs": [],
   "source": []
  },
  {
   "cell_type": "code",
   "execution_count": 29,
   "id": "9b4b8006",
   "metadata": {},
   "outputs": [
    {
     "data": {
      "text/plain": [
       "0.4403014437156555"
      ]
     },
     "execution_count": 29,
     "metadata": {},
     "output_type": "execute_result"
    }
   ],
   "source": [
    "lr = LinearRegression(iterations=100)\n",
    "lr.fit(X_train,y_train)\n",
    "lr.predict(X_test)\n",
    "lr.score(X_train,y_train)\n"
   ]
  },
  {
   "cell_type": "code",
   "execution_count": 30,
   "id": "951ab9a8",
   "metadata": {},
   "outputs": [
    {
     "data": {
      "text/plain": [
       "0.091390661589401"
      ]
     },
     "execution_count": 30,
     "metadata": {},
     "output_type": "execute_result"
    }
   ],
   "source": [
    "lr.b"
   ]
  },
  {
   "cell_type": "code",
   "execution_count": 31,
   "id": "b95afe28",
   "metadata": {},
   "outputs": [
    {
     "data": {
      "text/plain": [
       "year                0.088474\n",
       "km_driven           0.000682\n",
       "mileage             0.007028\n",
       "engine              0.039473\n",
       "max_power           0.036066\n",
       "age                 0.002917\n",
       "Individual         -0.009215\n",
       "Trustmark Dealer    0.000555\n",
       "Diesel              0.089037\n",
       "Electric            0.000248\n",
       "LPG                -0.000746\n",
       "Petrol              0.003628\n",
       "Manual             -0.023404\n",
       "5                   0.040467\n",
       ">5                  0.045181\n",
       "make_te             0.079719\n",
       "model_te            0.116198\n",
       "dtype: float64"
      ]
     },
     "execution_count": 31,
     "metadata": {},
     "output_type": "execute_result"
    }
   ],
   "source": [
    "lr.w"
   ]
  },
  {
   "cell_type": "code",
   "execution_count": 32,
   "id": "fd9962c1",
   "metadata": {},
   "outputs": [
    {
     "data": {
      "image/png": "[encoded data removed]",
      "text/plain": [
       "<Figure size 640x480 with 1 Axes>"
      ]
     },
     "metadata": {},
     "output_type": "display_data"
    }
   ],
   "source": [
    "%matplotlib inline\n",
    "fig = plt.figure()\n",
    "plt.plot(lr.error_list)\n",
    "plt.title(\"Reduction in error over time\")\n",
    "plt.xlabel(\"iteration\")\n",
    "plt.ylabel(\"Error\")\n",
    "plt.show()"
   ]
  },
  {
   "cell_type": "code",
   "execution_count": 33,
   "id": "4e939e60",
   "metadata": {},
   "outputs": [
    {
     "name": "stdout",
     "output_type": "stream",
     "text": [
      "Adjusted R-squared: 0.4386590531265625\n"
     ]
    }
   ],
   "source": [
    "y_hat = lr.predict(X_test)\n",
    "m = len(y_test)\n",
    "d = X_test.shape[1]\n",
    "r2_score = lr.score(X_test, y_test)\n",
    "Adj_R = 1 - ((1-r2_score)*(m-1)/(m-20-1))\n",
    "print(\"Adjusted R-squared:\", Adj_R )"
   ]
  },
  {
   "cell_type": "markdown",
   "id": "51b1047a",
   "metadata": {},
   "source": [
    "**Stats Models**"
   ]
  },
  {
   "cell_type": "code",
   "execution_count": 34,
   "id": "d145af20",
   "metadata": {},
   "outputs": [],
   "source": [
    "import statsmodels.api as sm"
   ]
  },
  {
   "cell_type": "code",
   "execution_count": 35,
   "id": "938d38c0",
   "metadata": {},
   "outputs": [
    {
     "data": {
      "text/html": [
       "<table class=\"simpletable\">\n",
       "<caption>OLS Regression Results</caption>\n",
       "<tr>\n",
       "  <th>Dep. Variable:</th>      <td>selling_price</td>  <th>  R-squared:         </th>  <td>   0.946</td> \n",
       "</tr>\n",
       "<tr>\n",
       "  <th>Model:</th>                   <td>OLS</td>       <th>  Adj. R-squared:    </th>  <td>   0.946</td> \n",
       "</tr>\n",
       "<tr>\n",
       "  <th>Method:</th>             <td>Least Squares</td>  <th>  F-statistic:       </th>  <td>1.514e+04</td>\n",
       "</tr>\n",
       "<tr>\n",
       "  <th>Date:</th>             <td>Tue, 01 Apr 2025</td> <th>  Prob (F-statistic):</th>   <td>  0.00</td>  \n",
       "</tr>\n",
       "<tr>\n",
       "  <th>Time:</th>                 <td>06:10:45</td>     <th>  Log-Likelihood:    </th>  <td>  20683.</td> \n",
       "</tr>\n",
       "<tr>\n",
       "  <th>No. Observations:</th>      <td> 13874</td>      <th>  AIC:               </th> <td>-4.133e+04</td>\n",
       "</tr>\n",
       "<tr>\n",
       "  <th>Df Residuals:</th>          <td> 13857</td>      <th>  BIC:               </th> <td>-4.120e+04</td>\n",
       "</tr>\n",
       "<tr>\n",
       "  <th>Df Model:</th>              <td>    16</td>      <th>                     </th>      <td> </td>    \n",
       "</tr>\n",
       "<tr>\n",
       "  <th>Covariance Type:</th>      <td>nonrobust</td>    <th>                     </th>      <td> </td>    \n",
       "</tr>\n",
       "</table>\n",
       "<table class=\"simpletable\">\n",
       "<tr>\n",
       "          <td></td>            <th>coef</th>     <th>std err</th>      <th>t</th>      <th>P>|t|</th>  <th>[0.025</th>    <th>0.975]</th>  \n",
       "</tr>\n",
       "<tr>\n",
       "  <th>const</th>            <td>-6.729e+11</td> <td> 1.16e+11</td> <td>   -5.801</td> <td> 0.000</td> <td>   -9e+11</td> <td>-4.45e+11</td>\n",
       "</tr>\n",
       "<tr>\n",
       "  <th>year</th>             <td> 6.729e+11</td> <td> 1.16e+11</td> <td>    5.801</td> <td> 0.000</td> <td> 4.45e+11</td> <td>    9e+11</td>\n",
       "</tr>\n",
       "<tr>\n",
       "  <th>km_driven</th>        <td>   -0.2498</td> <td>    0.035</td> <td>   -7.099</td> <td> 0.000</td> <td>   -0.319</td> <td>   -0.181</td>\n",
       "</tr>\n",
       "<tr>\n",
       "  <th>mileage</th>          <td>   -0.2334</td> <td>    0.022</td> <td>  -10.580</td> <td> 0.000</td> <td>   -0.277</td> <td>   -0.190</td>\n",
       "</tr>\n",
       "<tr>\n",
       "  <th>engine</th>           <td>    0.0741</td> <td>    0.015</td> <td>    4.972</td> <td> 0.000</td> <td>    0.045</td> <td>    0.103</td>\n",
       "</tr>\n",
       "<tr>\n",
       "  <th>max_power</th>        <td>    0.0471</td> <td>    0.014</td> <td>    3.272</td> <td> 0.001</td> <td>    0.019</td> <td>    0.075</td>\n",
       "</tr>\n",
       "<tr>\n",
       "  <th>age</th>              <td> 6.729e+11</td> <td> 1.16e+11</td> <td>    5.801</td> <td> 0.000</td> <td> 4.45e+11</td> <td>    9e+11</td>\n",
       "</tr>\n",
       "<tr>\n",
       "  <th>Individual</th>       <td>   -0.0072</td> <td>    0.001</td> <td>   -7.306</td> <td> 0.000</td> <td>   -0.009</td> <td>   -0.005</td>\n",
       "</tr>\n",
       "<tr>\n",
       "  <th>Trustmark Dealer</th> <td>   -0.0069</td> <td>    0.005</td> <td>   -1.442</td> <td> 0.149</td> <td>   -0.016</td> <td>    0.002</td>\n",
       "</tr>\n",
       "<tr>\n",
       "  <th>Diesel</th>           <td>    0.0069</td> <td>    0.004</td> <td>    1.751</td> <td> 0.080</td> <td>   -0.001</td> <td>    0.015</td>\n",
       "</tr>\n",
       "<tr>\n",
       "  <th>Electric</th>         <td>    0.1328</td> <td>    0.024</td> <td>    5.477</td> <td> 0.000</td> <td>    0.085</td> <td>    0.180</td>\n",
       "</tr>\n",
       "<tr>\n",
       "  <th>LPG</th>              <td>    0.0151</td> <td>    0.009</td> <td>    1.683</td> <td> 0.092</td> <td>   -0.002</td> <td>    0.033</td>\n",
       "</tr>\n",
       "<tr>\n",
       "  <th>Petrol</th>           <td>   -0.0069</td> <td>    0.004</td> <td>   -1.695</td> <td> 0.090</td> <td>   -0.015</td> <td>    0.001</td>\n",
       "</tr>\n",
       "<tr>\n",
       "  <th>Manual</th>           <td>   -0.0036</td> <td>    0.002</td> <td>   -2.289</td> <td> 0.022</td> <td>   -0.007</td> <td>   -0.001</td>\n",
       "</tr>\n",
       "<tr>\n",
       "  <th>5</th>                <td>   -0.0162</td> <td>    0.004</td> <td>   -3.773</td> <td> 0.000</td> <td>   -0.025</td> <td>   -0.008</td>\n",
       "</tr>\n",
       "<tr>\n",
       "  <th>>5</th>               <td>   -0.0235</td> <td>    0.005</td> <td>   -5.069</td> <td> 0.000</td> <td>   -0.033</td> <td>   -0.014</td>\n",
       "</tr>\n",
       "<tr>\n",
       "  <th>make_te</th>          <td>    0.0661</td> <td>    0.005</td> <td>   14.133</td> <td> 0.000</td> <td>    0.057</td> <td>    0.075</td>\n",
       "</tr>\n",
       "<tr>\n",
       "  <th>model_te</th>         <td>    0.8589</td> <td>    0.005</td> <td>  169.902</td> <td> 0.000</td> <td>    0.849</td> <td>    0.869</td>\n",
       "</tr>\n",
       "</table>\n",
       "<table class=\"simpletable\">\n",
       "<tr>\n",
       "  <th>Omnibus:</th>       <td>2591.569</td> <th>  Durbin-Watson:     </th> <td>   1.980</td> \n",
       "</tr>\n",
       "<tr>\n",
       "  <th>Prob(Omnibus):</th>  <td> 0.000</td>  <th>  Jarque-Bera (JB):  </th> <td>57429.765</td>\n",
       "</tr>\n",
       "<tr>\n",
       "  <th>Skew:</th>           <td> 0.284</td>  <th>  Prob(JB):          </th> <td>    0.00</td> \n",
       "</tr>\n",
       "<tr>\n",
       "  <th>Kurtosis:</th>       <td>12.951</td>  <th>  Cond. No.          </th> <td>8.64e+14</td> \n",
       "</tr>\n",
       "</table><br/><br/>Notes:<br/>[1] Standard Errors assume that the covariance matrix of the errors is correctly specified.<br/>[2] The smallest eigenvalue is 7.36e-26. This might indicate that there are<br/>strong multicollinearity problems or that the design matrix is singular."
      ],
      "text/latex": [
       "\\begin{center}\n",
       "\\begin{tabular}{lclc}\n",
       "\\toprule\n",
       "\\textbf{Dep. Variable:}    &  selling\\_price  & \\textbf{  R-squared:         } &     0.946   \\\\\n",
       "\\textbf{Model:}            &       OLS        & \\textbf{  Adj. R-squared:    } &     0.946   \\\\\n",
       "\\textbf{Method:}           &  Least Squares   & \\textbf{  F-statistic:       } & 1.514e+04   \\\\\n",
       "\\textbf{Date:}             & Tue, 01 Apr 2025 & \\textbf{  Prob (F-statistic):} &     0.00    \\\\\n",
       "\\textbf{Time:}             &     06:10:45     & \\textbf{  Log-Likelihood:    } &    20683.   \\\\\n",
       "\\textbf{No. Observations:} &       13874      & \\textbf{  AIC:               } & -4.133e+04  \\\\\n",
       "\\textbf{Df Residuals:}     &       13857      & \\textbf{  BIC:               } & -4.120e+04  \\\\\n",
       "\\textbf{Df Model:}         &          16      & \\textbf{                     } &             \\\\\n",
       "\\textbf{Covariance Type:}  &    nonrobust     & \\textbf{                     } &             \\\\\n",
       "\\bottomrule\n",
       "\\end{tabular}\n",
       "\\begin{tabular}{lcccccc}\n",
       "                          & \\textbf{coef} & \\textbf{std err} & \\textbf{t} & \\textbf{P$> |$t$|$} & \\textbf{[0.025} & \\textbf{0.975]}  \\\\\n",
       "\\midrule\n",
       "\\textbf{const}            &   -6.729e+11  &     1.16e+11     &    -5.801  &         0.000        &       -9e+11    &    -4.45e+11     \\\\\n",
       "\\textbf{year}             &    6.729e+11  &     1.16e+11     &     5.801  &         0.000        &     4.45e+11    &        9e+11     \\\\\n",
       "\\textbf{km\\_driven}       &      -0.2498  &        0.035     &    -7.099  &         0.000        &       -0.319    &       -0.181     \\\\\n",
       "\\textbf{mileage}          &      -0.2334  &        0.022     &   -10.580  &         0.000        &       -0.277    &       -0.190     \\\\\n",
       "\\textbf{engine}           &       0.0741  &        0.015     &     4.972  &         0.000        &        0.045    &        0.103     \\\\\n",
       "\\textbf{max\\_power}       &       0.0471  &        0.014     &     3.272  &         0.001        &        0.019    &        0.075     \\\\\n",
       "\\textbf{age}              &    6.729e+11  &     1.16e+11     &     5.801  &         0.000        &     4.45e+11    &        9e+11     \\\\\n",
       "\\textbf{Individual}       &      -0.0072  &        0.001     &    -7.306  &         0.000        &       -0.009    &       -0.005     \\\\\n",
       "\\textbf{Trustmark Dealer} &      -0.0069  &        0.005     &    -1.442  &         0.149        &       -0.016    &        0.002     \\\\\n",
       "\\textbf{Diesel}           &       0.0069  &        0.004     &     1.751  &         0.080        &       -0.001    &        0.015     \\\\\n",
       "\\textbf{Electric}         &       0.1328  &        0.024     &     5.477  &         0.000        &        0.085    &        0.180     \\\\\n",
       "\\textbf{LPG}              &       0.0151  &        0.009     &     1.683  &         0.092        &       -0.002    &        0.033     \\\\\n",
       "\\textbf{Petrol}           &      -0.0069  &        0.004     &    -1.695  &         0.090        &       -0.015    &        0.001     \\\\\n",
       "\\textbf{Manual}           &      -0.0036  &        0.002     &    -2.289  &         0.022        &       -0.007    &       -0.001     \\\\\n",
       "\\textbf{5}                &      -0.0162  &        0.004     &    -3.773  &         0.000        &       -0.025    &       -0.008     \\\\\n",
       "\\textbf{$>$5}             &      -0.0235  &        0.005     &    -5.069  &         0.000        &       -0.033    &       -0.014     \\\\\n",
       "\\textbf{make\\_te}         &       0.0661  &        0.005     &    14.133  &         0.000        &        0.057    &        0.075     \\\\\n",
       "\\textbf{model\\_te}        &       0.8589  &        0.005     &   169.902  &         0.000        &        0.849    &        0.869     \\\\\n",
       "\\bottomrule\n",
       "\\end{tabular}\n",
       "\\begin{tabular}{lclc}\n",
       "\\textbf{Omnibus:}       & 2591.569 & \\textbf{  Durbin-Watson:     } &     1.980  \\\\\n",
       "\\textbf{Prob(Omnibus):} &   0.000  & \\textbf{  Jarque-Bera (JB):  } & 57429.765  \\\\\n",
       "\\textbf{Skew:}          &   0.284  & \\textbf{  Prob(JB):          } &      0.00  \\\\\n",
       "\\textbf{Kurtosis:}      &  12.951  & \\textbf{  Cond. No.          } &  8.64e+14  \\\\\n",
       "\\bottomrule\n",
       "\\end{tabular}\n",
       "%\\caption{OLS Regression Results}\n",
       "\\end{center}\n",
       "\n",
       "Notes: \\newline\n",
       " [1] Standard Errors assume that the covariance matrix of the errors is correctly specified. \\newline\n",
       " [2] The smallest eigenvalue is 7.36e-26. This might indicate that there are \\newline\n",
       " strong multicollinearity problems or that the design matrix is singular."
      ],
      "text/plain": [
       "<class 'statsmodels.iolib.summary.Summary'>\n",
       "\"\"\"\n",
       "                            OLS Regression Results                            \n",
       "==============================================================================\n",
       "Dep. Variable:          selling_price   R-squared:                       0.946\n",
       "Model:                            OLS   Adj. R-squared:                  0.946\n",
       "Method:                 Least Squares   F-statistic:                 1.514e+04\n",
       "Date:                Tue, 01 Apr 2025   Prob (F-statistic):               0.00\n",
       "Time:                        06:10:45   Log-Likelihood:                 20683.\n",
       "No. Observations:               13874   AIC:                        -4.133e+04\n",
       "Df Residuals:                   13857   BIC:                        -4.120e+04\n",
       "Df Model:                          16                                         \n",
       "Covariance Type:            nonrobust                                         \n",
       "====================================================================================\n",
       "                       coef    std err          t      P>|t|      [0.025      0.975]\n",
       "------------------------------------------------------------------------------------\n",
       "const            -6.729e+11   1.16e+11     -5.801      0.000      -9e+11   -4.45e+11\n",
       "year              6.729e+11   1.16e+11      5.801      0.000    4.45e+11       9e+11\n",
       "km_driven           -0.2498      0.035     -7.099      0.000      -0.319      -0.181\n",
       "mileage             -0.2334      0.022    -10.580      0.000      -0.277      -0.190\n",
       "engine               0.0741      0.015      4.972      0.000       0.045       0.103\n",
       "max_power            0.0471      0.014      3.272      0.001       0.019       0.075\n",
       "age               6.729e+11   1.16e+11      5.801      0.000    4.45e+11       9e+11\n",
       "Individual          -0.0072      0.001     -7.306      0.000      -0.009      -0.005\n",
       "Trustmark Dealer    -0.0069      0.005     -1.442      0.149      -0.016       0.002\n",
       "Diesel               0.0069      0.004      1.751      0.080      -0.001       0.015\n",
       "Electric             0.1328      0.024      5.477      0.000       0.085       0.180\n",
       "LPG                  0.0151      0.009      1.683      0.092      -0.002       0.033\n",
       "Petrol              -0.0069      0.004     -1.695      0.090      -0.015       0.001\n",
       "Manual              -0.0036      0.002     -2.289      0.022      -0.007      -0.001\n",
       "5                   -0.0162      0.004     -3.773      0.000      -0.025      -0.008\n",
       ">5                  -0.0235      0.005     -5.069      0.000      -0.033      -0.014\n",
       "make_te              0.0661      0.005     14.133      0.000       0.057       0.075\n",
       "model_te             0.8589      0.005    169.902      0.000       0.849       0.869\n",
       "==============================================================================\n",
       "Omnibus:                     2591.569   Durbin-Watson:                   1.980\n",
       "Prob(Omnibus):                  0.000   Jarque-Bera (JB):            57429.765\n",
       "Skew:                           0.284   Prob(JB):                         0.00\n",
       "Kurtosis:                      12.951   Cond. No.                     8.64e+14\n",
       "==============================================================================\n",
       "\n",
       "Notes:\n",
       "[1] Standard Errors assume that the covariance matrix of the errors is correctly specified.\n",
       "[2] The smallest eigenvalue is 7.36e-26. This might indicate that there are\n",
       "strong multicollinearity problems or that the design matrix is singular.\n",
       "\"\"\""
      ]
     },
     "execution_count": 35,
     "metadata": {},
     "output_type": "execute_result"
    }
   ],
   "source": [
    "X_sm = sm.add_constant(X_train)\n",
    "model = sm.OLS(y_train,X_sm)\n",
    "results = model.fit()\n",
    "results.summary()"
   ]
  },
  {
   "cell_type": "markdown",
   "id": "e8bdb63a",
   "metadata": {},
   "source": [
    "**Variation Inflation Factor**"
   ]
  },
  {
   "cell_type": "code",
   "execution_count": 36,
   "id": "835abfcb",
   "metadata": {},
   "outputs": [],
   "source": [
    "from statsmodels.stats.outliers_influence import variance_inflation_factor"
   ]
  },
  {
   "cell_type": "code",
   "execution_count": 37,
   "id": "0c63079b",
   "metadata": {},
   "outputs": [],
   "source": [
    "vif = pd.DataFrame()\n",
    "X_t = pd.DataFrame(X_train, columns = X_train.columns)\n",
    "vif[\"Features\"] = X_t.columns\n",
    "vif[\"VIF\"] = [variance_inflation_factor(X_t.values, i) for i in range(X_t.shape[1])]\n",
    "vif[\"VIF\"] = round(vif[\"VIF\"],2)\n",
    "vif = vif.sort_values(by = 'VIF', ascending=False)"
   ]
  },
  {
   "cell_type": "code",
   "execution_count": 41,
   "id": "cb7dd112",
   "metadata": {},
   "outputs": [],
   "source": [
    "cols2 = vif[\"Features\"][1:].values"
   ]
  },
  {
   "cell_type": "code",
   "execution_count": 42,
   "id": "72770ddc",
   "metadata": {},
   "outputs": [
    {
     "data": {
      "text/plain": [
       "array(['age', 'Petrol', 'Diesel', '>5', '5', 'engine', 'model_te',\n",
       "       'max_power', 'make_te', 'mileage', 'Manual', 'LPG', 'km_driven',\n",
       "       'Electric', 'Individual', 'Trustmark Dealer'], dtype=object)"
      ]
     },
     "execution_count": 42,
     "metadata": {},
     "output_type": "execute_result"
    }
   ],
   "source": [
    "cols2"
   ]
  },
  {
   "cell_type": "code",
   "execution_count": 43,
   "id": "22aebc48",
   "metadata": {},
   "outputs": [
    {
     "name": "stdout",
     "output_type": "stream",
     "text": [
      "                            OLS Regression Results                            \n",
      "==============================================================================\n",
      "Dep. Variable:                      y   R-squared:                       0.946\n",
      "Model:                            OLS   Adj. R-squared:                  0.946\n",
      "Method:                 Least Squares   F-statistic:                 1.510e+04\n",
      "Date:                Tue, 01 Apr 2025   Prob (F-statistic):               0.00\n",
      "Time:                        06:33:47   Log-Likelihood:                 20667.\n",
      "No. Observations:               13874   AIC:                        -4.130e+04\n",
      "Df Residuals:                   13857   BIC:                        -4.117e+04\n",
      "Df Model:                          16                                         \n",
      "Covariance Type:            nonrobust                                         \n",
      "====================================================================================\n",
      "                       coef    std err          t      P>|t|      [0.025      0.975]\n",
      "------------------------------------------------------------------------------------\n",
      "const                0.1144      0.009     13.293      0.000       0.098       0.131\n",
      "age                 -0.2518      0.006    -43.191      0.000      -0.263      -0.240\n",
      "Petrol              -0.0066      0.004     -1.630      0.103      -0.015       0.001\n",
      "Diesel               0.0067      0.004      1.700      0.089      -0.001       0.014\n",
      ">5                  -0.0236      0.005     -5.090      0.000      -0.033      -0.015\n",
      "5                   -0.0163      0.004     -3.799      0.000      -0.025      -0.008\n",
      "engine               0.0751      0.015      5.032      0.000       0.046       0.104\n",
      "model_te             0.8603      0.005    170.196      0.000       0.850       0.870\n",
      "max_power            0.0453      0.014      3.144      0.002       0.017       0.074\n",
      "make_te              0.0646      0.005     13.826      0.000       0.055       0.074\n",
      "mileage             -0.2285      0.022    -10.356      0.000      -0.272      -0.185\n",
      "Manual              -0.0039      0.002     -2.495      0.013      -0.007      -0.001\n",
      "LPG                  0.0160      0.009      1.784      0.074      -0.002       0.034\n",
      "km_driven           -0.2502      0.035     -7.102      0.000      -0.319      -0.181\n",
      "Electric             0.1292      0.024      5.325      0.000       0.082       0.177\n",
      "Individual          -0.0070      0.001     -7.075      0.000      -0.009      -0.005\n",
      "Trustmark Dealer    -0.0070      0.005     -1.458      0.145      -0.016       0.002\n",
      "==============================================================================\n",
      "Omnibus:                     2585.296   Durbin-Watson:                   1.979\n",
      "Prob(Omnibus):                  0.000   Jarque-Bera (JB):            56900.993\n",
      "Skew:                           0.284   Prob(JB):                         0.00\n",
      "Kurtosis:                      12.905   Cond. No.                         140.\n",
      "==============================================================================\n",
      "\n",
      "Notes:\n",
      "[1] Standard Errors assume that the covariance matrix of the errors is correctly specified.\n"
     ]
    }
   ],
   "source": [
    "X2 = pd.DataFrame(X_train, columns = X_train.columns)[cols2]\n",
    "X2_sm = sm.add_constant(X2)\n",
    "sm_model = sm.OLS(list(y_train), X2_sm).fit()\n",
    "print(sm_model.summary())"
   ]
  },
  {
   "cell_type": "code",
   "execution_count": 45,
   "id": "f1391505",
   "metadata": {},
   "outputs": [
    {
     "data": {
      "text/html": [
       "<div>\n",
       "<style scoped>\n",
       "    .dataframe tbody tr th:only-of-type {\n",
       "        vertical-align: middle;\n",
       "    }\n",
       "\n",
       "    .dataframe tbody tr th {\n",
       "        vertical-align: top;\n",
       "    }\n",
       "\n",
       "    .dataframe thead th {\n",
       "        text-align: right;\n",
       "    }\n",
       "</style>\n",
       "<table border=\"1\" class=\"dataframe\">\n",
       "  <thead>\n",
       "    <tr style=\"text-align: right;\">\n",
       "      <th></th>\n",
       "      <th>Features</th>\n",
       "      <th>VIF</th>\n",
       "    </tr>\n",
       "  </thead>\n",
       "  <tbody>\n",
       "    <tr>\n",
       "      <th>4</th>\n",
       "      <td>5</td>\n",
       "      <td>50.02</td>\n",
       "    </tr>\n",
       "    <tr>\n",
       "      <th>5</th>\n",
       "      <td>engine</td>\n",
       "      <td>48.28</td>\n",
       "    </tr>\n",
       "    <tr>\n",
       "      <th>2</th>\n",
       "      <td>Diesel</td>\n",
       "      <td>29.78</td>\n",
       "    </tr>\n",
       "    <tr>\n",
       "      <th>7</th>\n",
       "      <td>max_power</td>\n",
       "      <td>26.73</td>\n",
       "    </tr>\n",
       "    <tr>\n",
       "      <th>1</th>\n",
       "      <td>Petrol</td>\n",
       "      <td>24.87</td>\n",
       "    </tr>\n",
       "    <tr>\n",
       "      <th>9</th>\n",
       "      <td>mileage</td>\n",
       "      <td>22.34</td>\n",
       "    </tr>\n",
       "    <tr>\n",
       "      <th>6</th>\n",
       "      <td>model_te</td>\n",
       "      <td>16.79</td>\n",
       "    </tr>\n",
       "    <tr>\n",
       "      <th>8</th>\n",
       "      <td>make_te</td>\n",
       "      <td>11.72</td>\n",
       "    </tr>\n",
       "    <tr>\n",
       "      <th>3</th>\n",
       "      <td>&gt;5</td>\n",
       "      <td>10.77</td>\n",
       "    </tr>\n",
       "    <tr>\n",
       "      <th>10</th>\n",
       "      <td>Manual</td>\n",
       "      <td>8.82</td>\n",
       "    </tr>\n",
       "    <tr>\n",
       "      <th>0</th>\n",
       "      <td>age</td>\n",
       "      <td>8.57</td>\n",
       "    </tr>\n",
       "    <tr>\n",
       "      <th>12</th>\n",
       "      <td>km_driven</td>\n",
       "      <td>2.56</td>\n",
       "    </tr>\n",
       "    <tr>\n",
       "      <th>14</th>\n",
       "      <td>Individual</td>\n",
       "      <td>1.79</td>\n",
       "    </tr>\n",
       "    <tr>\n",
       "      <th>11</th>\n",
       "      <td>LPG</td>\n",
       "      <td>1.18</td>\n",
       "    </tr>\n",
       "    <tr>\n",
       "      <th>13</th>\n",
       "      <td>Electric</td>\n",
       "      <td>1.15</td>\n",
       "    </tr>\n",
       "    <tr>\n",
       "      <th>15</th>\n",
       "      <td>Trustmark Dealer</td>\n",
       "      <td>1.03</td>\n",
       "    </tr>\n",
       "  </tbody>\n",
       "</table>\n",
       "</div>"
      ],
      "text/plain": [
       "            Features    VIF\n",
       "4                  5  50.02\n",
       "5             engine  48.28\n",
       "2             Diesel  29.78\n",
       "7          max_power  26.73\n",
       "1             Petrol  24.87\n",
       "9            mileage  22.34\n",
       "6           model_te  16.79\n",
       "8            make_te  11.72\n",
       "3                 >5  10.77\n",
       "10            Manual   8.82\n",
       "0                age   8.57\n",
       "12         km_driven   2.56\n",
       "14        Individual   1.79\n",
       "11               LPG   1.18\n",
       "13          Electric   1.15\n",
       "15  Trustmark Dealer   1.03"
      ]
     },
     "execution_count": 45,
     "metadata": {},
     "output_type": "execute_result"
    }
   ],
   "source": [
    "vif = pd.DataFrame()\n",
    "X_t = pd.DataFrame(X2, columns=X2.columns)\n",
    "vif[\"Features\"] = X2.columns\n",
    "vif[\"VIF\"] = [variance_inflation_factor(X_t.values, i) for i in range(X_t.shape[1])]\n",
    "vif[\"VIF\"] = round(vif[\"VIF\"],2)\n",
    "vif = vif.sort_values(by= \"VIF\", ascending=False)\n",
    "vif\n"
   ]
  },
  {
   "cell_type": "code",
   "execution_count": null,
   "id": "db3a8a05",
   "metadata": {},
   "outputs": [],
   "source": []
  }
 ],
 "metadata": {
  "kernelspec": {
   "display_name": "Python 3 (ipykernel)",
   "language": "python",
   "name": "python3"
  },
  "language_info": {
   "codemirror_mode": {
    "name": "ipython",
    "version": 3
   },
   "file_extension": ".py",
   "mimetype": "text/x-python",
   "name": "python",
   "nbconvert_exporter": "python",
   "pygments_lexer": "ipython3",
   "version": "3.11.0rc1"
  }
 },
 "nbformat": 4,
 "nbformat_minor": 5
}
