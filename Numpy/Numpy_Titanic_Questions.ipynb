{
 "cells": [
  {
   "cell_type": "code",
   "execution_count": 1,
   "metadata": {
    "id": "7a5V-8RzVX7w"
   },
   "outputs": [],
   "source": [
    "import pandas as pd\n",
    "\n",
    "# Read Titanic dataset using Pandas\n",
    "titanic_data = pd.read_csv('titanic_numpy.csv')\n",
    "\n",
    "# Convert Pandas DataFrame to NumPy array\n",
    "titanic_array = titanic_data.values"
   ]
  },
  {
   "cell_type": "code",
   "execution_count": 2,
   "metadata": {},
   "outputs": [],
   "source": [
    "import numpy as np"
   ]
  },
  {
   "cell_type": "code",
   "execution_count": 3,
   "metadata": {},
   "outputs": [
    {
     "data": {
      "text/html": [
       "<div>\n",
       "<style scoped>\n",
       "    .dataframe tbody tr th:only-of-type {\n",
       "        vertical-align: middle;\n",
       "    }\n",
       "\n",
       "    .dataframe tbody tr th {\n",
       "        vertical-align: top;\n",
       "    }\n",
       "\n",
       "    .dataframe thead th {\n",
       "        text-align: right;\n",
       "    }\n",
       "</style>\n",
       "<table border=\"1\" class=\"dataframe\">\n",
       "  <thead>\n",
       "    <tr style=\"text-align: right;\">\n",
       "      <th></th>\n",
       "      <th>PassengerId</th>\n",
       "      <th>Survived</th>\n",
       "      <th>Pclass</th>\n",
       "      <th>Name</th>\n",
       "      <th>Sex</th>\n",
       "      <th>Age</th>\n",
       "      <th>SibSp</th>\n",
       "      <th>Parch</th>\n",
       "      <th>Ticket</th>\n",
       "      <th>Fare</th>\n",
       "      <th>Cabin</th>\n",
       "      <th>Embarked</th>\n",
       "    </tr>\n",
       "  </thead>\n",
       "  <tbody>\n",
       "    <tr>\n",
       "      <th>0</th>\n",
       "      <td>1</td>\n",
       "      <td>0</td>\n",
       "      <td>3</td>\n",
       "      <td>Braund, Mr. Owen Harris</td>\n",
       "      <td>male</td>\n",
       "      <td>22.0</td>\n",
       "      <td>1</td>\n",
       "      <td>0</td>\n",
       "      <td>A/5 21171</td>\n",
       "      <td>7.2500</td>\n",
       "      <td>NaN</td>\n",
       "      <td>S</td>\n",
       "    </tr>\n",
       "    <tr>\n",
       "      <th>1</th>\n",
       "      <td>2</td>\n",
       "      <td>1</td>\n",
       "      <td>1</td>\n",
       "      <td>Cumings, Mrs. John Bradley (Florence Briggs Th...</td>\n",
       "      <td>female</td>\n",
       "      <td>38.0</td>\n",
       "      <td>1</td>\n",
       "      <td>0</td>\n",
       "      <td>PC 17599</td>\n",
       "      <td>71.2833</td>\n",
       "      <td>C85</td>\n",
       "      <td>C</td>\n",
       "    </tr>\n",
       "    <tr>\n",
       "      <th>2</th>\n",
       "      <td>3</td>\n",
       "      <td>1</td>\n",
       "      <td>3</td>\n",
       "      <td>Heikkinen, Miss. Laina</td>\n",
       "      <td>female</td>\n",
       "      <td>26.0</td>\n",
       "      <td>0</td>\n",
       "      <td>0</td>\n",
       "      <td>STON/O2. 3101282</td>\n",
       "      <td>7.9250</td>\n",
       "      <td>NaN</td>\n",
       "      <td>S</td>\n",
       "    </tr>\n",
       "    <tr>\n",
       "      <th>3</th>\n",
       "      <td>4</td>\n",
       "      <td>1</td>\n",
       "      <td>1</td>\n",
       "      <td>Futrelle, Mrs. Jacques Heath (Lily May Peel)</td>\n",
       "      <td>female</td>\n",
       "      <td>35.0</td>\n",
       "      <td>1</td>\n",
       "      <td>0</td>\n",
       "      <td>113803</td>\n",
       "      <td>53.1000</td>\n",
       "      <td>C123</td>\n",
       "      <td>S</td>\n",
       "    </tr>\n",
       "    <tr>\n",
       "      <th>4</th>\n",
       "      <td>5</td>\n",
       "      <td>0</td>\n",
       "      <td>3</td>\n",
       "      <td>Allen, Mr. William Henry</td>\n",
       "      <td>male</td>\n",
       "      <td>35.0</td>\n",
       "      <td>0</td>\n",
       "      <td>0</td>\n",
       "      <td>373450</td>\n",
       "      <td>8.0500</td>\n",
       "      <td>NaN</td>\n",
       "      <td>S</td>\n",
       "    </tr>\n",
       "    <tr>\n",
       "      <th>...</th>\n",
       "      <td>...</td>\n",
       "      <td>...</td>\n",
       "      <td>...</td>\n",
       "      <td>...</td>\n",
       "      <td>...</td>\n",
       "      <td>...</td>\n",
       "      <td>...</td>\n",
       "      <td>...</td>\n",
       "      <td>...</td>\n",
       "      <td>...</td>\n",
       "      <td>...</td>\n",
       "      <td>...</td>\n",
       "    </tr>\n",
       "    <tr>\n",
       "      <th>886</th>\n",
       "      <td>887</td>\n",
       "      <td>0</td>\n",
       "      <td>2</td>\n",
       "      <td>Montvila, Rev. Juozas</td>\n",
       "      <td>male</td>\n",
       "      <td>27.0</td>\n",
       "      <td>0</td>\n",
       "      <td>0</td>\n",
       "      <td>211536</td>\n",
       "      <td>13.0000</td>\n",
       "      <td>NaN</td>\n",
       "      <td>S</td>\n",
       "    </tr>\n",
       "    <tr>\n",
       "      <th>887</th>\n",
       "      <td>888</td>\n",
       "      <td>1</td>\n",
       "      <td>1</td>\n",
       "      <td>Graham, Miss. Margaret Edith</td>\n",
       "      <td>female</td>\n",
       "      <td>19.0</td>\n",
       "      <td>0</td>\n",
       "      <td>0</td>\n",
       "      <td>112053</td>\n",
       "      <td>30.0000</td>\n",
       "      <td>B42</td>\n",
       "      <td>S</td>\n",
       "    </tr>\n",
       "    <tr>\n",
       "      <th>888</th>\n",
       "      <td>889</td>\n",
       "      <td>0</td>\n",
       "      <td>3</td>\n",
       "      <td>Johnston, Miss. Catherine Helen \"Carrie\"</td>\n",
       "      <td>female</td>\n",
       "      <td>NaN</td>\n",
       "      <td>1</td>\n",
       "      <td>2</td>\n",
       "      <td>W./C. 6607</td>\n",
       "      <td>23.4500</td>\n",
       "      <td>NaN</td>\n",
       "      <td>S</td>\n",
       "    </tr>\n",
       "    <tr>\n",
       "      <th>889</th>\n",
       "      <td>890</td>\n",
       "      <td>1</td>\n",
       "      <td>1</td>\n",
       "      <td>Behr, Mr. Karl Howell</td>\n",
       "      <td>male</td>\n",
       "      <td>26.0</td>\n",
       "      <td>0</td>\n",
       "      <td>0</td>\n",
       "      <td>111369</td>\n",
       "      <td>30.0000</td>\n",
       "      <td>C148</td>\n",
       "      <td>C</td>\n",
       "    </tr>\n",
       "    <tr>\n",
       "      <th>890</th>\n",
       "      <td>891</td>\n",
       "      <td>0</td>\n",
       "      <td>3</td>\n",
       "      <td>Dooley, Mr. Patrick</td>\n",
       "      <td>male</td>\n",
       "      <td>32.0</td>\n",
       "      <td>0</td>\n",
       "      <td>0</td>\n",
       "      <td>370376</td>\n",
       "      <td>7.7500</td>\n",
       "      <td>NaN</td>\n",
       "      <td>Q</td>\n",
       "    </tr>\n",
       "  </tbody>\n",
       "</table>\n",
       "<p>891 rows × 12 columns</p>\n",
       "</div>"
      ],
      "text/plain": [
       "     PassengerId  Survived  Pclass  \\\n",
       "0              1         0       3   \n",
       "1              2         1       1   \n",
       "2              3         1       3   \n",
       "3              4         1       1   \n",
       "4              5         0       3   \n",
       "..           ...       ...     ...   \n",
       "886          887         0       2   \n",
       "887          888         1       1   \n",
       "888          889         0       3   \n",
       "889          890         1       1   \n",
       "890          891         0       3   \n",
       "\n",
       "                                                  Name     Sex   Age  SibSp  \\\n",
       "0                              Braund, Mr. Owen Harris    male  22.0      1   \n",
       "1    Cumings, Mrs. John Bradley (Florence Briggs Th...  female  38.0      1   \n",
       "2                               Heikkinen, Miss. Laina  female  26.0      0   \n",
       "3         Futrelle, Mrs. Jacques Heath (Lily May Peel)  female  35.0      1   \n",
       "4                             Allen, Mr. William Henry    male  35.0      0   \n",
       "..                                                 ...     ...   ...    ...   \n",
       "886                              Montvila, Rev. Juozas    male  27.0      0   \n",
       "887                       Graham, Miss. Margaret Edith  female  19.0      0   \n",
       "888           Johnston, Miss. Catherine Helen \"Carrie\"  female   NaN      1   \n",
       "889                              Behr, Mr. Karl Howell    male  26.0      0   \n",
       "890                                Dooley, Mr. Patrick    male  32.0      0   \n",
       "\n",
       "     Parch            Ticket     Fare Cabin Embarked  \n",
       "0        0         A/5 21171   7.2500   NaN        S  \n",
       "1        0          PC 17599  71.2833   C85        C  \n",
       "2        0  STON/O2. 3101282   7.9250   NaN        S  \n",
       "3        0            113803  53.1000  C123        S  \n",
       "4        0            373450   8.0500   NaN        S  \n",
       "..     ...               ...      ...   ...      ...  \n",
       "886      0            211536  13.0000   NaN        S  \n",
       "887      0            112053  30.0000   B42        S  \n",
       "888      2        W./C. 6607  23.4500   NaN        S  \n",
       "889      0            111369  30.0000  C148        C  \n",
       "890      0            370376   7.7500   NaN        Q  \n",
       "\n",
       "[891 rows x 12 columns]"
      ]
     },
     "execution_count": 3,
     "metadata": {},
     "output_type": "execute_result"
    }
   ],
   "source": [
    "titanic_data"
   ]
  },
  {
   "cell_type": "code",
   "execution_count": 4,
   "metadata": {},
   "outputs": [
    {
     "data": {
      "text/plain": [
       "array([[1, 0, 3, ..., 7.25, nan, 'S'],\n",
       "       [2, 1, 1, ..., 71.2833, 'C85', 'C'],\n",
       "       [3, 1, 3, ..., 7.925, nan, 'S'],\n",
       "       ...,\n",
       "       [889, 0, 3, ..., 23.45, nan, 'S'],\n",
       "       [890, 1, 1, ..., 30.0, 'C148', 'C'],\n",
       "       [891, 0, 3, ..., 7.75, nan, 'Q']], dtype=object)"
      ]
     },
     "execution_count": 4,
     "metadata": {},
     "output_type": "execute_result"
    }
   ],
   "source": [
    "titanic_array"
   ]
  },
  {
   "cell_type": "markdown",
   "metadata": {
    "id": "IfPWntVSVZC3"
   },
   "source": [
    "1) Type Conversion in NumPy Arrays:\\\n",
    "Question: Convert the 'Age' column of the Titanic dataset to a NumPy array with float data type.\n",
    "Solution"
   ]
  },
  {
   "cell_type": "code",
   "execution_count": 5,
   "metadata": {},
   "outputs": [
    {
     "data": {
      "text/plain": [
       "(891, 12)"
      ]
     },
     "execution_count": 5,
     "metadata": {},
     "output_type": "execute_result"
    }
   ],
   "source": [
    "titanic_array.shape # Shape of the array"
   ]
  },
  {
   "cell_type": "code",
   "execution_count": 6,
   "metadata": {},
   "outputs": [],
   "source": [
    "titanic_array_T = titanic_array.T"
   ]
  },
  {
   "cell_type": "code",
   "execution_count": 7,
   "metadata": {},
   "outputs": [],
   "source": [
    "age = titanic_array_T[5].astype('float64')"
   ]
  },
  {
   "cell_type": "code",
   "execution_count": 8,
   "metadata": {},
   "outputs": [
    {
     "data": {
      "text/plain": [
       "dtype('float64')"
      ]
     },
     "execution_count": 8,
     "metadata": {},
     "output_type": "execute_result"
    }
   ],
   "source": [
    "age.dtype"
   ]
  },
  {
   "cell_type": "markdown",
   "metadata": {
    "id": "rbvZkV_VVcKW"
   },
   "source": [
    "2) Indexing & Slicing:\\\n",
    "Question: Print the details of passengers with passenger ID 10 to 20."
   ]
  },
  {
   "cell_type": "code",
   "execution_count": 9,
   "metadata": {},
   "outputs": [
    {
     "data": {
      "text/plain": [
       "array([[10, 1, 2, 'Nasser, Mrs. Nicholas (Adele Achem)', 'female', 14.0,\n",
       "        1, 0, '237736', 30.0708, nan, 'C'],\n",
       "       [11, 1, 3, 'Sandstrom, Miss. Marguerite Rut', 'female', 4.0, 1, 1,\n",
       "        'PP 9549', 16.7, 'G6', 'S'],\n",
       "       [12, 1, 1, 'Bonnell, Miss. Elizabeth', 'female', 58.0, 0, 0,\n",
       "        '113783', 26.55, 'C103', 'S'],\n",
       "       [13, 0, 3, 'Saundercock, Mr. William Henry', 'male', 20.0, 0, 0,\n",
       "        'A/5. 2151', 8.05, nan, 'S'],\n",
       "       [14, 0, 3, 'Andersson, Mr. Anders Johan', 'male', 39.0, 1, 5,\n",
       "        '347082', 31.275, nan, 'S'],\n",
       "       [15, 0, 3, 'Vestrom, Miss. Hulda Amanda Adolfina', 'female', 14.0,\n",
       "        0, 0, '350406', 7.8542, nan, 'S'],\n",
       "       [16, 1, 2, 'Hewlett, Mrs. (Mary D Kingcome) ', 'female', 55.0, 0,\n",
       "        0, '248706', 16.0, nan, 'S'],\n",
       "       [17, 0, 3, 'Rice, Master. Eugene', 'male', 2.0, 4, 1, '382652',\n",
       "        29.125, nan, 'Q'],\n",
       "       [18, 1, 2, 'Williams, Mr. Charles Eugene', 'male', nan, 0, 0,\n",
       "        '244373', 13.0, nan, 'S'],\n",
       "       [19, 0, 3,\n",
       "        'Vander Planke, Mrs. Julius (Emelia Maria Vandemoortele)',\n",
       "        'female', 31.0, 1, 0, '345763', 18.0, nan, 'S'],\n",
       "       [20, 1, 3, 'Masselmani, Mrs. Fatima', 'female', nan, 0, 0, '2649',\n",
       "        7.225, nan, 'C']], dtype=object)"
      ]
     },
     "execution_count": 9,
     "metadata": {},
     "output_type": "execute_result"
    }
   ],
   "source": [
    "titanic_array[9:20]"
   ]
  },
  {
   "cell_type": "code",
   "execution_count": 10,
   "metadata": {},
   "outputs": [
    {
     "data": {
      "text/plain": [
       "array([[10, 1, 2, 'Nasser, Mrs. Nicholas (Adele Achem)', 'female', 14.0,\n",
       "        1, 0, '237736', 30.0708, nan, 'C'],\n",
       "       [11, 1, 3, 'Sandstrom, Miss. Marguerite Rut', 'female', 4.0, 1, 1,\n",
       "        'PP 9549', 16.7, 'G6', 'S'],\n",
       "       [12, 1, 1, 'Bonnell, Miss. Elizabeth', 'female', 58.0, 0, 0,\n",
       "        '113783', 26.55, 'C103', 'S'],\n",
       "       [13, 0, 3, 'Saundercock, Mr. William Henry', 'male', 20.0, 0, 0,\n",
       "        'A/5. 2151', 8.05, nan, 'S'],\n",
       "       [14, 0, 3, 'Andersson, Mr. Anders Johan', 'male', 39.0, 1, 5,\n",
       "        '347082', 31.275, nan, 'S'],\n",
       "       [15, 0, 3, 'Vestrom, Miss. Hulda Amanda Adolfina', 'female', 14.0,\n",
       "        0, 0, '350406', 7.8542, nan, 'S'],\n",
       "       [16, 1, 2, 'Hewlett, Mrs. (Mary D Kingcome) ', 'female', 55.0, 0,\n",
       "        0, '248706', 16.0, nan, 'S'],\n",
       "       [17, 0, 3, 'Rice, Master. Eugene', 'male', 2.0, 4, 1, '382652',\n",
       "        29.125, nan, 'Q'],\n",
       "       [18, 1, 2, 'Williams, Mr. Charles Eugene', 'male', nan, 0, 0,\n",
       "        '244373', 13.0, nan, 'S'],\n",
       "       [19, 0, 3,\n",
       "        'Vander Planke, Mrs. Julius (Emelia Maria Vandemoortele)',\n",
       "        'female', 31.0, 1, 0, '345763', 18.0, nan, 'S'],\n",
       "       [20, 1, 3, 'Masselmani, Mrs. Fatima', 'female', nan, 0, 0, '2649',\n",
       "        7.225, nan, 'C']], dtype=object)"
      ]
     },
     "execution_count": 10,
     "metadata": {},
     "output_type": "execute_result"
    }
   ],
   "source": [
    "titanic_array[(titanic_array[:,0] >= 10) & (titanic_array[:,0] <=20)] # Using Fancy INdexing"
   ]
  },
  {
   "cell_type": "markdown",
   "metadata": {
    "id": "Sc56jDegVg16"
   },
   "source": [
    "3) Fancy Indexing:\\\n",
    "Question: Print the details of passengers with odd passenger IDs."
   ]
  },
  {
   "cell_type": "code",
   "execution_count": 11,
   "metadata": {},
   "outputs": [],
   "source": [
    "#titanic_array[:,0] % 2 == 0"
   ]
  },
  {
   "cell_type": "code",
   "execution_count": 12,
   "metadata": {},
   "outputs": [
    {
     "data": {
      "text/plain": [
       "array([[1, 0, 3, ..., 7.25, nan, 'S'],\n",
       "       [3, 1, 3, ..., 7.925, nan, 'S'],\n",
       "       [5, 0, 3, ..., 8.05, nan, 'S'],\n",
       "       ...,\n",
       "       [887, 0, 2, ..., 13.0, nan, 'S'],\n",
       "       [889, 0, 3, ..., 23.45, nan, 'S'],\n",
       "       [891, 0, 3, ..., 7.75, nan, 'Q']], dtype=object)"
      ]
     },
     "execution_count": 12,
     "metadata": {},
     "output_type": "execute_result"
    }
   ],
   "source": [
    "titanic_array[titanic_array[:,0] % 2 == 1]"
   ]
  },
  {
   "cell_type": "markdown",
   "metadata": {
    "id": "mICuoOV7ViXo"
   },
   "source": [
    "4) 2D Indexing:\\\n",
    "Question: Print the details of passengers in the 3rd row."
   ]
  },
  {
   "cell_type": "markdown",
   "metadata": {
    "id": "rhI4qudXVj39"
   },
   "source": [
    "5) Masking:\\\n",
    "Question: Print the details of passengers with 'Fare' greater than 100."
   ]
  },
  {
   "cell_type": "code",
   "execution_count": 13,
   "metadata": {},
   "outputs": [],
   "source": [
    "#titanic_data"
   ]
  },
  {
   "cell_type": "code",
   "execution_count": 14,
   "metadata": {},
   "outputs": [
    {
     "data": {
      "text/plain": [
       "array([[28, 0, 1, 'Fortune, Mr. Charles Alexander', 'male', 19.0, 3, 2,\n",
       "        '19950', 263.0, 'C23 C25 C27', 'S'],\n",
       "       [32, 1, 1, 'Spencer, Mrs. William Augustus (Marie Eugenie)',\n",
       "        'female', nan, 1, 0, 'PC 17569', 146.5208, 'B78', 'C'],\n",
       "       [89, 1, 1, 'Fortune, Miss. Mabel Helen', 'female', 23.0, 3, 2,\n",
       "        '19950', 263.0, 'C23 C25 C27', 'S'],\n",
       "       [119, 0, 1, 'Baxter, Mr. Quigg Edmond', 'male', 24.0, 0, 1,\n",
       "        'PC 17558', 247.5208, 'B58 B60', 'C'],\n",
       "       [196, 1, 1, 'Lurette, Miss. Elise', 'female', 58.0, 0, 0,\n",
       "        'PC 17569', 146.5208, 'B80', 'C'],\n",
       "       [216, 1, 1, 'Newell, Miss. Madeleine', 'female', 31.0, 1, 0,\n",
       "        '35273', 113.275, 'D36', 'C'],\n",
       "       [259, 1, 1, 'Ward, Miss. Anna', 'female', 35.0, 0, 0, 'PC 17755',\n",
       "        512.3292, nan, 'C'],\n",
       "       [269, 1, 1, 'Graham, Mrs. William Thompson (Edith Junkins)',\n",
       "        'female', 58.0, 0, 1, 'PC 17582', 153.4625, 'C125', 'S'],\n",
       "       [270, 1, 1, 'Bissette, Miss. Amelia', 'female', 35.0, 0, 0,\n",
       "        'PC 17760', 135.6333, 'C99', 'S'],\n",
       "       [298, 0, 1, 'Allison, Miss. Helen Loraine', 'female', 2.0, 1, 2,\n",
       "        '113781', 151.55, 'C22 C26', 'S'],\n",
       "       [300, 1, 1, 'Baxter, Mrs. James (Helene DeLaudeniere Chaput)',\n",
       "        'female', 50.0, 0, 1, 'PC 17558', 247.5208, 'B58 B60', 'C'],\n",
       "       [306, 1, 1, 'Allison, Master. Hudson Trevor', 'male', 0.92, 1, 2,\n",
       "        '113781', 151.55, 'C22 C26', 'S'],\n",
       "       [307, 1, 1, 'Fleming, Miss. Margaret', 'female', nan, 0, 0,\n",
       "        '17421', 110.8833, nan, 'C'],\n",
       "       [308, 1, 1,\n",
       "        'Penasco y Castellana, Mrs. Victor de Satode (Maria Josefa Perez de Soto y Vallejo)',\n",
       "        'female', 17.0, 1, 0, 'PC 17758', 108.9, 'C65', 'C'],\n",
       "       [312, 1, 1, 'Ryerson, Miss. Emily Borie', 'female', 18.0, 2, 2,\n",
       "        'PC 17608', 262.375, 'B57 B59 B63 B66', 'C'],\n",
       "       [319, 1, 1, 'Wick, Miss. Mary Natalie', 'female', 31.0, 0, 2,\n",
       "        '36928', 164.8667, 'C7', 'S'],\n",
       "       [320, 1, 1,\n",
       "        'Spedden, Mrs. Frederic Oakley (Margaretta Corning Stone)',\n",
       "        'female', 40.0, 1, 1, '16966', 134.5, 'E34', 'C'],\n",
       "       [326, 1, 1, 'Young, Miss. Marie Grice', 'female', 36.0, 0, 0,\n",
       "        'PC 17760', 135.6333, 'C32', 'C'],\n",
       "       [333, 0, 1, 'Graham, Mr. George Edward', 'male', 38.0, 0, 1,\n",
       "        'PC 17582', 153.4625, 'C91', 'S'],\n",
       "       [335, 1, 1, 'Frauenthal, Mrs. Henry William (Clara Heinsheimer)',\n",
       "        'female', nan, 1, 0, 'PC 17611', 133.65, nan, 'S'],\n",
       "       [338, 1, 1, 'Burns, Miss. Elizabeth Margaret', 'female', 41.0, 0,\n",
       "        0, '16966', 134.5, 'E40', 'C'],\n",
       "       [342, 1, 1, 'Fortune, Miss. Alice Elizabeth', 'female', 24.0, 3,\n",
       "        2, '19950', 263.0, 'C23 C25 C27', 'S'],\n",
       "       [374, 0, 1, 'Ringhini, Mr. Sante', 'male', 22.0, 0, 0, 'PC 17760',\n",
       "        135.6333, nan, 'C'],\n",
       "       [378, 0, 1, 'Widener, Mr. Harry Elkins', 'male', 27.0, 0, 2,\n",
       "        '113503', 211.5, 'C82', 'C'],\n",
       "       [381, 1, 1, 'Bidois, Miss. Rosalie', 'female', 42.0, 0, 0,\n",
       "        'PC 17757', 227.525, nan, 'C'],\n",
       "       [391, 1, 1, 'Carter, Mr. William Ernest', 'male', 36.0, 1, 2,\n",
       "        '113760', 120.0, 'B96 B98', 'S'],\n",
       "       [394, 1, 1, 'Newell, Miss. Marjorie', 'female', 23.0, 1, 0,\n",
       "        '35273', 113.275, 'D36', 'C'],\n",
       "       [436, 1, 1, 'Carter, Miss. Lucile Polk', 'female', 14.0, 1, 2,\n",
       "        '113760', 120.0, 'B96 B98', 'S'],\n",
       "       [439, 0, 1, 'Fortune, Mr. Mark', 'male', 64.0, 1, 4, '19950',\n",
       "        263.0, 'C23 C25 C27', 'S'],\n",
       "       [499, 0, 1, 'Allison, Mrs. Hudson J C (Bessie Waldo Daniels)',\n",
       "        'female', 25.0, 1, 2, '113781', 151.55, 'C22 C26', 'S'],\n",
       "       [506, 0, 1, 'Penasco y Castellana, Mr. Victor de Satode', 'male',\n",
       "        18.0, 1, 0, 'PC 17758', 108.9, 'C65', 'C'],\n",
       "       [528, 0, 1, 'Farthing, Mr. John', 'male', nan, 0, 0, 'PC 17483',\n",
       "        221.7792, 'C95', 'S'],\n",
       "       [538, 1, 1, 'LeRoy, Miss. Bertha', 'female', 30.0, 0, 0,\n",
       "        'PC 17761', 106.425, nan, 'C'],\n",
       "       [545, 0, 1, 'Douglas, Mr. Walter Donald', 'male', 50.0, 1, 0,\n",
       "        'PC 17761', 106.425, 'C86', 'C'],\n",
       "       [551, 1, 1, 'Thayer, Mr. John Borland Jr', 'male', 17.0, 0, 2,\n",
       "        '17421', 110.8833, 'C70', 'C'],\n",
       "       [558, 0, 1, 'Robbins, Mr. Victor', 'male', nan, 0, 0, 'PC 17757',\n",
       "        227.525, nan, 'C'],\n",
       "       [582, 1, 1,\n",
       "        'Thayer, Mrs. John Borland (Marian Longstreth Morris)', 'female',\n",
       "        39.0, 1, 1, '17421', 110.8833, 'C68', 'C'],\n",
       "       [610, 1, 1, 'Shutes, Miss. Elizabeth W', 'female', 40.0, 0, 0,\n",
       "        'PC 17582', 153.4625, 'C125', 'S'],\n",
       "       [660, 0, 1, 'Newell, Mr. Arthur Webster', 'male', 58.0, 0, 2,\n",
       "        '35273', 113.275, 'D48', 'C'],\n",
       "       [661, 1, 1, 'Frauenthal, Dr. Henry William', 'male', 50.0, 2, 0,\n",
       "        'PC 17611', 133.65, nan, 'S'],\n",
       "       [680, 1, 1, 'Cardeza, Mr. Thomas Drake Martinez', 'male', 36.0, 0,\n",
       "        1, 'PC 17755', 512.3292, 'B51 B53 B55', 'C'],\n",
       "       [690, 1, 1, 'Madill, Miss. Georgette Alexandra', 'female', 15.0,\n",
       "        0, 1, '24160', 211.3375, 'B5', 'S'],\n",
       "       [699, 0, 1, 'Thayer, Mr. John Borland', 'male', 49.0, 1, 1,\n",
       "        '17421', 110.8833, 'C68', 'C'],\n",
       "       [701, 1, 1, 'Astor, Mrs. John Jacob (Madeleine Talmadge Force)',\n",
       "        'female', 18.0, 1, 0, 'PC 17757', 227.525, 'C62 C64', 'C'],\n",
       "       [709, 1, 1, 'Cleaver, Miss. Alice', 'female', 22.0, 0, 0,\n",
       "        '113781', 151.55, nan, 'S'],\n",
       "       [717, 1, 1, 'Endres, Miss. Caroline Louise', 'female', 38.0, 0, 0,\n",
       "        'PC 17757', 227.525, 'C45', 'C'],\n",
       "       [731, 1, 1, 'Allen, Miss. Elisabeth Walton', 'female', 29.0, 0, 0,\n",
       "        '24160', 211.3375, 'B5', 'S'],\n",
       "       [738, 1, 1, 'Lesurer, Mr. Gustave J', 'male', 35.0, 0, 0,\n",
       "        'PC 17755', 512.3292, 'B101', 'C'],\n",
       "       [743, 1, 1, 'Ryerson, Miss. Susan Parker \"Suzette\"', 'female',\n",
       "        21.0, 2, 2, 'PC 17608', 262.375, 'B57 B59 B63 B66', 'C'],\n",
       "       [764, 1, 1, 'Carter, Mrs. William Ernest (Lucile Polk)', 'female',\n",
       "        36.0, 1, 2, '113760', 120.0, 'B96 B98', 'S'],\n",
       "       [780, 1, 1,\n",
       "        'Robert, Mrs. Edward Scott (Elisabeth Walton McMillan)',\n",
       "        'female', 43.0, 0, 1, '24160', 211.3375, 'B3', 'S'],\n",
       "       [803, 1, 1, 'Carter, Master. William Thornton II', 'male', 11.0,\n",
       "        1, 2, '113760', 120.0, 'B96 B98', 'S'],\n",
       "       [857, 1, 1, 'Wick, Mrs. George Dennick (Mary Hitchcock)',\n",
       "        'female', 45.0, 1, 1, '36928', 164.8667, nan, 'S']], dtype=object)"
      ]
     },
     "execution_count": 14,
     "metadata": {},
     "output_type": "execute_result"
    }
   ],
   "source": [
    "titanic_array[titanic_array[:,9] > 100]"
   ]
  },
  {
   "cell_type": "code",
   "execution_count": null,
   "metadata": {},
   "outputs": [],
   "source": []
  },
  {
   "cell_type": "markdown",
   "metadata": {},
   "source": [
    "There are total of 53 passengers with Fare greater than 100"
   ]
  },
  {
   "cell_type": "markdown",
   "metadata": {
    "id": "3XtT6ff1VlVf"
   },
   "source": [
    "6) np.all:\\\n",
    "Question: Check if all 'Fare' values are greater than 0."
   ]
  },
  {
   "cell_type": "code",
   "execution_count": 15,
   "metadata": {},
   "outputs": [
    {
     "data": {
      "text/plain": [
       "False"
      ]
     },
     "execution_count": 15,
     "metadata": {},
     "output_type": "execute_result"
    }
   ],
   "source": [
    "np.all(titanic_array[:,9] > 0)"
   ]
  },
  {
   "cell_type": "markdown",
   "metadata": {
    "id": "pSkz0diyVnLm"
   },
   "source": [
    "7. np.where:\\\n",
    "Question: Find the indices where 'Survived' column is equal to 1."
   ]
  },
  {
   "cell_type": "code",
   "execution_count": 16,
   "metadata": {},
   "outputs": [
    {
     "data": {
      "text/plain": [
       "(array([  1,   2,   3,   8,   9,  10,  11,  15,  17,  19,  21,  22,  23,\n",
       "         25,  28,  31,  32,  36,  39,  43,  44,  47,  52,  53,  55,  56,\n",
       "         58,  61,  65,  66,  68,  74,  78,  79,  81,  82,  84,  85,  88,\n",
       "         97,  98, 106, 107, 109, 123, 125, 127, 128, 133, 136, 141, 142,\n",
       "        146, 151, 156, 161, 165, 166, 172, 183, 184, 186, 187, 190, 192,\n",
       "        193, 194, 195, 198, 204, 207, 208, 209, 211, 215, 216, 218, 220,\n",
       "        224, 226, 230, 233, 237, 241, 247, 248, 255, 256, 257, 258, 259,\n",
       "        261, 267, 268, 269, 271, 272, 274, 275, 279, 283, 286, 288, 289,\n",
       "        290, 291, 298, 299, 300, 301, 303, 305, 306, 307, 309, 310, 311,\n",
       "        315, 316, 318, 319, 322, 323, 325, 327, 328, 329, 330, 334, 337,\n",
       "        338, 340, 341, 345, 346, 347, 348, 356, 358, 359, 366, 367, 368,\n",
       "        369, 370, 375, 376, 380, 381, 383, 387, 389, 390, 391, 393, 394,\n",
       "        399, 400, 407, 412, 414, 416, 417, 426, 427, 429, 430, 431, 432,\n",
       "        435, 437, 440, 443, 444, 445, 446, 447, 448, 449, 453, 455, 457,\n",
       "        458, 460, 469, 472, 473, 479, 483, 484, 486, 489, 496, 504, 506,\n",
       "        507, 509, 510, 512, 513, 516, 518, 520, 523, 526, 530, 533, 535,\n",
       "        537, 539, 540, 543, 546, 547, 549, 550, 553, 554, 556, 558, 559,\n",
       "        569, 570, 571, 572, 573, 576, 577, 579, 580, 581, 585, 587, 591,\n",
       "        596, 599, 600, 604, 607, 608, 609, 612, 615, 618, 621, 622, 627,\n",
       "        630, 632, 635, 641, 643, 644, 645, 647, 649, 651, 653, 660, 664,\n",
       "        669, 670, 673, 677, 679, 681, 689, 690, 691, 692, 697, 700, 701,\n",
       "        706, 707, 708, 709, 710, 712, 716, 717, 720, 724, 726, 727, 730,\n",
       "        737, 740, 742, 744, 747, 750, 751, 754, 755, 759, 762, 763, 765,\n",
       "        774, 777, 779, 780, 781, 786, 788, 796, 797, 801, 802, 803, 804,\n",
       "        809, 820, 821, 823, 827, 828, 829, 830, 831, 835, 838, 839, 842,\n",
       "        849, 853, 855, 856, 857, 858, 862, 865, 866, 869, 871, 874, 875,\n",
       "        879, 880, 887, 889]),)"
      ]
     },
     "execution_count": 16,
     "metadata": {},
     "output_type": "execute_result"
    }
   ],
   "source": [
    "np.where(titanic_array[:,1] == 1)"
   ]
  },
  {
   "cell_type": "markdown",
   "metadata": {
    "id": "W-Vxos7TVoqK"
   },
   "source": [
    "8. np.any:\\\n",
    "Question: Check if any 'Age' value is missing (NaN)."
   ]
  },
  {
   "cell_type": "code",
   "execution_count": 17,
   "metadata": {},
   "outputs": [
    {
     "data": {
      "text/plain": [
       "True"
      ]
     },
     "execution_count": 17,
     "metadata": {},
     "output_type": "execute_result"
    }
   ],
   "source": [
    "np.any(np.isnan(titanic_array[:,5].astype('float64')))"
   ]
  },
  {
   "cell_type": "code",
   "execution_count": null,
   "metadata": {},
   "outputs": [],
   "source": []
  },
  {
   "cell_type": "markdown",
   "metadata": {
    "id": "J_XlbRHvVqeZ"
   },
   "source": [
    "9. Sorting:\\\n",
    "Question: Sort the Titanic array based on 'Fare' column in descending order."
   ]
  },
  {
   "cell_type": "code",
   "execution_count": 18,
   "metadata": {},
   "outputs": [
    {
     "data": {
      "text/plain": [
       "array([[680, 1, 1, ..., 512.3292, 'B51 B53 B55', 'C'],\n",
       "       [259, 1, 1, ..., 512.3292, nan, 'C'],\n",
       "       [738, 1, 1, ..., 512.3292, 'B101', 'C'],\n",
       "       ...,\n",
       "       [303, 0, 3, ..., 0.0, nan, 'S'],\n",
       "       [598, 0, 3, ..., 0.0, nan, 'S'],\n",
       "       [272, 1, 3, ..., 0.0, nan, 'S']], dtype=object)"
      ]
     },
     "execution_count": 18,
     "metadata": {},
     "output_type": "execute_result"
    }
   ],
   "source": [
    "titanic_fare_sort = titanic_array[np.argsort(titanic_array[:,9])[::-1]]\n",
    "titanic_fare_sort"
   ]
  },
  {
   "cell_type": "markdown",
   "metadata": {
    "id": "985SjSrOVtGb"
   },
   "source": [
    "10. Matrix Multiplication:\\\n",
    "Question: Find the dot product of 'Age' and 'Fare' columns."
   ]
  },
  {
   "cell_type": "code",
   "execution_count": 19,
   "metadata": {},
   "outputs": [
    {
     "data": {
      "text/plain": [
       "((891,), (891,))"
      ]
     },
     "execution_count": 19,
     "metadata": {},
     "output_type": "execute_result"
    }
   ],
   "source": [
    "age = titanic_array_T[5].astype('float64')\n",
    "fare = titanic_array_T[9].astype('float64')\n",
    "age.shape, fare.shape"
   ]
  },
  {
   "cell_type": "code",
   "execution_count": 20,
   "metadata": {},
   "outputs": [
    {
     "data": {
      "text/plain": [
       "nan"
      ]
     },
     "execution_count": 20,
     "metadata": {},
     "output_type": "execute_result"
    }
   ],
   "source": [
    "np.dot(titanic_array[:,5], titanic_array[:,9])"
   ]
  },
  {
   "cell_type": "code",
   "execution_count": 21,
   "metadata": {},
   "outputs": [
    {
     "data": {
      "text/plain": [
       "nan"
      ]
     },
     "execution_count": 21,
     "metadata": {},
     "output_type": "execute_result"
    }
   ],
   "source": [
    "np.dot(age, fare)"
   ]
  },
  {
   "cell_type": "markdown",
   "metadata": {},
   "source": [
    "### When NaN is replaced with 0"
   ]
  },
  {
   "cell_type": "code",
   "execution_count": 22,
   "metadata": {},
   "outputs": [
    {
     "data": {
      "text/plain": [
       "788357.425814"
      ]
     },
     "execution_count": 22,
     "metadata": {},
     "output_type": "execute_result"
    }
   ],
   "source": [
    "age = np.where(np.isnan(age), 0, age)\n",
    "fare = np.where(np.isnan(fare), 0, fare)\n",
    "np.dot(age, fare)"
   ]
  },
  {
   "cell_type": "markdown",
   "metadata": {
    "id": "19Xl-xsbV2zU"
   },
   "source": [
    "11. Broadcasting:\\\n",
    "Question: Multiply 'Fare' column by 2 and add 10 to each element."
   ]
  },
  {
   "cell_type": "code",
   "execution_count": 23,
   "metadata": {},
   "outputs": [
    {
     "data": {
      "text/plain": [
       "array([ 7.25  , 71.2833,  7.925 , 53.1   ,  8.05  ])"
      ]
     },
     "execution_count": 23,
     "metadata": {},
     "output_type": "execute_result"
    }
   ],
   "source": [
    "fare[:5]"
   ]
  },
  {
   "cell_type": "code",
   "execution_count": 24,
   "metadata": {},
   "outputs": [
    {
     "data": {
      "text/plain": [
       "array([ 24.5   , 152.5666,  25.85  , 116.2   ,  26.1   ])"
      ]
     },
     "execution_count": 24,
     "metadata": {},
     "output_type": "execute_result"
    }
   ],
   "source": [
    "new_fare = (fare * 2) + 10\n",
    "new_fare[:5]"
   ]
  },
  {
   "cell_type": "markdown",
   "metadata": {
    "id": "uSkLy1IIV4e1"
   },
   "source": [
    "12. Shallow vs Deep Copy:\\\n",
    "Question: Create a shallow copy of the Titanic array and modify a value. Check if the original array is affected."
   ]
  },
  {
   "cell_type": "code",
   "execution_count": 25,
   "metadata": {},
   "outputs": [
    {
     "data": {
      "text/plain": [
       "array([[1, 0, 3, 'Braund, Mr. Owen Harris', 'male', 22.0, 1, 0,\n",
       "        'A/5 21171', 7.25, nan, 'S'],\n",
       "       [2, 1, 1, 'Cumings, Mrs. John Bradley (Florence Briggs Thayer)',\n",
       "        'female', 38.0, 1, 0, 'PC 17599', 71.2833, 'C85', 'C'],\n",
       "       [3, 1, 3, 'Heikkinen, Miss. Laina', 'female', 26.0, 0, 0,\n",
       "        'STON/O2. 3101282', 7.925, nan, 'S'],\n",
       "       [4, 1, 1, 'Futrelle, Mrs. Jacques Heath (Lily May Peel)',\n",
       "        'female', 35.0, 1, 0, '113803', 53.1, 'C123', 'S'],\n",
       "       [5, 0, 3, 'Allen, Mr. William Henry', 'male', 35.0, 0, 0,\n",
       "        '373450', 8.05, nan, 'S']], dtype=object)"
      ]
     },
     "execution_count": 25,
     "metadata": {},
     "output_type": "execute_result"
    }
   ],
   "source": [
    "# Creating a view\n",
    "titanic_view = titanic_array.view()\n",
    "titanic_view[:5]"
   ]
  },
  {
   "cell_type": "code",
   "execution_count": 26,
   "metadata": {},
   "outputs": [],
   "source": [
    "# Updating Survived to 1 for 1st record\n",
    "titanic_view[0][1] = 1"
   ]
  },
  {
   "cell_type": "code",
   "execution_count": 27,
   "metadata": {},
   "outputs": [
    {
     "data": {
      "text/plain": [
       "array([[1, 1, 3, 'Braund, Mr. Owen Harris', 'male', 22.0, 1, 0,\n",
       "        'A/5 21171', 7.25, nan, 'S'],\n",
       "       [2, 1, 1, 'Cumings, Mrs. John Bradley (Florence Briggs Thayer)',\n",
       "        'female', 38.0, 1, 0, 'PC 17599', 71.2833, 'C85', 'C'],\n",
       "       [3, 1, 3, 'Heikkinen, Miss. Laina', 'female', 26.0, 0, 0,\n",
       "        'STON/O2. 3101282', 7.925, nan, 'S'],\n",
       "       [4, 1, 1, 'Futrelle, Mrs. Jacques Heath (Lily May Peel)',\n",
       "        'female', 35.0, 1, 0, '113803', 53.1, 'C123', 'S'],\n",
       "       [5, 0, 3, 'Allen, Mr. William Henry', 'male', 35.0, 0, 0,\n",
       "        '373450', 8.05, nan, 'S']], dtype=object)"
      ]
     },
     "execution_count": 27,
     "metadata": {},
     "output_type": "execute_result"
    }
   ],
   "source": [
    "titanic_view[:5] # Checking view after update"
   ]
  },
  {
   "cell_type": "code",
   "execution_count": 28,
   "metadata": {},
   "outputs": [
    {
     "data": {
      "text/plain": [
       "array([[1, 1, 3, 'Braund, Mr. Owen Harris', 'male', 22.0, 1, 0,\n",
       "        'A/5 21171', 7.25, nan, 'S'],\n",
       "       [2, 1, 1, 'Cumings, Mrs. John Bradley (Florence Briggs Thayer)',\n",
       "        'female', 38.0, 1, 0, 'PC 17599', 71.2833, 'C85', 'C'],\n",
       "       [3, 1, 3, 'Heikkinen, Miss. Laina', 'female', 26.0, 0, 0,\n",
       "        'STON/O2. 3101282', 7.925, nan, 'S'],\n",
       "       [4, 1, 1, 'Futrelle, Mrs. Jacques Heath (Lily May Peel)',\n",
       "        'female', 35.0, 1, 0, '113803', 53.1, 'C123', 'S'],\n",
       "       [5, 0, 3, 'Allen, Mr. William Henry', 'male', 35.0, 0, 0,\n",
       "        '373450', 8.05, nan, 'S']], dtype=object)"
      ]
     },
     "execution_count": 28,
     "metadata": {},
     "output_type": "execute_result"
    }
   ],
   "source": [
    "titanic_array[:5] # Checking original array"
   ]
  },
  {
   "cell_type": "markdown",
   "metadata": {
    "id": "MtKF3-a6V6mw"
   },
   "source": [
    "13. Array Splitting:\\\n",
    "Question: Split the Titanic array into two arrays horizontally."
   ]
  },
  {
   "cell_type": "code",
   "execution_count": 29,
   "metadata": {},
   "outputs": [
    {
     "data": {
      "text/plain": [
       "(891, 12)"
      ]
     },
     "execution_count": 29,
     "metadata": {},
     "output_type": "execute_result"
    }
   ],
   "source": [
    "titanic_array.shape\n",
    "#np.vsplit(titanic_array, 2)"
   ]
  },
  {
   "cell_type": "code",
   "execution_count": 30,
   "metadata": {},
   "outputs": [
    {
     "data": {
      "text/plain": [
       "[array([[1, 1, 3, ..., 7.25, nan, 'S'],\n",
       "        [2, 1, 1, ..., 71.2833, 'C85', 'C'],\n",
       "        [3, 1, 3, ..., 7.925, nan, 'S'],\n",
       "        ...,\n",
       "        [444, 1, 2, ..., 13.0, nan, 'S'],\n",
       "        [445, 1, 3, ..., 8.1125, nan, 'S'],\n",
       "        [446, 1, 1, ..., 81.8583, 'A34', 'S']], dtype=object),\n",
       " array([[447, 1, 2, ..., 19.5, nan, 'S'],\n",
       "        [448, 1, 1, ..., 26.55, nan, 'S'],\n",
       "        [449, 1, 3, ..., 19.2583, nan, 'C'],\n",
       "        ...,\n",
       "        [889, 0, 3, ..., 23.45, nan, 'S'],\n",
       "        [890, 1, 1, ..., 30.0, 'C148', 'C'],\n",
       "        [891, 0, 3, ..., 7.75, nan, 'Q']], dtype=object)]"
      ]
     },
     "execution_count": 30,
     "metadata": {},
     "output_type": "execute_result"
    }
   ],
   "source": [
    "np.array_split(titanic_array, 2)"
   ]
  },
  {
   "cell_type": "code",
   "execution_count": null,
   "metadata": {},
   "outputs": [],
   "source": []
  }
 ],
 "metadata": {
  "colab": {
   "provenance": []
  },
  "kernelspec": {
   "display_name": "Python 3 (ipykernel)",
   "language": "python",
   "name": "python3"
  },
  "language_info": {
   "codemirror_mode": {
    "name": "ipython",
    "version": 3
   },
   "file_extension": ".py",
   "mimetype": "text/x-python",
   "name": "python",
   "nbconvert_exporter": "python",
   "pygments_lexer": "ipython3",
   "version": "3.11.0rc1"
  }
 },
 "nbformat": 4,
 "nbformat_minor": 4
}
