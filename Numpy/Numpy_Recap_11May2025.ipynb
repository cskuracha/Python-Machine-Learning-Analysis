{
 "cells": [
  {
   "cell_type": "markdown",
   "id": "e5cf7b8f-da44-446f-ad1a-db319c432a80",
   "metadata": {},
   "source": [
    "## **Numpy Recap on May 11**"
   ]
  },
  {
   "cell_type": "code",
   "execution_count": 1,
   "id": "2e252f2b-fe25-4d24-a8dd-6366a437dcfc",
   "metadata": {},
   "outputs": [],
   "source": [
    "import numpy as np"
   ]
  },
  {
   "cell_type": "code",
   "execution_count": 2,
   "id": "56c6819c-ff05-44f6-a83e-10e1611c3e8d",
   "metadata": {},
   "outputs": [
    {
     "data": {
      "text/plain": [
       "[1, 2, 3, 4, 5, 6, 7, 8, 9]"
      ]
     },
     "execution_count": 2,
     "metadata": {},
     "output_type": "execute_result"
    }
   ],
   "source": [
    "l = list(range(1,10))\n",
    "l"
   ]
  },
  {
   "cell_type": "code",
   "execution_count": 3,
   "id": "519c47cb-0dc3-4a2a-b6c6-525690b2c57d",
   "metadata": {},
   "outputs": [
    {
     "name": "stdout",
     "output_type": "stream",
     "text": [
      "744 ms ± 136 ms per loop (mean ± std. dev. of 7 runs, 1 loop each)\n"
     ]
    }
   ],
   "source": [
    "l = range(10000000)\n",
    "%timeit [i**2 for i in l]"
   ]
  },
  {
   "cell_type": "code",
   "execution_count": 4,
   "id": "980416b7-9f3a-4c78-97c8-53509d8b9d8f",
   "metadata": {},
   "outputs": [
    {
     "name": "stdout",
     "output_type": "stream",
     "text": [
      "18.4 ms ± 495 μs per loop (mean ± std. dev. of 7 runs, 100 loops each)\n"
     ]
    }
   ],
   "source": [
    "arr = np.array(l)\n",
    "%timeit arr**2"
   ]
  },
  {
   "cell_type": "code",
   "execution_count": 5,
   "id": "043b6fce-3afe-4e00-85b2-f6fcbe16137f",
   "metadata": {},
   "outputs": [
    {
     "data": {
      "text/plain": [
       "array([1, 2, 3, 4, 5, 6])"
      ]
     },
     "execution_count": 5,
     "metadata": {},
     "output_type": "execute_result"
    }
   ],
   "source": [
    "np.array([1,2,3,4,5,6])"
   ]
  },
  {
   "cell_type": "code",
   "execution_count": 6,
   "id": "61202165-daa1-4d37-95ac-2029addc8e1a",
   "metadata": {},
   "outputs": [
    {
     "data": {
      "text/plain": [
       "array([[ 0,  1,  2,  3],\n",
       "       [ 4,  5,  6,  7],\n",
       "       [ 8,  9, 10, 11],\n",
       "       [12, 13, 14, 15]])"
      ]
     },
     "execution_count": 6,
     "metadata": {},
     "output_type": "execute_result"
    }
   ],
   "source": [
    "a = list(range(0,16))\n",
    "arr1 = np.array(a)\n",
    "arr1.reshape(4,4)"
   ]
  },
  {
   "cell_type": "code",
   "execution_count": 7,
   "id": "5a57241e-e8ba-486b-b412-974eeb45a531",
   "metadata": {},
   "outputs": [
    {
     "data": {
      "text/plain": [
       "array([ 0,  1,  2,  3,  4,  5,  6,  7,  8,  9, 10, 11, 12, 13, 14, 15])"
      ]
     },
     "execution_count": 7,
     "metadata": {},
     "output_type": "execute_result"
    }
   ],
   "source": [
    "arr1"
   ]
  },
  {
   "cell_type": "markdown",
   "id": "8e8b40d7-3529-40dc-9f68-01d69e8ae432",
   "metadata": {},
   "source": [
    "### **2D Array**"
   ]
  },
  {
   "cell_type": "code",
   "execution_count": 8,
   "id": "f999eed6-193b-43f2-b2d7-ba3f38da12b5",
   "metadata": {},
   "outputs": [
    {
     "data": {
      "text/plain": [
       "array([[ 0,  1,  2,  3],\n",
       "       [ 4,  5,  6,  7],\n",
       "       [ 8,  9, 10, 11],\n",
       "       [12, 13, 14, 15]])"
      ]
     },
     "execution_count": 8,
     "metadata": {},
     "output_type": "execute_result"
    }
   ],
   "source": [
    "arr2 = arr1.reshape(4,4)\n",
    "arr2"
   ]
  },
  {
   "cell_type": "code",
   "execution_count": 9,
   "id": "e122929d-03ad-4919-a19a-920ad4d28889",
   "metadata": {},
   "outputs": [
    {
     "data": {
      "text/plain": [
       "((4, 4), 2)"
      ]
     },
     "execution_count": 9,
     "metadata": {},
     "output_type": "execute_result"
    }
   ],
   "source": [
    "arr2.shape, arr2.ndim"
   ]
  },
  {
   "cell_type": "markdown",
   "id": "91c74402-8d2f-42c2-9ff3-0a2f86c06473",
   "metadata": {},
   "source": [
    "### **3D Array**"
   ]
  },
  {
   "cell_type": "code",
   "execution_count": 10,
   "id": "cdca5300-c510-4ede-af7c-0190ba5ac247",
   "metadata": {},
   "outputs": [
    {
     "data": {
      "text/plain": [
       "array([[[ 0,  1,  2],\n",
       "        [ 3,  4,  5],\n",
       "        [ 6,  7,  8]],\n",
       "\n",
       "       [[ 9, 10, 11],\n",
       "        [12, 13, 14],\n",
       "        [15, 16, 17]],\n",
       "\n",
       "       [[18, 19, 20],\n",
       "        [21, 22, 23],\n",
       "        [24, 25, 26]]])"
      ]
     },
     "execution_count": 10,
     "metadata": {},
     "output_type": "execute_result"
    }
   ],
   "source": [
    "arr = np.arange(0,27)\n",
    "arr3 = arr.reshape(3,3,3)\n",
    "arr3"
   ]
  },
  {
   "cell_type": "code",
   "execution_count": 11,
   "id": "cd002499-5984-41da-b76b-9c742f4e5d7c",
   "metadata": {},
   "outputs": [
    {
     "data": {
      "text/plain": [
       "((3, 3, 3), 3)"
      ]
     },
     "execution_count": 11,
     "metadata": {},
     "output_type": "execute_result"
    }
   ],
   "source": [
    "arr3.shape, arr3.ndim"
   ]
  },
  {
   "cell_type": "code",
   "execution_count": 12,
   "id": "f282f03e-4d74-4207-9431-9120dcefb337",
   "metadata": {},
   "outputs": [
    {
     "data": {
      "text/plain": [
       "array([[[ 0,  1,  2],\n",
       "        [ 3,  4,  5],\n",
       "        [ 6,  7,  8]],\n",
       "\n",
       "       [[ 9, 10, 11],\n",
       "        [12, 13, 14],\n",
       "        [15, 16, 17]],\n",
       "\n",
       "       [[18, 19, 20],\n",
       "        [21, 22, 23],\n",
       "        [24, 25, 26]]])"
      ]
     },
     "execution_count": 12,
     "metadata": {},
     "output_type": "execute_result"
    }
   ],
   "source": [
    "arr3"
   ]
  },
  {
   "cell_type": "code",
   "execution_count": 13,
   "id": "e6012a79-aa5c-4f68-b46c-9b27c01e0c75",
   "metadata": {},
   "outputs": [
    {
     "data": {
      "text/plain": [
       "array([1. , 1.5, 2. , 2.5, 3. , 3.5, 4. , 4.5, 5. , 5.5, 6. , 6.5, 7. ,\n",
       "       7.5, 8. , 8.5, 9. , 9.5])"
      ]
     },
     "execution_count": 13,
     "metadata": {},
     "output_type": "execute_result"
    }
   ],
   "source": [
    "arr4 = np.arange(1,10,0.5)\n",
    "arr4"
   ]
  },
  {
   "cell_type": "code",
   "execution_count": 14,
   "id": "80f43c62-13b6-43af-9c75-9df33b927c2e",
   "metadata": {},
   "outputs": [
    {
     "data": {
      "text/plain": [
       "((18,), 1)"
      ]
     },
     "execution_count": 14,
     "metadata": {},
     "output_type": "execute_result"
    }
   ],
   "source": [
    "arr4.shape, arr4.ndim"
   ]
  },
  {
   "cell_type": "markdown",
   "id": "c39521d5-12ec-4e4f-aecb-954232a419e1",
   "metadata": {},
   "source": [
    "### **Array Type Conversion**"
   ]
  },
  {
   "cell_type": "code",
   "execution_count": 15,
   "id": "05c81e7c-68ca-4540-9986-e875b66e8a74",
   "metadata": {},
   "outputs": [
    {
     "data": {
      "text/plain": [
       "array(['1', 'Chaitu', '3.5', 'True'], dtype='<U32')"
      ]
     },
     "execution_count": 15,
     "metadata": {},
     "output_type": "execute_result"
    }
   ],
   "source": [
    "arr5 = np.array([1,\"Chaitu\",3.5,True])\n",
    "arr5"
   ]
  },
  {
   "cell_type": "code",
   "execution_count": 16,
   "id": "405708f5-b962-48c3-897c-1245e827ccba",
   "metadata": {},
   "outputs": [
    {
     "data": {
      "text/plain": [
       "array([1. , 4.5, 1. ])"
      ]
     },
     "execution_count": 16,
     "metadata": {},
     "output_type": "execute_result"
    }
   ],
   "source": [
    "arr6 = np.array([1,4.5,True])\n",
    "arr6"
   ]
  },
  {
   "cell_type": "code",
   "execution_count": 17,
   "id": "cd53e5ce-08ac-4d11-83f9-32f55603594e",
   "metadata": {},
   "outputs": [
    {
     "data": {
      "text/plain": [
       "array([1, 1])"
      ]
     },
     "execution_count": 17,
     "metadata": {},
     "output_type": "execute_result"
    }
   ],
   "source": [
    "arr7 = np.array([1,True])\n",
    "arr7"
   ]
  },
  {
   "cell_type": "markdown",
   "id": "096a8fae-c3f2-494a-b368-b8b47d6ccd92",
   "metadata": {},
   "source": [
    "### **DType & Astype**"
   ]
  },
  {
   "cell_type": "code",
   "execution_count": 18,
   "id": "0791a948-62f1-43d9-8512-8f5cee38b513",
   "metadata": {},
   "outputs": [
    {
     "data": {
      "text/plain": [
       "dtype('int64')"
      ]
     },
     "execution_count": 18,
     "metadata": {},
     "output_type": "execute_result"
    }
   ],
   "source": [
    "a = np.array([1,2,3,4])\n",
    "a.dtype"
   ]
  },
  {
   "cell_type": "code",
   "execution_count": 19,
   "id": "c26d59a2-0afc-468d-b194-e1572d4d0003",
   "metadata": {},
   "outputs": [
    {
     "data": {
      "text/plain": [
       "array([1., 2., 3., 4.])"
      ]
     },
     "execution_count": 19,
     "metadata": {},
     "output_type": "execute_result"
    }
   ],
   "source": [
    "b = np.array([1,2,3,4], dtype = \"float64\")\n",
    "b"
   ]
  },
  {
   "cell_type": "code",
   "execution_count": 20,
   "id": "80d6d017-371f-4969-96e5-e75668e57581",
   "metadata": {},
   "outputs": [
    {
     "data": {
      "text/plain": [
       "array(['1.0', '2.0', '3.0', '4.0'], dtype='<U32')"
      ]
     },
     "execution_count": 20,
     "metadata": {},
     "output_type": "execute_result"
    }
   ],
   "source": [
    "b.astype(\"str\")"
   ]
  },
  {
   "cell_type": "markdown",
   "id": "573e8f27-6cd0-42be-b270-519c266775c4",
   "metadata": {},
   "source": [
    "### **Indexing**"
   ]
  },
  {
   "cell_type": "code",
   "execution_count": 21,
   "id": "993af8fa-35af-4e36-885e-509970484096",
   "metadata": {},
   "outputs": [
    {
     "data": {
      "text/plain": [
       "array([ 0,  1,  2,  3,  4,  5,  6,  7,  8,  9, 10, 11, 12, 13, 14, 15, 16,\n",
       "       17, 18])"
      ]
     },
     "execution_count": 21,
     "metadata": {},
     "output_type": "execute_result"
    }
   ],
   "source": [
    "a = np.arange(0,19)\n",
    "a"
   ]
  },
  {
   "cell_type": "code",
   "execution_count": 22,
   "id": "a887064b-8bd0-4b7a-929b-a5d89b158888",
   "metadata": {},
   "outputs": [
    {
     "data": {
      "text/plain": [
       "(0, 9, array([2, 4]), array([18,  1, 17,  2]))"
      ]
     },
     "execution_count": 22,
     "metadata": {},
     "output_type": "execute_result"
    }
   ],
   "source": [
    "a[0],a[9], a[[2,4]],a[[-1,1,-2,2]]"
   ]
  },
  {
   "cell_type": "markdown",
   "id": "c231b40c-aa6b-4558-b02f-ae4865f60d51",
   "metadata": {},
   "source": [
    "### **Slicing**"
   ]
  },
  {
   "cell_type": "code",
   "execution_count": 23,
   "id": "c0cc974d-24d0-4aa8-8382-3962890b8030",
   "metadata": {},
   "outputs": [
    {
     "data": {
      "text/plain": [
       "array([2, 3, 4])"
      ]
     },
     "execution_count": 23,
     "metadata": {},
     "output_type": "execute_result"
    }
   ],
   "source": [
    "a[2:5]"
   ]
  },
  {
   "cell_type": "code",
   "execution_count": 24,
   "id": "bd24ab5a-8b59-4a9d-9cc3-5c2fda30e9e9",
   "metadata": {},
   "outputs": [
    {
     "data": {
      "text/plain": [
       "array([4, 5, 6, 7, 8])"
      ]
     },
     "execution_count": 24,
     "metadata": {},
     "output_type": "execute_result"
    }
   ],
   "source": [
    "a[4:9]"
   ]
  },
  {
   "cell_type": "code",
   "execution_count": 25,
   "id": "d48a5e59-3117-4a08-a35b-1c0e9676326d",
   "metadata": {},
   "outputs": [
    {
     "data": {
      "text/plain": [
       "array([14, 15, 16, 17])"
      ]
     },
     "execution_count": 25,
     "metadata": {},
     "output_type": "execute_result"
    }
   ],
   "source": [
    "a[-5:-1]"
   ]
  },
  {
   "cell_type": "code",
   "execution_count": 26,
   "id": "1439f38f-0c63-47d9-9388-38dd85025c4e",
   "metadata": {},
   "outputs": [
    {
     "data": {
      "text/plain": [
       "array([ True,  True,  True,  True,  True,  True, False, False, False,\n",
       "       False, False, False, False, False, False, False, False, False,\n",
       "       False])"
      ]
     },
     "execution_count": 26,
     "metadata": {},
     "output_type": "execute_result"
    }
   ],
   "source": [
    "a < 6"
   ]
  },
  {
   "cell_type": "code",
   "execution_count": 27,
   "id": "68930c9e-7245-4d5f-ba0c-5ead17b25882",
   "metadata": {},
   "outputs": [
    {
     "data": {
      "text/plain": [
       "array([0, 1, 2, 3, 4, 5])"
      ]
     },
     "execution_count": 27,
     "metadata": {},
     "output_type": "execute_result"
    }
   ],
   "source": [
    "a[a<6]"
   ]
  },
  {
   "cell_type": "code",
   "execution_count": 28,
   "id": "e657bb9f-c656-490f-ac65-7f10ba8c580b",
   "metadata": {},
   "outputs": [],
   "source": [
    "a = np.random.randint(1,100,10)\n",
    "b = np.random.randint(1,100,10)"
   ]
  },
  {
   "cell_type": "code",
   "execution_count": 29,
   "id": "ac4dcb5b-6e45-4ae7-bf37-6f5943cbf8ea",
   "metadata": {},
   "outputs": [
    {
     "data": {
      "text/plain": [
       "array([False, False, False, False, False, False, False, False, False,\n",
       "       False])"
      ]
     },
     "execution_count": 29,
     "metadata": {},
     "output_type": "execute_result"
    }
   ],
   "source": [
    "# Checking equality\n",
    "a == b"
   ]
  },
  {
   "cell_type": "code",
   "execution_count": 30,
   "id": "b4854a5b-8b3c-4413-b115-2cf8122f5418",
   "metadata": {},
   "outputs": [
    {
     "data": {
      "text/plain": [
       "(array([58, 11, 97, 82, 84]), array([72, 56, 15, 18, 49]))"
      ]
     },
     "execution_count": 30,
     "metadata": {},
     "output_type": "execute_result"
    }
   ],
   "source": [
    "# Getting even and odd index\n",
    "a[::2], a[1::2]"
   ]
  },
  {
   "cell_type": "code",
   "execution_count": 31,
   "id": "82878d33-74ae-48a8-977b-6604873e3139",
   "metadata": {},
   "outputs": [
    {
     "data": {
      "text/plain": [
       "array([58, 11, 97])"
      ]
     },
     "execution_count": 31,
     "metadata": {},
     "output_type": "execute_result"
    }
   ],
   "source": [
    "a[[0,2,4]]"
   ]
  },
  {
   "cell_type": "markdown",
   "id": "bab7d9fd-7976-4118-bf86-276ce18adf0c",
   "metadata": {},
   "source": [
    "### **Reading file**"
   ]
  },
  {
   "cell_type": "code",
   "execution_count": 32,
   "id": "502b7d2d-8e19-431e-816e-dab64d94b736",
   "metadata": {},
   "outputs": [
    {
     "data": {
      "text/plain": [
       "array([ 7., 10.,  5., ...,  5.,  9., 10.])"
      ]
     },
     "execution_count": 32,
     "metadata": {},
     "output_type": "execute_result"
    }
   ],
   "source": [
    "score = np.loadtxt(\"survey.txt\")\n",
    "score"
   ]
  },
  {
   "cell_type": "code",
   "execution_count": 33,
   "id": "b85111ef-3985-443f-803f-1eb2beb129d0",
   "metadata": {},
   "outputs": [
    {
     "name": "stdout",
     "output_type": "stream",
     "text": [
      "% of promoters 52.185089974293064\n",
      "% of dectractors 28.449014567266495\n"
     ]
    }
   ],
   "source": [
    "# % of promoters\n",
    "promoters = score[score > 8]\n",
    "print(\"% of promoters\",len(promoters)/len(score) * 100)\n",
    "# % of dectractors\n",
    "dectractors = score[score <= 6]\n",
    "print(\"% of dectractors\",len(dectractors)/len(score) * 100)"
   ]
  },
  {
   "cell_type": "code",
   "execution_count": 34,
   "id": "95f20e74-06c8-43e0-bea0-984d37dc227c",
   "metadata": {},
   "outputs": [
    {
     "data": {
      "text/plain": [
       "23.73607540702657"
      ]
     },
     "execution_count": 34,
     "metadata": {},
     "output_type": "execute_result"
    }
   ],
   "source": [
    "NPS = (len(promoters)/len(score) * 100) - (len(dectractors)/len(score) * 100)\n",
    "NPS"
   ]
  },
  {
   "cell_type": "markdown",
   "id": "f32e0f3e-3cec-4c1e-9b5a-f488a3cdc9e8",
   "metadata": {},
   "source": [
    "### **Reshape**"
   ]
  },
  {
   "cell_type": "code",
   "execution_count": 35,
   "id": "860b1f0a-85d7-43ef-b10c-d840edc576f6",
   "metadata": {},
   "outputs": [
    {
     "data": {
      "text/plain": [
       "(18,)"
      ]
     },
     "execution_count": 35,
     "metadata": {},
     "output_type": "execute_result"
    }
   ],
   "source": [
    "arr = np.arange(1, 19)\n",
    "arr.shape"
   ]
  },
  {
   "cell_type": "code",
   "execution_count": 36,
   "id": "d9905729-d414-479c-ab19-d1b266ec731c",
   "metadata": {},
   "outputs": [
    {
     "data": {
      "text/plain": [
       "array([[ 1,  2,  3,  4,  5,  6],\n",
       "       [ 7,  8,  9, 10, 11, 12],\n",
       "       [13, 14, 15, 16, 17, 18]])"
      ]
     },
     "execution_count": 36,
     "metadata": {},
     "output_type": "execute_result"
    }
   ],
   "source": [
    "arr1 = arr.reshape(3,6)\n",
    "arr1"
   ]
  },
  {
   "cell_type": "code",
   "execution_count": 37,
   "id": "c40b5c44-cf94-4857-be04-48e2f8f6d860",
   "metadata": {},
   "outputs": [
    {
     "data": {
      "text/plain": [
       "array([[ 1,  2,  3,  4,  5,  6],\n",
       "       [ 7,  8,  9, 10, 11, 12],\n",
       "       [13, 14, 15, 16, 17, 18]])"
      ]
     },
     "execution_count": 37,
     "metadata": {},
     "output_type": "execute_result"
    }
   ],
   "source": [
    "arr2 = arr.reshape(3, -1)\n",
    "arr2"
   ]
  },
  {
   "cell_type": "code",
   "execution_count": 38,
   "id": "eb71e8a7-2d2a-42fa-9cf8-42e2d73c704d",
   "metadata": {},
   "outputs": [
    {
     "data": {
      "text/plain": [
       "array([[ 1,  2],\n",
       "       [ 3,  4],\n",
       "       [ 5,  6],\n",
       "       [ 7,  8],\n",
       "       [ 9, 10],\n",
       "       [11, 12],\n",
       "       [13, 14],\n",
       "       [15, 16],\n",
       "       [17, 18]])"
      ]
     },
     "execution_count": 38,
     "metadata": {},
     "output_type": "execute_result"
    }
   ],
   "source": [
    "arr3 = arr.reshape(-1,2)\n",
    "arr3"
   ]
  },
  {
   "cell_type": "code",
   "execution_count": 39,
   "id": "cc02b645-ecbd-4cdb-937b-71475cc6bf6e",
   "metadata": {},
   "outputs": [
    {
     "data": {
      "text/plain": [
       "array([[[ 1,  2,  3,  4,  5,  6],\n",
       "        [ 7,  8,  9, 10, 11, 12],\n",
       "        [13, 14, 15, 16, 17, 18]]])"
      ]
     },
     "execution_count": 39,
     "metadata": {},
     "output_type": "execute_result"
    }
   ],
   "source": [
    "arr4 = arr.reshape(1,3,6)\n",
    "arr4"
   ]
  },
  {
   "cell_type": "markdown",
   "id": "c859d84d-9c54-4ad6-8586-824fcb9bdfaa",
   "metadata": {},
   "source": [
    "### **Transpose**"
   ]
  },
  {
   "cell_type": "code",
   "execution_count": 40,
   "id": "1da26529-7cba-4ab3-aae4-ed640d280767",
   "metadata": {},
   "outputs": [
    {
     "data": {
      "text/plain": [
       "array([[ 1,  2,  3,  4],\n",
       "       [ 5,  6,  7,  8],\n",
       "       [ 9, 10, 11, 12],\n",
       "       [13, 14, 15, 16]])"
      ]
     },
     "execution_count": 40,
     "metadata": {},
     "output_type": "execute_result"
    }
   ],
   "source": [
    "a = np.arange(1,17)\n",
    "a = a.reshape(4,4)\n",
    "a"
   ]
  },
  {
   "cell_type": "code",
   "execution_count": 41,
   "id": "b22e3c6d-07c4-48f1-b6af-4a4b6cf11f2f",
   "metadata": {},
   "outputs": [
    {
     "data": {
      "text/plain": [
       "array([[ 1,  5,  9, 13],\n",
       "       [ 2,  6, 10, 14],\n",
       "       [ 3,  7, 11, 15],\n",
       "       [ 4,  8, 12, 16]])"
      ]
     },
     "execution_count": 41,
     "metadata": {},
     "output_type": "execute_result"
    }
   ],
   "source": [
    "a.T"
   ]
  },
  {
   "cell_type": "code",
   "execution_count": 42,
   "id": "f2ac2a78-fd1d-4f1a-977b-6ebfdbcdb583",
   "metadata": {},
   "outputs": [
    {
     "data": {
      "text/plain": [
       "array([[ 1,  5,  9, 13],\n",
       "       [ 2,  6, 10, 14],\n",
       "       [ 3,  7, 11, 15],\n",
       "       [ 4,  8, 12, 16]])"
      ]
     },
     "execution_count": 42,
     "metadata": {},
     "output_type": "execute_result"
    }
   ],
   "source": [
    "np.transpose(a)"
   ]
  },
  {
   "cell_type": "markdown",
   "id": "01b04bea-6651-4fa7-9a72-44e983befd84",
   "metadata": {},
   "source": [
    "### **Indexing in 2D Array**"
   ]
  },
  {
   "cell_type": "code",
   "execution_count": 43,
   "id": "2e08d212-18d2-4c06-a869-792011c269a4",
   "metadata": {},
   "outputs": [
    {
     "data": {
      "text/plain": [
       "array([[ 1,  2,  3,  4],\n",
       "       [ 5,  6,  7,  8],\n",
       "       [ 9, 10, 11, 12],\n",
       "       [13, 14, 15, 16]])"
      ]
     },
     "execution_count": 43,
     "metadata": {},
     "output_type": "execute_result"
    }
   ],
   "source": [
    "a "
   ]
  },
  {
   "cell_type": "code",
   "execution_count": 44,
   "id": "e04b565b-2c5f-40a4-8890-1c545706c46b",
   "metadata": {},
   "outputs": [
    {
     "data": {
      "text/plain": [
       "array([ 9, 10, 11, 12])"
      ]
     },
     "execution_count": 44,
     "metadata": {},
     "output_type": "execute_result"
    }
   ],
   "source": [
    "a[2] # Entire row"
   ]
  },
  {
   "cell_type": "code",
   "execution_count": 45,
   "id": "04f836ee-b7e1-4ca2-964c-45b1a79ef620",
   "metadata": {},
   "outputs": [
    {
     "data": {
      "text/plain": [
       "array([ 3,  7, 11, 15])"
      ]
     },
     "execution_count": 45,
     "metadata": {},
     "output_type": "execute_result"
    }
   ],
   "source": [
    "a[:,2] # Entire column"
   ]
  },
  {
   "cell_type": "code",
   "execution_count": 46,
   "id": "1d008454-4dd4-47f3-a094-4752ce9b2542",
   "metadata": {},
   "outputs": [
    {
     "data": {
      "text/plain": [
       "12"
      ]
     },
     "execution_count": 46,
     "metadata": {},
     "output_type": "execute_result"
    }
   ],
   "source": [
    "a [2,3] # specific element"
   ]
  },
  {
   "cell_type": "code",
   "execution_count": 47,
   "id": "b6dbc1dc-cb5f-4825-89c3-f1c9db3970bf",
   "metadata": {},
   "outputs": [
    {
     "data": {
      "text/plain": [
       "12"
      ]
     },
     "execution_count": 47,
     "metadata": {},
     "output_type": "execute_result"
    }
   ],
   "source": [
    "a[2][3] # Get 3rd row and then 4 element"
   ]
  },
  {
   "cell_type": "code",
   "execution_count": 48,
   "id": "043428d6-a0c6-4b8c-9fee-463e9f0ab4e9",
   "metadata": {},
   "outputs": [
    {
     "data": {
      "text/plain": [
       "array([[ 5,  6,  7,  8],\n",
       "       [ 9, 10, 11, 12]])"
      ]
     },
     "execution_count": 48,
     "metadata": {},
     "output_type": "execute_result"
    }
   ],
   "source": [
    "a[[1,2]] # get 2nd and 3rd rows"
   ]
  },
  {
   "cell_type": "code",
   "execution_count": 49,
   "id": "5a2767db-2fc1-49c8-87f5-220eaa23f054",
   "metadata": {},
   "outputs": [
    {
     "data": {
      "text/plain": [
       "array([ 7, 12])"
      ]
     },
     "execution_count": 49,
     "metadata": {},
     "output_type": "execute_result"
    }
   ],
   "source": [
    "a[[1,2],[2,3]] # get 2nd and 3rd rows and 3rd and 4th columns"
   ]
  },
  {
   "cell_type": "code",
   "execution_count": 50,
   "id": "bd075fe7-408e-4fae-8196-c3c695f5c33c",
   "metadata": {},
   "outputs": [
    {
     "data": {
      "text/plain": [
       "array([[ 6,  7],\n",
       "       [10, 11]])"
      ]
     },
     "execution_count": 50,
     "metadata": {},
     "output_type": "execute_result"
    }
   ],
   "source": [
    "a[1:3,1:3]"
   ]
  },
  {
   "cell_type": "code",
   "execution_count": 51,
   "id": "a9f5cde2-4d6d-4de6-8c4e-f1baff809e9d",
   "metadata": {},
   "outputs": [
    {
     "data": {
      "text/plain": [
       "array([[ 9, 10, 11, 12]])"
      ]
     },
     "execution_count": 51,
     "metadata": {},
     "output_type": "execute_result"
    }
   ],
   "source": [
    "a[1:3][1:3]"
   ]
  },
  {
   "cell_type": "markdown",
   "id": "4aef9ce4-3dc4-4e20-8b68-66110cdeee39",
   "metadata": {},
   "source": [
    "#### Why difference?\n",
    "\n",
    "First one takes row and columns\n",
    "\n",
    "Second one takes rows and creates a temp array and on that again takes rows"
   ]
  },
  {
   "cell_type": "markdown",
   "id": "d7845857-3c7d-4cdd-b7fc-4bcb1d94d7f4",
   "metadata": {},
   "source": [
    "### **Masking**"
   ]
  },
  {
   "cell_type": "code",
   "execution_count": 52,
   "id": "9714edde-9542-4cfc-ad22-3987cd106092",
   "metadata": {},
   "outputs": [],
   "source": [
    "r = np.random.randint(1,100, 15)\n",
    "mask = r > 15"
   ]
  },
  {
   "cell_type": "code",
   "execution_count": 53,
   "id": "29241128-2e0c-4a42-aa41-297bd5189654",
   "metadata": {},
   "outputs": [
    {
     "data": {
      "text/plain": [
       "array([ True, False,  True,  True,  True,  True,  True,  True,  True,\n",
       "       False,  True,  True,  True,  True,  True])"
      ]
     },
     "execution_count": 53,
     "metadata": {},
     "output_type": "execute_result"
    }
   ],
   "source": [
    "mask"
   ]
  },
  {
   "cell_type": "code",
   "execution_count": 54,
   "id": "fcc8ebb0-364a-4b59-87bf-448342c7e0c3",
   "metadata": {},
   "outputs": [
    {
     "data": {
      "text/plain": [
       "array([74, 50, 93, 49, 52, 99, 80, 92, 23, 73, 69, 27, 46])"
      ]
     },
     "execution_count": 54,
     "metadata": {},
     "output_type": "execute_result"
    }
   ],
   "source": [
    "r[mask]"
   ]
  },
  {
   "cell_type": "code",
   "execution_count": 55,
   "id": "3884d68d-91fc-4034-8ac0-987e38895af3",
   "metadata": {},
   "outputs": [
    {
     "data": {
      "text/plain": [
       "array([[11, 20,  3, 33],\n",
       "       [ 5,  5, 48, 11],\n",
       "       [48, 48, 15, 39],\n",
       "       [18, 40,  9, 28]])"
      ]
     },
     "execution_count": 55,
     "metadata": {},
     "output_type": "execute_result"
    }
   ],
   "source": [
    "r2 = np.random.randint(1,50,16).reshape(4,4)\n",
    "r2"
   ]
  },
  {
   "cell_type": "code",
   "execution_count": 56,
   "id": "2e6c0f8c-5717-4b53-bece-81ce1df3da55",
   "metadata": {},
   "outputs": [
    {
     "data": {
      "text/plain": [
       "array([[False, False,  True, False],\n",
       "       [ True,  True, False, False],\n",
       "       [False, False, False, False],\n",
       "       [False, False, False, False]])"
      ]
     },
     "execution_count": 56,
     "metadata": {},
     "output_type": "execute_result"
    }
   ],
   "source": [
    "mask = r2<7\n",
    "mask"
   ]
  },
  {
   "cell_type": "code",
   "execution_count": 57,
   "id": "7901aece-5362-4dd1-a898-d1cec9479e23",
   "metadata": {},
   "outputs": [
    {
     "data": {
      "text/plain": [
       "array([3, 5, 5])"
      ]
     },
     "execution_count": 57,
     "metadata": {},
     "output_type": "execute_result"
    }
   ],
   "source": [
    "r2[mask]"
   ]
  },
  {
   "cell_type": "code",
   "execution_count": 58,
   "id": "102a7dce-7c55-4d9d-ab51-6fb9b0417eaa",
   "metadata": {},
   "outputs": [
    {
     "data": {
      "text/plain": [
       "array([[  11,   20, 9999,   33],\n",
       "       [9999, 9999,   48,   11],\n",
       "       [  48,   48,   15,   39],\n",
       "       [  18,   40,    9,   28]])"
      ]
     },
     "execution_count": 58,
     "metadata": {},
     "output_type": "execute_result"
    }
   ],
   "source": [
    "r2[mask] = 9999 # assigning at once\n",
    "r2"
   ]
  },
  {
   "cell_type": "markdown",
   "id": "996fbe0d-0226-402a-9547-4921309a12fd",
   "metadata": {},
   "source": [
    "### **Aggregate functions**"
   ]
  },
  {
   "cell_type": "code",
   "execution_count": 59,
   "id": "13bfffd7-3978-430f-81f5-b5ca82919117",
   "metadata": {},
   "outputs": [
    {
     "data": {
      "text/plain": [
       "array([ 0,  1,  2,  3,  4,  5,  6,  7,  8,  9, 10, 11, 12, 13, 14, 15])"
      ]
     },
     "execution_count": 59,
     "metadata": {},
     "output_type": "execute_result"
    }
   ],
   "source": [
    "a = np.arange(16)\n",
    "a"
   ]
  },
  {
   "cell_type": "code",
   "execution_count": 60,
   "id": "fee74815-b2d0-425f-b32c-ca4ca4a276d0",
   "metadata": {},
   "outputs": [
    {
     "name": "stdout",
     "output_type": "stream",
     "text": [
      "Sum 120\n",
      "Average:  7.5\n",
      "Min:  0\n",
      "Max:  15\n"
     ]
    }
   ],
   "source": [
    "print(\"Sum\", np.sum(a))\n",
    "print(\"Average: \", np.mean(a))\n",
    "print(\"Min: \", np.min(a))\n",
    "print(\"Max: \", np.max(a))"
   ]
  },
  {
   "cell_type": "code",
   "execution_count": 61,
   "id": "740ec38a-2f8c-4ad3-936b-76d2e0f93ac0",
   "metadata": {},
   "outputs": [
    {
     "data": {
      "text/plain": [
       "array([[ 44,  27, 120,  89],\n",
       "       [112,  17,  36,  28],\n",
       "       [116,  80,  82,  84],\n",
       "       [111,  61,  69,  17]])"
      ]
     },
     "execution_count": 61,
     "metadata": {},
     "output_type": "execute_result"
    }
   ],
   "source": [
    "b = np.random.randint(1,200, (4,4))\n",
    "b"
   ]
  },
  {
   "cell_type": "code",
   "execution_count": 62,
   "id": "5489fa50-cf3c-4739-9d64-32651ebb218f",
   "metadata": {},
   "outputs": [
    {
     "name": "stdout",
     "output_type": "stream",
     "text": [
      "Sum:  1093\n",
      "Mean:  68.3125\n",
      "Min:  17\n",
      "Max:  120\n"
     ]
    }
   ],
   "source": [
    "print(\"Sum: \", np.sum(b))\n",
    "print(\"Mean: \", np.mean(b))\n",
    "print(\"Min: \",np.min(b))\n",
    "print(\"Max: \", np.max(b))"
   ]
  },
  {
   "cell_type": "code",
   "execution_count": 63,
   "id": "38f8611b-cbae-4aa1-9c9a-df9c26e77341",
   "metadata": {},
   "outputs": [
    {
     "name": "stdout",
     "output_type": "stream",
     "text": [
      "Sum:  [383 185 307 218]\n",
      "Mean:  [95.75 46.25 76.75 54.5 ]\n",
      "Min:  [44 17 36 17]\n",
      "Max:  [116  80 120  89]\n"
     ]
    }
   ],
   "source": [
    "# Row wise\n",
    "print(\"Sum: \", np.sum(b, axis = 0))\n",
    "print(\"Mean: \", np.mean(b, axis = 0))\n",
    "print(\"Min: \",np.min(b, axis = 0))\n",
    "print(\"Max: \", np.max(b, axis = 0))"
   ]
  },
  {
   "cell_type": "code",
   "execution_count": 64,
   "id": "c3edc148-321e-44cf-9bf6-be1bd704c2d0",
   "metadata": {},
   "outputs": [
    {
     "name": "stdout",
     "output_type": "stream",
     "text": [
      "Sum:  [280 193 362 258]\n",
      "Mean:  [70.   48.25 90.5  64.5 ]\n",
      "Min:  [27 17 80 17]\n",
      "Max:  [120 112 116 111]\n"
     ]
    }
   ],
   "source": [
    "# Column wise\n",
    "print(\"Sum: \", np.sum(b, axis = 1))\n",
    "print(\"Mean: \", np.mean(b, axis = 1))\n",
    "print(\"Min: \",np.min(b, axis = 1))\n",
    "print(\"Max: \", np.max(b, axis = 1))"
   ]
  },
  {
   "cell_type": "markdown",
   "id": "5390d5f5-d706-43ca-9cce-ea5af0e73546",
   "metadata": {},
   "source": [
    "### **Logical Functions**"
   ]
  },
  {
   "cell_type": "code",
   "execution_count": 65,
   "id": "dbd8820a-fd58-4183-90eb-3cf1b87d9c43",
   "metadata": {},
   "outputs": [
    {
     "data": {
      "text/plain": [
       "(True, False)"
      ]
     },
     "execution_count": 65,
     "metadata": {},
     "output_type": "execute_result"
    }
   ],
   "source": [
    "mask1 = [True, False, True, True]\n",
    "np.any(mask1), np.all(mask1)"
   ]
  },
  {
   "cell_type": "code",
   "execution_count": 66,
   "id": "c736c7ac-22a8-4077-9733-a099b12cbf10",
   "metadata": {},
   "outputs": [
    {
     "data": {
      "text/plain": [
       "True"
      ]
     },
     "execution_count": 66,
     "metadata": {},
     "output_type": "execute_result"
    }
   ],
   "source": [
    "prices = np.array([50,45,25,20,35,70])\n",
    "budget = 40\n",
    "# any prices less than 40 ?\n",
    "np.any(prices < budget)"
   ]
  },
  {
   "cell_type": "code",
   "execution_count": 67,
   "id": "a4f3d89c-e5d6-41a9-9659-c812a2174338",
   "metadata": {},
   "outputs": [
    {
     "data": {
      "text/plain": [
       "False"
      ]
     },
     "execution_count": 67,
     "metadata": {},
     "output_type": "execute_result"
    }
   ],
   "source": [
    "# All prices less than 40\n",
    "np.all(prices < budget)"
   ]
  },
  {
   "cell_type": "code",
   "execution_count": 68,
   "id": "cc29ace7-39b4-4ad9-8e2a-1082c74f3f7d",
   "metadata": {},
   "outputs": [
    {
     "data": {
      "text/plain": [
       "array([-13,   7,  10,  -8,  -5,   4,  -4,  15,  12,   9])"
      ]
     },
     "execution_count": 68,
     "metadata": {},
     "output_type": "execute_result"
    }
   ],
   "source": [
    "arr = np.random.randint(-20, 20, 10)\n",
    "arr"
   ]
  },
  {
   "cell_type": "code",
   "execution_count": 69,
   "id": "b9b5497a-be86-45fe-810d-9457288d7de1",
   "metadata": {},
   "outputs": [
    {
     "data": {
      "text/plain": [
       "array(['invalid', '7', '10', 'invalid', 'invalid', '4', 'invalid', '15',\n",
       "       '12', '9'], dtype='<U21')"
      ]
     },
     "execution_count": 69,
     "metadata": {},
     "output_type": "execute_result"
    }
   ],
   "source": [
    "np.where(arr < 0, \"invalid\",arr)"
   ]
  },
  {
   "cell_type": "code",
   "execution_count": 70,
   "id": "f535fb5a-6b43-478d-a65e-4eede1fdaa95",
   "metadata": {},
   "outputs": [
    {
     "data": {
      "text/plain": [
       "array([-13. ,   6.3,   9. ,  -8. ,  -5. ,   4. ,  -4. ,  13.5,  10.8,\n",
       "         8.1])"
      ]
     },
     "execution_count": 70,
     "metadata": {},
     "output_type": "execute_result"
    }
   ],
   "source": [
    "np.where(arr > 5, arr *0.9,arr)"
   ]
  },
  {
   "cell_type": "markdown",
   "id": "01876b53-6710-40b5-b183-2684b408d10f",
   "metadata": {},
   "source": [
    "### **Fitbit**"
   ]
  },
  {
   "cell_type": "code",
   "execution_count": 71,
   "id": "1b0bfedb-d5c3-4c3d-a89d-5c270138c0e4",
   "metadata": {},
   "outputs": [
    {
     "data": {
      "text/plain": [
       "array([['06-10-2017', '5464', 'Neutral', '181', '5', 'Inactive'],\n",
       "       ['07-10-2017', '6041', 'Sad', '197', '8', 'Inactive'],\n",
       "       ['08-10-2017', '25', 'Sad', '0', '5', 'Inactive'],\n",
       "       ['09-10-2017', '5461', 'Sad', '174', '4', 'Inactive'],\n",
       "       ['10-10-2017', '6915', 'Neutral', '223', '5', 'Active'],\n",
       "       ['11-10-2017', '4545', 'Sad', '149', '6', 'Inactive'],\n",
       "       ['12-10-2017', '4340', 'Sad', '140', '6', 'Inactive'],\n",
       "       ['13-10-2017', '1230', 'Sad', '38', '7', 'Inactive'],\n",
       "       ['14-10-2017', '61', 'Sad', '1', '5', 'Inactive'],\n",
       "       ['15-10-2017', '1258', 'Sad', '40', '6', 'Inactive'],\n",
       "       ['16-10-2017', '3148', 'Sad', '101', '8', 'Inactive'],\n",
       "       ['17-10-2017', '4687', 'Sad', '152', '5', 'Inactive'],\n",
       "       ['18-10-2017', '4732', 'Happy', '150', '6', 'Active'],\n",
       "       ['19-10-2017', '3519', 'Sad', '113', '7', 'Inactive'],\n",
       "       ['20-10-2017', '1580', 'Sad', '49', '5', 'Inactive'],\n",
       "       ['21-10-2017', '2822', 'Sad', '86', '6', 'Inactive'],\n",
       "       ['22-10-2017', '181', 'Sad', '6', '8', 'Inactive'],\n",
       "       ['23-10-2017', '3158', 'Neutral', '99', '5', 'Inactive'],\n",
       "       ['24-10-2017', '4383', 'Neutral', '143', '4', 'Inactive'],\n",
       "       ['25-10-2017', '3881', 'Neutral', '125', '5', 'Inactive'],\n",
       "       ['26-10-2017', '4037', 'Neutral', '129', '6', 'Inactive'],\n",
       "       ['27-10-2017', '202', 'Neutral', '6', '8', 'Inactive'],\n",
       "       ['28-10-2017', '292', 'Neutral', '9', '5', 'Inactive'],\n",
       "       ['29-10-2017', '330', 'Happy', '10', '6', 'Inactive'],\n",
       "       ['30-10-2017', '2209', 'Neutral', '72', '5', 'Inactive'],\n",
       "       ['31-10-2017', '4550', 'Happy', '150', '8', 'Active'],\n",
       "       ['01-11-2017', '4435', 'Happy', '141', '5', 'Inactive'],\n",
       "       ['02-11-2017', '4779', 'Happy', '156', '4', 'Inactive'],\n",
       "       ['03-11-2017', '1831', 'Happy', '57', '5', 'Inactive'],\n",
       "       ['04-11-2017', '2255', 'Happy', '72', '4', 'Inactive'],\n",
       "       ['05-11-2017', '539', 'Happy', '17', '5', 'Active'],\n",
       "       ['06-11-2017', '5464', 'Happy', '181', '4', 'Inactive'],\n",
       "       ['07-11-2017', '6041', 'Neutral', '197', '3', 'Inactive'],\n",
       "       ['08-11-2017', '4068', 'Happy', '131', '2', 'Inactive'],\n",
       "       ['09-11-2017', '4683', 'Happy', '154', '9', 'Inactive'],\n",
       "       ['10-11-2017', '4033', 'Happy', '137', '5', 'Inactive'],\n",
       "       ['11-11-2017', '6314', 'Happy', '193', '6', 'Active'],\n",
       "       ['12-11-2017', '614', 'Happy', '19', '4', 'Active'],\n",
       "       ['13-11-2017', '3149', 'Happy', '101', '5', 'Active'],\n",
       "       ['14-11-2017', '4005', 'Happy', '139', '8', 'Active'],\n",
       "       ['15-11-2017', '4880', 'Happy', '164', '4', 'Active'],\n",
       "       ['16-11-2017', '4136', 'Happy', '137', '5', 'Active'],\n",
       "       ['17-11-2017', '705', 'Happy', '22', '6', 'Active'],\n",
       "       ['18-11-2017', '570', 'Neutral', '17', '5', 'Active'],\n",
       "       ['19-11-2017', '269', 'Happy', '9', '6', 'Active'],\n",
       "       ['20-11-2017', '4275', 'Happy', '145', '5', 'Inactive'],\n",
       "       ['21-11-2017', '5999', 'Happy', '192', '6', 'Inactive'],\n",
       "       ['22-11-2017', '4421', 'Happy', '146', '5', 'Inactive'],\n",
       "       ['23-11-2017', '6930', 'Happy', '234', '6', 'Inactive'],\n",
       "       ['24-11-2017', '5195', 'Happy', '167', '5', 'Inactive'],\n",
       "       ['25-11-2017', '546', 'Happy', '16', '6', 'Inactive'],\n",
       "       ['26-11-2017', '493', 'Happy', '17', '7', 'Active'],\n",
       "       ['27-11-2017', '995', 'Happy', '32', '6', 'Active'],\n",
       "       ['28-11-2017', '1163', 'Neutral', '35', '7', 'Active'],\n",
       "       ['29-11-2017', '6676', 'Sad', '220', '6', 'Active'],\n",
       "       ['30-11-2017', '3608', 'Happy', '116', '5', 'Active'],\n",
       "       ['01-12-2017', '774', 'Happy', '23', '6', 'Active'],\n",
       "       ['02-12-2017', '1421', 'Happy', '44', '7', 'Active'],\n",
       "       ['03-12-2017', '4064', 'Happy', '131', '8', 'Active'],\n",
       "       ['04-12-2017', '2725', 'Happy', '86', '8', 'Active'],\n",
       "       ['05-12-2017', '5934', 'Happy', '194', '7', 'Active'],\n",
       "       ['06-12-2017', '1867', 'Happy', '60', '8', 'Active'],\n",
       "       ['07-12-2017', '3721', 'Sad', '121', '5', 'Active'],\n",
       "       ['08-12-2017', '2374', 'Neutral', '76', '4', 'Inactive'],\n",
       "       ['09-12-2017', '2909', 'Neutral', '93', '3', 'Active'],\n",
       "       ['10-12-2017', '1648', 'Sad', '53', '3', 'Active'],\n",
       "       ['11-12-2017', '799', 'Sad', '25', '4', 'Inactive'],\n",
       "       ['12-12-2017', '7102', 'Neutral', '227', '5', 'Active'],\n",
       "       ['13-12-2017', '3941', 'Neutral', '125', '5', 'Active'],\n",
       "       ['14-12-2017', '7422', 'Happy', '243', '5', 'Active'],\n",
       "       ['15-12-2017', '437', 'Neutral', '14', '3', 'Active'],\n",
       "       ['16-12-2017', '1231', 'Neutral', '39', '4', 'Active'],\n",
       "       ['17-12-2017', '1696', 'Sad', '55', '4', 'Inactive'],\n",
       "       ['18-12-2017', '4921', 'Neutral', '158', '5', 'Active'],\n",
       "       ['19-12-2017', '221', 'Sad', '7', '5', 'Active'],\n",
       "       ['20-12-2017', '6500', 'Neutral', '213', '5', 'Active'],\n",
       "       ['21-12-2017', '3575', 'Neutral', '116', '5', 'Active'],\n",
       "       ['22-12-2017', '4061', 'Sad', '129', '5', 'Inactive'],\n",
       "       ['23-12-2017', '651', 'Sad', '21', '5', 'Inactive'],\n",
       "       ['24-12-2017', '753', 'Sad', '28', '4', 'Inactive'],\n",
       "       ['25-12-2017', '518', 'Sad', '16', '3', 'Inactive'],\n",
       "       ['26-12-2017', '5537', 'Happy', '180', '4', 'Active'],\n",
       "       ['27-12-2017', '4108', 'Neutral', '138', '5', 'Active'],\n",
       "       ['28-12-2017', '5376', 'Happy', '176', '5', 'Active'],\n",
       "       ['29-12-2017', '3066', 'Neutral', '99', '4', 'Active'],\n",
       "       ['30-12-2017', '177', 'Sad', '5', '5', 'Inactive'],\n",
       "       ['31-12-2017', '36', 'Sad', '1', '3', 'Inactive'],\n",
       "       ['01-01-2018', '299', 'Sad', '10', '3', 'Inactive'],\n",
       "       ['02-01-2018', '1447', 'Neutral', '47', '3', 'Inactive'],\n",
       "       ['03-01-2018', '2599', 'Neutral', '84', '2', 'Inactive'],\n",
       "       ['04-01-2018', '702', 'Sad', '23', '3', 'Inactive'],\n",
       "       ['05-01-2018', '133', 'Sad', '4', '2', 'Inactive'],\n",
       "       ['06-01-2018', '153', 'Happy', '0', '8', 'Inactive'],\n",
       "       ['07-01-2018', '500', 'Neutral', '0', '5', 'Active'],\n",
       "       ['08-01-2018', '2127', 'Neutral', '0', '5', 'Inactive'],\n",
       "       ['09-01-2018', '2203', 'Happy', '0', '5', 'Active']], dtype='<U10')"
      ]
     },
     "execution_count": 71,
     "metadata": {},
     "output_type": "execute_result"
    }
   ],
   "source": [
    "fit = np.loadtxt(\"fit.txt\", dtype = 'str')\n",
    "fit"
   ]
  },
  {
   "cell_type": "code",
   "execution_count": 72,
   "id": "c905d8a4-4b5b-4265-8f9f-5bfcdca5834a",
   "metadata": {},
   "outputs": [
    {
     "data": {
      "text/plain": [
       "numpy.ndarray"
      ]
     },
     "execution_count": 72,
     "metadata": {},
     "output_type": "execute_result"
    }
   ],
   "source": [
    "type(fit)"
   ]
  },
  {
   "cell_type": "code",
   "execution_count": 73,
   "id": "838a67b5-3529-454b-901e-59dae0671ee2",
   "metadata": {},
   "outputs": [
    {
     "data": {
      "text/plain": [
       "((96, 6), 576, 2)"
      ]
     },
     "execution_count": 73,
     "metadata": {},
     "output_type": "execute_result"
    }
   ],
   "source": [
    "fit.shape, fit.size, fit.ndim"
   ]
  },
  {
   "cell_type": "code",
   "execution_count": 74,
   "id": "8a31b3a7-0d65-4425-a7d5-c6942703581e",
   "metadata": {},
   "outputs": [
    {
     "data": {
      "text/plain": [
       "array(['06-10-2017', '5464', 'Neutral', '181', '5', 'Inactive'],\n",
       "      dtype='<U10')"
      ]
     },
     "execution_count": 74,
     "metadata": {},
     "output_type": "execute_result"
    }
   ],
   "source": [
    "fit[0]"
   ]
  },
  {
   "cell_type": "code",
   "execution_count": 75,
   "id": "f78a9c86-2b82-45b4-ae9b-15724bbff4a6",
   "metadata": {},
   "outputs": [
    {
     "data": {
      "text/plain": [
       "array([['06-10-2017', '07-10-2017', '08-10-2017', '09-10-2017',\n",
       "        '10-10-2017', '11-10-2017', '12-10-2017', '13-10-2017',\n",
       "        '14-10-2017', '15-10-2017', '16-10-2017', '17-10-2017',\n",
       "        '18-10-2017', '19-10-2017', '20-10-2017', '21-10-2017',\n",
       "        '22-10-2017', '23-10-2017', '24-10-2017', '25-10-2017',\n",
       "        '26-10-2017', '27-10-2017', '28-10-2017', '29-10-2017',\n",
       "        '30-10-2017', '31-10-2017', '01-11-2017', '02-11-2017',\n",
       "        '03-11-2017', '04-11-2017', '05-11-2017', '06-11-2017',\n",
       "        '07-11-2017', '08-11-2017', '09-11-2017', '10-11-2017',\n",
       "        '11-11-2017', '12-11-2017', '13-11-2017', '14-11-2017',\n",
       "        '15-11-2017', '16-11-2017', '17-11-2017', '18-11-2017',\n",
       "        '19-11-2017', '20-11-2017', '21-11-2017', '22-11-2017',\n",
       "        '23-11-2017', '24-11-2017', '25-11-2017', '26-11-2017',\n",
       "        '27-11-2017', '28-11-2017', '29-11-2017', '30-11-2017',\n",
       "        '01-12-2017', '02-12-2017', '03-12-2017', '04-12-2017',\n",
       "        '05-12-2017', '06-12-2017', '07-12-2017', '08-12-2017',\n",
       "        '09-12-2017', '10-12-2017', '11-12-2017', '12-12-2017',\n",
       "        '13-12-2017', '14-12-2017', '15-12-2017', '16-12-2017',\n",
       "        '17-12-2017', '18-12-2017', '19-12-2017', '20-12-2017',\n",
       "        '21-12-2017', '22-12-2017', '23-12-2017', '24-12-2017',\n",
       "        '25-12-2017', '26-12-2017', '27-12-2017', '28-12-2017',\n",
       "        '29-12-2017', '30-12-2017', '31-12-2017', '01-01-2018',\n",
       "        '02-01-2018', '03-01-2018', '04-01-2018', '05-01-2018',\n",
       "        '06-01-2018', '07-01-2018', '08-01-2018', '09-01-2018'],\n",
       "       ['5464', '6041', '25', '5461', '6915', '4545', '4340', '1230',\n",
       "        '61', '1258', '3148', '4687', '4732', '3519', '1580', '2822',\n",
       "        '181', '3158', '4383', '3881', '4037', '202', '292', '330',\n",
       "        '2209', '4550', '4435', '4779', '1831', '2255', '539', '5464',\n",
       "        '6041', '4068', '4683', '4033', '6314', '614', '3149', '4005',\n",
       "        '4880', '4136', '705', '570', '269', '4275', '5999', '4421',\n",
       "        '6930', '5195', '546', '493', '995', '1163', '6676', '3608',\n",
       "        '774', '1421', '4064', '2725', '5934', '1867', '3721', '2374',\n",
       "        '2909', '1648', '799', '7102', '3941', '7422', '437', '1231',\n",
       "        '1696', '4921', '221', '6500', '3575', '4061', '651', '753',\n",
       "        '518', '5537', '4108', '5376', '3066', '177', '36', '299',\n",
       "        '1447', '2599', '702', '133', '153', '500', '2127', '2203'],\n",
       "       ['Neutral', 'Sad', 'Sad', 'Sad', 'Neutral', 'Sad', 'Sad', 'Sad',\n",
       "        'Sad', 'Sad', 'Sad', 'Sad', 'Happy', 'Sad', 'Sad', 'Sad', 'Sad',\n",
       "        'Neutral', 'Neutral', 'Neutral', 'Neutral', 'Neutral', 'Neutral',\n",
       "        'Happy', 'Neutral', 'Happy', 'Happy', 'Happy', 'Happy', 'Happy',\n",
       "        'Happy', 'Happy', 'Neutral', 'Happy', 'Happy', 'Happy', 'Happy',\n",
       "        'Happy', 'Happy', 'Happy', 'Happy', 'Happy', 'Happy', 'Neutral',\n",
       "        'Happy', 'Happy', 'Happy', 'Happy', 'Happy', 'Happy', 'Happy',\n",
       "        'Happy', 'Happy', 'Neutral', 'Sad', 'Happy', 'Happy', 'Happy',\n",
       "        'Happy', 'Happy', 'Happy', 'Happy', 'Sad', 'Neutral', 'Neutral',\n",
       "        'Sad', 'Sad', 'Neutral', 'Neutral', 'Happy', 'Neutral',\n",
       "        'Neutral', 'Sad', 'Neutral', 'Sad', 'Neutral', 'Neutral', 'Sad',\n",
       "        'Sad', 'Sad', 'Sad', 'Happy', 'Neutral', 'Happy', 'Neutral',\n",
       "        'Sad', 'Sad', 'Sad', 'Neutral', 'Neutral', 'Sad', 'Sad', 'Happy',\n",
       "        'Neutral', 'Neutral', 'Happy'],\n",
       "       ['181', '197', '0', '174', '223', '149', '140', '38', '1', '40',\n",
       "        '101', '152', '150', '113', '49', '86', '6', '99', '143', '125',\n",
       "        '129', '6', '9', '10', '72', '150', '141', '156', '57', '72',\n",
       "        '17', '181', '197', '131', '154', '137', '193', '19', '101',\n",
       "        '139', '164', '137', '22', '17', '9', '145', '192', '146', '234',\n",
       "        '167', '16', '17', '32', '35', '220', '116', '23', '44', '131',\n",
       "        '86', '194', '60', '121', '76', '93', '53', '25', '227', '125',\n",
       "        '243', '14', '39', '55', '158', '7', '213', '116', '129', '21',\n",
       "        '28', '16', '180', '138', '176', '99', '5', '1', '10', '47',\n",
       "        '84', '23', '4', '0', '0', '0', '0'],\n",
       "       ['5', '8', '5', '4', '5', '6', '6', '7', '5', '6', '8', '5', '6',\n",
       "        '7', '5', '6', '8', '5', '4', '5', '6', '8', '5', '6', '5', '8',\n",
       "        '5', '4', '5', '4', '5', '4', '3', '2', '9', '5', '6', '4', '5',\n",
       "        '8', '4', '5', '6', '5', '6', '5', '6', '5', '6', '5', '6', '7',\n",
       "        '6', '7', '6', '5', '6', '7', '8', '8', '7', '8', '5', '4', '3',\n",
       "        '3', '4', '5', '5', '5', '3', '4', '4', '5', '5', '5', '5', '5',\n",
       "        '5', '4', '3', '4', '5', '5', '4', '5', '3', '3', '3', '2', '3',\n",
       "        '2', '8', '5', '5', '5'],\n",
       "       ['Inactive', 'Inactive', 'Inactive', 'Inactive', 'Active',\n",
       "        'Inactive', 'Inactive', 'Inactive', 'Inactive', 'Inactive',\n",
       "        'Inactive', 'Inactive', 'Active', 'Inactive', 'Inactive',\n",
       "        'Inactive', 'Inactive', 'Inactive', 'Inactive', 'Inactive',\n",
       "        'Inactive', 'Inactive', 'Inactive', 'Inactive', 'Inactive',\n",
       "        'Active', 'Inactive', 'Inactive', 'Inactive', 'Inactive',\n",
       "        'Active', 'Inactive', 'Inactive', 'Inactive', 'Inactive',\n",
       "        'Inactive', 'Active', 'Active', 'Active', 'Active', 'Active',\n",
       "        'Active', 'Active', 'Active', 'Active', 'Inactive', 'Inactive',\n",
       "        'Inactive', 'Inactive', 'Inactive', 'Inactive', 'Active',\n",
       "        'Active', 'Active', 'Active', 'Active', 'Active', 'Active',\n",
       "        'Active', 'Active', 'Active', 'Active', 'Active', 'Inactive',\n",
       "        'Active', 'Active', 'Inactive', 'Active', 'Active', 'Active',\n",
       "        'Active', 'Active', 'Inactive', 'Active', 'Active', 'Active',\n",
       "        'Active', 'Inactive', 'Inactive', 'Inactive', 'Inactive',\n",
       "        'Active', 'Active', 'Active', 'Active', 'Inactive', 'Inactive',\n",
       "        'Inactive', 'Inactive', 'Inactive', 'Inactive', 'Inactive',\n",
       "        'Inactive', 'Active', 'Inactive', 'Active']], dtype='<U10')"
      ]
     },
     "execution_count": 75,
     "metadata": {},
     "output_type": "execute_result"
    }
   ],
   "source": [
    "fit.T"
   ]
  },
  {
   "cell_type": "code",
   "execution_count": 76,
   "id": "b67b9894-2c9e-4151-8b82-57833af3fb26",
   "metadata": {},
   "outputs": [
    {
     "data": {
      "text/plain": [
       "(6, 96)"
      ]
     },
     "execution_count": 76,
     "metadata": {},
     "output_type": "execute_result"
    }
   ],
   "source": [
    "fit.T.shape"
   ]
  },
  {
   "cell_type": "code",
   "execution_count": 77,
   "id": "c99dcb48-3ec5-4cd3-9b9b-dff0537d4774",
   "metadata": {},
   "outputs": [
    {
     "data": {
      "text/plain": [
       "(array([1]), array([2]), array([3]), array([4]))"
      ]
     },
     "execution_count": 77,
     "metadata": {},
     "output_type": "execute_result"
    }
   ],
   "source": [
    "a,b,c,d = np.array([[1],[2],[3],[4]])\n",
    "a,b,c,d"
   ]
  },
  {
   "cell_type": "code",
   "execution_count": 78,
   "id": "4bdd38f5-7577-4ac6-8a5b-723135336237",
   "metadata": {},
   "outputs": [],
   "source": [
    "date, step_count,mood, calories_burned, hours_sleep, activity_status = fit.T"
   ]
  },
  {
   "cell_type": "code",
   "execution_count": 79,
   "id": "852eb2db-6ce7-4b8e-948b-c5b2195f831f",
   "metadata": {},
   "outputs": [
    {
     "data": {
      "text/plain": [
       "(dtype('<U10'),\n",
       " dtype('<U10'),\n",
       " dtype('<U10'),\n",
       " dtype('<U10'),\n",
       " dtype('<U10'),\n",
       " dtype('<U10'))"
      ]
     },
     "execution_count": 79,
     "metadata": {},
     "output_type": "execute_result"
    }
   ],
   "source": [
    "date.dtype, step_count.dtype,mood.dtype, calories_burned.dtype, hours_sleep.dtype, activity_status.dtype"
   ]
  },
  {
   "cell_type": "code",
   "execution_count": 80,
   "id": "c95e2e41-0931-4554-ad9a-a91173f02f4f",
   "metadata": {},
   "outputs": [],
   "source": [
    "step_count = step_count.astype(\"int64\")\n",
    "hours_sleep = hours_sleep.astype(\"int64\")\n",
    "calories_burned = calories_burned.astype(\"int64\")"
   ]
  },
  {
   "cell_type": "code",
   "execution_count": 81,
   "id": "b14f36ef-1e53-47fc-88ea-163a4229f073",
   "metadata": {},
   "outputs": [
    {
     "data": {
      "text/plain": [
       "(dtype('<U10'),\n",
       " dtype('int64'),\n",
       " dtype('<U10'),\n",
       " dtype('int64'),\n",
       " dtype('int64'),\n",
       " dtype('<U10'))"
      ]
     },
     "execution_count": 81,
     "metadata": {},
     "output_type": "execute_result"
    }
   ],
   "source": [
    "date.dtype, step_count.dtype,mood.dtype, calories_burned.dtype, hours_sleep.dtype, activity_status.dtype"
   ]
  },
  {
   "cell_type": "code",
   "execution_count": 82,
   "id": "b84fb824-fa06-4576-959e-d0fd5ca7024f",
   "metadata": {},
   "outputs": [
    {
     "data": {
      "text/plain": [
       "array(['Happy', 'Neutral', 'Sad'], dtype='<U10')"
      ]
     },
     "execution_count": 82,
     "metadata": {},
     "output_type": "execute_result"
    }
   ],
   "source": [
    "np.unique(mood)"
   ]
  },
  {
   "cell_type": "code",
   "execution_count": 83,
   "id": "60d32411-3dfb-4a45-b2fd-29464b6e6442",
   "metadata": {},
   "outputs": [
    {
     "data": {
      "text/plain": [
       "array([['18-10-2017', '4732', 'Happy', '150', '6', 'Active'],\n",
       "       ['29-10-2017', '330', 'Happy', '10', '6', 'Inactive'],\n",
       "       ['31-10-2017', '4550', 'Happy', '150', '8', 'Active'],\n",
       "       ['01-11-2017', '4435', 'Happy', '141', '5', 'Inactive'],\n",
       "       ['02-11-2017', '4779', 'Happy', '156', '4', 'Inactive'],\n",
       "       ['03-11-2017', '1831', 'Happy', '57', '5', 'Inactive'],\n",
       "       ['04-11-2017', '2255', 'Happy', '72', '4', 'Inactive'],\n",
       "       ['05-11-2017', '539', 'Happy', '17', '5', 'Active'],\n",
       "       ['06-11-2017', '5464', 'Happy', '181', '4', 'Inactive'],\n",
       "       ['08-11-2017', '4068', 'Happy', '131', '2', 'Inactive'],\n",
       "       ['09-11-2017', '4683', 'Happy', '154', '9', 'Inactive'],\n",
       "       ['10-11-2017', '4033', 'Happy', '137', '5', 'Inactive'],\n",
       "       ['11-11-2017', '6314', 'Happy', '193', '6', 'Active'],\n",
       "       ['12-11-2017', '614', 'Happy', '19', '4', 'Active'],\n",
       "       ['13-11-2017', '3149', 'Happy', '101', '5', 'Active'],\n",
       "       ['14-11-2017', '4005', 'Happy', '139', '8', 'Active'],\n",
       "       ['15-11-2017', '4880', 'Happy', '164', '4', 'Active'],\n",
       "       ['16-11-2017', '4136', 'Happy', '137', '5', 'Active'],\n",
       "       ['17-11-2017', '705', 'Happy', '22', '6', 'Active'],\n",
       "       ['19-11-2017', '269', 'Happy', '9', '6', 'Active'],\n",
       "       ['20-11-2017', '4275', 'Happy', '145', '5', 'Inactive'],\n",
       "       ['21-11-2017', '5999', 'Happy', '192', '6', 'Inactive'],\n",
       "       ['22-11-2017', '4421', 'Happy', '146', '5', 'Inactive'],\n",
       "       ['23-11-2017', '6930', 'Happy', '234', '6', 'Inactive'],\n",
       "       ['24-11-2017', '5195', 'Happy', '167', '5', 'Inactive'],\n",
       "       ['25-11-2017', '546', 'Happy', '16', '6', 'Inactive'],\n",
       "       ['26-11-2017', '493', 'Happy', '17', '7', 'Active'],\n",
       "       ['27-11-2017', '995', 'Happy', '32', '6', 'Active'],\n",
       "       ['30-11-2017', '3608', 'Happy', '116', '5', 'Active'],\n",
       "       ['01-12-2017', '774', 'Happy', '23', '6', 'Active'],\n",
       "       ['02-12-2017', '1421', 'Happy', '44', '7', 'Active'],\n",
       "       ['03-12-2017', '4064', 'Happy', '131', '8', 'Active'],\n",
       "       ['04-12-2017', '2725', 'Happy', '86', '8', 'Active'],\n",
       "       ['05-12-2017', '5934', 'Happy', '194', '7', 'Active'],\n",
       "       ['06-12-2017', '1867', 'Happy', '60', '8', 'Active'],\n",
       "       ['14-12-2017', '7422', 'Happy', '243', '5', 'Active'],\n",
       "       ['26-12-2017', '5537', 'Happy', '180', '4', 'Active'],\n",
       "       ['28-12-2017', '5376', 'Happy', '176', '5', 'Active'],\n",
       "       ['06-01-2018', '153', 'Happy', '0', '8', 'Inactive'],\n",
       "       ['09-01-2018', '2203', 'Happy', '0', '5', 'Active']], dtype='<U10')"
      ]
     },
     "execution_count": 83,
     "metadata": {},
     "output_type": "execute_result"
    }
   ],
   "source": [
    "fit[mood == \"Happy\"]"
   ]
  },
  {
   "cell_type": "code",
   "execution_count": 84,
   "id": "7a8b4504-05e6-4754-bd32-12922da4efff",
   "metadata": {},
   "outputs": [
    {
     "data": {
      "text/plain": [
       "array([4732,  330, 4550, 4435, 4779, 1831, 2255,  539, 5464, 4068, 4683,\n",
       "       4033, 6314,  614, 3149, 4005, 4880, 4136,  705,  269, 4275, 5999,\n",
       "       4421, 6930, 5195,  546,  493,  995, 3608,  774, 1421, 4064, 2725,\n",
       "       5934, 1867, 7422, 5537, 5376,  153, 2203])"
      ]
     },
     "execution_count": 84,
     "metadata": {},
     "output_type": "execute_result"
    }
   ],
   "source": [
    "step_count[mood == \"Happy\"]"
   ]
  },
  {
   "cell_type": "code",
   "execution_count": 85,
   "id": "2ed8583a-0861-45fb-b114-2379417b2feb",
   "metadata": {},
   "outputs": [
    {
     "data": {
      "text/plain": [
       "3392.725"
      ]
     },
     "execution_count": 85,
     "metadata": {},
     "output_type": "execute_result"
    }
   ],
   "source": [
    "# Mean of Mood happy\n",
    "np.mean(step_count[mood == \"Happy\"])"
   ]
  },
  {
   "cell_type": "code",
   "execution_count": 86,
   "id": "3944f65f-0371-4376-ae5b-cddfb3fb271a",
   "metadata": {},
   "outputs": [
    {
     "data": {
      "text/plain": [
       "2103.0689655172414"
      ]
     },
     "execution_count": 86,
     "metadata": {},
     "output_type": "execute_result"
    }
   ],
   "source": [
    "np.mean(step_count[mood == \"Sad\"])"
   ]
  },
  {
   "cell_type": "markdown",
   "id": "606fa0e6-7423-4cdf-99b5-d8d07bcc83f2",
   "metadata": {},
   "source": [
    "### **Sorting Array**"
   ]
  },
  {
   "cell_type": "code",
   "execution_count": 87,
   "id": "352bdb32-a071-4219-9bdf-21892cf63f37",
   "metadata": {},
   "outputs": [
    {
     "data": {
      "text/plain": [
       "array([54, 33, 30, 93, 45, 72, 57, 65, 74, 43])"
      ]
     },
     "execution_count": 87,
     "metadata": {},
     "output_type": "execute_result"
    }
   ],
   "source": [
    "a = np.random.randint(1,100,10)\n",
    "a"
   ]
  },
  {
   "cell_type": "code",
   "execution_count": 89,
   "id": "e2428c3c-78e6-4023-aa7a-ddd3f707ecfc",
   "metadata": {},
   "outputs": [
    {
     "data": {
      "text/plain": [
       "(array([30, 33, 43, 45, 54, 57, 65, 72, 74, 93]),\n",
       " array([54, 33, 30, 93, 45, 72, 57, 65, 74, 43]))"
      ]
     },
     "execution_count": 89,
     "metadata": {},
     "output_type": "execute_result"
    }
   ],
   "source": [
    "# Temp\n",
    "np.sort(a),a"
   ]
  },
  {
   "cell_type": "code",
   "execution_count": 90,
   "id": "7bd63cd5-1ba5-4558-8435-3d6a21c9b5f5",
   "metadata": {},
   "outputs": [],
   "source": [
    "a.sort()"
   ]
  },
  {
   "cell_type": "code",
   "execution_count": 91,
   "id": "8350f362-6dca-4cba-96e1-04a6159a8344",
   "metadata": {},
   "outputs": [
    {
     "data": {
      "text/plain": [
       "array([30, 33, 43, 45, 54, 57, 65, 72, 74, 93])"
      ]
     },
     "execution_count": 91,
     "metadata": {},
     "output_type": "execute_result"
    }
   ],
   "source": [
    "a"
   ]
  },
  {
   "cell_type": "markdown",
   "id": "adb64a44-f30e-4041-ac7c-a5bc92dd3ee2",
   "metadata": {},
   "source": [
    "#### **2D Array**\n",
    "\n",
    "**Why This Makes Sense**\n",
    "\n",
    "    Axis Definition: In NumPy, axis=0 always refers to the first dimension (rows in 2D), and axis=1 refers to the second dimension (columns in 2D). Sorting along an axis sorts the elements in that dimension while grouping by the other dimension.\n",
    "    Consistency: This convention is consistent with other NumPy operations (e.g., sum, mean):\n",
    "        axis=0: Operates along rows, producing results for each column.\n",
    "        axis=1: Operates along columns, producing results for each row.\n",
    "    Higher Dimensions: The logic extends to higher-dimensional arrays. For a 3D array, axis=0 sorts along the first dimension (depth), axis=1 along the second (rows), and axis=2 along the third (columns)."
   ]
  },
  {
   "cell_type": "markdown",
   "id": "f1eb4425-00d9-45f1-b770-49499d0bc82b",
   "metadata": {},
   "source": [
    "**For a 2D array:**\n",
    "\n",
    "    axis=0 (column-wise): Sorts each column independently, moving values along rows.\n",
    "    axis=1 (row-wise): Sorts each row independently, moving values along columns."
   ]
  },
  {
   "cell_type": "code",
   "execution_count": 92,
   "id": "4082aee0-cb7d-410a-9348-95c83413f23b",
   "metadata": {},
   "outputs": [
    {
     "data": {
      "text/plain": [
       "array([[11, 81, 78, 71],\n",
       "       [ 1, 14, 12,  6],\n",
       "       [50, 96, 49, 42],\n",
       "       [85, 90, 71, 27]])"
      ]
     },
     "execution_count": 92,
     "metadata": {},
     "output_type": "execute_result"
    }
   ],
   "source": [
    "a = np.random.randint(1,100,16)\n",
    "b = a.reshape(4,4)\n",
    "b"
   ]
  },
  {
   "cell_type": "code",
   "execution_count": 93,
   "id": "8097020c-648e-4683-9dc8-ae1a1895ce22",
   "metadata": {},
   "outputs": [
    {
     "data": {
      "text/plain": [
       "array([[11, 71, 78, 81],\n",
       "       [ 1,  6, 12, 14],\n",
       "       [42, 49, 50, 96],\n",
       "       [27, 71, 85, 90]])"
      ]
     },
     "execution_count": 93,
     "metadata": {},
     "output_type": "execute_result"
    }
   ],
   "source": [
    "np.sort(b)"
   ]
  },
  {
   "cell_type": "code",
   "execution_count": 94,
   "id": "c06b3e5e-0023-44c9-ad40-d7f49c8c3aaa",
   "metadata": {},
   "outputs": [
    {
     "data": {
      "text/plain": [
       "array([[ 1, 14, 12,  6],\n",
       "       [11, 81, 49, 27],\n",
       "       [50, 90, 71, 42],\n",
       "       [85, 96, 78, 71]])"
      ]
     },
     "execution_count": 94,
     "metadata": {},
     "output_type": "execute_result"
    }
   ],
   "source": [
    "np.sort(b, axis = 0)"
   ]
  },
  {
   "cell_type": "code",
   "execution_count": 95,
   "id": "03339c14-bf59-4991-bc97-53937da592c5",
   "metadata": {},
   "outputs": [
    {
     "data": {
      "text/plain": [
       "array([[11, 71, 78, 81],\n",
       "       [ 1,  6, 12, 14],\n",
       "       [42, 49, 50, 96],\n",
       "       [27, 71, 85, 90]])"
      ]
     },
     "execution_count": 95,
     "metadata": {},
     "output_type": "execute_result"
    }
   ],
   "source": [
    "np.sort(b, axis = 1)"
   ]
  },
  {
   "cell_type": "markdown",
   "id": "c458df3e-50c7-4a27-bde1-bb3a02638591",
   "metadata": {},
   "source": [
    "#### **3D Arrays**"
   ]
  },
  {
   "cell_type": "code",
   "execution_count": 96,
   "id": "e6aa8750-292f-4066-9281-93ba2e7b13e8",
   "metadata": {},
   "outputs": [
    {
     "data": {
      "text/plain": [
       "array([[[234, 527, 238, 281, 765],\n",
       "        [785,  50, 580, 737, 654],\n",
       "        [874, 138, 263, 754, 133],\n",
       "        [375, 918, 915, 849,  77],\n",
       "        [208, 304, 983, 756, 776]],\n",
       "\n",
       "       [[180, 799, 846, 154,  84],\n",
       "        [442, 641,  99, 716, 102],\n",
       "        [901, 573, 430, 440, 476],\n",
       "        [ 33, 280, 144, 688,  72],\n",
       "        [283, 919, 530, 745, 282]],\n",
       "\n",
       "       [[796, 745, 969, 602, 404],\n",
       "        [648, 443, 569,  19, 885],\n",
       "        [259, 750, 891, 103,  21],\n",
       "        [858, 225, 193, 396,  96],\n",
       "        [770, 726, 512, 556,  71]]])"
      ]
     },
     "execution_count": 96,
     "metadata": {},
     "output_type": "execute_result"
    }
   ],
   "source": [
    "a = np.random.randint(1, 1000,(3,5,5))\n",
    "a"
   ]
  },
  {
   "cell_type": "code",
   "execution_count": 98,
   "id": "79f0e299-ef18-4581-b159-ed006a61ef46",
   "metadata": {},
   "outputs": [
    {
     "data": {
      "text/plain": [
       "array([[[180, 527, 238, 154,  84],\n",
       "        [442,  50,  99,  19, 102],\n",
       "        [259, 138, 263, 103,  21],\n",
       "        [ 33, 225, 144, 396,  72],\n",
       "        [208, 304, 512, 556,  71]],\n",
       "\n",
       "       [[234, 745, 846, 281, 404],\n",
       "        [648, 443, 569, 716, 654],\n",
       "        [874, 573, 430, 440, 133],\n",
       "        [375, 280, 193, 688,  77],\n",
       "        [283, 726, 530, 745, 282]],\n",
       "\n",
       "       [[796, 799, 969, 602, 765],\n",
       "        [785, 641, 580, 737, 885],\n",
       "        [901, 750, 891, 754, 476],\n",
       "        [858, 918, 915, 849,  96],\n",
       "        [770, 919, 983, 756, 776]]])"
      ]
     },
     "execution_count": 98,
     "metadata": {},
     "output_type": "execute_result"
    }
   ],
   "source": [
    "np.sort(a, axis = 0)"
   ]
  },
  {
   "cell_type": "code",
   "execution_count": 99,
   "id": "de40be58-cda4-480a-bb8c-40480ca710c1",
   "metadata": {},
   "outputs": [
    {
     "data": {
      "text/plain": [
       "array([[[208,  50, 238, 281,  77],\n",
       "        [234, 138, 263, 737, 133],\n",
       "        [375, 304, 580, 754, 654],\n",
       "        [785, 527, 915, 756, 765],\n",
       "        [874, 918, 983, 849, 776]],\n",
       "\n",
       "       [[ 33, 280,  99, 154,  72],\n",
       "        [180, 573, 144, 440,  84],\n",
       "        [283, 641, 430, 688, 102],\n",
       "        [442, 799, 530, 716, 282],\n",
       "        [901, 919, 846, 745, 476]],\n",
       "\n",
       "       [[259, 225, 193,  19,  21],\n",
       "        [648, 443, 512, 103,  71],\n",
       "        [770, 726, 569, 396,  96],\n",
       "        [796, 745, 891, 556, 404],\n",
       "        [858, 750, 969, 602, 885]]])"
      ]
     },
     "execution_count": 99,
     "metadata": {},
     "output_type": "execute_result"
    }
   ],
   "source": [
    "np.sort(a, axis = 1)"
   ]
  },
  {
   "cell_type": "code",
   "execution_count": 100,
   "id": "354ff468-d5ea-42d7-b67d-d0feedc0a2f4",
   "metadata": {},
   "outputs": [
    {
     "data": {
      "text/plain": [
       "array([[[234, 238, 281, 527, 765],\n",
       "        [ 50, 580, 654, 737, 785],\n",
       "        [133, 138, 263, 754, 874],\n",
       "        [ 77, 375, 849, 915, 918],\n",
       "        [208, 304, 756, 776, 983]],\n",
       "\n",
       "       [[ 84, 154, 180, 799, 846],\n",
       "        [ 99, 102, 442, 641, 716],\n",
       "        [430, 440, 476, 573, 901],\n",
       "        [ 33,  72, 144, 280, 688],\n",
       "        [282, 283, 530, 745, 919]],\n",
       "\n",
       "       [[404, 602, 745, 796, 969],\n",
       "        [ 19, 443, 569, 648, 885],\n",
       "        [ 21, 103, 259, 750, 891],\n",
       "        [ 96, 193, 225, 396, 858],\n",
       "        [ 71, 512, 556, 726, 770]]])"
      ]
     },
     "execution_count": 100,
     "metadata": {},
     "output_type": "execute_result"
    }
   ],
   "source": [
    "np.sort(a, axis = 2)"
   ]
  },
  {
   "cell_type": "code",
   "execution_count": null,
   "id": "7e0db231-e867-44a7-869f-aac8d272555d",
   "metadata": {},
   "outputs": [],
   "source": []
  }
 ],
 "metadata": {
  "kernelspec": {
   "display_name": "Python 3 (ipykernel)",
   "language": "python",
   "name": "python3"
  },
  "language_info": {
   "codemirror_mode": {
    "name": "ipython",
    "version": 3
   },
   "file_extension": ".py",
   "mimetype": "text/x-python",
   "name": "python",
   "nbconvert_exporter": "python",
   "pygments_lexer": "ipython3",
   "version": "3.11.0rc1"
  }
 },
 "nbformat": 4,
 "nbformat_minor": 5
}
