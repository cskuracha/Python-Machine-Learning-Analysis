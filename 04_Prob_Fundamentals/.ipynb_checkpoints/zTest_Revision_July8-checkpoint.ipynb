{
 "cells": [
  {
   "cell_type": "code",
   "execution_count": 1,
   "id": "90c5736e-7841-4e63-90c9-428722f89369",
   "metadata": {},
   "outputs": [
    {
     "name": "stdout",
     "output_type": "stream",
     "text": [
      "M1_data: [6.0, 6.0, 11.0, 7.0, 19.0, 6.0, 13.0, 10.0, 18.0, 7.0, 10.0, 10.0, 9.0, 5.0, 12.0, 6.0, 14.0, 6.0, 10.0, 12.0, 19.0, 6.0, 7.0, 17.0, 5.0, 19.0, 14.0, 9.0, 18.0, 17.0, 10.0, 17.0, 8.0, 14.0, 13.0, 17.0, 10.0, 11.0, 17.0, 13.0, 15.0, 15.0, 15.0, 18.0, 12.0, 15.0, 11.0, 5.0, 16.0, 8.0, 17.0, 19.0, 15.0, 8.0, 10.0, 11.0, 6.0, 12.0, 14.0, 10.0, 8.0, 6.0, 14.0, 5.0, 10.0, 8.0, 13.0, 16.0, 19.0, 15.0, 20.0, 19.0, 14.0, 9.0, 12.0, 8.0, 20.0, 12.0, 16.0, 6.0, 7.0, 8.0, 9.0, 10.0, 9.0, 12.0, 11.0, 7.0, 6.0, 10.0, 6.0, 11.0, 5.0, 13.0, 6.0, 15.0, 11.0, 20.0, 9.0, 12.0]\n",
      "M2_data: [24.0, 13.0, 14.0, 21.0, 29.0, 27.0, 15.0, 23.0, 22.0, 14.0, 11.0, 7.0, 27.0, 6.0, 18.0, 18.0, 9.0, 21.0, 28.0, 24.0, 15.0, 8.0, 29.0, 18.0, 21.0, 25.0, 15.0, 7.0, 8.0, 22.0, 14.0, 27.0, 24.0, 30.0, 22.0, 13.0, 25.0, 6.0, 18.0, 27.0, 18.0, 8.0, 18.0, 19.0, 14.0, 27.0, 14.0, 12.0, 18.0, 10.0, 13.0, 15.0, 28.0, 7.0, 10.0, 10.0, 30.0, 27.0, 10.0, 19.0, 7.0, 13.0, 14.0, 18.0, 28.0, 25.0, 18.0, 25.0, 17.0, 23.0, 24.0, 11.0, 26.0, 19.0, 17.0, 15.0, 11.0, 18.0, 8.0, 21.0, 27.0, 25.0, 20.0, 17.0, 22.0, 8.0, 6.0, 27.0, 14.0, 22.0]\n"
     ]
    }
   ],
   "source": [
    "import random\n",
    "import numpy as np\n",
    "\n",
    "# Set a random seed for reproducibility\n",
    "# Setting random seed to 123 for consistent, deterministic generation of recovery times across groups.\n",
    "random.seed(123)  # You can use any integer as the seed\n",
    "\n",
    "# Create an empty list to store the recovery times\n",
    "M1_data = []\n",
    "\n",
    "# Generate 100 random recovery times\n",
    "# The underscore _ in the loop is a placeholder, signifying indifference to the counter value and solely focusing on executing the code block 100 times.\n",
    "for _ in range(100):\n",
    "    recovery_time = random.uniform(5.0, 20.0)  # Generating values between 5 and 20\n",
    "    M1_data.append(np.round(recovery_time,0)) # Rounding recovery time to whole numbers\n",
    "\n",
    "# Print the generated data\n",
    "print(\"M1_data:\",M1_data)\n",
    "\n",
    "# Create an empty list to store the recovery times\n",
    "M2_data = []\n",
    "\n",
    "# Generate 90 random recovery times\n",
    "for _  in range(90):\n",
    "    recovery_time = random.uniform(5.0, 30.0) # Generating values between 5 and 30\n",
    "    M2_data.append(np.round(recovery_time,0)) # Rounding recovery time to whole numbers\n",
    "\n",
    "# Print the generated data\n",
    "print(\"M2_data:\",M2_data)"
   ]
  },
  {
   "cell_type": "code",
   "execution_count": null,
   "id": "0bc9419a-5c4d-4a0d-9e7f-cc89ccfe9722",
   "metadata": {},
   "outputs": [],
   "source": []
  }
 ],
 "metadata": {
  "kernelspec": {
   "display_name": "Python 3 (ipykernel)",
   "language": "python",
   "name": "python3"
  },
  "language_info": {
   "codemirror_mode": {
    "name": "ipython",
    "version": 3
   },
   "file_extension": ".py",
   "mimetype": "text/x-python",
   "name": "python",
   "nbconvert_exporter": "python",
   "pygments_lexer": "ipython3",
   "version": "3.11.0rc1"
  }
 },
 "nbformat": 4,
 "nbformat_minor": 5
}
