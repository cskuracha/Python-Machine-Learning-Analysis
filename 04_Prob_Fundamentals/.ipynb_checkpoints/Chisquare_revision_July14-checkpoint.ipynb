{
 "cells": [
  {
   "cell_type": "markdown",
   "id": "dac79d2f-7e9b-4de2-9743-794f3f1613e4",
   "metadata": {},
   "source": [
    "## **Chisquare**"
   ]
  },
  {
   "cell_type": "code",
   "execution_count": 2,
   "id": "8593e31d-d4e1-4c3f-ab21-b9873cc98ced",
   "metadata": {},
   "outputs": [],
   "source": [
    "import pandas as pd\n",
    "import numpy as np\n",
    "import seaborn as sns\n",
    "import matplotlib.pyplot as plt\n",
    "from scipy.stats import chisquare\n",
    "from scipy.stats import chi2"
   ]
  },
  {
   "cell_type": "code",
   "execution_count": 3,
   "id": "5909e9d2-0f02-4b07-8d02-47aa78d3fd31",
   "metadata": {},
   "outputs": [
    {
     "data": {
      "text/plain": [
       "(0.72, 0.3961439091520741)"
      ]
     },
     "execution_count": 3,
     "metadata": {},
     "output_type": "execute_result"
    }
   ],
   "source": [
    "chi_stat,pvalue = chisquare([28,22],[25,25])\n",
    "chi_stat,pvalue"
   ]
  },
  {
   "cell_type": "code",
   "execution_count": 5,
   "id": "22f5f84a-7470-4bbb-acac-06986b0aba68",
   "metadata": {},
   "outputs": [
    {
     "name": "stdout",
     "output_type": "stream",
     "text": [
      "Fail to reject H0\n",
      "Coin is fair\n"
     ]
    }
   ],
   "source": [
    "alpha = 0.05\n",
    "\n",
    "if pvalue < alpha:\n",
    "    print(\"Reject H0\")\n",
    "    print(\"Coin is baised\")\n",
    "else:\n",
    "    print(\"Fail to reject H0\")\n",
    "    print(\"Coin is fair\")"
   ]
  },
  {
   "cell_type": "code",
   "execution_count": 10,
   "id": "7ab470d4-b131-4469-a152-c3b712235df4",
   "metadata": {},
   "outputs": [
    {
     "data": {
      "text/plain": [
       "0.3961439091520741"
      ]
     },
     "execution_count": 10,
     "metadata": {},
     "output_type": "execute_result"
    }
   ],
   "source": [
    "# Other way\n",
    "pvalue = 1-chi2.cdf(0.72, df= 1)\n",
    "pvalue"
   ]
  },
  {
   "cell_type": "code",
   "execution_count": 11,
   "id": "6fa7b42e-3a4a-4eed-b5c3-28c2ebf96d9a",
   "metadata": {},
   "outputs": [
    {
     "data": {
      "text/plain": [
       "(32.0, 1.5417257900280013e-08)"
      ]
     },
     "execution_count": 11,
     "metadata": {},
     "output_type": "execute_result"
    }
   ],
   "source": [
    "chi_stat,pvalue = chisquare([45,5],[25,25])\n",
    "chi_stat,pvalue"
   ]
  },
  {
   "cell_type": "code",
   "execution_count": 12,
   "id": "ce5b8649-525c-4b45-8d49-e9f6a05ebab7",
   "metadata": {},
   "outputs": [
    {
     "name": "stdout",
     "output_type": "stream",
     "text": [
      "Reject H0\n",
      "Coin is baised\n"
     ]
    }
   ],
   "source": [
    "alpha = 0.05\n",
    "\n",
    "if pvalue < alpha:\n",
    "    print(\"Reject H0\")\n",
    "    print(\"Coin is baised\")\n",
    "else:\n",
    "    print(\"Fail to reject H0\")\n",
    "    print(\"Coin is fair\")"
   ]
  },
  {
   "cell_type": "code",
   "execution_count": 13,
   "id": "2d211447-f62d-4a35-9949-fd4c2c67fa00",
   "metadata": {},
   "outputs": [],
   "source": [
    "from scipy.stats import chi2_contingency"
   ]
  },
  {
   "cell_type": "code",
   "execution_count": 14,
   "id": "9ba81646-04b8-44a0-9617-fefa4beaa582",
   "metadata": {},
   "outputs": [
    {
     "data": {
      "text/plain": [
       "Chi2ContingencyResult(statistic=57.04098674049609, pvalue=4.268230756875865e-14, dof=1, expected_freq=array([[484.08710033, 114.91289967],\n",
       "       [248.91289967,  59.08710033]]))"
      ]
     },
     "execution_count": 14,
     "metadata": {},
     "output_type": "execute_result"
    }
   ],
   "source": [
    "observed = [\n",
    "    [527, 72],\n",
    "    [206, 102],]\n",
    "\n",
    "chi2_contingency(observed) # chi_stat, p_value, df, expected values\n"
   ]
  },
  {
   "cell_type": "code",
   "execution_count": 15,
   "id": "99fef322-661f-4a57-b0e3-24b1d30cb195",
   "metadata": {},
   "outputs": [
    {
     "name": "stdout",
     "output_type": "stream",
     "text": [
      "chi_stat: 57.04098674049609\n",
      "p_value: 4.268230756875865e-14\n",
      "df: 1\n",
      "exp_freq: [[484.08710033 114.91289967]\n",
      " [248.91289967  59.08710033]]\n"
     ]
    }
   ],
   "source": [
    "chi_stat, p_value, df, exp_freq = chi2_contingency(observed) # chi_stat, p_value, df, expected values\n",
    "print(\"chi_stat:\",chi_stat)\n",
    "print(\"p_value:\",p_value)\n",
    "print(\"df:\",df)\n",
    "print(\"exp_freq:\",exp_freq)"
   ]
  },
  {
   "cell_type": "code",
   "execution_count": 16,
   "id": "eda9dc72-fab4-4d09-87db-88c4ddcc0902",
   "metadata": {},
   "outputs": [
    {
     "name": "stdout",
     "output_type": "stream",
     "text": [
      "Reject H0\n",
      "Gender and preference are not independent\n"
     ]
    }
   ],
   "source": [
    "alpha = 0.05\n",
    "\n",
    "if p_value < alpha:\n",
    "    print(\"Reject H0\")\n",
    "    print(\"Gender and preference are not independent\")\n",
    "else:\n",
    "    print(\"Fail to reject H0\")\n",
    "    print(\"Gender and preference are independent\")"
   ]
  },
  {
   "cell_type": "code",
   "execution_count": null,
   "id": "4985af16-e624-426e-8f06-cf1432f56a79",
   "metadata": {},
   "outputs": [],
   "source": []
  }
 ],
 "metadata": {
  "kernelspec": {
   "display_name": "Python 3 (ipykernel)",
   "language": "python",
   "name": "python3"
  },
  "language_info": {
   "codemirror_mode": {
    "name": "ipython",
    "version": 3
   },
   "file_extension": ".py",
   "mimetype": "text/x-python",
   "name": "python",
   "nbconvert_exporter": "python",
   "pygments_lexer": "ipython3",
   "version": "3.11.0rc1"
  }
 },
 "nbformat": 4,
 "nbformat_minor": 5
}
