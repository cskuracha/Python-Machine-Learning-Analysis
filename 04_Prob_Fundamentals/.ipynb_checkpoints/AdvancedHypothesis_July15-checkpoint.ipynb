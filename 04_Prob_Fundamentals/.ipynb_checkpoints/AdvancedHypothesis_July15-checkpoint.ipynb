{
 "cells": [
  {
   "cell_type": "code",
   "execution_count": 1,
   "id": "147e48dd-5654-4baf-a3bc-dc208a5d2aaa",
   "metadata": {},
   "outputs": [],
   "source": [
    "import pandas as pd\n",
    "import numpy as np\n",
    "import seaborn as sns\n",
    "import matplotlib.pyplot as plt"
   ]
  },
  {
   "cell_type": "code",
   "execution_count": 2,
   "id": "2e38ed58-9377-45b8-8b7c-8b949e79aedf",
   "metadata": {},
   "outputs": [
    {
     "name": "stdout",
     "output_type": "stream",
     "text": [
      "--2025-07-16 06:24:27--  https://drive.google.com/uc?id=1Vy0OPYInhYxuZzSn415DsguHWVH7ROe0\n",
      "Resolving drive.google.com (drive.google.com)... 142.251.221.206, 2404:6800:4007:831::200e\n",
      "Connecting to drive.google.com (drive.google.com)|142.251.221.206|:443... connected.\n",
      "HTTP request sent, awaiting response... 303 See Other\n",
      "Location: https://drive.usercontent.google.com/download?id=1Vy0OPYInhYxuZzSn415DsguHWVH7ROe0 [following]\n",
      "--2025-07-16 06:24:28--  https://drive.usercontent.google.com/download?id=1Vy0OPYInhYxuZzSn415DsguHWVH7ROe0\n",
      "Resolving drive.usercontent.google.com (drive.usercontent.google.com)... 142.250.192.129, 2404:6800:4007:835::2001\n",
      "Connecting to drive.usercontent.google.com (drive.usercontent.google.com)|142.250.192.129|:443... connected.\n",
      "HTTP request sent, awaiting response... 200 OK\n",
      "Length: 1541 (1.5K) [application/octet-stream]\n",
      "Saving to: ‘two_way_anova.csv’\n",
      "\n",
      "two_way_anova.csv   100%[===================>]   1.50K  --.-KB/s    in 0s      \n",
      "\n",
      "2025-07-16 06:24:29 (107 MB/s) - ‘two_way_anova.csv’ saved [1541/1541]\n",
      "\n"
     ]
    }
   ],
   "source": [
    "!wget --no-check-certificate https://drive.google.com/uc?id=1Vy0OPYInhYxuZzSn415DsguHWVH7ROe0 -O two_way_anova.csv\n"
   ]
  },
  {
   "cell_type": "code",
   "execution_count": 3,
   "id": "2eda8cd9-1b98-4d75-8eb7-cdfd4f842378",
   "metadata": {},
   "outputs": [
    {
     "data": {
      "text/html": [
       "<div>\n",
       "<style scoped>\n",
       "    .dataframe tbody tr th:only-of-type {\n",
       "        vertical-align: middle;\n",
       "    }\n",
       "\n",
       "    .dataframe tbody tr th {\n",
       "        vertical-align: top;\n",
       "    }\n",
       "\n",
       "    .dataframe thead th {\n",
       "        text-align: right;\n",
       "    }\n",
       "</style>\n",
       "<table border=\"1\" class=\"dataframe\">\n",
       "  <thead>\n",
       "    <tr style=\"text-align: right;\">\n",
       "      <th></th>\n",
       "      <th>Flavour</th>\n",
       "      <th>Location</th>\n",
       "      <th>Sales</th>\n",
       "    </tr>\n",
       "  </thead>\n",
       "  <tbody>\n",
       "    <tr>\n",
       "      <th>0</th>\n",
       "      <td>Orange</td>\n",
       "      <td>West</td>\n",
       "      <td>141</td>\n",
       "    </tr>\n",
       "    <tr>\n",
       "      <th>1</th>\n",
       "      <td>Lemon</td>\n",
       "      <td>West</td>\n",
       "      <td>178</td>\n",
       "    </tr>\n",
       "    <tr>\n",
       "      <th>2</th>\n",
       "      <td>Orange</td>\n",
       "      <td>West</td>\n",
       "      <td>170</td>\n",
       "    </tr>\n",
       "    <tr>\n",
       "      <th>3</th>\n",
       "      <td>Orange</td>\n",
       "      <td>East</td>\n",
       "      <td>76</td>\n",
       "    </tr>\n",
       "    <tr>\n",
       "      <th>4</th>\n",
       "      <td>Lemon</td>\n",
       "      <td>East</td>\n",
       "      <td>170</td>\n",
       "    </tr>\n",
       "  </tbody>\n",
       "</table>\n",
       "</div>"
      ],
      "text/plain": [
       "  Flavour Location  Sales\n",
       "0  Orange     West    141\n",
       "1   Lemon     West    178\n",
       "2  Orange     West    170\n",
       "3  Orange     East     76\n",
       "4   Lemon     East    170"
      ]
     },
     "execution_count": 3,
     "metadata": {},
     "output_type": "execute_result"
    }
   ],
   "source": [
    "df=pd.read_csv('two_way_anova.csv')\n",
    "df.head()"
   ]
  },
  {
   "cell_type": "code",
   "execution_count": 4,
   "id": "ba187b67-4b8d-4f06-9591-8a03d0d71871",
   "metadata": {},
   "outputs": [
    {
     "data": {
      "text/plain": [
       "array(['Orange', 'Lemon', 'Cola'], dtype=object)"
      ]
     },
     "execution_count": 4,
     "metadata": {},
     "output_type": "execute_result"
    }
   ],
   "source": [
    "df['Flavour'].unique()"
   ]
  },
  {
   "cell_type": "code",
   "execution_count": 5,
   "id": "1a0db33c-13f7-4855-9aa3-07cd6345b215",
   "metadata": {},
   "outputs": [
    {
     "data": {
      "text/plain": [
       "array(['West', 'East', 'North', 'South'], dtype=object)"
      ]
     },
     "execution_count": 5,
     "metadata": {},
     "output_type": "execute_result"
    }
   ],
   "source": [
    "df['Location'].unique()"
   ]
  },
  {
   "cell_type": "code",
   "execution_count": 6,
   "id": "1b244f5c-443e-487c-8b26-e95c2e67d40c",
   "metadata": {},
   "outputs": [
    {
     "name": "stdout",
     "output_type": "stream",
     "text": [
      "Requirement already satisfied: pingouin in /usr/local/lib/python3.11/dist-packages (0.5.5)\n",
      "Requirement already satisfied: matplotlib in /usr/local/lib/python3.11/dist-packages (from pingouin) (3.9.1)\n",
      "Requirement already satisfied: numpy in /usr/local/lib/python3.11/dist-packages (from pingouin) (1.26.4)\n",
      "Requirement already satisfied: pandas>=1.5 in /usr/local/lib/python3.11/dist-packages (from pingouin) (2.2.2)\n",
      "Requirement already satisfied: pandas-flavor in /usr/local/lib/python3.11/dist-packages (from pingouin) (0.7.0)\n",
      "Requirement already satisfied: scikit-learn>=1.2 in /usr/local/lib/python3.11/dist-packages (from pingouin) (1.5.2)\n",
      "Requirement already satisfied: scipy in /usr/local/lib/python3.11/dist-packages (from pingouin) (1.14.0)\n",
      "Requirement already satisfied: seaborn in /usr/local/lib/python3.11/dist-packages (from pingouin) (0.13.2)\n",
      "Requirement already satisfied: statsmodels in /usr/local/lib/python3.11/dist-packages (from pingouin) (0.14.2)\n",
      "Requirement already satisfied: tabulate in /usr/local/lib/python3.11/dist-packages (from pingouin) (0.9.0)\n",
      "Requirement already satisfied: python-dateutil>=2.8.2 in /usr/local/lib/python3.11/dist-packages (from pandas>=1.5->pingouin) (2.9.0.post0)\n",
      "Requirement already satisfied: pytz>=2020.1 in /usr/local/lib/python3.11/dist-packages (from pandas>=1.5->pingouin) (2024.1)\n",
      "Requirement already satisfied: tzdata>=2022.7 in /usr/local/lib/python3.11/dist-packages (from pandas>=1.5->pingouin) (2024.1)\n",
      "Requirement already satisfied: joblib>=1.2.0 in /usr/local/lib/python3.11/dist-packages (from scikit-learn>=1.2->pingouin) (1.4.2)\n",
      "Requirement already satisfied: threadpoolctl>=3.1.0 in /usr/local/lib/python3.11/dist-packages (from scikit-learn>=1.2->pingouin) (3.5.0)\n",
      "Requirement already satisfied: contourpy>=1.0.1 in /usr/local/lib/python3.11/dist-packages (from matplotlib->pingouin) (1.2.1)\n",
      "Requirement already satisfied: cycler>=0.10 in /usr/local/lib/python3.11/dist-packages (from matplotlib->pingouin) (0.12.1)\n",
      "Requirement already satisfied: fonttools>=4.22.0 in /usr/local/lib/python3.11/dist-packages (from matplotlib->pingouin) (4.53.1)\n",
      "Requirement already satisfied: kiwisolver>=1.3.1 in /usr/local/lib/python3.11/dist-packages (from matplotlib->pingouin) (1.4.5)\n",
      "Requirement already satisfied: packaging>=20.0 in /usr/local/lib/python3.11/dist-packages (from matplotlib->pingouin) (24.1)\n",
      "Requirement already satisfied: pillow>=8 in /usr/local/lib/python3.11/dist-packages (from matplotlib->pingouin) (10.4.0)\n",
      "Requirement already satisfied: pyparsing>=2.3.1 in /usr/lib/python3/dist-packages (from matplotlib->pingouin) (2.4.7)\n",
      "Requirement already satisfied: xarray in /usr/local/lib/python3.11/dist-packages (from pandas-flavor->pingouin) (2025.7.1)\n",
      "Requirement already satisfied: patsy>=0.5.6 in /usr/local/lib/python3.11/dist-packages (from statsmodels->pingouin) (0.5.6)\n",
      "Requirement already satisfied: six in /usr/lib/python3/dist-packages (from patsy>=0.5.6->statsmodels->pingouin) (1.16.0)\n",
      "\u001b[33mWARNING: Running pip as the 'root' user can result in broken permissions and conflicting behaviour with the system package manager, possibly rendering your system unusable.It is recommended to use a virtual environment instead: https://pip.pypa.io/warnings/venv. Use the --root-user-action option if you know what you are doing and want to suppress this warning.\u001b[0m\u001b[33m\n",
      "\u001b[0m\n",
      "\u001b[1m[\u001b[0m\u001b[34;49mnotice\u001b[0m\u001b[1;39;49m]\u001b[0m\u001b[39;49m A new release of pip is available: \u001b[0m\u001b[31;49m24.2\u001b[0m\u001b[39;49m -> \u001b[0m\u001b[32;49m25.1.1\u001b[0m\n",
      "\u001b[1m[\u001b[0m\u001b[34;49mnotice\u001b[0m\u001b[1;39;49m]\u001b[0m\u001b[39;49m To update, run: \u001b[0m\u001b[32;49mpython3 -m pip install --upgrade pip\u001b[0m\n"
     ]
    }
   ],
   "source": [
    "!pip install pingouin"
   ]
  },
  {
   "cell_type": "code",
   "execution_count": 7,
   "id": "1b5296ce-ab56-4437-a475-12dbec91fb50",
   "metadata": {},
   "outputs": [],
   "source": [
    "import pingouin as pg"
   ]
  },
  {
   "cell_type": "code",
   "execution_count": 8,
   "id": "151cada1-9e9a-4e4f-9c98-44d7b7c834ba",
   "metadata": {},
   "outputs": [
    {
     "name": "stdout",
     "output_type": "stream",
     "text": [
      "               Source           SS    DF         MS       F   p-unc     np2\n",
      "0            Location    2059.2739   3.0   686.4246  0.3905  0.7601  0.0131\n",
      "1             Flavour    6919.5590   2.0  3459.7795  1.9685  0.1458  0.0428\n",
      "2  Location * Flavour   11802.2578   6.0  1967.0430  1.1192  0.3578  0.0709\n",
      "3            Residual  154669.0163  88.0  1757.6025     NaN     NaN     NaN\n"
     ]
    }
   ],
   "source": [
    "dv = \"Sales\"\n",
    "ipdv = ['Location', 'Flavour']\n",
    "model = pg.anova(dv=dv,between=ipdv,data=df)\n",
    "\n",
    "print(round(model,4))"
   ]
  },
  {
   "cell_type": "markdown",
   "id": "e2dda68f-95f7-4e78-a896-2ce503551184",
   "metadata": {},
   "source": [
    "### **KS Test**"
   ]
  },
  {
   "cell_type": "code",
   "execution_count": 9,
   "id": "91277134-8e30-40da-b81f-5cb7ab0e051f",
   "metadata": {},
   "outputs": [],
   "source": [
    "from scipy import stats\n",
    "import numpy as np\n",
    "import matplotlib.pyplot as plt"
   ]
  },
  {
   "cell_type": "code",
   "execution_count": 10,
   "id": "ca09ef4b-6923-449d-b62d-5131bfb01d09",
   "metadata": {},
   "outputs": [],
   "source": [
    "# recovery times of patients who took medicine-1\n",
    "r1 = [8.82420842, 7.47774471, 7.55712098, 7.98131439, 6.82771606,\n",
    "       7.48566433, 9.15385732, 5.84040502, 8.26124313, 8.4728876 ,\n",
    "       6.82582186, 7.00490974, 8.43423058, 6.72099932, 6.97495982,\n",
    "       5.93748053, 5.40707847, 6.16385557, 6.71421056, 4.42396183,\n",
    "       6.87285228, 8.00313581, 6.69035041, 7.83622942, 8.70984957,\n",
    "       5.56284584, 9.08093437, 4.98165193, 7.67769408, 6.04738478,\n",
    "       7.64921582, 7.31051639, 6.74463303, 7.27356973, 8.16787232,\n",
    "       6.90990965, 7.06439167, 6.62921957, 6.08283539, 6.2458137 ,\n",
    "       8.65173634, 5.76080646, 6.20573219, 8.91561004, 6.22560201,\n",
    "       5.67542104, 6.97412435, 8.31354697, 8.14172701, 8.26099345,\n",
    "       7.87612791, 6.24835109, 9.95324783, 6.59504627, 6.17365145,\n",
    "       6.05676895, 7.23030223, 7.71311809, 7.37163804, 5.69798738,\n",
    "       5.71056902, 7.94556876, 7.47234105, 6.85346234, 4.77892053,\n",
    "       6.92631063, 6.10681151, 7.06277198, 7.18023164, 7.78285327,\n",
    "       7.85500885, 6.54349161, 8.25949958, 6.44289198, 7.16705977,\n",
    "       6.03517015, 7.61274786, 7.032845  , 6.78161745, 7.07917968,\n",
    "       6.21549342, 5.34267439, 6.73039933, 7.70562561, 8.15117049,\n",
    "       6.72564324, 6.68220904, 8.50359274, 7.52912703, 7.34572493,\n",
    "       5.95734283, 6.58259396, 6.49394335, 8.68069592, 8.60547125,\n",
    "       6.8905056 , 7.72575925, 6.84801609, 7.96999724, 7.10420915]"
   ]
  },
  {
   "cell_type": "code",
   "execution_count": 11,
   "id": "28b6ac4e-d120-4b07-b16e-33fcca48656c",
   "metadata": {},
   "outputs": [],
   "source": [
    "# recovery times of patietnts who took medicine-2\n",
    "r2 = [ 9.56597358,  7.49291458,  8.73841824,  7.63523452,  4.12559277,\n",
    "        7.3679259 ,  9.87873565,  6.14516559,  8.19923821,  7.30169992,\n",
    "       10.24606417,  6.83814477,  7.01611267,  6.15716049,  8.29590714,\n",
    "       12.3333305 ,  8.22144016,  6.06830071,  3.75820649,  6.69220157,\n",
    "       10.08721618,  9.70580422,  7.31050006, 11.40145721,  5.64818498,\n",
    "        7.38914449,  8.43740074,  6.3451435 ,  7.05694361,  8.1997151 ,\n",
    "        9.03059061,  7.76904679,  6.92375578,  5.78318543,  8.99027781,\n",
    "        7.56186529,  5.27095372,  8.32896688, 11.52935757,  7.08119961,\n",
    "        9.48825066,  9.14072759,  7.30357663,  8.62183754, 10.40999814,\n",
    "        8.70096763,  7.04645384,  6.378799  , 10.5098363 ,  7.36078888,\n",
    "        7.33403615,  8.07396248,  6.18309499,  7.24668404,  9.03430611,\n",
    "        8.99016584,  6.78606416,  8.436418  ,  6.85877947, 10.10405772,\n",
    "        6.74943076,  7.57812376,  7.12920671,  9.38065269,  9.57139966,\n",
    "        6.4484012 ,  6.93877043,  9.22141667,  8.34815638,  7.73980671,\n",
    "        7.17840767,  9.27913457,  6.49963224,  9.92287292,  7.63978639,\n",
    "        9.53931977,  9.02602273,  6.79374185,  8.59715131,  8.37747338,\n",
    "        8.78161815,  6.78716383,  8.28473394,  8.20283798, 12.50518811,\n",
    "       10.19772574,  8.93758457,  8.9540311 ,  8.28927558,  6.28935098,\n",
    "        7.69447559,  9.66777701, 10.33898342,  8.71199578,  5.12781581,\n",
    "        9.70954569,  9.13685031,  7.28989718,  8.0868909 ,  7.42937556,\n",
    "        7.31356749,  9.92345816,  8.60211814,  9.33228465,  8.14132658,\n",
    "        6.17871495, 10.28358242,  7.31898597,  7.95085527,  6.20331719,\n",
    "        9.19119762,  6.98600628,  7.05314883, 10.57921482,  6.83637574,\n",
    "        7.86199283,  8.23350975,  5.87625665,  7.78945364,  8.83612492]"
   ]
  },
  {
   "cell_type": "code",
   "execution_count": 12,
   "id": "b408d452-dc8d-4fd6-b9b1-e9a774197c48",
   "metadata": {},
   "outputs": [
    {
     "data": {
      "text/plain": [
       "(100, 120)"
      ]
     },
     "execution_count": 12,
     "metadata": {},
     "output_type": "execute_result"
    }
   ],
   "source": [
    "d1 = np.array(r1)\n",
    "d2 = np.array(r2)\n",
    "n1 = len(d1)\n",
    "n2 = len(d2)\n",
    "n1, n2"
   ]
  },
  {
   "cell_type": "code",
   "execution_count": 13,
   "id": "d2993a05-687e-46ee-aa3c-644fb1382c1a",
   "metadata": {},
   "outputs": [
    {
     "data": {
      "text/plain": [
       "KstestResult(statistic=0.3233333333333333, pvalue=1.516338798228849e-05, statistic_location=8.16787232, statistic_sign=1)"
      ]
     },
     "execution_count": 13,
     "metadata": {},
     "output_type": "execute_result"
    }
   ],
   "source": [
    "stats.kstest(d1, d2)"
   ]
  },
  {
   "cell_type": "code",
   "execution_count": 14,
   "id": "4a0c094e-4b5a-42ab-a513-b9b0cb9b0229",
   "metadata": {},
   "outputs": [
    {
     "data": {
      "image/png": "[encoded data removed]",
      "text/plain": [
       "<Figure size 640x480 with 1 Axes>"
      ]
     },
     "metadata": {},
     "output_type": "display_data"
    }
   ],
   "source": [
    "plt.hist(d1,bins=100)\n",
    "plt.hist(d2,bins=100)\n",
    "\n",
    "plt.show()"
   ]
  },
  {
   "cell_type": "code",
   "execution_count": 15,
   "id": "6c20dfa0-2c95-4622-af0c-d186137e69c8",
   "metadata": {},
   "outputs": [
    {
     "data": {
      "image/png": "[encoded data removed]",
      "text/plain": [
       "<Figure size 640x480 with 1 Axes>"
      ]
     },
     "metadata": {},
     "output_type": "display_data"
    }
   ],
   "source": [
    "plt.hist(d1,bins=100,cumulative=True,histtype='step')\n",
    "plt.hist(d2,bins=100,cumulative=True,histtype='step')\n",
    "\n",
    "plt.show()"
   ]
  },
  {
   "cell_type": "code",
   "execution_count": 16,
   "id": "41c8d3f2-6438-4f50-bae6-c37bb1331406",
   "metadata": {},
   "outputs": [],
   "source": [
    "data1 = [ 4.96714153,  1.38264301,  6.47688538, 15.23029856,  2.34153375,\n",
    "        2.34136957, 15.79212816,  7.67434729,  4.69474386,  5.42560044,\n",
    "        4.63417693,  4.65729754,  2.41962272, 19.13280245, 17.24917833,\n",
    "        5.62287529, 10.1283112 ,  3.14247333,  9.08024076, 14.12303701,\n",
    "       14.65648769,  2.257763  ,  0.67528205, 14.24748186,  5.44382725,\n",
    "        1.1092259 , 11.50993577,  3.75698018,  6.0063869 ,  2.9169375 ,\n",
    "        6.01706612, 18.52278185,  0.13497225, 10.57710929,  8.22544912,\n",
    "       12.2084365 ,  2.08863595, 19.59670124, 13.28186049,  1.96861236,\n",
    "        7.3846658 ,  1.71368281,  1.15648282,  3.01103696, 14.7852199 ,\n",
    "        7.19844208,  4.60638771, 10.57122226,  3.4361829 , 17.63040155,\n",
    "        3.24083969,  3.8508228 ,  6.76922   ,  6.11676289, 10.30999522,\n",
    "        9.31280119,  8.39217523,  3.09212376,  3.31263431,  9.75545127,\n",
    "        4.79174238,  1.85658977, 11.06334974, 11.96206624,  8.12525822,\n",
    "       13.56240029,  0.72010122, 10.03532898,  3.61636025,  6.45119755,\n",
    "        3.61395606, 15.38036566,  0.35826039, 15.64643656, 26.19745104,\n",
    "        8.21902504,  0.87047068,  2.9900735 ,  0.91760777, 19.87568915,\n",
    "        2.19671888,  3.57112572, 14.77894045,  5.18270218,  8.08493603,\n",
    "        5.01757044,  9.15402118,  3.2875111 ,  5.29760204,  5.13267433,\n",
    "        0.97077549,  9.68644991,  7.02053094,  3.27662147,  3.92108153,\n",
    "       14.63514948,  2.96120277,  2.61055272,  0.05113457,  2.34587133]"
   ]
  },
  {
   "cell_type": "code",
   "execution_count": 17,
   "id": "bd5ada48-962d-4e87-8624-296d76b266c9",
   "metadata": {},
   "outputs": [],
   "source": [
    "data2 = [14.15370742,  4.20645323,  3.42714517,  8.02277269,  1.61285712,\n",
    "        4.04050857, 18.86185901,  1.74577813,  2.57550391,  0.74445916,\n",
    "       19.18771215,  0.26513875,  0.6023021 , 24.63242112,  1.92360965,\n",
    "        3.01547342,  0.3471177 , 11.68678038, 11.42822815,  7.51933033,\n",
    "        7.91031947,  9.09387455, 14.02794311, 14.01851063,  5.86857094,\n",
    "       21.90455626,  9.90536325,  5.6629773 ,  0.99651365,  5.03475654,\n",
    "       15.50663431,  0.68562975, 10.62303714,  4.73592431,  9.19424234,\n",
    "       15.49934405,  7.83253292,  3.22061516,  8.13517217, 12.30864316,\n",
    "        2.27459935, 13.07142754, 16.07483235,  1.84633859,  2.59882794,\n",
    "        7.81822872, 12.36950711, 13.20456613,  5.21941566,  2.96984673,\n",
    "        2.5049285 ,  3.46448209,  6.80024722,  2.32253697,  2.93072473,\n",
    "        7.14351418, 18.65774511,  4.73832921, 11.91303497,  6.56553609,\n",
    "        9.7468167 ,  7.87084604, 11.58595579,  8.20682318,  9.63376129,\n",
    "        4.12780927,  8.2206016 , 18.96792983,  2.45388116,  7.53736164,\n",
    "        8.8951443 ,  8.15810285,  0.77101709,  3.41151975,  2.76690799,\n",
    "        8.27183249,  0.13001892, 14.53534077,  2.64656833, 27.20169167,\n",
    "        6.25667348,  8.57157556, 10.70892498,  4.82472415,  2.23462785,\n",
    "        7.14000494,  4.73237625,  0.72828913,  8.46793718, 15.14847225,\n",
    "        4.46514952,  8.56398794,  2.14093744, 12.45738779,  1.73180926,\n",
    "        3.8531738 ,  8.83857436,  1.53725106,  0.58208718, 11.42970298,\n",
    "        3.5778736 ,  5.60784526, 10.83051243, 10.53802052, 13.77669368,\n",
    "        9.3782504 ,  5.15035267,  5.13785951,  5.15047686, 38.52731491,\n",
    "        5.70890511, 11.3556564 ,  9.54001763,  6.51391251,  3.15269245,\n",
    "        7.5896922 ,  7.72825215,  2.36818607,  4.85363548,  0.81874139]"
   ]
  },
  {
   "cell_type": "code",
   "execution_count": 18,
   "id": "adee37d9-6883-45e6-8eb0-188fd0b55655",
   "metadata": {},
   "outputs": [
    {
     "data": {
      "text/plain": [
       "(100, 120)"
      ]
     },
     "execution_count": 18,
     "metadata": {},
     "output_type": "execute_result"
    }
   ],
   "source": [
    "data1 = np.array(data1)\n",
    "data2 = np.array(data2)\n",
    "n1 = len(data1)\n",
    "n2 = len(data2)\n",
    "n1, n2"
   ]
  },
  {
   "cell_type": "code",
   "execution_count": 19,
   "id": "944ac99d-c2ff-4f6d-81cd-1fc71a6c6bbc",
   "metadata": {},
   "outputs": [
    {
     "name": "stdout",
     "output_type": "stream",
     "text": [
      "KS Statistic: 0.095\n",
      "P-value: 0.671374753605883\n"
     ]
    }
   ],
   "source": [
    "statistic, p_value =  stats.kstest(data1, data2)\n",
    "print(\"KS Statistic:\", statistic)\n",
    "print(\"P-value:\", p_value)"
   ]
  },
  {
   "cell_type": "code",
   "execution_count": 20,
   "id": "0a5dab1d-b12b-4b3e-9359-1b20f44e211f",
   "metadata": {},
   "outputs": [
    {
     "name": "stdout",
     "output_type": "stream",
     "text": [
      "The p-value is greater than 0.01,two samples have the same distribution.\n"
     ]
    }
   ],
   "source": [
    "# Check if the p-value is greater than 0.01\n",
    "if p_value > 0.01:\n",
    "    print(\"The p-value is greater than 0.01,two samples have the same distribution.\")\n",
    "else:\n",
    "    print(\"The p-value is less than or equal to 0.01, two samples have different distributions.\")"
   ]
  },
  {
   "cell_type": "code",
   "execution_count": 21,
   "id": "0f26e817-0b29-46df-81d8-ce3a63b6bad5",
   "metadata": {},
   "outputs": [
    {
     "data": {
      "image/png": "[encoded data removed]",
      "text/plain": [
       "<Figure size 640x480 with 1 Axes>"
      ]
     },
     "metadata": {},
     "output_type": "display_data"
    }
   ],
   "source": [
    "plt.hist(data1,bins=100,cumulative=True,histtype='step')\n",
    "plt.hist(data2,bins=100,cumulative=True,histtype='step')\n",
    "\n",
    "plt.show()"
   ]
  },
  {
   "cell_type": "code",
   "execution_count": 22,
   "id": "f23c65ef-4011-4dee-8d6f-090f998ec83f",
   "metadata": {},
   "outputs": [
    {
     "data": {
      "image/png": "[encoded data removed]",
      "text/plain": [
       "<Figure size 640x480 with 1 Axes>"
      ]
     },
     "metadata": {},
     "output_type": "display_data"
    }
   ],
   "source": [
    "plt.hist(data1,bins=100,cumulative=True,histtype='step',density=True)\n",
    "plt.hist(data2,bins=100,cumulative=True,histtype='step',density=True)\n",
    "\n",
    "plt.show()"
   ]
  },
  {
   "cell_type": "markdown",
   "id": "534384d5-8cb4-4cbf-8b6d-bcfcab2187d0",
   "metadata": {},
   "source": [
    "### **Correlation**"
   ]
  },
  {
   "cell_type": "code",
   "execution_count": 23,
   "id": "81f79702-d954-48eb-bf1a-96f1aef72213",
   "metadata": {},
   "outputs": [
    {
     "data": {
      "text/html": [
       "<div>\n",
       "<style scoped>\n",
       "    .dataframe tbody tr th:only-of-type {\n",
       "        vertical-align: middle;\n",
       "    }\n",
       "\n",
       "    .dataframe tbody tr th {\n",
       "        vertical-align: top;\n",
       "    }\n",
       "\n",
       "    .dataframe thead th {\n",
       "        text-align: right;\n",
       "    }\n",
       "</style>\n",
       "<table border=\"1\" class=\"dataframe\">\n",
       "  <thead>\n",
       "    <tr style=\"text-align: right;\">\n",
       "      <th></th>\n",
       "      <th>Gender</th>\n",
       "      <th>Height</th>\n",
       "      <th>Weight</th>\n",
       "    </tr>\n",
       "  </thead>\n",
       "  <tbody>\n",
       "    <tr>\n",
       "      <th>0</th>\n",
       "      <td>Male</td>\n",
       "      <td>73.847017</td>\n",
       "      <td>241.893563</td>\n",
       "    </tr>\n",
       "    <tr>\n",
       "      <th>1</th>\n",
       "      <td>Male</td>\n",
       "      <td>68.781904</td>\n",
       "      <td>162.310473</td>\n",
       "    </tr>\n",
       "    <tr>\n",
       "      <th>2</th>\n",
       "      <td>Male</td>\n",
       "      <td>74.110105</td>\n",
       "      <td>212.740856</td>\n",
       "    </tr>\n",
       "    <tr>\n",
       "      <th>3</th>\n",
       "      <td>Male</td>\n",
       "      <td>71.730978</td>\n",
       "      <td>220.042470</td>\n",
       "    </tr>\n",
       "    <tr>\n",
       "      <th>4</th>\n",
       "      <td>Male</td>\n",
       "      <td>69.881796</td>\n",
       "      <td>206.349801</td>\n",
       "    </tr>\n",
       "    <tr>\n",
       "      <th>...</th>\n",
       "      <td>...</td>\n",
       "      <td>...</td>\n",
       "      <td>...</td>\n",
       "    </tr>\n",
       "    <tr>\n",
       "      <th>9995</th>\n",
       "      <td>Female</td>\n",
       "      <td>66.172652</td>\n",
       "      <td>136.777454</td>\n",
       "    </tr>\n",
       "    <tr>\n",
       "      <th>9996</th>\n",
       "      <td>Female</td>\n",
       "      <td>67.067155</td>\n",
       "      <td>170.867906</td>\n",
       "    </tr>\n",
       "    <tr>\n",
       "      <th>9997</th>\n",
       "      <td>Female</td>\n",
       "      <td>63.867992</td>\n",
       "      <td>128.475319</td>\n",
       "    </tr>\n",
       "    <tr>\n",
       "      <th>9998</th>\n",
       "      <td>Female</td>\n",
       "      <td>69.034243</td>\n",
       "      <td>163.852461</td>\n",
       "    </tr>\n",
       "    <tr>\n",
       "      <th>9999</th>\n",
       "      <td>Female</td>\n",
       "      <td>61.944246</td>\n",
       "      <td>113.649103</td>\n",
       "    </tr>\n",
       "  </tbody>\n",
       "</table>\n",
       "<p>10000 rows × 3 columns</p>\n",
       "</div>"
      ],
      "text/plain": [
       "      Gender     Height      Weight\n",
       "0       Male  73.847017  241.893563\n",
       "1       Male  68.781904  162.310473\n",
       "2       Male  74.110105  212.740856\n",
       "3       Male  71.730978  220.042470\n",
       "4       Male  69.881796  206.349801\n",
       "...      ...        ...         ...\n",
       "9995  Female  66.172652  136.777454\n",
       "9996  Female  67.067155  170.867906\n",
       "9997  Female  63.867992  128.475319\n",
       "9998  Female  69.034243  163.852461\n",
       "9999  Female  61.944246  113.649103\n",
       "\n",
       "[10000 rows x 3 columns]"
      ]
     },
     "execution_count": 23,
     "metadata": {},
     "output_type": "execute_result"
    }
   ],
   "source": [
    "df_hw =pd.read_csv(\"weight-height.csv\")\n",
    "df_hw"
   ]
  },
  {
   "cell_type": "code",
   "execution_count": 24,
   "id": "0f6e855e-ff21-40bb-a5b1-2255d066604c",
   "metadata": {},
   "outputs": [
    {
     "data": {
      "text/plain": [
       "<Axes: xlabel='Height', ylabel='Weight'>"
      ]
     },
     "execution_count": 24,
     "metadata": {},
     "output_type": "execute_result"
    },
    {
     "data": {
      "image/png": "[encoded data removed]",
      "text/plain": [
       "<Figure size 640x480 with 1 Axes>"
      ]
     },
     "metadata": {},
     "output_type": "display_data"
    }
   ],
   "source": [
    "sns.scatterplot(x=df_hw['Height'],y=df_hw['Weight'])"
   ]
  },
  {
   "cell_type": "code",
   "execution_count": 25,
   "id": "0b8a0a55-90d0-4323-aa6d-09d50b7f7c73",
   "metadata": {},
   "outputs": [
    {
     "data": {
      "text/html": [
       "<div>\n",
       "<style scoped>\n",
       "    .dataframe tbody tr th:only-of-type {\n",
       "        vertical-align: middle;\n",
       "    }\n",
       "\n",
       "    .dataframe tbody tr th {\n",
       "        vertical-align: top;\n",
       "    }\n",
       "\n",
       "    .dataframe thead th {\n",
       "        text-align: right;\n",
       "    }\n",
       "</style>\n",
       "<table border=\"1\" class=\"dataframe\">\n",
       "  <thead>\n",
       "    <tr style=\"text-align: right;\">\n",
       "      <th></th>\n",
       "      <th>Height</th>\n",
       "      <th>Weight</th>\n",
       "    </tr>\n",
       "  </thead>\n",
       "  <tbody>\n",
       "    <tr>\n",
       "      <th>Height</th>\n",
       "      <td>1.000000</td>\n",
       "      <td>0.924756</td>\n",
       "    </tr>\n",
       "    <tr>\n",
       "      <th>Weight</th>\n",
       "      <td>0.924756</td>\n",
       "      <td>1.000000</td>\n",
       "    </tr>\n",
       "  </tbody>\n",
       "</table>\n",
       "</div>"
      ],
      "text/plain": [
       "          Height    Weight\n",
       "Height  1.000000  0.924756\n",
       "Weight  0.924756  1.000000"
      ]
     },
     "execution_count": 25,
     "metadata": {},
     "output_type": "execute_result"
    }
   ],
   "source": [
    "df_hw[[\"Height\",\"Weight\"]].corr()"
   ]
  },
  {
   "cell_type": "code",
   "execution_count": null,
   "id": "4a89303e-cbd0-4398-9d6b-78fe525e1339",
   "metadata": {},
   "outputs": [],
   "source": [
    "x = [1, 2, 3, 4, 5]\n",
    "y = [5, 4, 3, 2, 1]\n"
   ]
  },
  {
   "cell_type": "code",
   "execution_count": 26,
   "id": "285591c4-866e-41b2-bbf3-19c0470c5ed2",
   "metadata": {},
   "outputs": [
    {
     "data": {
      "text/plain": [
       "<Axes: >"
      ]
     },
     "execution_count": 26,
     "metadata": {},
     "output_type": "execute_result"
    },
    {
     "data": {
      "image/png": "[encoded data removed]",
      "text/plain": [
       "<Figure size 640x480 with 2 Axes>"
      ]
     },
     "metadata": {},
     "output_type": "display_data"
    }
   ],
   "source": [
    "sns.heatmap(df_hw[[\"Height\", \"Weight\"]].corr())"
   ]
  },
  {
   "cell_type": "code",
   "execution_count": 28,
   "id": "628cc9f3-570f-4e37-9d26-30259b7af55b",
   "metadata": {},
   "outputs": [],
   "source": [
    "from scipy.stats import pearsonr, spearmanr"
   ]
  },
  {
   "cell_type": "code",
   "execution_count": 29,
   "id": "2112b455-9a94-4d2f-827f-f9176c38bbae",
   "metadata": {},
   "outputs": [
    {
     "data": {
      "text/plain": [
       "SignificanceResult(statistic=0.9257076644210767, pvalue=0.0)"
      ]
     },
     "execution_count": 29,
     "metadata": {},
     "output_type": "execute_result"
    }
   ],
   "source": [
    "spearmanr(df_hw[\"Height\"], df_hw[\"Weight\"])"
   ]
  },
  {
   "cell_type": "code",
   "execution_count": 30,
   "id": "55ba3f08-0dc3-48d9-88b6-026d61db2660",
   "metadata": {},
   "outputs": [
    {
     "data": {
      "text/plain": [
       "PearsonRResult(statistic=-0.8285038835884277, pvalue=0.021280260007523342)"
      ]
     },
     "execution_count": 30,
     "metadata": {},
     "output_type": "execute_result"
    }
   ],
   "source": [
    "x = [1, 2, 3, 4, 5, 6, 7]\n",
    "y = [10, 9, 2.5, 6, 4, 3, 2]\n",
    "pearsonr(x,y)"
   ]
  },
  {
   "cell_type": "code",
   "execution_count": 31,
   "id": "4f058d11-2174-49c1-a98a-ea2cdcd1318e",
   "metadata": {},
   "outputs": [],
   "source": [
    "data = [(1.0, 4), (4.0, 5), (6.0, 7), (9.0, 9), (11.0, 12), (12.0, 15),\n",
    "        (13.0, 17), (14.0, 18), (15.0, 28), (15.5, 32)]"
   ]
  },
  {
   "cell_type": "code",
   "execution_count": null,
   "id": "6f80c64c-07d0-4d23-9e75-dd92a51232bc",
   "metadata": {},
   "outputs": [],
   "source": []
  }
 ],
 "metadata": {
  "kernelspec": {
   "display_name": "Python 3 (ipykernel)",
   "language": "python",
   "name": "python3"
  },
  "language_info": {
   "codemirror_mode": {
    "name": "ipython",
    "version": 3
   },
   "file_extension": ".py",
   "mimetype": "text/x-python",
   "name": "python",
   "nbconvert_exporter": "python",
   "pygments_lexer": "ipython3",
   "version": "3.11.0rc1"
  }
 },
 "nbformat": 4,
 "nbformat_minor": 5
}
