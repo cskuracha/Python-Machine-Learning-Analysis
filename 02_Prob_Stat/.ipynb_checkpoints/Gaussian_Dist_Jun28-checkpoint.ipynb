{
 "cells": [
  {
   "cell_type": "markdown",
   "id": "d281492e-d582-475c-809c-223fa1dbb512",
   "metadata": {},
   "source": [
    "## **Gaussian Distribution**"
   ]
  },
  {
   "cell_type": "code",
   "execution_count": 1,
   "id": "d444a7b2-8d54-487b-87aa-0a83cb0c975c",
   "metadata": {},
   "outputs": [],
   "source": [
    "import numpy as np\n",
    "import pandas as pd\n",
    "import matplotlib.pyplot as plt\n",
    "import seaborn as sns\n",
    "import math as m"
   ]
  },
  {
   "cell_type": "code",
   "execution_count": 2,
   "id": "924ee332-942b-4955-a389-2d212dde79bb",
   "metadata": {},
   "outputs": [
    {
     "data": {
      "text/plain": [
       "0"
      ]
     },
     "execution_count": 2,
     "metadata": {},
     "output_type": "execute_result"
    }
   ],
   "source": [
    "np.random.randint(0,2)"
   ]
  },
  {
   "cell_type": "code",
   "execution_count": 3,
   "id": "f8c42107-a749-4895-8623-cd64174e964e",
   "metadata": {},
   "outputs": [
    {
     "data": {
      "text/plain": [
       "array([[0, 1, 0, 0, 0, 0, 0, 1, 0, 0],\n",
       "       [0, 1, 0, 1, 0, 1, 1, 1, 1, 0]])"
      ]
     },
     "execution_count": 3,
     "metadata": {},
     "output_type": "execute_result"
    }
   ],
   "source": [
    "coin_toss = np.random.randint(0,2,size = (2, 10))\n",
    "coin_toss"
   ]
  },
  {
   "cell_type": "code",
   "execution_count": 4,
   "id": "d900cb0e-1e24-4742-b42c-06f9d0e63348",
   "metadata": {},
   "outputs": [
    {
     "data": {
      "text/plain": [
       "array([2, 6])"
      ]
     },
     "execution_count": 4,
     "metadata": {},
     "output_type": "execute_result"
    }
   ],
   "source": [
    "head_count = coin_toss.sum(axis = 1)\n",
    "head_count"
   ]
  },
  {
   "cell_type": "code",
   "execution_count": 5,
   "id": "be5933a5-bf13-46e5-9b73-92dc8cbb63fc",
   "metadata": {},
   "outputs": [
    {
     "data": {
      "text/plain": [
       "<Axes: ylabel='count'>"
      ]
     },
     "execution_count": 5,
     "metadata": {},
     "output_type": "execute_result"
    },
    {
     "data": {
      "image/png": "[encoded data removed]",
      "text/plain": [
       "<Figure size 640x480 with 1 Axes>"
      ]
     },
     "metadata": {},
     "output_type": "display_data"
    }
   ],
   "source": [
    "sns.countplot(head_count)"
   ]
  },
  {
   "cell_type": "code",
   "execution_count": 6,
   "id": "c692b076-db85-4017-bd64-2c2c3e1aa52f",
   "metadata": {},
   "outputs": [
    {
     "data": {
      "text/plain": [
       "array([[1, 0, 1, ..., 0, 1, 0],\n",
       "       [0, 1, 0, ..., 0, 0, 0],\n",
       "       [1, 0, 0, ..., 0, 0, 1],\n",
       "       ...,\n",
       "       [0, 0, 0, ..., 1, 1, 0],\n",
       "       [1, 1, 1, ..., 1, 1, 1],\n",
       "       [1, 1, 1, ..., 0, 1, 0]])"
      ]
     },
     "execution_count": 6,
     "metadata": {},
     "output_type": "execute_result"
    }
   ],
   "source": [
    "coin_toss = np.random.randint(0,2,size = (30000,10))\n",
    "coin_toss"
   ]
  },
  {
   "cell_type": "code",
   "execution_count": 7,
   "id": "59e3c97b-5452-4908-be46-711fc9696d1d",
   "metadata": {},
   "outputs": [
    {
     "data": {
      "text/plain": [
       "array([5, 4, 2, ..., 5, 7, 6])"
      ]
     },
     "execution_count": 7,
     "metadata": {},
     "output_type": "execute_result"
    }
   ],
   "source": [
    "head_count = coin_toss.sum(axis = 1)\n",
    "head_count"
   ]
  },
  {
   "cell_type": "code",
   "execution_count": 8,
   "id": "bc97e6f0-59cc-4bf4-9479-b0967ebc201b",
   "metadata": {},
   "outputs": [
    {
     "data": {
      "text/plain": [
       "(30000,)"
      ]
     },
     "execution_count": 8,
     "metadata": {},
     "output_type": "execute_result"
    }
   ],
   "source": [
    "head_count.shape"
   ]
  },
  {
   "cell_type": "code",
   "execution_count": 10,
   "id": "094e716b-a277-498a-8d23-a1286dcef396",
   "metadata": {},
   "outputs": [
    {
     "data": {
      "text/plain": [
       "<Axes: ylabel='count'>"
      ]
     },
     "execution_count": 10,
     "metadata": {},
     "output_type": "execute_result"
    },
    {
     "data": {
      "image/png": "[encoded data removed]",
      "text/plain": [
       "<Figure size 640x480 with 1 Axes>"
      ]
     },
     "metadata": {},
     "output_type": "display_data"
    }
   ],
   "source": [
    "sns.countplot(x=head_count)"
   ]
  },
  {
   "cell_type": "code",
   "execution_count": null,
   "id": "8d7658a2-3469-49fe-b129-ea043acf25a7",
   "metadata": {},
   "outputs": [],
   "source": []
  }
 ],
 "metadata": {
  "kernelspec": {
   "display_name": "Python 3 (ipykernel)",
   "language": "python",
   "name": "python3"
  },
  "language_info": {
   "codemirror_mode": {
    "name": "ipython",
    "version": 3
   },
   "file_extension": ".py",
   "mimetype": "text/x-python",
   "name": "python",
   "nbconvert_exporter": "python",
   "pygments_lexer": "ipython3",
   "version": "3.11.0rc1"
  }
 },
 "nbformat": 4,
 "nbformat_minor": 5
}
