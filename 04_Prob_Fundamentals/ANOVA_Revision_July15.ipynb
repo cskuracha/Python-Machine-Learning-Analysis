{
 "cells": [
  {
   "cell_type": "code",
   "execution_count": 1,
   "id": "5aa3a509-4ff1-47e3-a5ff-9e37ce8b5663",
   "metadata": {},
   "outputs": [],
   "source": [
    "import numpy as np\n",
    "import pandas as pd\n",
    "import seaborn as sns\n",
    "import matplotlib.pyplot as plt"
   ]
  },
  {
   "cell_type": "code",
   "execution_count": 2,
   "id": "83c56dec-b432-4f3e-b2b3-4657b1d53e2f",
   "metadata": {},
   "outputs": [
    {
     "name": "stdout",
     "output_type": "stream",
     "text": [
      "--2025-07-15 03:51:22--  https://drive.google.com/uc?id=1n9268qSj_5Q7KS_ntpv-wFPQC1UyJh6f\n",
      "Resolving drive.google.com (drive.google.com)... 142.251.43.46, 2404:6800:4009:805::200e\n",
      "Connecting to drive.google.com (drive.google.com)|142.251.43.46|:443... connected.\n",
      "HTTP request sent, awaiting response... 303 See Other\n",
      "Location: https://drive.usercontent.google.com/download?id=1n9268qSj_5Q7KS_ntpv-wFPQC1UyJh6f [following]\n",
      "--2025-07-15 03:51:22--  https://drive.usercontent.google.com/download?id=1n9268qSj_5Q7KS_ntpv-wFPQC1UyJh6f\n",
      "Resolving drive.usercontent.google.com (drive.usercontent.google.com)... 142.250.192.97, 2404:6800:4009:82a::2001\n",
      "Connecting to drive.usercontent.google.com (drive.usercontent.google.com)|142.250.192.97|:443... connected.\n",
      "HTTP request sent, awaiting response... 200 OK\n",
      "Length: 7461 (7.3K) [application/octet-stream]\n",
      "Saving to: ‘aerofit.csv’\n",
      "\n",
      "aerofit.csv         100%[===================>]   7.29K  --.-KB/s    in 0.001s  \n",
      "\n",
      "2025-07-15 03:51:24 (4.96 MB/s) - ‘aerofit.csv’ saved [7461/7461]\n",
      "\n"
     ]
    }
   ],
   "source": [
    "!wget --no-check-certificate https://drive.google.com/uc?id=1n9268qSj_5Q7KS_ntpv-wFPQC1UyJh6f -O aerofit.csv"
   ]
  },
  {
   "cell_type": "code",
   "execution_count": 4,
   "id": "c95aa76b-8312-41d1-bdb3-5ba8492c28ec",
   "metadata": {},
   "outputs": [
    {
     "data": {
      "text/html": [
       "<div>\n",
       "<style scoped>\n",
       "    .dataframe tbody tr th:only-of-type {\n",
       "        vertical-align: middle;\n",
       "    }\n",
       "\n",
       "    .dataframe tbody tr th {\n",
       "        vertical-align: top;\n",
       "    }\n",
       "\n",
       "    .dataframe thead th {\n",
       "        text-align: right;\n",
       "    }\n",
       "</style>\n",
       "<table border=\"1\" class=\"dataframe\">\n",
       "  <thead>\n",
       "    <tr style=\"text-align: right;\">\n",
       "      <th></th>\n",
       "      <th>Product</th>\n",
       "      <th>Age</th>\n",
       "      <th>Gender</th>\n",
       "      <th>Education</th>\n",
       "      <th>MaritalStatus</th>\n",
       "      <th>Usage</th>\n",
       "      <th>Fitness</th>\n",
       "      <th>Income</th>\n",
       "      <th>Miles</th>\n",
       "    </tr>\n",
       "  </thead>\n",
       "  <tbody>\n",
       "    <tr>\n",
       "      <th>0</th>\n",
       "      <td>KP281</td>\n",
       "      <td>18</td>\n",
       "      <td>Male</td>\n",
       "      <td>14</td>\n",
       "      <td>Single</td>\n",
       "      <td>3</td>\n",
       "      <td>4</td>\n",
       "      <td>29562</td>\n",
       "      <td>112</td>\n",
       "    </tr>\n",
       "    <tr>\n",
       "      <th>1</th>\n",
       "      <td>KP281</td>\n",
       "      <td>19</td>\n",
       "      <td>Male</td>\n",
       "      <td>15</td>\n",
       "      <td>Single</td>\n",
       "      <td>2</td>\n",
       "      <td>3</td>\n",
       "      <td>31836</td>\n",
       "      <td>75</td>\n",
       "    </tr>\n",
       "    <tr>\n",
       "      <th>2</th>\n",
       "      <td>KP281</td>\n",
       "      <td>19</td>\n",
       "      <td>Female</td>\n",
       "      <td>14</td>\n",
       "      <td>Partnered</td>\n",
       "      <td>4</td>\n",
       "      <td>3</td>\n",
       "      <td>30699</td>\n",
       "      <td>66</td>\n",
       "    </tr>\n",
       "    <tr>\n",
       "      <th>3</th>\n",
       "      <td>KP281</td>\n",
       "      <td>19</td>\n",
       "      <td>Male</td>\n",
       "      <td>12</td>\n",
       "      <td>Single</td>\n",
       "      <td>3</td>\n",
       "      <td>3</td>\n",
       "      <td>32973</td>\n",
       "      <td>85</td>\n",
       "    </tr>\n",
       "    <tr>\n",
       "      <th>4</th>\n",
       "      <td>KP281</td>\n",
       "      <td>20</td>\n",
       "      <td>Male</td>\n",
       "      <td>13</td>\n",
       "      <td>Partnered</td>\n",
       "      <td>4</td>\n",
       "      <td>2</td>\n",
       "      <td>35247</td>\n",
       "      <td>47</td>\n",
       "    </tr>\n",
       "  </tbody>\n",
       "</table>\n",
       "</div>"
      ],
      "text/plain": [
       "  Product  Age  Gender  Education MaritalStatus  Usage  Fitness  Income  Miles\n",
       "0   KP281   18    Male         14        Single      3        4   29562    112\n",
       "1   KP281   19    Male         15        Single      2        3   31836     75\n",
       "2   KP281   19  Female         14     Partnered      4        3   30699     66\n",
       "3   KP281   19    Male         12        Single      3        3   32973     85\n",
       "4   KP281   20    Male         13     Partnered      4        2   35247     47"
      ]
     },
     "execution_count": 4,
     "metadata": {},
     "output_type": "execute_result"
    }
   ],
   "source": [
    "df_aerofit = pd.read_csv('aerofit.csv')\n",
    "\n",
    "df_aerofit.head()"
   ]
  },
  {
   "cell_type": "code",
   "execution_count": 5,
   "id": "98658963-2a45-44c0-b7bd-ace2189cc299",
   "metadata": {},
   "outputs": [
    {
     "data": {
      "text/plain": [
       "array(['KP281', 'KP481', 'KP781'], dtype=object)"
      ]
     },
     "execution_count": 5,
     "metadata": {},
     "output_type": "execute_result"
    }
   ],
   "source": [
    "df_aerofit[\"Product\"].unique()"
   ]
  },
  {
   "cell_type": "code",
   "execution_count": 6,
   "id": "efa1e9ba-94b3-4418-a359-fdecc9c5b93f",
   "metadata": {},
   "outputs": [
    {
     "data": {
      "text/plain": [
       "<Axes: xlabel='Product', ylabel='Income'>"
      ]
     },
     "execution_count": 6,
     "metadata": {},
     "output_type": "execute_result"
    },
    {
     "data": {
      "image/png": "[encoded data removed]",
      "text/plain": [
       "<Figure size 640x480 with 1 Axes>"
      ]
     },
     "metadata": {},
     "output_type": "display_data"
    }
   ],
   "source": [
    "sns.boxplot(x='Product', y='Income', data=df_aerofit)#setup 1  this is huge difference"
   ]
  },
  {
   "cell_type": "code",
   "execution_count": 7,
   "id": "774a15ef-5595-4dbc-8a5b-137a6aef4a7e",
   "metadata": {},
   "outputs": [
    {
     "data": {
      "text/html": [
       "<div>\n",
       "<style scoped>\n",
       "    .dataframe tbody tr th:only-of-type {\n",
       "        vertical-align: middle;\n",
       "    }\n",
       "\n",
       "    .dataframe tbody tr th {\n",
       "        vertical-align: top;\n",
       "    }\n",
       "\n",
       "    .dataframe thead th {\n",
       "        text-align: right;\n",
       "    }\n",
       "</style>\n",
       "<table border=\"1\" class=\"dataframe\">\n",
       "  <thead>\n",
       "    <tr style=\"text-align: right;\">\n",
       "      <th></th>\n",
       "      <th>Product</th>\n",
       "      <th>Age</th>\n",
       "      <th>Gender</th>\n",
       "      <th>Education</th>\n",
       "      <th>MaritalStatus</th>\n",
       "      <th>Usage</th>\n",
       "      <th>Fitness</th>\n",
       "      <th>Income</th>\n",
       "      <th>Miles</th>\n",
       "    </tr>\n",
       "  </thead>\n",
       "  <tbody>\n",
       "    <tr>\n",
       "      <th>0</th>\n",
       "      <td>KP281</td>\n",
       "      <td>18</td>\n",
       "      <td>Male</td>\n",
       "      <td>14</td>\n",
       "      <td>Single</td>\n",
       "      <td>3</td>\n",
       "      <td>4</td>\n",
       "      <td>29562</td>\n",
       "      <td>112</td>\n",
       "    </tr>\n",
       "    <tr>\n",
       "      <th>1</th>\n",
       "      <td>KP281</td>\n",
       "      <td>19</td>\n",
       "      <td>Male</td>\n",
       "      <td>15</td>\n",
       "      <td>Single</td>\n",
       "      <td>2</td>\n",
       "      <td>3</td>\n",
       "      <td>31836</td>\n",
       "      <td>75</td>\n",
       "    </tr>\n",
       "    <tr>\n",
       "      <th>2</th>\n",
       "      <td>KP281</td>\n",
       "      <td>19</td>\n",
       "      <td>Female</td>\n",
       "      <td>14</td>\n",
       "      <td>Partnered</td>\n",
       "      <td>4</td>\n",
       "      <td>3</td>\n",
       "      <td>30699</td>\n",
       "      <td>66</td>\n",
       "    </tr>\n",
       "    <tr>\n",
       "      <th>3</th>\n",
       "      <td>KP281</td>\n",
       "      <td>19</td>\n",
       "      <td>Male</td>\n",
       "      <td>12</td>\n",
       "      <td>Single</td>\n",
       "      <td>3</td>\n",
       "      <td>3</td>\n",
       "      <td>32973</td>\n",
       "      <td>85</td>\n",
       "    </tr>\n",
       "    <tr>\n",
       "      <th>4</th>\n",
       "      <td>KP281</td>\n",
       "      <td>20</td>\n",
       "      <td>Male</td>\n",
       "      <td>13</td>\n",
       "      <td>Partnered</td>\n",
       "      <td>4</td>\n",
       "      <td>2</td>\n",
       "      <td>35247</td>\n",
       "      <td>47</td>\n",
       "    </tr>\n",
       "  </tbody>\n",
       "</table>\n",
       "</div>"
      ],
      "text/plain": [
       "  Product  Age  Gender  Education MaritalStatus  Usage  Fitness  Income  Miles\n",
       "0   KP281   18    Male         14        Single      3        4   29562    112\n",
       "1   KP281   19    Male         15        Single      2        3   31836     75\n",
       "2   KP281   19  Female         14     Partnered      4        3   30699     66\n",
       "3   KP281   19    Male         12        Single      3        3   32973     85\n",
       "4   KP281   20    Male         13     Partnered      4        2   35247     47"
      ]
     },
     "execution_count": 7,
     "metadata": {},
     "output_type": "execute_result"
    }
   ],
   "source": [
    "df_aerofit.head()"
   ]
  },
  {
   "cell_type": "code",
   "execution_count": 8,
   "id": "29a6a46b-9734-49cb-8bd9-47d7202e8d7a",
   "metadata": {},
   "outputs": [
    {
     "data": {
      "text/plain": [
       "array(['g3', 'g2', 'g2', 'g2', 'g2'], dtype='<U2')"
      ]
     },
     "execution_count": 8,
     "metadata": {},
     "output_type": "execute_result"
    }
   ],
   "source": [
    "np.random.choice([\"g1\", \"g2\", \"g3\"],size=5)"
   ]
  },
  {
   "cell_type": "code",
   "execution_count": 9,
   "id": "8a167fd5-3cca-4882-842d-9821524bb24c",
   "metadata": {},
   "outputs": [
    {
     "data": {
      "text/html": [
       "<div>\n",
       "<style scoped>\n",
       "    .dataframe tbody tr th:only-of-type {\n",
       "        vertical-align: middle;\n",
       "    }\n",
       "\n",
       "    .dataframe tbody tr th {\n",
       "        vertical-align: top;\n",
       "    }\n",
       "\n",
       "    .dataframe thead th {\n",
       "        text-align: right;\n",
       "    }\n",
       "</style>\n",
       "<table border=\"1\" class=\"dataframe\">\n",
       "  <thead>\n",
       "    <tr style=\"text-align: right;\">\n",
       "      <th></th>\n",
       "      <th>Product</th>\n",
       "      <th>Age</th>\n",
       "      <th>Gender</th>\n",
       "      <th>Education</th>\n",
       "      <th>MaritalStatus</th>\n",
       "      <th>Usage</th>\n",
       "      <th>Fitness</th>\n",
       "      <th>Income</th>\n",
       "      <th>Miles</th>\n",
       "      <th>random_group</th>\n",
       "    </tr>\n",
       "  </thead>\n",
       "  <tbody>\n",
       "    <tr>\n",
       "      <th>0</th>\n",
       "      <td>KP281</td>\n",
       "      <td>18</td>\n",
       "      <td>Male</td>\n",
       "      <td>14</td>\n",
       "      <td>Single</td>\n",
       "      <td>3</td>\n",
       "      <td>4</td>\n",
       "      <td>29562</td>\n",
       "      <td>112</td>\n",
       "      <td>g3</td>\n",
       "    </tr>\n",
       "    <tr>\n",
       "      <th>1</th>\n",
       "      <td>KP281</td>\n",
       "      <td>19</td>\n",
       "      <td>Male</td>\n",
       "      <td>15</td>\n",
       "      <td>Single</td>\n",
       "      <td>2</td>\n",
       "      <td>3</td>\n",
       "      <td>31836</td>\n",
       "      <td>75</td>\n",
       "      <td>g1</td>\n",
       "    </tr>\n",
       "    <tr>\n",
       "      <th>2</th>\n",
       "      <td>KP281</td>\n",
       "      <td>19</td>\n",
       "      <td>Female</td>\n",
       "      <td>14</td>\n",
       "      <td>Partnered</td>\n",
       "      <td>4</td>\n",
       "      <td>3</td>\n",
       "      <td>30699</td>\n",
       "      <td>66</td>\n",
       "      <td>g3</td>\n",
       "    </tr>\n",
       "    <tr>\n",
       "      <th>3</th>\n",
       "      <td>KP281</td>\n",
       "      <td>19</td>\n",
       "      <td>Male</td>\n",
       "      <td>12</td>\n",
       "      <td>Single</td>\n",
       "      <td>3</td>\n",
       "      <td>3</td>\n",
       "      <td>32973</td>\n",
       "      <td>85</td>\n",
       "      <td>g3</td>\n",
       "    </tr>\n",
       "    <tr>\n",
       "      <th>4</th>\n",
       "      <td>KP281</td>\n",
       "      <td>20</td>\n",
       "      <td>Male</td>\n",
       "      <td>13</td>\n",
       "      <td>Partnered</td>\n",
       "      <td>4</td>\n",
       "      <td>2</td>\n",
       "      <td>35247</td>\n",
       "      <td>47</td>\n",
       "      <td>g1</td>\n",
       "    </tr>\n",
       "  </tbody>\n",
       "</table>\n",
       "</div>"
      ],
      "text/plain": [
       "  Product  Age  Gender  Education MaritalStatus  Usage  Fitness  Income  \\\n",
       "0   KP281   18    Male         14        Single      3        4   29562   \n",
       "1   KP281   19    Male         15        Single      2        3   31836   \n",
       "2   KP281   19  Female         14     Partnered      4        3   30699   \n",
       "3   KP281   19    Male         12        Single      3        3   32973   \n",
       "4   KP281   20    Male         13     Partnered      4        2   35247   \n",
       "\n",
       "   Miles random_group  \n",
       "0    112           g3  \n",
       "1     75           g1  \n",
       "2     66           g3  \n",
       "3     85           g3  \n",
       "4     47           g1  "
      ]
     },
     "execution_count": 9,
     "metadata": {},
     "output_type": "execute_result"
    }
   ],
   "source": [
    "np.random.seed(42)\n",
    "df_aerofit[\"random_group\"] = np.random.choice([\"g1\", \"g2\", \"g3\"],size=len(df_aerofit))\n",
    "\n",
    "df_aerofit.head()"
   ]
  },
  {
   "cell_type": "code",
   "execution_count": 10,
   "id": "fd797b07-5d59-4e32-9d91-3e660680dc1b",
   "metadata": {},
   "outputs": [
    {
     "data": {
      "text/plain": [
       "<Axes: xlabel='random_group', ylabel='Income'>"
      ]
     },
     "execution_count": 10,
     "metadata": {},
     "output_type": "execute_result"
    },
    {
     "data": {
      "image/png": "[encoded data removed]",
      "text/plain": [
       "<Figure size 640x480 with 1 Axes>"
      ]
     },
     "metadata": {},
     "output_type": "display_data"
    }
   ],
   "source": [
    "sns.boxplot(x='random_group', y='Income', data=df_aerofit)"
   ]
  },
  {
   "cell_type": "code",
   "execution_count": 11,
   "id": "cd105129-d094-4e0c-914b-5fb1481d2530",
   "metadata": {},
   "outputs": [],
   "source": [
    "from scipy.stats import f_oneway # Numeric Vs categorical for many categories\n",
    "from scipy.stats import ttest_ind # Numeric Vs categorical"
   ]
  },
  {
   "cell_type": "code",
   "execution_count": 12,
   "id": "b3dcdee7-80d9-4764-8a0c-3a973c6c3e03",
   "metadata": {},
   "outputs": [],
   "source": [
    "income_g1 = df_aerofit[df_aerofit[\"random_group\"]==\"g1\"][\"Income\"]\n",
    "income_g2 = df_aerofit[df_aerofit[\"random_group\"]==\"g2\"][\"Income\"]\n",
    "income_g3 = df_aerofit[df_aerofit[\"random_group\"]==\"g3\"][\"Income\"]"
   ]
  },
  {
   "cell_type": "code",
   "execution_count": 13,
   "id": "811db3a5-d0c0-45cc-966f-6ad26b9f2e8b",
   "metadata": {},
   "outputs": [
    {
     "data": {
      "text/plain": [
       "(51840.44827586207, 55812.69642857143, 53594.954545454544)"
      ]
     },
     "execution_count": 13,
     "metadata": {},
     "output_type": "execute_result"
    }
   ],
   "source": [
    "income_g1.mean(), income_g2.mean(), income_g3.mean()"
   ]
  },
  {
   "cell_type": "code",
   "execution_count": 14,
   "id": "85583697-8dde-4a6d-be12-fcc57ab562db",
   "metadata": {},
   "outputs": [
    {
     "name": "stdout",
     "output_type": "stream",
     "text": [
      "test statistic: 0.8263259710788367\n",
      "p_value: 0.43933541801191467\n"
     ]
    }
   ],
   "source": [
    "# H0: All groups have the same mean\n",
    "# Ha: One or more groups have different mean\n",
    "f_stats, p_value = f_oneway(income_g1, income_g2, income_g3)\n",
    "\n",
    "print(\"test statistic:\",f_stats)\n",
    "print(\"p_value:\",p_value)"
   ]
  },
  {
   "cell_type": "code",
   "execution_count": 15,
   "id": "a25e5fd7-401b-49fd-bcb4-aa747a5ba12a",
   "metadata": {},
   "outputs": [
    {
     "name": "stdout",
     "output_type": "stream",
     "text": [
      "Fail to reject H0\n",
      "All groups have same mean\n"
     ]
    }
   ],
   "source": [
    "if p_value < 0.05:\n",
    "    print(\"Reject H0\")\n",
    "    print(\"Atleast one group have different mean\")\n",
    "else:\n",
    "    print(\"Fail to reject H0\")\n",
    "    print(\"All groups have same mean\")"
   ]
  },
  {
   "cell_type": "code",
   "execution_count": 16,
   "id": "9326a38b-ffa5-4c4c-9655-0c58a47a45a2",
   "metadata": {},
   "outputs": [],
   "source": [
    "income_kp281 = df_aerofit[df_aerofit[\"Product\"]==\"KP281\"][\"Income\"]\n",
    "income_kp481 = df_aerofit[df_aerofit[\"Product\"]==\"KP481\"][\"Income\"]\n",
    "income_kp781 = df_aerofit[df_aerofit[\"Product\"]==\"KP781\"][\"Income\"]"
   ]
  },
  {
   "cell_type": "code",
   "execution_count": 17,
   "id": "742ccc06-acdc-4039-92ef-33debf0e38c2",
   "metadata": {},
   "outputs": [
    {
     "data": {
      "text/plain": [
       "(46418.025, 48973.65, 75441.575)"
      ]
     },
     "execution_count": 17,
     "metadata": {},
     "output_type": "execute_result"
    }
   ],
   "source": [
    "income_kp281.mean(), income_kp481.mean(), income_kp781.mean()\n"
   ]
  },
  {
   "cell_type": "code",
   "execution_count": 18,
   "id": "afbf806b-23fd-4c0f-b2db-f9e1d058e9dd",
   "metadata": {},
   "outputs": [
    {
     "name": "stdout",
     "output_type": "stream",
     "text": [
      "test statistic: 89.25903546601671\n",
      "p_value: 1.5644991316342494e-27\n"
     ]
    }
   ],
   "source": [
    "# H0: All groups have the same mean\n",
    "# Ha: One or more groups have different mean\n",
    "f_stats, p_value = f_oneway(income_kp281, income_kp481, income_kp781)\n",
    "\n",
    "print(\"test statistic:\",f_stats)\n",
    "print(\"p_value:\",p_value)"
   ]
  },
  {
   "cell_type": "code",
   "execution_count": 19,
   "id": "906ce2a0-7495-45be-b0c5-dfd421ebdbbd",
   "metadata": {},
   "outputs": [
    {
     "name": "stdout",
     "output_type": "stream",
     "text": [
      "Reject H0\n",
      "Atleast one group have different mean\n"
     ]
    }
   ],
   "source": [
    "if p_value < 0.05:\n",
    "    print(\"Reject H0\")\n",
    "    print(\"Atleast one group have different mean\")\n",
    "else:\n",
    "    print(\"Fail to reject H0\")\n",
    "    print(\"All groups have same mean\")"
   ]
  },
  {
   "cell_type": "code",
   "execution_count": 20,
   "id": "eda2f2c7-ef24-4296-84a1-0188226476d3",
   "metadata": {},
   "outputs": [
    {
     "name": "stdout",
     "output_type": "stream",
     "text": [
      "p_value: 0.09487529747264932\n",
      "Fail to reject H0\n",
      "This means that we do not have enough evidence to conclude that the means of the two income product groups are statistically different from each other.\n"
     ]
    }
   ],
   "source": [
    "# Try pairwise T-tests for fun\n",
    "# H0: Two means are same\n",
    "t_stat, p_value = ttest_ind(income_kp281, income_kp481)\n",
    "print(\"p_value:\",p_value)\n",
    "if p_value < 0.05:\n",
    "    print(\"Reject H0\")\n",
    "    print('This means that we have enough evidence to conclude that the means of the two income product groups are statistically different from each other.')\n",
    "else:\n",
    "    print(\"Fail to reject H0\")\n",
    "    print('This means that we do not have enough evidence to conclude that the means of the two income product groups are statistically different from each other.')"
   ]
  },
  {
   "cell_type": "code",
   "execution_count": 21,
   "id": "1d8ea6d3-4246-4d31-b6dd-0cdd8fd11148",
   "metadata": {},
   "outputs": [
    {
     "name": "stdout",
     "output_type": "stream",
     "text": [
      "p_value: 7.770191623361236e-16\n",
      "Reject H0\n",
      "This means that we have enough evidence to conclude that the means of the two income product groups are statistically different from each other.\n"
     ]
    }
   ],
   "source": [
    "# Try pairwise T-tests for fun\n",
    "# H0: Two means are same\n",
    "t_stat, p_value = ttest_ind(income_kp481, income_kp781)\n",
    "print(\"p_value:\",p_value)\n",
    "if p_value < 0.05:\n",
    "    print(\"Reject H0\")\n",
    "    print('This means that we have enough evidence to conclude that the means of the two income product groups are statistically different from each other.')\n",
    "else:\n",
    "    print(\"Fail to reject H0\")\n",
    "    print('This means that we do not have enough evidence to conclude that the means of the two income product groups are statistically different from each other.')"
   ]
  },
  {
   "cell_type": "code",
   "execution_count": 22,
   "id": "f8911ae2-7969-4b21-8563-0ef94b964e06",
   "metadata": {},
   "outputs": [
    {
     "name": "stdout",
     "output_type": "stream",
     "text": [
      "p_value: 4.116508528877672e-21\n",
      "Reject H0\n",
      "This means that we have enough evidence to conclude that the means of the two income product groups are statistically different from each other.\n"
     ]
    }
   ],
   "source": [
    "# Try pairwise T-tests for fun\n",
    "# H0: Two means are same\n",
    "t_stat, p_value = ttest_ind(income_kp281, income_kp781)\n",
    "print(\"p_value:\",p_value)\n",
    "if p_value < 0.05:\n",
    "    print(\"Reject H0\")\n",
    "    print('This means that we have enough evidence to conclude that the means of the two income product groups are statistically different from each other.')\n",
    "else:\n",
    "    print(\"Fail to reject H0\")\n",
    "    print('This means that we do not have enough evidence to conclude that the means of the two income product groups are statistically different from each other.')"
   ]
  },
  {
   "cell_type": "code",
   "execution_count": 23,
   "id": "e562b696-676b-4b30-88d6-907529bff9e9",
   "metadata": {},
   "outputs": [],
   "source": [
    "from scipy.stats import kruskal"
   ]
  },
  {
   "cell_type": "code",
   "execution_count": 24,
   "id": "1fcc0227-2f49-45e1-a6e3-b93c97c3851f",
   "metadata": {},
   "outputs": [
    {
     "name": "stdout",
     "output_type": "stream",
     "text": [
      "test statistic: 2.720864198623469\n",
      "p_value: 0.2565498979655774\n"
     ]
    }
   ],
   "source": [
    "# If assumptions of ANOVA fail, use kruskal\n",
    "stat, p_value = kruskal(income_g1, income_g2, income_g3)\n",
    "\n",
    "print(\"test statistic:\",stat)\n",
    "print(\"p_value:\",p_value)"
   ]
  },
  {
   "cell_type": "code",
   "execution_count": 25,
   "id": "f080c0af-1aa7-492d-9c81-37ec11204fec",
   "metadata": {},
   "outputs": [
    {
     "name": "stdout",
     "output_type": "stream",
     "text": [
      "Fail to reject H0\n",
      "All groups have same median\n"
     ]
    }
   ],
   "source": [
    "if p_value < 0.05:\n",
    "    print(\"Reject H0\")\n",
    "    print(\"Atleast one group have different median\")\n",
    "else:\n",
    "    print(\"Fail to reject H0\")\n",
    "    print(\"All groups have same median\")"
   ]
  },
  {
   "cell_type": "code",
   "execution_count": 26,
   "id": "502a9a04-838c-4d4c-9029-e38f8897f443",
   "metadata": {},
   "outputs": [
    {
     "name": "stdout",
     "output_type": "stream",
     "text": [
      "test statistic: 61.43670384567185\n",
      "p_value: 4.562357014275808e-14\n"
     ]
    }
   ],
   "source": [
    "# If assumptions of ANOVA fail, use kruskal\n",
    "stat, p_value = kruskal(income_kp281, income_kp481, income_kp781)\n",
    "\n",
    "print(\"test statistic:\",stat)\n",
    "print(\"p_value:\",p_value)"
   ]
  },
  {
   "cell_type": "code",
   "execution_count": 27,
   "id": "4419d7e0-7317-4258-aa6c-81018d0a6d2c",
   "metadata": {},
   "outputs": [
    {
     "name": "stdout",
     "output_type": "stream",
     "text": [
      "Reject H0\n",
      "Atleast one group have different median\n"
     ]
    }
   ],
   "source": [
    "if p_value < 0.05:\n",
    "    print(\"Reject H0\")\n",
    "    print(\"Atleast one group have different median\")\n",
    "else:\n",
    "    print(\"Fail to reject H0\")\n",
    "    print(\"All groups have same median\")"
   ]
  },
  {
   "cell_type": "code",
   "execution_count": 28,
   "id": "5059300f-7e0f-42ea-a730-a110af56cadb",
   "metadata": {},
   "outputs": [
    {
     "name": "stdout",
     "output_type": "stream",
     "text": [
      "--2025-07-15 03:58:20--  https://drive.google.com/uc?id=1BbOJnKXUEPWrhjjLlZS_2-HoGvtZeubb\n",
      "Resolving drive.google.com (drive.google.com)... 142.251.43.46, 2404:6800:4009:805::200e\n",
      "Connecting to drive.google.com (drive.google.com)|142.251.43.46|:443... connected.\n",
      "HTTP request sent, awaiting response... 303 See Other\n",
      "Location: https://drive.usercontent.google.com/download?id=1BbOJnKXUEPWrhjjLlZS_2-HoGvtZeubb [following]\n",
      "--2025-07-15 03:58:21--  https://drive.usercontent.google.com/download?id=1BbOJnKXUEPWrhjjLlZS_2-HoGvtZeubb\n",
      "Resolving drive.usercontent.google.com (drive.usercontent.google.com)... 142.250.192.97, 2404:6800:4009:82a::2001\n",
      "Connecting to drive.usercontent.google.com (drive.usercontent.google.com)|142.250.192.97|:443... connected.\n",
      "HTTP request sent, awaiting response... 200 OK\n",
      "Length: 428120 (418K) [application/octet-stream]\n",
      "Saving to: ‘weight-height.csv’\n",
      "\n",
      "weight-height.csv   100%[===================>] 418.09K  1.47MB/s    in 0.3s    \n",
      "\n",
      "2025-07-15 03:58:23 (1.47 MB/s) - ‘weight-height.csv’ saved [428120/428120]\n",
      "\n"
     ]
    }
   ],
   "source": [
    "!wget --no-check-certificate https://drive.google.com/uc?id=1BbOJnKXUEPWrhjjLlZS_2-HoGvtZeubb -O weight-height.csv"
   ]
  },
  {
   "cell_type": "code",
   "execution_count": 30,
   "id": "68871410-deb3-4e16-b744-8e4136489f16",
   "metadata": {},
   "outputs": [
    {
     "data": {
      "text/html": [
       "<div>\n",
       "<style scoped>\n",
       "    .dataframe tbody tr th:only-of-type {\n",
       "        vertical-align: middle;\n",
       "    }\n",
       "\n",
       "    .dataframe tbody tr th {\n",
       "        vertical-align: top;\n",
       "    }\n",
       "\n",
       "    .dataframe thead th {\n",
       "        text-align: right;\n",
       "    }\n",
       "</style>\n",
       "<table border=\"1\" class=\"dataframe\">\n",
       "  <thead>\n",
       "    <tr style=\"text-align: right;\">\n",
       "      <th></th>\n",
       "      <th>Gender</th>\n",
       "      <th>Height</th>\n",
       "      <th>Weight</th>\n",
       "    </tr>\n",
       "  </thead>\n",
       "  <tbody>\n",
       "    <tr>\n",
       "      <th>0</th>\n",
       "      <td>Male</td>\n",
       "      <td>73.847017</td>\n",
       "      <td>241.893563</td>\n",
       "    </tr>\n",
       "    <tr>\n",
       "      <th>1</th>\n",
       "      <td>Male</td>\n",
       "      <td>68.781904</td>\n",
       "      <td>162.310473</td>\n",
       "    </tr>\n",
       "    <tr>\n",
       "      <th>2</th>\n",
       "      <td>Male</td>\n",
       "      <td>74.110105</td>\n",
       "      <td>212.740856</td>\n",
       "    </tr>\n",
       "    <tr>\n",
       "      <th>3</th>\n",
       "      <td>Male</td>\n",
       "      <td>71.730978</td>\n",
       "      <td>220.042470</td>\n",
       "    </tr>\n",
       "    <tr>\n",
       "      <th>4</th>\n",
       "      <td>Male</td>\n",
       "      <td>69.881796</td>\n",
       "      <td>206.349801</td>\n",
       "    </tr>\n",
       "  </tbody>\n",
       "</table>\n",
       "</div>"
      ],
      "text/plain": [
       "  Gender     Height      Weight\n",
       "0   Male  73.847017  241.893563\n",
       "1   Male  68.781904  162.310473\n",
       "2   Male  74.110105  212.740856\n",
       "3   Male  71.730978  220.042470\n",
       "4   Male  69.881796  206.349801"
      ]
     },
     "execution_count": 30,
     "metadata": {},
     "output_type": "execute_result"
    }
   ],
   "source": [
    "df_hw = pd.read_csv(\"weight-height.csv\")\n",
    "df_hw.head()"
   ]
  },
  {
   "cell_type": "code",
   "execution_count": 31,
   "id": "30a58a99-5462-454b-b0b8-84bb94da02b2",
   "metadata": {},
   "outputs": [],
   "source": [
    "height = df_hw[\"Height\"]"
   ]
  },
  {
   "cell_type": "code",
   "execution_count": 32,
   "id": "caff1ace-dbbe-4992-aed9-6ea8bdc43e94",
   "metadata": {},
   "outputs": [
    {
     "data": {
      "text/plain": [
       "<Axes: xlabel='Height', ylabel='Count'>"
      ]
     },
     "execution_count": 32,
     "metadata": {},
     "output_type": "execute_result"
    },
    {
     "data": {
      "image/png": "[encoded data removed]",
      "text/plain": [
       "<Figure size 640x480 with 1 Axes>"
      ]
     },
     "metadata": {},
     "output_type": "display_data"
    }
   ],
   "source": [
    "sns.histplot(height)"
   ]
  },
  {
   "cell_type": "code",
   "execution_count": 34,
   "id": "16e938c8-b93f-4c5d-b008-d8e51be47dbd",
   "metadata": {},
   "outputs": [
    {
     "data": {
      "image/png": "[encoded data removed]",
      "text/plain": [
       "<Figure size 640x480 with 1 Axes>"
      ]
     },
     "metadata": {},
     "output_type": "display_data"
    }
   ],
   "source": [
    "\n",
    "from statsmodels.graphics.gofplots import qqplot\n",
    "qqplot(height,line=\"s\")\n",
    "plt.show()"
   ]
  },
  {
   "cell_type": "code",
   "execution_count": 35,
   "id": "1b4c07c8-249c-46c2-aaed-25adc417fbf8",
   "metadata": {},
   "outputs": [],
   "source": [
    "from scipy.stats import shapiro # Test Gaussian (50 to 200 samples)"
   ]
  },
  {
   "cell_type": "code",
   "execution_count": 36,
   "id": "be8d4461-0b61-4b4d-a4a6-439224ecb422",
   "metadata": {},
   "outputs": [],
   "source": [
    "np.random.sample(42)\n",
    "height_subset = df_hw[\"Height\"].sample(100)"
   ]
  },
  {
   "cell_type": "code",
   "execution_count": 37,
   "id": "3d7d8ad6-b2ce-425a-ac65-eca08307ac6e",
   "metadata": {},
   "outputs": [
    {
     "name": "stdout",
     "output_type": "stream",
     "text": [
      "0.022102340453467092\n"
     ]
    }
   ],
   "source": [
    "# H0: Data is Gaussian\n",
    "# Ha: Data is not Gaussian\n",
    "test_stat, p_value = shapiro(height_subset)\n",
    "print(p_value)"
   ]
  },
  {
   "cell_type": "code",
   "execution_count": 38,
   "id": "eead4e25-be98-46e5-902e-670bbfd248f9",
   "metadata": {},
   "outputs": [
    {
     "name": "stdout",
     "output_type": "stream",
     "text": [
      "Reject H0\n",
      "Data is not Gaussian\n"
     ]
    }
   ],
   "source": [
    "if p_value < 0.05:\n",
    "    print(\"Reject H0\")\n",
    "    print(\"Data is not Gaussian\")\n",
    "else:\n",
    "    print(\"Fail to reject H0\")\n",
    "    print(\"Data is Gaussian\")"
   ]
  },
  {
   "cell_type": "code",
   "execution_count": 39,
   "id": "275ba8f0-52ec-472c-a48a-9b6f6de7eee4",
   "metadata": {},
   "outputs": [],
   "source": [
    "from scipy.stats import levene # Test variance\n"
   ]
  },
  {
   "cell_type": "code",
   "execution_count": 40,
   "id": "8242bd73-ab49-4928-8f97-fdaeddd52d35",
   "metadata": {},
   "outputs": [
    {
     "data": {
      "text/plain": [
       "<Axes: xlabel='Height', ylabel='Count'>"
      ]
     },
     "execution_count": 40,
     "metadata": {},
     "output_type": "execute_result"
    },
    {
     "data": {
      "image/png": "[encoded data removed]",
      "text/plain": [
       "<Figure size 640x480 with 1 Axes>"
      ]
     },
     "metadata": {},
     "output_type": "display_data"
    }
   ],
   "source": [
    "sns.histplot(data=df_hw, x=\"Height\", hue=\"Gender\")"
   ]
  },
  {
   "cell_type": "code",
   "execution_count": 41,
   "id": "3c2bf2ab-d52f-42eb-9fd0-764afb1a57d7",
   "metadata": {},
   "outputs": [],
   "source": [
    "height_men = df_hw[df_hw[\"Gender\"]==\"Male\"][\"Height\"]\n",
    "height_women = df_hw[df_hw[\"Gender\"]==\"Female\"][\"Height\"]"
   ]
  },
  {
   "cell_type": "code",
   "execution_count": 42,
   "id": "6818f447-8841-4b01-bb7e-5863b5b76219",
   "metadata": {},
   "outputs": [
    {
     "name": "stdout",
     "output_type": "stream",
     "text": [
      "Mean of men height: 69.02634590621741 Mean of women height: 63.70877360342507\n"
     ]
    }
   ],
   "source": [
    "print(\"Mean of men height:\",height_men.mean() , \"Mean of women height:\",height_women.mean())"
   ]
  },
  {
   "cell_type": "code",
   "execution_count": 43,
   "id": "e8480096-9dc6-4386-97bb-7b6a253afb0c",
   "metadata": {},
   "outputs": [
    {
     "name": "stdout",
     "output_type": "stream",
     "text": [
      "Variance of men height: 8.198843252520467 Variance of women height: 7.2699474936701245\n"
     ]
    }
   ],
   "source": [
    "print(\"Variance of men height:\",height_men.var() , \"Variance of women height:\",height_women.var())"
   ]
  },
  {
   "cell_type": "code",
   "execution_count": 44,
   "id": "91e1f3f2-cc7b-45bf-91d3-5b58e9a8e799",
   "metadata": {},
   "outputs": [
    {
     "name": "stdout",
     "output_type": "stream",
     "text": [
      "Variances are not equal\n"
     ]
    }
   ],
   "source": [
    "# H0: Variances are equal\n",
    "# Ha: Variances are not equal\n",
    "levene_stat, p_value = levene(height_men, height_women)\n",
    "if p_value < 0.05:\n",
    "    print(\"Variances are not equal\")"
   ]
  },
  {
   "cell_type": "code",
   "execution_count": null,
   "id": "2ddf58a2-1e4d-43a4-8498-80bd2db234f9",
   "metadata": {},
   "outputs": [],
   "source": []
  }
 ],
 "metadata": {
  "kernelspec": {
   "display_name": "Python 3 (ipykernel)",
   "language": "python",
   "name": "python3"
  },
  "language_info": {
   "codemirror_mode": {
    "name": "ipython",
    "version": 3
   },
   "file_extension": ".py",
   "mimetype": "text/x-python",
   "name": "python",
   "nbconvert_exporter": "python",
   "pygments_lexer": "ipython3",
   "version": "3.11.0rc1"
  }
 },
 "nbformat": 4,
 "nbformat_minor": 5
}
