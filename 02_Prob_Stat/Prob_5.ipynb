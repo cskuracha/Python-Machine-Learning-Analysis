{
 "cells": [
  {
   "cell_type": "code",
   "execution_count": 1,
   "metadata": {
    "id": "xyXIPlvLthdD"
   },
   "outputs": [],
   "source": [
    "import numpy as np\n",
    "import pandas as pd\n",
    "import seaborn as sns\n",
    "import matplotlib.pyplot as plt\n",
    "\n",
    "from scipy.stats import poisson, expon, geom"
   ]
  },
  {
   "cell_type": "code",
   "execution_count": 2,
   "metadata": {
    "colab": {
     "base_uri": "https://localhost:8080/"
    },
    "id": "V-_kJlgbtmWL",
    "outputId": "123870c2-2468-4e1d-fdfa-f1166d2b26e2"
   },
   "outputs": [
    {
     "data": {
      "text/plain": [
       "0.2706705664732254"
      ]
     },
     "execution_count": 2,
     "metadata": {},
     "output_type": "execute_result"
    }
   ],
   "source": [
    "poisson.pmf(k=1,mu=2) # 27% chace of getting exact one message"
   ]
  },
  {
   "cell_type": "code",
   "execution_count": null,
   "metadata": {
    "id": "32RcLe1RtmYq"
   },
   "outputs": [],
   "source": []
  },
  {
   "cell_type": "code",
   "execution_count": 3,
   "metadata": {
    "colab": {
     "base_uri": "https://localhost:8080/"
    },
    "id": "xrYAfKIltmbk",
    "outputId": "35f25462-37f6-4aee-bf31-2cfbf9892d59"
   },
   "outputs": [
    {
     "data": {
      "text/plain": [
       "0.36787944117144233"
      ]
     },
     "execution_count": 3,
     "metadata": {},
     "output_type": "execute_result"
    }
   ],
   "source": [
    "poisson.pmf(k=0,mu=1) # 36% chace of getting no message in 15 sec"
   ]
  },
  {
   "cell_type": "code",
   "execution_count": null,
   "metadata": {
    "id": "4I_fI0FetmeZ"
   },
   "outputs": [],
   "source": []
  },
  {
   "cell_type": "code",
   "execution_count": 4,
   "metadata": {
    "colab": {
     "base_uri": "https://localhost:8080/"
    },
    "id": "2wsj4TgctmhB",
    "outputId": "0f9edfcf-83cc-4188-b257-44974831454a"
   },
   "outputs": [
    {
     "data": {
      "text/plain": [
       "0.10370316509877235"
      ]
     },
     "execution_count": 4,
     "metadata": {},
     "output_type": "execute_result"
    }
   ],
   "source": [
    "poisson.pmf(k=3,mu=1.33) # 10%"
   ]
  },
  {
   "cell_type": "code",
   "execution_count": 6,
   "metadata": {
    "colab": {
     "base_uri": "https://localhost:8080/"
    },
    "id": "JrVbA3YbvY0M",
    "outputId": "794f57c1-3398-4567-cc67-735315b06f15"
   },
   "outputs": [
    {
     "data": {
      "text/plain": [
       "0.5117085777865424"
      ]
     },
     "execution_count": 6,
     "metadata": {},
     "output_type": "execute_result"
    }
   ],
   "source": [
    "poisson.pmf(k=0,mu=0.067*10) # 10%"
   ]
  },
  {
   "cell_type": "code",
   "execution_count": 8,
   "metadata": {
    "colab": {
     "base_uri": "https://localhost:8080/"
    },
    "id": "L1zNVTLGyEiC",
    "outputId": "7ab6933d-b1a0-424f-9934-cf6f99523e15"
   },
   "outputs": [
    {
     "data": {
      "text/plain": [
       "0.486582880967408"
      ]
     },
     "execution_count": 8,
     "metadata": {},
     "output_type": "execute_result"
    }
   ],
   "source": [
    "expon.cdf(x=10,scale =15)"
   ]
  },
  {
   "cell_type": "code",
   "execution_count": 9,
   "metadata": {
    "colab": {
     "base_uri": "https://localhost:8080/"
    },
    "id": "mMJQFlNK1g1w",
    "outputId": "d760370f-d127-4958-e2f2-0a41865a0bf0"
   },
   "outputs": [
    {
     "data": {
      "text/plain": [
       "0.513417119032592"
      ]
     },
     "execution_count": 9,
     "metadata": {},
     "output_type": "execute_result"
    }
   ],
   "source": [
    "1-expon.cdf(x=10,scale =15)"
   ]
  },
  {
   "cell_type": "code",
   "execution_count": 10,
   "metadata": {
    "colab": {
     "base_uri": "https://localhost:8080/"
    },
    "id": "Tjd4NoRD1k_9",
    "outputId": "bc9dc15a-ab17-476f-984f-c55561a5e635"
   },
   "outputs": [
    {
     "data": {
      "text/plain": [
       "0.08144952294577923"
      ]
     },
     "execution_count": 10,
     "metadata": {},
     "output_type": "execute_result"
    }
   ],
   "source": [
    "expon.cdf(x=5, scale=5) - expon.cdf(x=4, scale=5)"
   ]
  },
  {
   "cell_type": "code",
   "execution_count": null,
   "metadata": {
    "id": "IHSi9WUR3okI"
   },
   "outputs": [],
   "source": []
  },
  {
   "cell_type": "code",
   "execution_count": null,
   "metadata": {
    "id": "MNTsS7DM3o3K"
   },
   "outputs": [],
   "source": [
    "Q2) Find the probability of needing more than 6 minutes to debug"
   ]
  },
  {
   "cell_type": "code",
   "execution_count": 11,
   "metadata": {
    "colab": {
     "base_uri": "https://localhost:8080/"
    },
    "id": "lW6ltOrd3o6f",
    "outputId": "62c97b73-522c-46cf-d31e-99733ac2b57d"
   },
   "outputs": [
    {
     "data": {
      "text/plain": [
       "0.3011942119122022"
      ]
     },
     "execution_count": 11,
     "metadata": {},
     "output_type": "execute_result"
    }
   ],
   "source": [
    "1 - expon.cdf(x=6, scale=5)"
   ]
  },
  {
   "cell_type": "code",
   "execution_count": null,
   "metadata": {
    "id": "y8TLelV-5LCX"
   },
   "outputs": [],
   "source": []
  },
  {
   "cell_type": "code",
   "execution_count": 12,
   "metadata": {
    "colab": {
     "base_uri": "https://localhost:8080/"
    },
    "id": "IVST3HVt5LFU",
    "outputId": "c023cca8-10dc-464f-dbce-fd8edb27542a"
   },
   "outputs": [
    {
     "data": {
      "text/plain": [
       "0.30119421191220214"
      ]
     },
     "execution_count": 12,
     "metadata": {},
     "output_type": "execute_result"
    }
   ],
   "source": [
    "(1 - expon.cdf(x=9, scale=5))/(1 - expon.cdf(x=3, scale=5))"
   ]
  },
  {
   "cell_type": "code",
   "execution_count": 13,
   "metadata": {
    "colab": {
     "base_uri": "https://localhost:8080/",
     "height": 662
    },
    "id": "80UDAHi35LH6",
    "outputId": "acd75b90-e743-4167-ebf3-55e6a0c9dc82"
   },
   "outputs": [
    {
     "name": "stderr",
     "output_type": "stream",
     "text": [
      "<ipython-input-13-9c2080715d0d>:11: UserWarning: \n",
      "\n",
      "`distplot` is a deprecated function and will be removed in seaborn v0.14.0.\n",
      "\n",
      "Please adapt your code to use either `displot` (a figure-level function with\n",
      "similar flexibility) or `kdeplot` (an axes-level function for kernel density plots).\n",
      "\n",
      "For a guide to updating your code to use the new functions, please see\n",
      "https://gist.github.com/mwaskom/de44147ed2974457ad6372750bbe5751\n",
      "\n",
      "  sns.distplot(data, hist=False, kde=True)\n"
     ]
    },
    {
     "data": {
      "text/plain": [
       "<Axes: ylabel='Density'>"
      ]
     },
     "execution_count": 13,
     "metadata": {},
     "output_type": "execute_result"
    },
    {
     "data": {
      "image/png": "[encoded data removed]",
      "text/plain": [
       "<Figure size 640x480 with 1 Axes>"
      ]
     },
     "metadata": {},
     "output_type": "display_data"
    }
   ],
   "source": [
    "import numpy as np\n",
    "from scipy.stats import boxcox\n",
    "import seaborn as sns\n",
    "\n",
    "\n",
    "\n",
    "#generate dataset\n",
    "data = np.random.exponential(size=1000)\n",
    "\n",
    "#plot the distribution of data values\n",
    "sns.distplot(data, hist=False, kde=True)"
   ]
  },
  {
   "cell_type": "code",
   "execution_count": 14,
   "metadata": {
    "colab": {
     "base_uri": "https://localhost:8080/",
     "height": 662
    },
    "id": "IWPO4mUx99q-",
    "outputId": "470eae01-8df7-493a-97ad-9c04c0c6b9cc"
   },
   "outputs": [
    {
     "name": "stderr",
     "output_type": "stream",
     "text": [
      "<ipython-input-14-bee585314be5>:3: UserWarning: \n",
      "\n",
      "`distplot` is a deprecated function and will be removed in seaborn v0.14.0.\n",
      "\n",
      "Please adapt your code to use either `displot` (a figure-level function with\n",
      "similar flexibility) or `kdeplot` (an axes-level function for kernel density plots).\n",
      "\n",
      "For a guide to updating your code to use the new functions, please see\n",
      "https://gist.github.com/mwaskom/de44147ed2974457ad6372750bbe5751\n",
      "\n",
      "  sns.distplot(transformed_data, hist=False, kde=True)\n"
     ]
    },
    {
     "data": {
      "text/plain": [
       "<Axes: ylabel='Density'>"
      ]
     },
     "execution_count": 14,
     "metadata": {},
     "output_type": "execute_result"
    },
    {
     "data": {
      "image/png": "[encoded data removed]",
      "text/plain": [
       "<Figure size 640x480 with 1 Axes>"
      ]
     },
     "metadata": {},
     "output_type": "display_data"
    }
   ],
   "source": [
    "transformed_data, best_lambda = boxcox(data)\n",
    "\n",
    "sns.distplot(transformed_data, hist=False, kde=True)"
   ]
  },
  {
   "cell_type": "code",
   "execution_count": 15,
   "metadata": {
    "colab": {
     "base_uri": "https://localhost:8080/"
    },
    "id": "pCf0nOD_-WXE",
    "outputId": "5449352f-df6e-4bee-f719-6d3f766c24d8"
   },
   "outputs": [
    {
     "data": {
      "text/plain": [
       "0.26481937347403695"
      ]
     },
     "execution_count": 15,
     "metadata": {},
     "output_type": "execute_result"
    }
   ],
   "source": [
    "best_lambda"
   ]
  },
  {
   "cell_type": "code",
   "execution_count": 16,
   "metadata": {
    "colab": {
     "base_uri": "https://localhost:8080/"
    },
    "id": "YGB9r_YO-thm",
    "outputId": "9364ff9a-3629-444f-9429-91dce4adc6a0"
   },
   "outputs": [
    {
     "data": {
      "text/plain": [
       "0.1"
      ]
     },
     "execution_count": 16,
     "metadata": {},
     "output_type": "execute_result"
    }
   ],
   "source": [
    "p=0.1\n",
    "geom.pmf(1,p=p)"
   ]
  },
  {
   "cell_type": "code",
   "execution_count": 17,
   "metadata": {
    "colab": {
     "base_uri": "https://localhost:8080/"
    },
    "id": "w4pKt0-VB-B0",
    "outputId": "72c8267c-5945-4907-c2e4-7e6ae07ccb4e"
   },
   "outputs": [
    {
     "data": {
      "text/plain": [
       "0.09000000000000001"
      ]
     },
     "execution_count": 17,
     "metadata": {},
     "output_type": "execute_result"
    }
   ],
   "source": [
    "p=0.1\n",
    "geom.pmf(2,p=p)"
   ]
  },
  {
   "cell_type": "code",
   "execution_count": 18,
   "metadata": {
    "id": "pSzpeDWvCAVb"
   },
   "outputs": [],
   "source": [
    "x_vals = np.arange(1, 20)"
   ]
  },
  {
   "cell_type": "code",
   "execution_count": 19,
   "metadata": {
    "colab": {
     "base_uri": "https://localhost:8080/"
    },
    "id": "VyOwiMVBCOHM",
    "outputId": "2e0c3688-51cf-41f8-cd2c-6ff96a36410d"
   },
   "outputs": [
    {
     "data": {
      "text/plain": [
       "array([ 1,  2,  3,  4,  5,  6,  7,  8,  9, 10, 11, 12, 13, 14, 15, 16, 17,\n",
       "       18, 19])"
      ]
     },
     "execution_count": 19,
     "metadata": {},
     "output_type": "execute_result"
    }
   ],
   "source": [
    "x_vals"
   ]
  },
  {
   "cell_type": "code",
   "execution_count": 20,
   "metadata": {
    "id": "IiP-kpFVCOJ4"
   },
   "outputs": [],
   "source": [
    "probs_geom = geom.pmf(x_vals, p=p)"
   ]
  },
  {
   "cell_type": "code",
   "execution_count": 21,
   "metadata": {
    "colab": {
     "base_uri": "https://localhost:8080/",
     "height": 468
    },
    "id": "u8cEH57PCOMj",
    "outputId": "573d45a7-4ff3-41dc-bcd6-f97506977590"
   },
   "outputs": [
    {
     "data": {
      "text/plain": [
       "<Axes: >"
      ]
     },
     "execution_count": 21,
     "metadata": {},
     "output_type": "execute_result"
    },
    {
     "data": {
      "image/png": "[encoded data removed]",
      "text/plain": [
       "<Figure size 640x480 with 1 Axes>"
      ]
     },
     "metadata": {},
     "output_type": "display_data"
    }
   ],
   "source": [
    "sns.barplot(x=x_vals, y=probs_geom)\n"
   ]
  },
  {
   "cell_type": "code",
   "execution_count": null,
   "metadata": {
    "id": "gZu-vofzCOPo"
   },
   "outputs": [],
   "source": []
  },
  {
   "cell_type": "code",
   "execution_count": 22,
   "metadata": {
    "colab": {
     "base_uri": "https://localhost:8080/"
    },
    "id": "ObkqelbtCOSM",
    "outputId": "98963af8-72ab-4206-9b21-7988c7197525"
   },
   "outputs": [
    {
     "name": "stdout",
     "output_type": "stream",
     "text": [
      "The probability that an executive spends 4 to 5 minutes with any randomly selected customer is 8.14 %.\n"
     ]
    }
   ],
   "source": [
    "from scipy.stats import expon\n",
    "\n",
    "mu = 5\n",
    "x1 = 4\n",
    "x2 = 5\n",
    "\n",
    "e1 = expon.cdf(x = x1, scale = mu) # The probability of spending 4 mins\n",
    "e2 = expon.cdf(x = x2, scale = mu) # The probability of spending 5 mins\n",
    "e3 = e2 - e1 #The probability of spending 4 to 5 mins\n",
    "\n",
    "print(\"The probability that an executive spends 4 to 5 minutes with any randomly selected customer is\", round(e3*100,2),\"%.\")"
   ]
  }
 ],
 "metadata": {
  "colab": {
   "provenance": []
  },
  "kernelspec": {
   "display_name": "Python 3",
   "name": "python3"
  },
  "language_info": {
   "name": "python"
  }
 },
 "nbformat": 4,
 "nbformat_minor": 0
}
