{
 "cells": [
  {
   "cell_type": "code",
   "execution_count": 16,
   "id": "90c5736e-7841-4e63-90c9-428722f89369",
   "metadata": {},
   "outputs": [
    {
     "name": "stdout",
     "output_type": "stream",
     "text": [
      "M1_data: [6.0, 6.0, 11.0, 7.0, 19.0, 6.0, 13.0, 10.0, 18.0, 7.0, 10.0, 10.0, 9.0, 5.0, 12.0, 6.0, 14.0, 6.0, 10.0, 12.0, 19.0, 6.0, 7.0, 17.0, 5.0, 19.0, 14.0, 9.0, 18.0, 17.0, 10.0, 17.0, 8.0, 14.0, 13.0, 17.0, 10.0, 11.0, 17.0, 13.0, 15.0, 15.0, 15.0, 18.0, 12.0, 15.0, 11.0, 5.0, 16.0, 8.0, 17.0, 19.0, 15.0, 8.0, 10.0, 11.0, 6.0, 12.0, 14.0, 10.0, 8.0, 6.0, 14.0, 5.0, 10.0, 8.0, 13.0, 16.0, 19.0, 15.0, 20.0, 19.0, 14.0, 9.0, 12.0, 8.0, 20.0, 12.0, 16.0, 6.0, 7.0, 8.0, 9.0, 10.0, 9.0, 12.0, 11.0, 7.0, 6.0, 10.0, 6.0, 11.0, 5.0, 13.0, 6.0, 15.0, 11.0, 20.0, 9.0, 12.0]\n",
      "M2_data: [24.0, 13.0, 14.0, 21.0, 29.0, 27.0, 15.0, 23.0, 22.0, 14.0, 11.0, 7.0, 27.0, 6.0, 18.0, 18.0, 9.0, 21.0, 28.0, 24.0, 15.0, 8.0, 29.0, 18.0, 21.0, 25.0, 15.0, 7.0, 8.0, 22.0, 14.0, 27.0, 24.0, 30.0, 22.0, 13.0, 25.0, 6.0, 18.0, 27.0, 18.0, 8.0, 18.0, 19.0, 14.0, 27.0, 14.0, 12.0, 18.0, 10.0, 13.0, 15.0, 28.0, 7.0, 10.0, 10.0, 30.0, 27.0, 10.0, 19.0, 7.0, 13.0, 14.0, 18.0, 28.0, 25.0, 18.0, 25.0, 17.0, 23.0, 24.0, 11.0, 26.0, 19.0, 17.0, 15.0, 11.0, 18.0, 8.0, 21.0, 27.0, 25.0, 20.0, 17.0, 22.0, 8.0, 6.0, 27.0, 14.0, 22.0]\n"
     ]
    }
   ],
   "source": [
    "import random\n",
    "import numpy as np\n",
    "\n",
    "# Set a random seed for reproducibility\n",
    "# Setting random seed to 123 for consistent, deterministic generation of recovery times across groups.\n",
    "random.seed(123)  # You can use any integer as the seed\n",
    "\n",
    "# Create an empty list to store the recovery times\n",
    "M1_data = []\n",
    "\n",
    "# Generate 100 random recovery times\n",
    "# The underscore _ in the loop is a placeholder, signifying indifference to the counter value and solely focusing on executing the code block 100 times.\n",
    "for _ in range(100):\n",
    "    recovery_time = random.uniform(5.0, 20.0)  # Generating values between 5 and 20\n",
    "    M1_data.append(np.round(recovery_time,0)) # Rounding recovery time to whole numbers\n",
    "\n",
    "# Print the generated data\n",
    "print(\"M1_data:\",M1_data)\n",
    "\n",
    "# Create an empty list to store the recovery times\n",
    "M2_data = []\n",
    "\n",
    "# Generate 90 random recovery times\n",
    "for _  in range(90):\n",
    "    recovery_time = random.uniform(5.0, 30.0) # Generating values between 5 and 30\n",
    "    M2_data.append(np.round(recovery_time,0)) # Rounding recovery time to whole numbers\n",
    "\n",
    "# Print the generated data\n",
    "print(\"M2_data:\",M2_data)"
   ]
  },
  {
   "cell_type": "code",
   "execution_count": 17,
   "id": "0bc9419a-5c4d-4a0d-9e7f-cc89ccfe9722",
   "metadata": {},
   "outputs": [],
   "source": [
    "from statsmodels.stats import weightstats as stests\n",
    "from scipy import stats"
   ]
  },
  {
   "cell_type": "code",
   "execution_count": 18,
   "id": "a41ce886-5924-4586-9efd-e407766e0342",
   "metadata": {},
   "outputs": [],
   "source": [
    "z_score, pval = stests.ztest(x1 = M1_data, x2 = M2_data, value = 0, alternative = 'two-sided')"
   ]
  },
  {
   "cell_type": "code",
   "execution_count": 19,
   "id": "9372e267-010e-4cd7-8cb2-660a07ec7f53",
   "metadata": {},
   "outputs": [
    {
     "name": "stdout",
     "output_type": "stream",
     "text": [
      "Z-score:  -7.68917478890992\n",
      "p-value:  1.4808703984296164e-14\n"
     ]
    }
   ],
   "source": [
    "# print the test statistic and corresponding p-value\n",
    "print(\"Z-score: \", z_score)\n",
    "print(\"p-value: \", pval)"
   ]
  },
  {
   "cell_type": "code",
   "execution_count": 20,
   "id": "1213676d-f775-498b-a3fc-d81654915d2f",
   "metadata": {},
   "outputs": [],
   "source": [
    "f1 = [162, 164, 168, 170, 174, 176, 180, 182, 186, 188, 192, 194, 198, 200, 204, 206, 210, 212, 216, 218, 222, 224, 228, 230, 234, 236, 240, 242, 246, 248, 252, 254, 258, 260, 264, 266, 270]\n",
    "f2 = [158, 162, 166, 170, 174, 178, 182, 186, 190, 194, 198, 202, 206, 210, 214, 218, 222, 226, 230, 234, 238, 242, 246, 250, 254, 258, 262, 266, 270, 274, 278, 282, 286, 290, 294, 298, 302]"
   ]
  },
  {
   "cell_type": "code",
   "execution_count": 21,
   "id": "8a78643a-284b-4ead-bff9-82bc681108cc",
   "metadata": {},
   "outputs": [],
   "source": [
    "z_score, pval = stests.ztest(x1 = f1, x2 = f2, value = 0, alternative = 'two-sided')"
   ]
  },
  {
   "cell_type": "code",
   "execution_count": 22,
   "id": "3a205929-195c-416b-8fd6-1445d682209a",
   "metadata": {},
   "outputs": [
    {
     "data": {
      "text/plain": [
       "-1.6280691715301856"
      ]
     },
     "execution_count": 22,
     "metadata": {},
     "output_type": "execute_result"
    }
   ],
   "source": [
    "z_score"
   ]
  },
  {
   "cell_type": "code",
   "execution_count": 23,
   "id": "bac61e3e-2a71-466b-9e42-86a32f93b85e",
   "metadata": {},
   "outputs": [
    {
     "data": {
      "text/plain": [
       "0.10351021950900992"
      ]
     },
     "execution_count": 23,
     "metadata": {},
     "output_type": "execute_result"
    }
   ],
   "source": [
    "pval"
   ]
  },
  {
   "cell_type": "code",
   "execution_count": 24,
   "id": "9fa1606f-bcff-4edc-826d-c5c159f2613c",
   "metadata": {},
   "outputs": [
    {
     "data": {
      "text/plain": [
       "-1.8257418583505536"
      ]
     },
     "execution_count": 24,
     "metadata": {},
     "output_type": "execute_result"
    }
   ],
   "source": [
    "z= -400/(1200/np.sqrt(30))\n",
    "z"
   ]
  },
  {
   "cell_type": "code",
   "execution_count": 25,
   "id": "08541434-6b34-44c0-a2ab-c27aa3014936",
   "metadata": {},
   "outputs": [
    {
     "data": {
      "text/plain": [
       "0.033944577430914516"
      ]
     },
     "execution_count": 25,
     "metadata": {},
     "output_type": "execute_result"
    }
   ],
   "source": [
    "stats.norm.cdf(-400/(1200/np.sqrt(30)))"
   ]
  },
  {
   "cell_type": "code",
   "execution_count": null,
   "id": "1d3f50bd-5ec0-495b-92ef-01d6bb8f823a",
   "metadata": {},
   "outputs": [],
   "source": []
  }
 ],
 "metadata": {
  "kernelspec": {
   "display_name": "Python 3 (ipykernel)",
   "language": "python",
   "name": "python3"
  },
  "language_info": {
   "codemirror_mode": {
    "name": "ipython",
    "version": 3
   },
   "file_extension": ".py",
   "mimetype": "text/x-python",
   "name": "python",
   "nbconvert_exporter": "python",
   "pygments_lexer": "ipython3",
   "version": "3.11.0rc1"
  }
 },
 "nbformat": 4,
 "nbformat_minor": 5
}
