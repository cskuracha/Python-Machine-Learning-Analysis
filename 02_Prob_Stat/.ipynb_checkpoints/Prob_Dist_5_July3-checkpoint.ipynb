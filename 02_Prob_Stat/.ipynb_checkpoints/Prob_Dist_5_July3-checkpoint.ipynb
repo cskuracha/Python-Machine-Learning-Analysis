{
 "cells": [
  {
   "cell_type": "code",
   "execution_count": 1,
   "id": "5911d3de-ca39-453b-a4fb-d161b99ec0dd",
   "metadata": {},
   "outputs": [],
   "source": [
    "import numpy as np\n",
    "import pandas as pd\n",
    "import seaborn as sns\n",
    "import matplotlib.pyplot as plt\n",
    "from scipy.stats import poisson, expon"
   ]
  },
  {
   "cell_type": "code",
   "execution_count": 2,
   "id": "b8b40e44-9482-436e-a5a4-4043f1ed06ed",
   "metadata": {},
   "outputs": [
    {
     "data": {
      "text/plain": [
       "0.2706705664732254"
      ]
     },
     "execution_count": 2,
     "metadata": {},
     "output_type": "execute_result"
    }
   ],
   "source": [
    "poisson.pmf(k = 1, mu = 2)"
   ]
  },
  {
   "cell_type": "code",
   "execution_count": 3,
   "id": "67debd95-fa8e-4f6d-8da6-efabe3588e70",
   "metadata": {},
   "outputs": [
    {
     "data": {
      "text/plain": [
       "0.1353352832366127"
      ]
     },
     "execution_count": 3,
     "metadata": {},
     "output_type": "execute_result"
    }
   ],
   "source": [
    "poisson.pmf(k = 0, mu = 2)"
   ]
  },
  {
   "cell_type": "code",
   "execution_count": 4,
   "id": "24dd011c-0690-49e9-ab88-bdfce113a924",
   "metadata": {},
   "outputs": [
    {
     "data": {
      "text/plain": [
       "0.2706705664732254"
      ]
     },
     "execution_count": 4,
     "metadata": {},
     "output_type": "execute_result"
    }
   ],
   "source": [
    "poisson.pmf(k = 2, mu = 2)"
   ]
  },
  {
   "cell_type": "code",
   "execution_count": 5,
   "id": "3bc693a6-a924-465b-8bf7-7fa532b27814",
   "metadata": {},
   "outputs": [
    {
     "data": {
      "text/plain": [
       "0.36787944117144233"
      ]
     },
     "execution_count": 5,
     "metadata": {},
     "output_type": "execute_result"
    }
   ],
   "source": [
    "poisson.pmf(k=0, mu = 1)"
   ]
  },
  {
   "cell_type": "code",
   "execution_count": 6,
   "id": "99b56086-a2a3-4ca2-afeb-4a3c36e8ac9f",
   "metadata": {},
   "outputs": [
    {
     "data": {
      "text/plain": [
       "0.10413714098399081"
      ]
     },
     "execution_count": 6,
     "metadata": {},
     "output_type": "execute_result"
    }
   ],
   "source": [
    "poisson.pmf(k= 3, mu = 20/15)"
   ]
  },
  {
   "cell_type": "code",
   "execution_count": 7,
   "id": "f609174e-999a-46d7-bd9d-8808d03546de",
   "metadata": {},
   "outputs": [
    {
     "data": {
      "text/plain": [
       "0.3011942119122022"
      ]
     },
     "execution_count": 7,
     "metadata": {},
     "output_type": "execute_result"
    }
   ],
   "source": [
    "1- expon.cdf(scale = 5, x = 6)"
   ]
  },
  {
   "cell_type": "code",
   "execution_count": 8,
   "id": "4670f59c-503b-45fb-9fb9-fbb413c8b571",
   "metadata": {},
   "outputs": [
    {
     "data": {
      "text/plain": [
       "0.16529888822158656"
      ]
     },
     "execution_count": 8,
     "metadata": {},
     "output_type": "execute_result"
    }
   ],
   "source": [
    "1-expon.cdf(9, scale= 5)"
   ]
  },
  {
   "cell_type": "code",
   "execution_count": 9,
   "id": "c785e32c-91c8-4219-90b3-03abc92e3722",
   "metadata": {},
   "outputs": [
    {
     "data": {
      "text/plain": [
       "0.3663633671546423"
      ]
     },
     "execution_count": 9,
     "metadata": {},
     "output_type": "execute_result"
    }
   ],
   "source": [
    "(1-expon.cdf(9, scale= 5))/expon.cdf(3, scale= 5)"
   ]
  },
  {
   "cell_type": "code",
   "execution_count": 10,
   "id": "55cfb252-6b12-498d-bb02-2a2c51560ba2",
   "metadata": {},
   "outputs": [
    {
     "data": {
      "text/plain": [
       "0.3011942119122022"
      ]
     },
     "execution_count": 10,
     "metadata": {},
     "output_type": "execute_result"
    }
   ],
   "source": [
    "1-expon.cdf(6, scale= 5)"
   ]
  },
  {
   "cell_type": "code",
   "execution_count": null,
   "id": "9f102392-15a9-4b79-b3bb-6530eaadaf8f",
   "metadata": {},
   "outputs": [],
   "source": []
  }
 ],
 "metadata": {
  "kernelspec": {
   "display_name": "Python 3 (ipykernel)",
   "language": "python",
   "name": "python3"
  },
  "language_info": {
   "codemirror_mode": {
    "name": "ipython",
    "version": 3
   },
   "file_extension": ".py",
   "mimetype": "text/x-python",
   "name": "python",
   "nbconvert_exporter": "python",
   "pygments_lexer": "ipython3",
   "version": "3.11.0rc1"
  }
 },
 "nbformat": 4,
 "nbformat_minor": 5
}
