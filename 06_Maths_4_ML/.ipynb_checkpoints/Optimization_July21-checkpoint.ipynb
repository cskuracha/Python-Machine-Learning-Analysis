{
 "cells": [
  {
   "cell_type": "code",
   "execution_count": 1,
   "id": "4199bd0c-4cc1-464e-9fbe-544bfb7588e5",
   "metadata": {},
   "outputs": [],
   "source": [
    "import numpy as np\n",
    "import pandas as pd\n",
    "import matplotlib.pyplot as plt"
   ]
  },
  {
   "cell_type": "code",
   "execution_count": 2,
   "id": "7f92e091-66ec-453a-adc8-ee1fbb8af7b7",
   "metadata": {},
   "outputs": [],
   "source": [
    "def get_partial(func,x,y):\n",
    "  delta =0.0000001\n",
    "  fx = (func(x+delta,y) - func(x,y))/delta\n",
    "  fy = (func(x,y+delta) - func(x,y))/delta\n",
    "  return fx,fy"
   ]
  },
  {
   "cell_type": "code",
   "execution_count": 3,
   "id": "f40ed5eb-9f9f-41da-8394-edc70d737131",
   "metadata": {},
   "outputs": [],
   "source": [
    "def func(x,y):\n",
    "  return x**2+y**2"
   ]
  },
  {
   "cell_type": "code",
   "execution_count": 4,
   "id": "ff85967f-614e-41cc-8bf7-a6c1f50cac6e",
   "metadata": {},
   "outputs": [
    {
     "data": {
      "text/plain": [
       "(2.0000001033082526, 4.000000091153311)"
      ]
     },
     "execution_count": 4,
     "metadata": {},
     "output_type": "execute_result"
    }
   ],
   "source": [
    "get_partial(func,1,2)"
   ]
  },
  {
   "cell_type": "code",
   "execution_count": null,
   "id": "74dbee55-8686-478b-9f92-906743eca1ed",
   "metadata": {},
   "outputs": [],
   "source": []
  }
 ],
 "metadata": {
  "kernelspec": {
   "display_name": "Python 3 (ipykernel)",
   "language": "python",
   "name": "python3"
  },
  "language_info": {
   "codemirror_mode": {
    "name": "ipython",
    "version": 3
   },
   "file_extension": ".py",
   "mimetype": "text/x-python",
   "name": "python",
   "nbconvert_exporter": "python",
   "pygments_lexer": "ipython3",
   "version": "3.11.0rc1"
  }
 },
 "nbformat": 4,
 "nbformat_minor": 5
}
