{
 "cells": [
  {
   "cell_type": "code",
   "execution_count": 1,
   "id": "90c5736e-7841-4e63-90c9-428722f89369",
   "metadata": {},
   "outputs": [
    {
     "name": "stdout",
     "output_type": "stream",
     "text": [
      "M1_data: [6.0, 6.0, 11.0, 7.0, 19.0, 6.0, 13.0, 10.0, 18.0, 7.0, 10.0, 10.0, 9.0, 5.0, 12.0, 6.0, 14.0, 6.0, 10.0, 12.0, 19.0, 6.0, 7.0, 17.0, 5.0, 19.0, 14.0, 9.0, 18.0, 17.0, 10.0, 17.0, 8.0, 14.0, 13.0, 17.0, 10.0, 11.0, 17.0, 13.0, 15.0, 15.0, 15.0, 18.0, 12.0, 15.0, 11.0, 5.0, 16.0, 8.0, 17.0, 19.0, 15.0, 8.0, 10.0, 11.0, 6.0, 12.0, 14.0, 10.0, 8.0, 6.0, 14.0, 5.0, 10.0, 8.0, 13.0, 16.0, 19.0, 15.0, 20.0, 19.0, 14.0, 9.0, 12.0, 8.0, 20.0, 12.0, 16.0, 6.0, 7.0, 8.0, 9.0, 10.0, 9.0, 12.0, 11.0, 7.0, 6.0, 10.0, 6.0, 11.0, 5.0, 13.0, 6.0, 15.0, 11.0, 20.0, 9.0, 12.0]\n",
      "M2_data: [24.0, 13.0, 14.0, 21.0, 29.0, 27.0, 15.0, 23.0, 22.0, 14.0, 11.0, 7.0, 27.0, 6.0, 18.0, 18.0, 9.0, 21.0, 28.0, 24.0, 15.0, 8.0, 29.0, 18.0, 21.0, 25.0, 15.0, 7.0, 8.0, 22.0, 14.0, 27.0, 24.0, 30.0, 22.0, 13.0, 25.0, 6.0, 18.0, 27.0, 18.0, 8.0, 18.0, 19.0, 14.0, 27.0, 14.0, 12.0, 18.0, 10.0, 13.0, 15.0, 28.0, 7.0, 10.0, 10.0, 30.0, 27.0, 10.0, 19.0, 7.0, 13.0, 14.0, 18.0, 28.0, 25.0, 18.0, 25.0, 17.0, 23.0, 24.0, 11.0, 26.0, 19.0, 17.0, 15.0, 11.0, 18.0, 8.0, 21.0, 27.0, 25.0, 20.0, 17.0, 22.0, 8.0, 6.0, 27.0, 14.0, 22.0]\n"
     ]
    }
   ],
   "source": [
    "import random\n",
    "import numpy as np\n",
    "\n",
    "# Set a random seed for reproducibility\n",
    "# Setting random seed to 123 for consistent, deterministic generation of recovery times across groups.\n",
    "random.seed(123)  # You can use any integer as the seed\n",
    "\n",
    "# Create an empty list to store the recovery times\n",
    "M1_data = []\n",
    "\n",
    "# Generate 100 random recovery times\n",
    "# The underscore _ in the loop is a placeholder, signifying indifference to the counter value and solely focusing on executing the code block 100 times.\n",
    "for _ in range(100):\n",
    "    recovery_time = random.uniform(5.0, 20.0)  # Generating values between 5 and 20\n",
    "    M1_data.append(np.round(recovery_time,0)) # Rounding recovery time to whole numbers\n",
    "\n",
    "# Print the generated data\n",
    "print(\"M1_data:\",M1_data)\n",
    "\n",
    "# Create an empty list to store the recovery times\n",
    "M2_data = []\n",
    "\n",
    "# Generate 90 random recovery times\n",
    "for _  in range(90):\n",
    "    recovery_time = random.uniform(5.0, 30.0) # Generating values between 5 and 30\n",
    "    M2_data.append(np.round(recovery_time,0)) # Rounding recovery time to whole numbers\n",
    "\n",
    "# Print the generated data\n",
    "print(\"M2_data:\",M2_data)"
   ]
  },
  {
   "cell_type": "code",
   "execution_count": 2,
   "id": "0bc9419a-5c4d-4a0d-9e7f-cc89ccfe9722",
   "metadata": {},
   "outputs": [],
   "source": [
    "from statsmodels.stats import weightstats as stests\n",
    "from scipy import stats"
   ]
  },
  {
   "cell_type": "code",
   "execution_count": 3,
   "id": "a41ce886-5924-4586-9efd-e407766e0342",
   "metadata": {},
   "outputs": [],
   "source": [
    "z_score, pval = stests.ztest(x1 = M1_data, x2 = M2_data, value = 0, alternative = 'two-sided')"
   ]
  },
  {
   "cell_type": "code",
   "execution_count": 4,
   "id": "9372e267-010e-4cd7-8cb2-660a07ec7f53",
   "metadata": {},
   "outputs": [
    {
     "name": "stdout",
     "output_type": "stream",
     "text": [
      "Z-score:  -7.68917478890992\n",
      "p-value:  1.4808703984296164e-14\n"
     ]
    }
   ],
   "source": [
    "# print the test statistic and corresponding p-value\n",
    "print(\"Z-score: \", z_score)\n",
    "print(\"p-value: \", pval)"
   ]
  },
  {
   "cell_type": "code",
   "execution_count": 5,
   "id": "1213676d-f775-498b-a3fc-d81654915d2f",
   "metadata": {},
   "outputs": [],
   "source": [
    "f1 = [162, 164, 168, 170, 174, 176, 180, 182, 186, 188, 192, 194, 198, 200, 204, 206, 210, 212, 216, 218, 222, 224, 228, 230, 234, 236, 240, 242, 246, 248, 252, 254, 258, 260, 264, 266, 270]\n",
    "f2 = [158, 162, 166, 170, 174, 178, 182, 186, 190, 194, 198, 202, 206, 210, 214, 218, 222, 226, 230, 234, 238, 242, 246, 250, 254, 258, 262, 266, 270, 274, 278, 282, 286, 290, 294, 298, 302]"
   ]
  },
  {
   "cell_type": "code",
   "execution_count": 6,
   "id": "8a78643a-284b-4ead-bff9-82bc681108cc",
   "metadata": {},
   "outputs": [],
   "source": [
    "z_score, pval = stests.ztest(x1 = f1, x2 = f2, value = 0, alternative = 'two-sided')"
   ]
  },
  {
   "cell_type": "code",
   "execution_count": 7,
   "id": "3a205929-195c-416b-8fd6-1445d682209a",
   "metadata": {},
   "outputs": [
    {
     "data": {
      "text/plain": [
       "-1.6280691715301856"
      ]
     },
     "execution_count": 7,
     "metadata": {},
     "output_type": "execute_result"
    }
   ],
   "source": [
    "z_score"
   ]
  },
  {
   "cell_type": "code",
   "execution_count": 8,
   "id": "bac61e3e-2a71-466b-9e42-86a32f93b85e",
   "metadata": {},
   "outputs": [
    {
     "data": {
      "text/plain": [
       "0.10351021950900992"
      ]
     },
     "execution_count": 8,
     "metadata": {},
     "output_type": "execute_result"
    }
   ],
   "source": [
    "pval"
   ]
  },
  {
   "cell_type": "code",
   "execution_count": 9,
   "id": "9fa1606f-bcff-4edc-826d-c5c159f2613c",
   "metadata": {},
   "outputs": [
    {
     "data": {
      "text/plain": [
       "-1.8257418583505536"
      ]
     },
     "execution_count": 9,
     "metadata": {},
     "output_type": "execute_result"
    }
   ],
   "source": [
    "z= -400/(1200/np.sqrt(30))\n",
    "z"
   ]
  },
  {
   "cell_type": "code",
   "execution_count": 10,
   "id": "08541434-6b34-44c0-a2ab-c27aa3014936",
   "metadata": {},
   "outputs": [
    {
     "data": {
      "text/plain": [
       "0.033944577430914516"
      ]
     },
     "execution_count": 10,
     "metadata": {},
     "output_type": "execute_result"
    }
   ],
   "source": [
    "stats.norm.cdf(-400/(1200/np.sqrt(30)))"
   ]
  },
  {
   "cell_type": "code",
   "execution_count": 11,
   "id": "1d3f50bd-5ec0-495b-92ef-01d6bb8f823a",
   "metadata": {},
   "outputs": [
    {
     "data": {
      "text/plain": [
       "1.6448536269514722"
      ]
     },
     "execution_count": 11,
     "metadata": {},
     "output_type": "execute_result"
    }
   ],
   "source": [
    "# Problem1\n",
    "mean = 60\n",
    "std = 15\n",
    "z = stats.norm.ppf(0.95)\n",
    "z"
   ]
  },
  {
   "cell_type": "code",
   "execution_count": 12,
   "id": "8c66e91b-5f93-4d55-9aca-24b2b38cf239",
   "metadata": {},
   "outputs": [
    {
     "data": {
      "text/plain": [
       "84.67280440427209"
      ]
     },
     "execution_count": 12,
     "metadata": {},
     "output_type": "execute_result"
    }
   ],
   "source": [
    "critical_value = mean + z*std\n",
    "critical_value"
   ]
  },
  {
   "cell_type": "markdown",
   "id": "39d29704-005e-4151-84f8-0ac951072256",
   "metadata": {},
   "source": [
    "### **Two Sample Test**"
   ]
  },
  {
   "cell_type": "code",
   "execution_count": 13,
   "id": "67688da7-8304-4236-b076-2e01772e088f",
   "metadata": {},
   "outputs": [],
   "source": [
    "# Compare between 2 car manufacturers\n",
    "mean1 = 30\n",
    "mean2 = 32\n",
    "std1 = 3\n",
    "std2 = 2.5\n",
    "significance_level = 0.05\n",
    "sample_size1 = 50\n",
    "sample_size2 = 60"
   ]
  },
  {
   "cell_type": "code",
   "execution_count": 14,
   "id": "69e0abb9-462d-40bb-8e90-a4a3e054a921",
   "metadata": {},
   "outputs": [],
   "source": [
    "def two_sample_ztest(mean1, mean2,std1,std2,n1,n2):\n",
    "    denominator = np.sqrt((std1**2/n1) + (std2**2/n2))\n",
    "    return (mean1-mean2)/denominator"
   ]
  },
  {
   "cell_type": "code",
   "execution_count": 15,
   "id": "07044495-aeae-4519-af4e-1f6980276a25",
   "metadata": {},
   "outputs": [
    {
     "data": {
      "text/plain": [
       "-3.751832396884334"
      ]
     },
     "execution_count": 15,
     "metadata": {},
     "output_type": "execute_result"
    }
   ],
   "source": [
    "z = two_sample_ztest(mean1,mean2,std1,std2,sample_size1, sample_size2)\n",
    "z"
   ]
  },
  {
   "cell_type": "code",
   "execution_count": 16,
   "id": "1d983797-0a06-4bf5-b1c5-cf375b1a11f0",
   "metadata": {},
   "outputs": [
    {
     "data": {
      "text/plain": [
       "8.777340507285842e-05"
      ]
     },
     "execution_count": 16,
     "metadata": {},
     "output_type": "execute_result"
    }
   ],
   "source": [
    "stats.norm.cdf(z) # left portion"
   ]
  },
  {
   "cell_type": "code",
   "execution_count": 17,
   "id": "6f7890e9-1e29-4cd8-a3f5-13ea7f1ff5d8",
   "metadata": {},
   "outputs": [
    {
     "data": {
      "text/plain": [
       "8.777340507282183e-05"
      ]
     },
     "execution_count": 17,
     "metadata": {},
     "output_type": "execute_result"
    }
   ],
   "source": [
    "1 - stats.norm.cdf(-z) # right side"
   ]
  },
  {
   "cell_type": "code",
   "execution_count": 18,
   "id": "9394188a-00b4-4701-a6f4-0b3f4bf1d53d",
   "metadata": {},
   "outputs": [
    {
     "data": {
      "text/plain": [
       "0.00017554681014571685"
      ]
     },
     "execution_count": 18,
     "metadata": {},
     "output_type": "execute_result"
    }
   ],
   "source": [
    "# to compute both\n",
    "p=2 * stats.norm.cdf(z)\n",
    "p"
   ]
  },
  {
   "cell_type": "code",
   "execution_count": null,
   "id": "bce6aba6-ddf0-4dcf-9683-f972b96d1503",
   "metadata": {},
   "outputs": [],
   "source": []
  },
  {
   "cell_type": "markdown",
   "id": "c3ad9895-ed7b-499c-af8b-931f799e7ae1",
   "metadata": {},
   "source": [
    "### **Proportion Testin**"
   ]
  },
  {
   "cell_type": "code",
   "execution_count": 19,
   "id": "e4312260-2dba-4baf-91d3-52cf77632cc1",
   "metadata": {},
   "outputs": [],
   "source": [
    "import numpy as np\n",
    "import scipy.stats as stats\n",
    "\n",
    "# Define the data\n",
    "# Number of satisfied customers\n",
    "satisfied_customers = 115\n",
    "# Total number of customers in the sample\n",
    "total_customers = 150\n",
    "\n",
    "# Specify the target satisfaction level (null hypothesis)\n",
    "target_satisfaction = 0.70  # 70%"
   ]
  },
  {
   "cell_type": "code",
   "execution_count": 20,
   "id": "d61b5263-b471-4e58-8375-a3d26b2650cd",
   "metadata": {},
   "outputs": [
    {
     "name": "stdout",
     "output_type": "stream",
     "text": [
      "Z-statistic = 1.7817416127494983\n",
      "P-value = 0.07479137758694376\n"
     ]
    }
   ],
   "source": [
    "# Define the hypotheses\n",
    "# Null Hypothesis (H0): The proportion of satisfied customers equals the target satisfaction level.\n",
    "# Alternative Hypothesis (Ha): The proportion of satisfied customers is not equal to the target satisfaction level.\n",
    "\n",
    "p = target_satisfaction # population proportion\n",
    "\n",
    "# Calculate the test statistic (Z)\n",
    "# p_hat = sample proportion = x/n\n",
    "p_hat = satisfied_customers / total_customers\n",
    "n = total_customers\n",
    "\n",
    "#formula\n",
    "Z = (p_hat - p) / np.sqrt((p * (1 - p)) / n)\n",
    "\n",
    "# Interpret the test statistic\n",
    "# Z follows a standard normal distribution. We will calculate the two-tailed p-value next.\n",
    "\n",
    "# Calculate the p-value\n",
    "p_value = 2 * (1 - stats.norm.cdf(np.abs(Z)))\n",
    "\n",
    "# In a two-tailed z-test, we care about the magnitude of deviation, not direction, from the null hypothesis.\n",
    "# Using np.abs(Z) removes the sign of the z-score, ensuring both positive and negative deviations contribute to the p-value calculation, making it more accurate for the two-tailed test.\n",
    "\n",
    "# Print the results\n",
    "print(f\"Z-statistic = {Z}\")\n",
    "print(f\"P-value = {p_value}\")"
   ]
  },
  {
   "cell_type": "code",
   "execution_count": 21,
   "id": "dff230c9-9a38-446c-8b60-14a2b1fd0f20",
   "metadata": {},
   "outputs": [],
   "source": [
    "alpha = 0.05  # Significance level\n",
    "if p_value < alpha:\n",
    "    decision = \"Reject the null hypothesis\"\n",
    "else:\n",
    "    decision = \"Fail to reject the null hypothesis\"\n",
    "\n",
    "if decision == \"Reject the null hypothesis\":\n",
    "    conclusion = \"There is enough evidence to conclude that the proportion of satisfied customers with the new product is statistically different from the target satisfaction level.\"\n",
    "else:\n",
    "    conclusion = \"There is not enough evidence to conclude that the proportion of satisfied customers with the new product is statistically different from the target satisfaction level.\""
   ]
  },
  {
   "cell_type": "code",
   "execution_count": 22,
   "id": "12c1220e-2de7-462c-8d55-5fd66dd8f681",
   "metadata": {},
   "outputs": [
    {
     "name": "stdout",
     "output_type": "stream",
     "text": [
      "Decision: Fail to reject the null hypothesis\n",
      "Conclusion: There is not enough evidence to conclude that the proportion of satisfied customers with the new product is statistically different from the target satisfaction level.\n"
     ]
    }
   ],
   "source": [
    "# Print the results\n",
    "print(f\"Decision: {decision}\")\n",
    "print(f\"Conclusion: {conclusion}\")"
   ]
  },
  {
   "cell_type": "code",
   "execution_count": null,
   "id": "4d29df7c-61e4-4202-94b3-afdc94946e10",
   "metadata": {},
   "outputs": [],
   "source": []
  }
 ],
 "metadata": {
  "kernelspec": {
   "display_name": "Python 3 (ipykernel)",
   "language": "python",
   "name": "python3"
  },
  "language_info": {
   "codemirror_mode": {
    "name": "ipython",
    "version": 3
   },
   "file_extension": ".py",
   "mimetype": "text/x-python",
   "name": "python",
   "nbconvert_exporter": "python",
   "pygments_lexer": "ipython3",
   "version": "3.11.0rc1"
  }
 },
 "nbformat": 4,
 "nbformat_minor": 5
}
