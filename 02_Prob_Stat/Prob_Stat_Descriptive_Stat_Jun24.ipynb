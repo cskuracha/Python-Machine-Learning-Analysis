{
 "cells": [
  {
   "cell_type": "markdown",
   "id": "8fe66acf-e6ec-485c-84a1-d2b142eab5c1",
   "metadata": {},
   "source": [
    "## **Descriptive Statistics**"
   ]
  },
  {
   "cell_type": "code",
   "execution_count": 1,
   "id": "99e27258-75f9-494a-a2f1-d8b97e37b4a0",
   "metadata": {},
   "outputs": [],
   "source": [
    "import pandas as pd\n",
    "import numpy as np\n",
    "import matplotlib.pyplot as plt\n",
    "import seaborn as sns"
   ]
  },
  {
   "cell_type": "code",
   "execution_count": 2,
   "id": "95912764-cbba-4ff7-9c25-c504bae7d091",
   "metadata": {},
   "outputs": [
    {
     "data": {
      "text/html": [
       "<div>\n",
       "<style scoped>\n",
       "    .dataframe tbody tr th:only-of-type {\n",
       "        vertical-align: middle;\n",
       "    }\n",
       "\n",
       "    .dataframe tbody tr th {\n",
       "        vertical-align: top;\n",
       "    }\n",
       "\n",
       "    .dataframe thead th {\n",
       "        text-align: right;\n",
       "    }\n",
       "</style>\n",
       "<table border=\"1\" class=\"dataframe\">\n",
       "  <thead>\n",
       "    <tr style=\"text-align: right;\">\n",
       "      <th></th>\n",
       "      <th>Gender</th>\n",
       "      <th>Height</th>\n",
       "      <th>Weight</th>\n",
       "    </tr>\n",
       "  </thead>\n",
       "  <tbody>\n",
       "    <tr>\n",
       "      <th>0</th>\n",
       "      <td>Male</td>\n",
       "      <td>73.847017</td>\n",
       "      <td>241.893563</td>\n",
       "    </tr>\n",
       "    <tr>\n",
       "      <th>1</th>\n",
       "      <td>Male</td>\n",
       "      <td>68.781904</td>\n",
       "      <td>162.310473</td>\n",
       "    </tr>\n",
       "    <tr>\n",
       "      <th>2</th>\n",
       "      <td>Male</td>\n",
       "      <td>74.110105</td>\n",
       "      <td>212.740856</td>\n",
       "    </tr>\n",
       "    <tr>\n",
       "      <th>3</th>\n",
       "      <td>Male</td>\n",
       "      <td>71.730978</td>\n",
       "      <td>220.042470</td>\n",
       "    </tr>\n",
       "    <tr>\n",
       "      <th>4</th>\n",
       "      <td>Male</td>\n",
       "      <td>69.881796</td>\n",
       "      <td>206.349801</td>\n",
       "    </tr>\n",
       "    <tr>\n",
       "      <th>...</th>\n",
       "      <td>...</td>\n",
       "      <td>...</td>\n",
       "      <td>...</td>\n",
       "    </tr>\n",
       "    <tr>\n",
       "      <th>9995</th>\n",
       "      <td>Female</td>\n",
       "      <td>66.172652</td>\n",
       "      <td>136.777454</td>\n",
       "    </tr>\n",
       "    <tr>\n",
       "      <th>9996</th>\n",
       "      <td>Female</td>\n",
       "      <td>67.067155</td>\n",
       "      <td>170.867906</td>\n",
       "    </tr>\n",
       "    <tr>\n",
       "      <th>9997</th>\n",
       "      <td>Female</td>\n",
       "      <td>63.867992</td>\n",
       "      <td>128.475319</td>\n",
       "    </tr>\n",
       "    <tr>\n",
       "      <th>9998</th>\n",
       "      <td>Female</td>\n",
       "      <td>69.034243</td>\n",
       "      <td>163.852461</td>\n",
       "    </tr>\n",
       "    <tr>\n",
       "      <th>9999</th>\n",
       "      <td>Female</td>\n",
       "      <td>61.944246</td>\n",
       "      <td>113.649103</td>\n",
       "    </tr>\n",
       "  </tbody>\n",
       "</table>\n",
       "<p>10000 rows × 3 columns</p>\n",
       "</div>"
      ],
      "text/plain": [
       "      Gender     Height      Weight\n",
       "0       Male  73.847017  241.893563\n",
       "1       Male  68.781904  162.310473\n",
       "2       Male  74.110105  212.740856\n",
       "3       Male  71.730978  220.042470\n",
       "4       Male  69.881796  206.349801\n",
       "...      ...        ...         ...\n",
       "9995  Female  66.172652  136.777454\n",
       "9996  Female  67.067155  170.867906\n",
       "9997  Female  63.867992  128.475319\n",
       "9998  Female  69.034243  163.852461\n",
       "9999  Female  61.944246  113.649103\n",
       "\n",
       "[10000 rows x 3 columns]"
      ]
     },
     "execution_count": 2,
     "metadata": {},
     "output_type": "execute_result"
    }
   ],
   "source": [
    "df = pd.read_csv(\"weight-height.csv\")\n",
    "df"
   ]
  },
  {
   "cell_type": "code",
   "execution_count": 3,
   "id": "c9af7f12-9d14-4ddd-8060-f2da318e7c79",
   "metadata": {},
   "outputs": [
    {
     "data": {
      "text/html": [
       "<div>\n",
       "<style scoped>\n",
       "    .dataframe tbody tr th:only-of-type {\n",
       "        vertical-align: middle;\n",
       "    }\n",
       "\n",
       "    .dataframe tbody tr th {\n",
       "        vertical-align: top;\n",
       "    }\n",
       "\n",
       "    .dataframe thead th {\n",
       "        text-align: right;\n",
       "    }\n",
       "</style>\n",
       "<table border=\"1\" class=\"dataframe\">\n",
       "  <thead>\n",
       "    <tr style=\"text-align: right;\">\n",
       "      <th></th>\n",
       "      <th>Height</th>\n",
       "      <th>Weight</th>\n",
       "    </tr>\n",
       "  </thead>\n",
       "  <tbody>\n",
       "    <tr>\n",
       "      <th>count</th>\n",
       "      <td>10000.000000</td>\n",
       "      <td>10000.000000</td>\n",
       "    </tr>\n",
       "    <tr>\n",
       "      <th>mean</th>\n",
       "      <td>66.367560</td>\n",
       "      <td>161.440357</td>\n",
       "    </tr>\n",
       "    <tr>\n",
       "      <th>std</th>\n",
       "      <td>3.847528</td>\n",
       "      <td>32.108439</td>\n",
       "    </tr>\n",
       "    <tr>\n",
       "      <th>min</th>\n",
       "      <td>54.263133</td>\n",
       "      <td>64.700127</td>\n",
       "    </tr>\n",
       "    <tr>\n",
       "      <th>25%</th>\n",
       "      <td>63.505620</td>\n",
       "      <td>135.818051</td>\n",
       "    </tr>\n",
       "    <tr>\n",
       "      <th>50%</th>\n",
       "      <td>66.318070</td>\n",
       "      <td>161.212928</td>\n",
       "    </tr>\n",
       "    <tr>\n",
       "      <th>75%</th>\n",
       "      <td>69.174262</td>\n",
       "      <td>187.169525</td>\n",
       "    </tr>\n",
       "    <tr>\n",
       "      <th>max</th>\n",
       "      <td>78.998742</td>\n",
       "      <td>269.989699</td>\n",
       "    </tr>\n",
       "  </tbody>\n",
       "</table>\n",
       "</div>"
      ],
      "text/plain": [
       "             Height        Weight\n",
       "count  10000.000000  10000.000000\n",
       "mean      66.367560    161.440357\n",
       "std        3.847528     32.108439\n",
       "min       54.263133     64.700127\n",
       "25%       63.505620    135.818051\n",
       "50%       66.318070    161.212928\n",
       "75%       69.174262    187.169525\n",
       "max       78.998742    269.989699"
      ]
     },
     "execution_count": 3,
     "metadata": {},
     "output_type": "execute_result"
    }
   ],
   "source": [
    "df.describe()"
   ]
  },
  {
   "cell_type": "code",
   "execution_count": 4,
   "id": "b51d7fc7-629f-416f-992b-5aa6f00137ab",
   "metadata": {},
   "outputs": [
    {
     "data": {
      "text/plain": [
       "0       False\n",
       "1       False\n",
       "2       False\n",
       "3       False\n",
       "4       False\n",
       "        ...  \n",
       "9995    False\n",
       "9996    False\n",
       "9997    False\n",
       "9998    False\n",
       "9999     True\n",
       "Name: Height, Length: 10000, dtype: bool"
      ]
     },
     "execution_count": 4,
     "metadata": {},
     "output_type": "execute_result"
    }
   ],
   "source": [
    "df['Height'] <=63.505620 \t"
   ]
  },
  {
   "cell_type": "code",
   "execution_count": 5,
   "id": "b765ea23-f38b-4544-9d14-160e01942023",
   "metadata": {},
   "outputs": [
    {
     "data": {
      "text/html": [
       "<div>\n",
       "<style scoped>\n",
       "    .dataframe tbody tr th:only-of-type {\n",
       "        vertical-align: middle;\n",
       "    }\n",
       "\n",
       "    .dataframe tbody tr th {\n",
       "        vertical-align: top;\n",
       "    }\n",
       "\n",
       "    .dataframe thead th {\n",
       "        text-align: right;\n",
       "    }\n",
       "</style>\n",
       "<table border=\"1\" class=\"dataframe\">\n",
       "  <thead>\n",
       "    <tr style=\"text-align: right;\">\n",
       "      <th></th>\n",
       "      <th>Gender</th>\n",
       "      <th>Height</th>\n",
       "      <th>Weight</th>\n",
       "    </tr>\n",
       "  </thead>\n",
       "  <tbody>\n",
       "    <tr>\n",
       "      <th>9</th>\n",
       "      <td>Male</td>\n",
       "      <td>63.456494</td>\n",
       "      <td>156.399676</td>\n",
       "    </tr>\n",
       "    <tr>\n",
       "      <th>123</th>\n",
       "      <td>Male</td>\n",
       "      <td>62.706990</td>\n",
       "      <td>149.969618</td>\n",
       "    </tr>\n",
       "    <tr>\n",
       "      <th>157</th>\n",
       "      <td>Male</td>\n",
       "      <td>61.937323</td>\n",
       "      <td>147.263687</td>\n",
       "    </tr>\n",
       "    <tr>\n",
       "      <th>205</th>\n",
       "      <td>Male</td>\n",
       "      <td>63.414587</td>\n",
       "      <td>160.140616</td>\n",
       "    </tr>\n",
       "    <tr>\n",
       "      <th>228</th>\n",
       "      <td>Male</td>\n",
       "      <td>63.440247</td>\n",
       "      <td>135.655876</td>\n",
       "    </tr>\n",
       "    <tr>\n",
       "      <th>...</th>\n",
       "      <td>...</td>\n",
       "      <td>...</td>\n",
       "      <td>...</td>\n",
       "    </tr>\n",
       "    <tr>\n",
       "      <th>9991</th>\n",
       "      <td>Female</td>\n",
       "      <td>62.636675</td>\n",
       "      <td>102.853563</td>\n",
       "    </tr>\n",
       "    <tr>\n",
       "      <th>9992</th>\n",
       "      <td>Female</td>\n",
       "      <td>62.077832</td>\n",
       "      <td>138.691680</td>\n",
       "    </tr>\n",
       "    <tr>\n",
       "      <th>9993</th>\n",
       "      <td>Female</td>\n",
       "      <td>60.030434</td>\n",
       "      <td>97.687432</td>\n",
       "    </tr>\n",
       "    <tr>\n",
       "      <th>9994</th>\n",
       "      <td>Female</td>\n",
       "      <td>59.098250</td>\n",
       "      <td>110.529686</td>\n",
       "    </tr>\n",
       "    <tr>\n",
       "      <th>9999</th>\n",
       "      <td>Female</td>\n",
       "      <td>61.944246</td>\n",
       "      <td>113.649103</td>\n",
       "    </tr>\n",
       "  </tbody>\n",
       "</table>\n",
       "<p>2500 rows × 3 columns</p>\n",
       "</div>"
      ],
      "text/plain": [
       "      Gender     Height      Weight\n",
       "9       Male  63.456494  156.399676\n",
       "123     Male  62.706990  149.969618\n",
       "157     Male  61.937323  147.263687\n",
       "205     Male  63.414587  160.140616\n",
       "228     Male  63.440247  135.655876\n",
       "...      ...        ...         ...\n",
       "9991  Female  62.636675  102.853563\n",
       "9992  Female  62.077832  138.691680\n",
       "9993  Female  60.030434   97.687432\n",
       "9994  Female  59.098250  110.529686\n",
       "9999  Female  61.944246  113.649103\n",
       "\n",
       "[2500 rows x 3 columns]"
      ]
     },
     "execution_count": 5,
     "metadata": {},
     "output_type": "execute_result"
    }
   ],
   "source": [
    "df[df['Height'] <=63.505620]"
   ]
  },
  {
   "cell_type": "code",
   "execution_count": 6,
   "id": "b6906a7e-3ae1-40f2-ab82-bcce3e7d106b",
   "metadata": {},
   "outputs": [
    {
     "data": {
      "text/plain": [
       "2500"
      ]
     },
     "execution_count": 6,
     "metadata": {},
     "output_type": "execute_result"
    }
   ],
   "source": [
    "len(df[df['Height'] <=63.505620])"
   ]
  },
  {
   "cell_type": "code",
   "execution_count": 7,
   "id": "b82627d1-7c0f-4de3-807f-b7660a47001c",
   "metadata": {},
   "outputs": [
    {
     "data": {
      "text/plain": [
       "0.25"
      ]
     },
     "execution_count": 7,
     "metadata": {},
     "output_type": "execute_result"
    }
   ],
   "source": [
    "# 25  percentile\n",
    "\n",
    "len(df[df['Height'] <=63.505620])/len(df)"
   ]
  },
  {
   "cell_type": "code",
   "execution_count": 8,
   "id": "423427ae-f79d-40d7-ab97-88e9a33d1165",
   "metadata": {},
   "outputs": [
    {
     "data": {
      "text/plain": [
       "0.75"
      ]
     },
     "execution_count": 8,
     "metadata": {},
     "output_type": "execute_result"
    }
   ],
   "source": [
    "# 75 percentile\n",
    "len(df[df['Height'] <=69.174262])/len(df)"
   ]
  },
  {
   "cell_type": "code",
   "execution_count": 9,
   "id": "aeac5677-faf6-4a03-a9ec-a250478cf284",
   "metadata": {},
   "outputs": [],
   "source": [
    "df_height = df['Height']"
   ]
  },
  {
   "cell_type": "code",
   "execution_count": 10,
   "id": "24d8e9de-13d1-4bf4-a7e3-14577cb2ef27",
   "metadata": {},
   "outputs": [
    {
     "data": {
      "text/plain": [
       "54.2631333250971"
      ]
     },
     "execution_count": 10,
     "metadata": {},
     "output_type": "execute_result"
    }
   ],
   "source": [
    "df_height.min()"
   ]
  },
  {
   "cell_type": "code",
   "execution_count": 11,
   "id": "94154798-9932-4c94-8530-39ff1e949252",
   "metadata": {},
   "outputs": [
    {
     "data": {
      "text/plain": [
       "78.9987423463896"
      ]
     },
     "execution_count": 11,
     "metadata": {},
     "output_type": "execute_result"
    }
   ],
   "source": [
    "df_height.max()"
   ]
  },
  {
   "cell_type": "code",
   "execution_count": 12,
   "id": "1d28175b-1199-40f2-9473-7277f574a2b2",
   "metadata": {},
   "outputs": [],
   "source": [
    "# Plot the curve for every percentile"
   ]
  },
  {
   "cell_type": "code",
   "execution_count": 13,
   "id": "83795778-7126-433b-922c-627c9ab1f7c5",
   "metadata": {},
   "outputs": [
    {
     "data": {
      "text/plain": [
       "array([10. , 12.5, 15. , 17.5, 20. ])"
      ]
     },
     "execution_count": 13,
     "metadata": {},
     "output_type": "execute_result"
    }
   ],
   "source": [
    "np.linspace(10,20,5)"
   ]
  },
  {
   "cell_type": "code",
   "execution_count": 14,
   "id": "e1ad6a26-7f4b-4b14-85a8-8b8d5d30cfef",
   "metadata": {},
   "outputs": [],
   "source": [
    "x_values = np.linspace(50,80,100)"
   ]
  },
  {
   "cell_type": "code",
   "execution_count": 15,
   "id": "a11d76e6-e81f-4bf4-94a2-b1caa3c4b55a",
   "metadata": {},
   "outputs": [],
   "source": [
    "y_values = []\n",
    "total = len(df_height)"
   ]
  },
  {
   "cell_type": "code",
   "execution_count": 16,
   "id": "85546f19-07a9-42ed-a826-9ca16645e8bf",
   "metadata": {},
   "outputs": [
    {
     "data": {
      "text/plain": [
       "10000"
      ]
     },
     "execution_count": 16,
     "metadata": {},
     "output_type": "execute_result"
    }
   ],
   "source": [
    "total"
   ]
  },
  {
   "cell_type": "code",
   "execution_count": 17,
   "id": "cd5186b7-ad47-461f-9445-3e714471d6b1",
   "metadata": {},
   "outputs": [],
   "source": [
    "for x in x_values:\n",
    "    shorter_than_x = df_height[df_height <=x]\n",
    "    num_people_less_than_x = len(shorter_than_x)\n",
    "    percentile = num_people_less_than_x/total\n",
    "    y_values.append(percentile)"
   ]
  },
  {
   "cell_type": "code",
   "execution_count": 18,
   "id": "48421bee-cee3-409f-9e9b-c5fde8dcb2a9",
   "metadata": {},
   "outputs": [
    {
     "data": {
      "text/plain": [
       "[0.0,\n",
       " 0.0,\n",
       " 0.0,\n",
       " 0.0,\n",
       " 0.0,\n",
       " 0.0,\n",
       " 0.0,\n",
       " 0.0,\n",
       " 0.0,\n",
       " 0.0,\n",
       " 0.0,\n",
       " 0.0,\n",
       " 0.0,\n",
       " 0.0,\n",
       " 0.0,\n",
       " 0.0001,\n",
       " 0.0002,\n",
       " 0.0004,\n",
       " 0.0005,\n",
       " 0.0008,\n",
       " 0.001,\n",
       " 0.0017,\n",
       " 0.0022,\n",
       " 0.0034,\n",
       " 0.005,\n",
       " 0.0063,\n",
       " 0.0083,\n",
       " 0.0105,\n",
       " 0.0135,\n",
       " 0.018,\n",
       " 0.0224,\n",
       " 0.0272,\n",
       " 0.0331,\n",
       " 0.0413,\n",
       " 0.0519,\n",
       " 0.0626,\n",
       " 0.0768,\n",
       " 0.0911,\n",
       " 0.1063,\n",
       " 0.1247,\n",
       " 0.1454,\n",
       " 0.1669,\n",
       " 0.189,\n",
       " 0.2124,\n",
       " 0.2355,\n",
       " 0.2596,\n",
       " 0.2877,\n",
       " 0.3133,\n",
       " 0.3393,\n",
       " 0.3686,\n",
       " 0.3965,\n",
       " 0.424,\n",
       " 0.4492,\n",
       " 0.4745,\n",
       " 0.5046,\n",
       " 0.5304,\n",
       " 0.5563,\n",
       " 0.5849,\n",
       " 0.6124,\n",
       " 0.6381,\n",
       " 0.6669,\n",
       " 0.6933,\n",
       " 0.7172,\n",
       " 0.743,\n",
       " 0.7684,\n",
       " 0.7914,\n",
       " 0.8122,\n",
       " 0.8303,\n",
       " 0.8511,\n",
       " 0.8689,\n",
       " 0.8859,\n",
       " 0.9015,\n",
       " 0.9185,\n",
       " 0.9318,\n",
       " 0.944,\n",
       " 0.953,\n",
       " 0.9607,\n",
       " 0.9671,\n",
       " 0.9738,\n",
       " 0.9793,\n",
       " 0.9841,\n",
       " 0.9877,\n",
       " 0.9906,\n",
       " 0.9924,\n",
       " 0.9939,\n",
       " 0.9953,\n",
       " 0.9965,\n",
       " 0.9969,\n",
       " 0.998,\n",
       " 0.9988,\n",
       " 0.9992,\n",
       " 0.9995,\n",
       " 0.9995,\n",
       " 0.9996,\n",
       " 0.9997,\n",
       " 0.9999,\n",
       " 1.0,\n",
       " 1.0,\n",
       " 1.0,\n",
       " 1.0]"
      ]
     },
     "execution_count": 18,
     "metadata": {},
     "output_type": "execute_result"
    }
   ],
   "source": [
    "y_values"
   ]
  },
  {
   "cell_type": "code",
   "execution_count": 19,
   "id": "357d2ca7-997a-4d22-9fa9-cf87c44c1821",
   "metadata": {},
   "outputs": [
    {
     "data": {
      "text/plain": [
       "[<matplotlib.lines.Line2D at 0x7b98a385d090>]"
      ]
     },
     "execution_count": 19,
     "metadata": {},
     "output_type": "execute_result"
    },
    {
     "data": {
      "image/png": "[encoded data removed]",
      "text/plain": [
       "<Figure size 640x480 with 1 Axes>"
      ]
     },
     "metadata": {},
     "output_type": "display_data"
    }
   ],
   "source": [
    "plt.plot(x_values, y_values)"
   ]
  },
  {
   "cell_type": "code",
   "execution_count": 20,
   "id": "7d89366b-da89-4077-a982-978ed99a8e41",
   "metadata": {},
   "outputs": [
    {
     "data": {
      "text/plain": [
       "63.505620481218955"
      ]
     },
     "execution_count": 20,
     "metadata": {},
     "output_type": "execute_result"
    }
   ],
   "source": [
    "np.percentile(df['Height'],25) # 25th percentile"
   ]
  },
  {
   "cell_type": "code",
   "execution_count": 21,
   "id": "94add741-8ebf-46b6-a70c-9a0c4cd3149b",
   "metadata": {},
   "outputs": [
    {
     "data": {
      "text/plain": [
       "66.31807008178464"
      ]
     },
     "execution_count": 21,
     "metadata": {},
     "output_type": "execute_result"
    }
   ],
   "source": [
    "np.percentile(df['Height'],50) # 50th percentile"
   ]
  },
  {
   "cell_type": "code",
   "execution_count": 22,
   "id": "fe85064c-58e2-47d6-b5a4-19abcb4805b2",
   "metadata": {},
   "outputs": [
    {
     "data": {
      "text/plain": [
       "69.1742617268347"
      ]
     },
     "execution_count": 22,
     "metadata": {},
     "output_type": "execute_result"
    }
   ],
   "source": [
    "np.percentile(df['Height'],75) # 75th percentile"
   ]
  },
  {
   "cell_type": "code",
   "execution_count": 23,
   "id": "8f90e957-191f-4c3f-b36f-5ae73c4daa44",
   "metadata": {},
   "outputs": [],
   "source": [
    "df_sehwag = pd.read_csv(\"sehwag.csv\")\n",
    "df_dravid = pd.read_csv(\"dravid.csv\")"
   ]
  },
  {
   "cell_type": "code",
   "execution_count": 24,
   "id": "ba68280f-0169-483e-bfb0-6cbe680d914d",
   "metadata": {},
   "outputs": [
    {
     "data": {
      "text/plain": [
       "count    245.000000\n",
       "mean      33.767347\n",
       "std       34.809419\n",
       "min        0.000000\n",
       "25%        8.000000\n",
       "50%       23.000000\n",
       "75%       46.000000\n",
       "max      219.000000\n",
       "Name: Runs, dtype: float64"
      ]
     },
     "execution_count": 24,
     "metadata": {},
     "output_type": "execute_result"
    }
   ],
   "source": [
    "df_sehwag['Runs'].describe()"
   ]
  },
  {
   "cell_type": "code",
   "execution_count": 25,
   "id": "df43b46a-67a6-468f-8053-fc84322d2eae",
   "metadata": {},
   "outputs": [
    {
     "data": {
      "text/plain": [
       "count    318.000000\n",
       "mean      34.242138\n",
       "std       29.681822\n",
       "min        0.000000\n",
       "25%       10.000000\n",
       "50%       26.000000\n",
       "75%       54.000000\n",
       "max      153.000000\n",
       "Name: Runs, dtype: float64"
      ]
     },
     "execution_count": 25,
     "metadata": {},
     "output_type": "execute_result"
    }
   ],
   "source": [
    "df_dravid['Runs'].describe()"
   ]
  },
  {
   "cell_type": "code",
   "execution_count": 26,
   "id": "0a00fad2-8af7-409f-8b02-d5010c366bf0",
   "metadata": {},
   "outputs": [
    {
     "data": {
      "text/plain": [
       "<Axes: xlabel='Runs'>"
      ]
     },
     "execution_count": 26,
     "metadata": {},
     "output_type": "execute_result"
    },
    {
     "data": {
      "image/png": "[encoded data removed]",
      "text/plain": [
       "<Figure size 640x480 with 1 Axes>"
      ]
     },
     "metadata": {},
     "output_type": "display_data"
    }
   ],
   "source": [
    "sns.boxplot(df_sehwag['Runs'], orient = \"h\")"
   ]
  },
  {
   "cell_type": "code",
   "execution_count": 27,
   "id": "f56d26d8-9f7f-4838-a4cd-3360b9fe47fc",
   "metadata": {},
   "outputs": [
    {
     "data": {
      "text/plain": [
       "8.0"
      ]
     },
     "execution_count": 27,
     "metadata": {},
     "output_type": "execute_result"
    }
   ],
   "source": [
    "# 25th percentile or Q1\n",
    "p_25 = np.percentile(df_sehwag[\"Runs\"], 25)\n",
    "p_25"
   ]
  },
  {
   "cell_type": "code",
   "execution_count": 28,
   "id": "263c0edc-b104-46a4-9bf1-d680545bd1d5",
   "metadata": {},
   "outputs": [
    {
     "data": {
      "text/plain": [
       "23.0"
      ]
     },
     "execution_count": 28,
     "metadata": {},
     "output_type": "execute_result"
    }
   ],
   "source": [
    "#50th percentile or Q2, also \"Median\"\n",
    "p_50 = np.percentile(df_sehwag[\"Runs\"], 50)\n",
    "p_50"
   ]
  },
  {
   "cell_type": "code",
   "execution_count": 29,
   "id": "ae87278d-99a5-46a9-b3b7-a2fee0b6e0e1",
   "metadata": {},
   "outputs": [
    {
     "data": {
      "text/plain": [
       "46.0"
      ]
     },
     "execution_count": 29,
     "metadata": {},
     "output_type": "execute_result"
    }
   ],
   "source": [
    "p_75 = np.percentile(df_sehwag[\"Runs\"], 75)\n",
    "p_75"
   ]
  },
  {
   "cell_type": "code",
   "execution_count": 30,
   "id": "c59bde5e-df20-45cf-848e-7aaf538f57b3",
   "metadata": {},
   "outputs": [
    {
     "data": {
      "text/plain": [
       "38.0"
      ]
     },
     "execution_count": 30,
     "metadata": {},
     "output_type": "execute_result"
    }
   ],
   "source": [
    "iqr_sehwag = p_75-p_25\n",
    "iqr_sehwag"
   ]
  },
  {
   "cell_type": "code",
   "execution_count": 31,
   "id": "a6780d42-c915-415f-96d2-7d06aface8d2",
   "metadata": {},
   "outputs": [
    {
     "data": {
      "text/plain": [
       "103.0"
      ]
     },
     "execution_count": 31,
     "metadata": {},
     "output_type": "execute_result"
    }
   ],
   "source": [
    "upper = p_75 + 1.5 * iqr_sehwag\n",
    "upper"
   ]
  },
  {
   "cell_type": "code",
   "execution_count": 32,
   "id": "2d036b88-61a0-48a2-a929-16f6cc8d8dfb",
   "metadata": {},
   "outputs": [
    {
     "data": {
      "text/plain": [
       "-49.0"
      ]
     },
     "execution_count": 32,
     "metadata": {},
     "output_type": "execute_result"
    }
   ],
   "source": [
    "lower = p_25 - 1.5 * iqr_sehwag\n",
    "lower"
   ]
  },
  {
   "cell_type": "code",
   "execution_count": 33,
   "id": "70246ddb-4329-4c02-bdcf-ff7923e626d3",
   "metadata": {},
   "outputs": [
    {
     "data": {
      "text/html": [
       "<div>\n",
       "<style scoped>\n",
       "    .dataframe tbody tr th:only-of-type {\n",
       "        vertical-align: middle;\n",
       "    }\n",
       "\n",
       "    .dataframe tbody tr th {\n",
       "        vertical-align: top;\n",
       "    }\n",
       "\n",
       "    .dataframe thead th {\n",
       "        text-align: right;\n",
       "    }\n",
       "</style>\n",
       "<table border=\"1\" class=\"dataframe\">\n",
       "  <thead>\n",
       "    <tr style=\"text-align: right;\">\n",
       "      <th></th>\n",
       "      <th>Runs</th>\n",
       "      <th>Mins</th>\n",
       "      <th>BF</th>\n",
       "      <th>4s</th>\n",
       "      <th>6s</th>\n",
       "      <th>SR</th>\n",
       "      <th>Pos</th>\n",
       "      <th>Dismissal</th>\n",
       "      <th>Inns</th>\n",
       "      <th>Unnamed: 9</th>\n",
       "      <th>Opposition</th>\n",
       "      <th>Ground</th>\n",
       "      <th>Start Date</th>\n",
       "      <th>Unnamed: 13</th>\n",
       "    </tr>\n",
       "  </thead>\n",
       "  <tbody>\n",
       "    <tr>\n",
       "      <th>37</th>\n",
       "      <td>126</td>\n",
       "      <td>136</td>\n",
       "      <td>104</td>\n",
       "      <td>21</td>\n",
       "      <td>1</td>\n",
       "      <td>121.15</td>\n",
       "      <td>1</td>\n",
       "      <td>caught</td>\n",
       "      <td>2</td>\n",
       "      <td>NaN</td>\n",
       "      <td>v England</td>\n",
       "      <td>Colombo (RPS)</td>\n",
       "      <td>22 Sep 2002</td>\n",
       "      <td>ODI # 1884</td>\n",
       "    </tr>\n",
       "    <tr>\n",
       "      <th>43</th>\n",
       "      <td>114</td>\n",
       "      <td>-</td>\n",
       "      <td>82</td>\n",
       "      <td>17</td>\n",
       "      <td>2</td>\n",
       "      <td>139.02</td>\n",
       "      <td>2</td>\n",
       "      <td>not out</td>\n",
       "      <td>2</td>\n",
       "      <td>NaN</td>\n",
       "      <td>v West Indies</td>\n",
       "      <td>Rajkot</td>\n",
       "      <td>12 Nov 2002</td>\n",
       "      <td>ODI # 1895</td>\n",
       "    </tr>\n",
       "    <tr>\n",
       "      <th>49</th>\n",
       "      <td>108</td>\n",
       "      <td>160</td>\n",
       "      <td>119</td>\n",
       "      <td>9</td>\n",
       "      <td>2</td>\n",
       "      <td>90.75</td>\n",
       "      <td>2</td>\n",
       "      <td>run out</td>\n",
       "      <td>2</td>\n",
       "      <td>NaN</td>\n",
       "      <td>v New Zealand</td>\n",
       "      <td>Napier</td>\n",
       "      <td>29 Dec 2002</td>\n",
       "      <td>ODI # 1927</td>\n",
       "    </tr>\n",
       "    <tr>\n",
       "      <th>53</th>\n",
       "      <td>112</td>\n",
       "      <td>175</td>\n",
       "      <td>139</td>\n",
       "      <td>11</td>\n",
       "      <td>3</td>\n",
       "      <td>80.57</td>\n",
       "      <td>2</td>\n",
       "      <td>caught</td>\n",
       "      <td>2</td>\n",
       "      <td>NaN</td>\n",
       "      <td>v New Zealand</td>\n",
       "      <td>Auckland</td>\n",
       "      <td>11 Jan 2003</td>\n",
       "      <td>ODI # 1933</td>\n",
       "    </tr>\n",
       "    <tr>\n",
       "      <th>75</th>\n",
       "      <td>130</td>\n",
       "      <td>193</td>\n",
       "      <td>134</td>\n",
       "      <td>15</td>\n",
       "      <td>2</td>\n",
       "      <td>97.01</td>\n",
       "      <td>1</td>\n",
       "      <td>caught</td>\n",
       "      <td>1</td>\n",
       "      <td>NaN</td>\n",
       "      <td>v New Zealand</td>\n",
       "      <td>Hyderabad (Deccan)</td>\n",
       "      <td>15 Nov 2003</td>\n",
       "      <td>ODI # 2062</td>\n",
       "    </tr>\n",
       "    <tr>\n",
       "      <th>104</th>\n",
       "      <td>108</td>\n",
       "      <td>156</td>\n",
       "      <td>95</td>\n",
       "      <td>9</td>\n",
       "      <td>3</td>\n",
       "      <td>113.68</td>\n",
       "      <td>1</td>\n",
       "      <td>bowled</td>\n",
       "      <td>1</td>\n",
       "      <td>NaN</td>\n",
       "      <td>v Pakistan</td>\n",
       "      <td>Kochi</td>\n",
       "      <td>2 Apr 2005</td>\n",
       "      <td>ODI # 2235</td>\n",
       "    </tr>\n",
       "    <tr>\n",
       "      <th>163</th>\n",
       "      <td>114</td>\n",
       "      <td>127</td>\n",
       "      <td>87</td>\n",
       "      <td>17</td>\n",
       "      <td>3</td>\n",
       "      <td>131.03</td>\n",
       "      <td>3</td>\n",
       "      <td>caught</td>\n",
       "      <td>1</td>\n",
       "      <td>NaN</td>\n",
       "      <td>v Bermuda</td>\n",
       "      <td>Port of Spain</td>\n",
       "      <td>19 Mar 2007</td>\n",
       "      <td>ODI # 2542</td>\n",
       "    </tr>\n",
       "    <tr>\n",
       "      <th>182</th>\n",
       "      <td>119</td>\n",
       "      <td>150</td>\n",
       "      <td>95</td>\n",
       "      <td>12</td>\n",
       "      <td>5</td>\n",
       "      <td>125.26</td>\n",
       "      <td>2</td>\n",
       "      <td>caught</td>\n",
       "      <td>2</td>\n",
       "      <td>NaN</td>\n",
       "      <td>v Pakistan</td>\n",
       "      <td>Karachi</td>\n",
       "      <td>26 Jun 2008</td>\n",
       "      <td>ODI # 2717</td>\n",
       "    </tr>\n",
       "    <tr>\n",
       "      <th>192</th>\n",
       "      <td>116</td>\n",
       "      <td>165</td>\n",
       "      <td>90</td>\n",
       "      <td>17</td>\n",
       "      <td>0</td>\n",
       "      <td>128.88</td>\n",
       "      <td>1</td>\n",
       "      <td>run out</td>\n",
       "      <td>1</td>\n",
       "      <td>NaN</td>\n",
       "      <td>v Sri Lanka</td>\n",
       "      <td>Colombo (RPS)</td>\n",
       "      <td>3 Feb 2009</td>\n",
       "      <td>ODI # 2813</td>\n",
       "    </tr>\n",
       "    <tr>\n",
       "      <th>198</th>\n",
       "      <td>125</td>\n",
       "      <td>106</td>\n",
       "      <td>74</td>\n",
       "      <td>14</td>\n",
       "      <td>6</td>\n",
       "      <td>168.91</td>\n",
       "      <td>2</td>\n",
       "      <td>not out</td>\n",
       "      <td>2</td>\n",
       "      <td>NaN</td>\n",
       "      <td>v New Zealand</td>\n",
       "      <td>Hamilton</td>\n",
       "      <td>11 Mar 2009</td>\n",
       "      <td>ODI # 2824</td>\n",
       "    </tr>\n",
       "    <tr>\n",
       "      <th>206</th>\n",
       "      <td>146</td>\n",
       "      <td>166</td>\n",
       "      <td>102</td>\n",
       "      <td>17</td>\n",
       "      <td>6</td>\n",
       "      <td>143.13</td>\n",
       "      <td>1</td>\n",
       "      <td>caught</td>\n",
       "      <td>1</td>\n",
       "      <td>NaN</td>\n",
       "      <td>v Sri Lanka</td>\n",
       "      <td>Rajkot</td>\n",
       "      <td>15 Dec 2009</td>\n",
       "      <td>ODI # 2932</td>\n",
       "    </tr>\n",
       "    <tr>\n",
       "      <th>220</th>\n",
       "      <td>110</td>\n",
       "      <td>136</td>\n",
       "      <td>93</td>\n",
       "      <td>16</td>\n",
       "      <td>1</td>\n",
       "      <td>118.27</td>\n",
       "      <td>2</td>\n",
       "      <td>caught</td>\n",
       "      <td>1</td>\n",
       "      <td>NaN</td>\n",
       "      <td>v New Zealand</td>\n",
       "      <td>Dambulla</td>\n",
       "      <td>25 Aug 2010</td>\n",
       "      <td>ODI # 3039</td>\n",
       "    </tr>\n",
       "    <tr>\n",
       "      <th>222</th>\n",
       "      <td>175</td>\n",
       "      <td>198</td>\n",
       "      <td>140</td>\n",
       "      <td>14</td>\n",
       "      <td>5</td>\n",
       "      <td>125.00</td>\n",
       "      <td>1</td>\n",
       "      <td>bowled</td>\n",
       "      <td>1</td>\n",
       "      <td>NaN</td>\n",
       "      <td>v Bangladesh</td>\n",
       "      <td>Mirpur</td>\n",
       "      <td>19 Feb 2011</td>\n",
       "      <td>ODI # 3100</td>\n",
       "    </tr>\n",
       "    <tr>\n",
       "      <th>233</th>\n",
       "      <td>219</td>\n",
       "      <td>208</td>\n",
       "      <td>149</td>\n",
       "      <td>25</td>\n",
       "      <td>7</td>\n",
       "      <td>146.97</td>\n",
       "      <td>2</td>\n",
       "      <td>caught</td>\n",
       "      <td>1</td>\n",
       "      <td>NaN</td>\n",
       "      <td>v West Indies</td>\n",
       "      <td>Indore</td>\n",
       "      <td>8 Dec 2011</td>\n",
       "      <td>ODI # 3223</td>\n",
       "    </tr>\n",
       "  </tbody>\n",
       "</table>\n",
       "</div>"
      ],
      "text/plain": [
       "     Runs Mins   BF  4s  6s      SR  Pos Dismissal  Inns  Unnamed: 9  \\\n",
       "37    126  136  104  21   1  121.15    1    caught     2         NaN   \n",
       "43    114    -   82  17   2  139.02    2   not out     2         NaN   \n",
       "49    108  160  119   9   2   90.75    2   run out     2         NaN   \n",
       "53    112  175  139  11   3   80.57    2    caught     2         NaN   \n",
       "75    130  193  134  15   2   97.01    1    caught     1         NaN   \n",
       "104   108  156   95   9   3  113.68    1    bowled     1         NaN   \n",
       "163   114  127   87  17   3  131.03    3    caught     1         NaN   \n",
       "182   119  150   95  12   5  125.26    2    caught     2         NaN   \n",
       "192   116  165   90  17   0  128.88    1   run out     1         NaN   \n",
       "198   125  106   74  14   6  168.91    2   not out     2         NaN   \n",
       "206   146  166  102  17   6  143.13    1    caught     1         NaN   \n",
       "220   110  136   93  16   1  118.27    2    caught     1         NaN   \n",
       "222   175  198  140  14   5  125.00    1    bowled     1         NaN   \n",
       "233   219  208  149  25   7  146.97    2    caught     1         NaN   \n",
       "\n",
       "        Opposition              Ground   Start Date Unnamed: 13  \n",
       "37       v England       Colombo (RPS)  22 Sep 2002  ODI # 1884  \n",
       "43   v West Indies              Rajkot  12 Nov 2002  ODI # 1895  \n",
       "49   v New Zealand              Napier  29 Dec 2002  ODI # 1927  \n",
       "53   v New Zealand            Auckland  11 Jan 2003  ODI # 1933  \n",
       "75   v New Zealand  Hyderabad (Deccan)  15 Nov 2003  ODI # 2062  \n",
       "104     v Pakistan               Kochi   2 Apr 2005  ODI # 2235  \n",
       "163      v Bermuda       Port of Spain  19 Mar 2007  ODI # 2542  \n",
       "182     v Pakistan             Karachi  26 Jun 2008  ODI # 2717  \n",
       "192    v Sri Lanka       Colombo (RPS)   3 Feb 2009  ODI # 2813  \n",
       "198  v New Zealand            Hamilton  11 Mar 2009  ODI # 2824  \n",
       "206    v Sri Lanka              Rajkot  15 Dec 2009  ODI # 2932  \n",
       "220  v New Zealand            Dambulla  25 Aug 2010  ODI # 3039  \n",
       "222   v Bangladesh              Mirpur  19 Feb 2011  ODI # 3100  \n",
       "233  v West Indies              Indore   8 Dec 2011  ODI # 3223  "
      ]
     },
     "execution_count": 33,
     "metadata": {},
     "output_type": "execute_result"
    }
   ],
   "source": [
    "df_sehwag[df_sehwag['Runs']>upper]"
   ]
  },
  {
   "cell_type": "code",
   "execution_count": 34,
   "id": "0a17ff6c-1cc9-4128-b7fc-d4e147b2f5c6",
   "metadata": {},
   "outputs": [
    {
     "data": {
      "text/plain": [
       "14"
      ]
     },
     "execution_count": 34,
     "metadata": {},
     "output_type": "execute_result"
    }
   ],
   "source": [
    "outliers_sehwag = df_sehwag[df_sehwag[\"Runs\"]>upper]\n",
    "len(outliers_sehwag)"
   ]
  },
  {
   "cell_type": "code",
   "execution_count": 35,
   "id": "4c1aed1c-1f42-44a7-89c9-718e60c33a80",
   "metadata": {},
   "outputs": [
    {
     "data": {
      "text/plain": [
       "245"
      ]
     },
     "execution_count": 35,
     "metadata": {},
     "output_type": "execute_result"
    }
   ],
   "source": [
    "len(df_sehwag)"
   ]
  },
  {
   "cell_type": "code",
   "execution_count": 36,
   "id": "af6e19cb-c112-4bcd-9922-388451302941",
   "metadata": {},
   "outputs": [
    {
     "data": {
      "text/plain": [
       "0.05714285714285714"
      ]
     },
     "execution_count": 36,
     "metadata": {},
     "output_type": "execute_result"
    }
   ],
   "source": [
    "14/245"
   ]
  },
  {
   "cell_type": "markdown",
   "id": "49befc21-8ad3-41a9-8869-2506835618cd",
   "metadata": {},
   "source": [
    "#### **Dravid**"
   ]
  },
  {
   "cell_type": "code",
   "execution_count": 37,
   "id": "f381eb28-8489-45b9-8e77-27c529da3de4",
   "metadata": {},
   "outputs": [
    {
     "data": {
      "text/plain": [
       "<Axes: xlabel='Runs'>"
      ]
     },
     "execution_count": 37,
     "metadata": {},
     "output_type": "execute_result"
    },
    {
     "data": {
      "image/png": "[encoded data removed]",
      "text/plain": [
       "<Figure size 640x480 with 1 Axes>"
      ]
     },
     "metadata": {},
     "output_type": "display_data"
    }
   ],
   "source": [
    "sns.boxplot(df_dravid['Runs'], orient = \"h\")"
   ]
  },
  {
   "cell_type": "code",
   "execution_count": 38,
   "id": "31006bbd-93e8-4d80-87e6-4f167d16b63e",
   "metadata": {},
   "outputs": [
    {
     "data": {
      "text/plain": [
       "10.0"
      ]
     },
     "execution_count": 38,
     "metadata": {},
     "output_type": "execute_result"
    }
   ],
   "source": [
    "p_25 = np.percentile(df_dravid['Runs'], 25)\n",
    "p_25"
   ]
  },
  {
   "cell_type": "code",
   "execution_count": 39,
   "id": "b6252a90-b4b4-444d-addb-cbc480663a62",
   "metadata": {},
   "outputs": [
    {
     "data": {
      "text/plain": [
       "(26.0, 54.0)"
      ]
     },
     "execution_count": 39,
     "metadata": {},
     "output_type": "execute_result"
    }
   ],
   "source": [
    "p_50 = np.percentile(df_dravid['Runs'], 50)\n",
    "p_75 = np.percentile(df_dravid['Runs'], 75)\n",
    "p_50, p_75"
   ]
  },
  {
   "cell_type": "code",
   "execution_count": 40,
   "id": "b9ee7d37-79e2-48a8-9c86-3fd579b95958",
   "metadata": {},
   "outputs": [
    {
     "data": {
      "text/plain": [
       "44.0"
      ]
     },
     "execution_count": 40,
     "metadata": {},
     "output_type": "execute_result"
    }
   ],
   "source": [
    "iqr_dravid = p_75 - p_25\n",
    "iqr_dravid"
   ]
  },
  {
   "cell_type": "code",
   "execution_count": 41,
   "id": "e277edf4-cd6e-4015-bfd9-71a4301e3b18",
   "metadata": {},
   "outputs": [
    {
     "data": {
      "text/plain": [
       "(120.0, -56.0)"
      ]
     },
     "execution_count": 41,
     "metadata": {},
     "output_type": "execute_result"
    }
   ],
   "source": [
    "upper_dravid = p_75 + 1.5*iqr_dravid\n",
    "lower_dravid = p_25 - 1.5 * iqr_dravid\n",
    "upper_dravid, lower_dravid"
   ]
  },
  {
   "cell_type": "code",
   "execution_count": 42,
   "id": "e3073062-5298-4c9e-8b59-2001ab5e4b7a",
   "metadata": {},
   "outputs": [
    {
     "data": {
      "text/plain": [
       "3"
      ]
     },
     "execution_count": 42,
     "metadata": {},
     "output_type": "execute_result"
    }
   ],
   "source": [
    "# outliers \n",
    "outliers_dravid = df_dravid[df_dravid['Runs'] > upper_dravid]\n",
    "len(outliers_dravid)"
   ]
  },
  {
   "cell_type": "code",
   "execution_count": 43,
   "id": "f4b631aa-9c9a-4d72-9b2c-b07672e8f728",
   "metadata": {},
   "outputs": [
    {
     "data": {
      "text/plain": [
       "318"
      ]
     },
     "execution_count": 43,
     "metadata": {},
     "output_type": "execute_result"
    }
   ],
   "source": [
    "len(df_dravid)"
   ]
  },
  {
   "cell_type": "code",
   "execution_count": 44,
   "id": "dbf65ddc-50fd-40e7-9b0e-82687d15fe14",
   "metadata": {},
   "outputs": [
    {
     "data": {
      "text/plain": [
       "0.009433962264150943"
      ]
     },
     "execution_count": 44,
     "metadata": {},
     "output_type": "execute_result"
    }
   ],
   "source": [
    "len(outliers_dravid)/len(df_dravid)"
   ]
  },
  {
   "cell_type": "code",
   "execution_count": null,
   "id": "9411a2b2-f824-463c-8975-4b7ab895fda9",
   "metadata": {},
   "outputs": [],
   "source": []
  }
 ],
 "metadata": {
  "kernelspec": {
   "display_name": "Python 3 (ipykernel)",
   "language": "python",
   "name": "python3"
  },
  "language_info": {
   "codemirror_mode": {
    "name": "ipython",
    "version": 3
   },
   "file_extension": ".py",
   "mimetype": "text/x-python",
   "name": "python",
   "nbconvert_exporter": "python",
   "pygments_lexer": "ipython3",
   "version": "3.11.0rc1"
  }
 },
 "nbformat": 4,
 "nbformat_minor": 5
}
